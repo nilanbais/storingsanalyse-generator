{
 "cells": [
  {
   "cell_type": "markdown",
   "metadata": {},
   "source": [
    "# Genereren van een nieuw metadata bestand\n",
    "\n",
    "Dit script is voor het genereren van een metadata bestand. Dit bestand is nodig voor het genereren\n",
    "van de storingsanalyse.\n",
    "\n",
    "Het genereren van een nieuw metadata bestand is een onderdeel van het toevoegen van een nieuw \n",
    "project aan de metadata. Wanneer er al een metadata bestand aanwezig is, wordt deze in het proces\n",
    "van het genereren van een rapport voor de storings automatoisch geüpdate. \n",
    "\n",
    "## Stappen \n",
    "Onderstaand worden de stappen uiteengezet die u gevraagd wordt te doorlopen."
   ]
  },
  {
   "cell_type": "markdown",
   "metadata": {},
   "source": [
    "### Stap 1 - Specificeren van het project\n",
    "Metadata bestanden worden geïdentificeerd op basis van de naam van het project. Wanneer een nieuw \n",
    "project wordt toegevoegd, is het dus van belang dat u de correcte/officiële projectnaam gebruikt.\n",
    "\n",
    "#### Voorbeelden\n",
    "```python\n",
    "project = \"Coentunnel-tracé\"\n",
    "```\n",
    "```python\n",
    "project = \"Sluis Eefde\"\n",
    "```\n",
    "\n",
    "In onderstaande code cell moet u de naam van het project specificeren tussen de leestekens, zoals de \n",
    "voobeelden weergeven."
   ]
  },
  {
   "cell_type": "code",
   "execution_count": 1,
   "metadata": {},
   "outputs": [],
   "source": [
    "project = \"Coentunnel-tracé\""
   ]
  },
  {
   "cell_type": "markdown",
   "metadata": {},
   "source": [
    "### Stap 2 - Bronbestand specificeren\n",
    "Elk project moet eerst worden toegevoegd aan de automatisering voordat er een storingsanalyse \n",
    "gegenereerd kan worden voor het desbetreffende project. Dit 'toevoegen' bestaat uit het genereren \n",
    "van een metadata bestand met daarin historische data van het project.\n",
    "\n",
    "Deze historische data, en de rest van de data, wordt opgehaald uit de Excel bestanden die voorheen \n",
    "werden gebruikt bij het handmatig opstellen van de storingsanalyse. U wordt hier gevraagd dit document van de meest recente storingsanalyse te uploaden naar de map ```Automatisering Storingsanalyse/processes/building_metadata_file/source_document```. Zorg dat dit het enige bestand is dat aanwezig is in deze map.\n",
    "\n",
    "Indien u twijfelt over of u het juiste brondocument heeft, er is een voorbeeld document beschikbaar in de map ```Automatisering Storingsanalyse/documents/example documents``` onder de naam ```brondocument_metadata.xlsx```.\n",
    "\n",
    "#### Dit is een nieuw project en er is nog nooit een storingsanalyse voor uitgevoerd\n",
    "Als dit een nieuw project is waar nog nooit een storingsanalyse voor is uitgevoerd, hoeft u geen naam van het brondocument te specificeren. In dat geval kun u onderstaand voorbeeld overnemen.\n",
    "```python\n",
    "file_name = None\n",
    "```\n",
    "\n",
    "Als u het bestand naar de desbetreffende map heeft geüpload, moet u de naam van dit bestand in onderstaande code cell specificeren tussen de leestekens (net als bij het project)."
   ]
  },
  {
   "cell_type": "code",
   "execution_count": 2,
   "metadata": {},
   "outputs": [],
   "source": [
    "file_name = \"20210505 Storingsdatabase Q1 2021.xlsx\""
   ]
  },
  {
   "cell_type": "markdown",
   "metadata": {},
   "source": [
    "### Stap 3 - Tijdsregistratie specificeren\n",
    "Voor sommige projecten is vastgesteld dat zij binnen de storingsanalyse ook een analyse van de tijdsregistratie moeten uitvoeren. Als dit het geval is voor het project dat u wilt toevoegen dan neemt u het eerste voorbeeld over. In het geval dat dit niet van toepassing is, dan neemt u het tweede voorbeeld over.\n",
    "```python\n",
    "tijdsregistratie = True\n",
    "```\n",
    "```python\n",
    "tijdsregistratie = False\n",
    "```"
   ]
  },
  {
   "cell_type": "code",
   "execution_count": 3,
   "metadata": {},
   "outputs": [],
   "source": [
    "tijdsregistratie = False"
   ]
  },
  {
   "cell_type": "markdown",
   "metadata": {},
   "source": [
    "### Stap 4 - Starten van het script\n",
    "Wanneer u alle bovenstaande stappen heeft doorlopen, is het tijd om het script te starten. Dit doet u door te navigeren naar de optie ```Kernel``` in de balk boven aan uw scherm. Vervolgens selecteert u de optie ```Restart & Run All```."
   ]
  },
  {
   "cell_type": "code",
   "execution_count": 4,
   "metadata": {},
   "outputs": [],
   "source": [
    "import os\n",
    "\n",
    "keep_going = True\n",
    "while keep_going:\n",
    "    if os.getcwd().endswith(\"Automatisering Storingsanalyse\"):\n",
    "        keep_going = False\n",
    "    else:\n",
    "        os.chdir('..')  # changes the working dir to a level above the current working dir"
   ]
  },
  {
   "cell_type": "markdown",
   "metadata": {},
   "source": [
    "# Bouwen van de metadata\n",
    "De metadata is nodig voor het berekeken van de gemiddelde aantal meldingen/storingen per maand en de TOV-tabellen.\n",
    "\n",
    "De opbouw van de metadata is (vooralsnog) als volgt:\n",
    "```\n",
    "{\n",
    "    project: projectnaam,\n",
    "    start_datum: dd-mm-yyy,\n",
    "    contract_info: {\n",
    "        tijdsregistratie: True,\n",
    "        minimale_beschikbaarheid: xx,\n",
    "        minimale_responsetijd: 04:00:00,\n",
    "    },\n",
    "    meldingen: {\n",
    "        f\"{maand}_{jaar}\": {\n",
    "            DI_num: aantal meldingen,\n",
    "            DI_num: aantal meldingen\n",
    "        }\n",
    "        f\"{maand}_{jaar}\": {\n",
    "            DI_num: aantal meldingen,\n",
    "            DI_num: aantal meldingen\n",
    "        }\n",
    "    },\n",
    "    storingen: {\n",
    "        f\"{maand}_{jaar}\": {\n",
    "            DI_num: aantal storingen,\n",
    "            DI_num: aantal storingen\n",
    "        }\n",
    "        f\"{maand}_{jaar}\": {\n",
    "            DI_num: aantal storingen,\n",
    "            DI_num: aantal storingen\n",
    "        }\n",
    "    }\n",
    "}\n",
    "```\n",
    "In deze opbouw worden enkel de deelinstallaties meegenomen met meldingen > 0. Dit geldt ook voor de storingen.\n",
    "Om DI_num om te zetten naar een omschrijving kan de functie **get_breakdown_description()** gebruikt worden.\n",
    "\n",
    "Voor het opslaan van de metadata wordt (voor nu) gekozen voor een .json-type"
   ]
  },
  {
   "cell_type": "markdown",
   "metadata": {},
   "source": [
    "# Importeren van de benodigdheden"
   ]
  },
  {
   "cell_type": "code",
   "execution_count": 5,
   "metadata": {},
   "outputs": [],
   "source": [
    "import json\n",
    "import pandas as pd\n",
    "import os\n",
    "import numpy as np\n",
    "from datetime import datetime\n",
    "\n",
    "from pandas import DataFrame"
   ]
  },
  {
   "cell_type": "markdown",
   "metadata": {},
   "source": [
    "# Definieren van de functies"
   ]
  },
  {
   "cell_type": "code",
   "execution_count": 6,
   "metadata": {},
   "outputs": [],
   "source": [
    "def get_first_key(dictionary: dict) -> dict:\n",
    "    return list(dictionary.keys())[0]\n",
    "\n",
    "\n",
    "def del_empty_keys(dictionary: dict) -> dict:\n",
    "    \"\"\"\n",
    "    The tabs that are read have a pre-defined table. This results in some empty dicts with key names that represent\n",
    "    future months\n",
    "    :param dictionary:\n",
    "    :return: Dict without\n",
    "    \"\"\"\n",
    "    return {key: dictionary[key] for key in dictionary.keys() if dictionary[key] != {}}\n",
    "\n",
    "\n",
    "def clean_dt_string_month(dt_string: str) -> str:\n",
    "    month_notation = ['Jan', 'Feb', 'Mrt', 'Apr', 'Mei', 'Jun', 'Jul', 'Aug', 'Sept', 'Okt', 'Nov', 'Dec']\n",
    "    month_notation = {month_notation[idx]: str(idx + 1) for idx in range(len(month_notation))}\n",
    "\n",
    "    dt_month, dt_year = month_notation[dt_string.split(' - ')[0]], datetime.strptime(dt_string.split(' - ')[1], '%y')\n",
    "\n",
    "    dt_string = '0' + dt_month + '_' + datetime.strftime(dt_year, '%Y') if len(dt_month) == 1 \\\n",
    "        else dt_month + '_' + datetime.strftime(dt_year, '%Y')\n",
    "\n",
    "    return dt_string\n",
    "\n",
    "\n",
    "def clean_dt_string_q(dt_string: str) -> str:\n",
    "    return dt_string.replace('-', '_').replace(' ', '')\n",
    "\n",
    "\n",
    "def clean_inputdata(inputdata: DataFrame, index_first_col_maanden: int, category_column_name: str, time_bin: str = 'month') -> dict:\n",
    "    \"\"\"\n",
    "    Gestandaardiseerde aanpak voor het schoonmaken van de input dataframes uit het rekendocument (excel) van\n",
    "    Remko van Gorkum.\n",
    "    :param inputdata:\n",
    "    :param index_first_col_maanden:\n",
    "    :param category_column_name:\n",
    "    :return:\n",
    "    \"\"\"\n",
    "    _inputdata = inputdata.iloc[:-3, :]  # onderste 3 rijen zijn overbodig  EDIT (??is dit altijd zo??)\n",
    "    dictionary = {}\n",
    "    for col in _inputdata.iloc[:, index_first_col_maanden:]:\n",
    "        if _inputdata[col][0].lower() == 'totaal':\n",
    "            break\n",
    "\n",
    "        datetime_obj = clean_dt_string_month(_inputdata[col][0]) if time_bin == 'month' else clean_dt_string_q(_inputdata[col][0])\n",
    "        # initialize empty dict for month\n",
    "        if datetime_obj not in dictionary:\n",
    "            dictionary[datetime_obj] = {}  # Creates an empty dict w/ month as key in the dict\n",
    "\n",
    "        for index, row in _inputdata.iterrows():\n",
    "            if row[col] is np.nan:\n",
    "                break\n",
    "            elif index > 0 and int(row[col]) > 0:\n",
    "                dictionary[datetime_obj][row[category_column_name]] = row[col]\n",
    "\n",
    "    dictionary = del_empty_keys(dictionary)\n",
    "\n",
    "    return dictionary\n",
    "\n",
    "def check_for_file(path_to_folder: str, file: str) -> bool:\n",
    "    files_in_folder = os.listdir(path_to_folder)\n",
    "    if file in files_in_folder:\n",
    "        raise PermissionError(f\"A metadata file with the name '{file}' already exists in the specified folder. Executing this code cell would possibly mean that data is lost. Please create a backup of the file and remove it from the folder '{path_to_folder}' before running this process again.\")\n",
    "    else:\n",
    "        return True"
   ]
  },
  {
   "cell_type": "markdown",
   "metadata": {},
   "source": [
    "# Uitlezen van het brondocument"
   ]
  },
  {
   "cell_type": "code",
   "execution_count": 7,
   "metadata": {},
   "outputs": [],
   "source": [
    "path_to_source_folder = 'processes/building_metadata_file/source_document'\n",
    "excel_file = pd.ExcelFile(os.path.join(path_to_source_folder, file_name), engine='openpyxl')\n",
    "\n",
    "inputdata_subsystems = pd.read_excel(excel_file, list(filter(lambda x: x.lower() == 'onterechte meldingen totaal', excel_file.sheet_names))[0])\n",
    "inputdata_poo_codes = pd.read_excel(excel_file, list(filter(lambda x: x.lower() == 'probleem oorzaak oplossing', excel_file.sheet_names))[0])\n",
    "\n",
    "inputdata_meldingen = pd.read_excel(excel_file, list(filter(lambda x: x.lower() == 'trend maand meldingen', excel_file.sheet_names))[0])\n",
    "inputdata_storingen = pd.read_excel(excel_file, list(filter(lambda x: x.lower() == 'trend maand storingen', excel_file.sheet_names))[0])\n",
    "\n",
    "inputdata_poo_probleem = pd.read_excel(excel_file, list(filter(lambda x: x.lower() == 'overzicht probleem', excel_file.sheet_names))[0])\n",
    "inputdata_poo_oorzaak = pd.read_excel(excel_file, list(filter(lambda x: x.lower() == 'overzicht oorzaak', excel_file.sheet_names))[0])\n",
    "inputdata_poo_oplossing = pd.read_excel(excel_file, list(filter(lambda x: x.lower() == 'overzicht oplossing', excel_file.sheet_names))[0])"
   ]
  },
  {
   "cell_type": "markdown",
   "metadata": {},
   "source": [
    "# Transformeren van de brondata"
   ]
  },
  {
   "cell_type": "code",
   "execution_count": 8,
   "metadata": {},
   "outputs": [],
   "source": [
    "\"\"\"\n",
    "Possible subsystem numbers\n",
    "\"\"\"\n",
    "possible_subsystems = set()\n",
    "\n",
    "# Sluis Eefde gebruikt 'SBS subsysteem code'  -  ipv 'SBS sub-systeem code'\n",
    "column = 'SBS subsysteem code' if project == 'Sluis Eefde' else 'SBS sub-systeem code'\n",
    "for x in inputdata_subsystems[column][inputdata_subsystems[column].notnull()]:\n",
    "    possible_subsystems.add(str(x))"
   ]
  },
  {
   "cell_type": "code",
   "execution_count": 9,
   "metadata": {},
   "outputs": [],
   "source": [
    "\"\"\"\n",
    "meldingen per di_num\n",
    "di_num = SBS sub-systeem code\n",
    "\"\"\"\n",
    "meldingen = clean_inputdata(inputdata_meldingen,\n",
    "                            index_first_col_maanden=4,\n",
    "                            category_column_name='SBS sub-systeem code',\n",
    "                            time_bin='month')"
   ]
  },
  {
   "cell_type": "code",
   "execution_count": 10,
   "metadata": {},
   "outputs": [],
   "source": [
    "\"\"\"\n",
    "storingen per di_num\n",
    "di_num = SBS sub-systeem code\n",
    "\"\"\"\n",
    "storingen = clean_inputdata(inputdata_storingen,\n",
    "                            index_first_col_maanden=4,\n",
    "                            category_column_name='SBS sub-systeem code',\n",
    "                            time_bin='month')"
   ]
  },
  {
   "cell_type": "code",
   "execution_count": 11,
   "metadata": {},
   "outputs": [],
   "source": [
    "\"\"\"\n",
    "POO-codes (Probleem/Oorzaak/Oplossing codes)\n",
    "\"\"\"\n",
    "poo_probleem = clean_inputdata(inputdata_poo_probleem,\n",
    "                               index_first_col_maanden=2,\n",
    "                               category_column_name='Probleem code',\n",
    "                               time_bin='q')\n",
    "\n",
    "poo_oorzaak = clean_inputdata(inputdata_poo_oorzaak,\n",
    "                              index_first_col_maanden=2,\n",
    "                              category_column_name='Oorzaak code',\n",
    "                              time_bin='q')\n",
    "\n",
    "poo_oplossing = clean_inputdata(inputdata_poo_oplossing,\n",
    "                                index_first_col_maanden=2,\n",
    "                                category_column_name='Oplossing code',\n",
    "                                time_bin='q')\n",
    "\n",
    "poo_codes = {\"probleem\": poo_probleem,\n",
    "             \"oorzaak\": poo_oorzaak,\n",
    "             \"oplossing\": poo_oplossing}\n",
    "\n",
    "poo_code_overzicht = dict()\n",
    "col_names = ['Probleem', 'Oorzaak', 'Oplossing']\n",
    "for name in col_names:\n",
    "    i = inputdata_poo_codes.columns.get_loc(name)\n",
    "    col_data = inputdata_poo_codes.iloc[:, i].to_dict()\n",
    "    beschrijving_data = inputdata_poo_codes.iloc[:, i+1].to_dict()\n",
    "\n",
    "    dict2add = {}\n",
    "    for idx in range(len(col_data)):\n",
    "        if col_data[idx] is np.nan:\n",
    "            break\n",
    "\n",
    "        if list(col_data.keys())[idx] not in poo_code_overzicht:\n",
    "            dict2add[col_data[idx]] = beschrijving_data[idx]\n",
    "\n",
    "    poo_code_overzicht = {**poo_code_overzicht, **dict2add}"
   ]
  },
  {
   "cell_type": "markdown",
   "metadata": {},
   "source": [
    "# Gereed maken van het JSON object"
   ]
  },
  {
   "cell_type": "code",
   "execution_count": 12,
   "metadata": {},
   "outputs": [],
   "source": [
    "\"\"\"\n",
    "Set-up van het JSON-Object\n",
    "\"\"\"\n",
    "contract_info = {\"tijdsregistratie\": str(tijdsregistratie),\n",
    "                 \"minimale_beschikbaarheid\": \"xx\",\n",
    "                 \"minimale_responsetijd\": \"04:00:00\",\n",
    "                 \"aanwezige_deelinstallaties\": tuple(possible_subsystems),\n",
    "                 \"POO_codes\": poo_code_overzicht}\n",
    "\n",
    "start_datum = get_first_key(meldingen)\n",
    "\n",
    "json_dict = {\"project\": project,\n",
    "             \"start_datum\": start_datum,\n",
    "             \"contract_info\": contract_info,\n",
    "             \"poo_codes\": poo_codes,\n",
    "             \"meldingen\": meldingen,\n",
    "             \"storingen\": storingen}"
   ]
  },
  {
   "cell_type": "markdown",
   "metadata": {},
   "source": [
    "# Exporteren van het JSON object"
   ]
  },
  {
   "cell_type": "markdown",
   "metadata": {},
   "source": [
    "todo:\n",
    "    een check met feedback bericht als er al een metadata bestand van het project aanwezig is in de export map. deze moet dan handmatig verwijderd worden en lokaal opgeslagen worden (kan ook geautomatiseerd) om te zorgen dat deze data niet allemaal verloren is wanneer er iets fout gaat o.i.d."
   ]
  },
  {
   "cell_type": "code",
   "execution_count": 13,
   "metadata": {},
   "outputs": [
    {
     "ename": "PermissionError",
     "evalue": "A metadata file with the name 'metadata_file_coentunnel-tracé.json' already exists in the specified folder. Executing this code cell would possibly mean that data is lost. Please create a backup of the file and remove it from the folder 'data/metadata' before running this process again.",
     "output_type": "error",
     "traceback": [
      "\u001b[0;31m---------------------------------------------------------------------------\u001b[0m",
      "\u001b[0;31mPermissionError\u001b[0m                           Traceback (most recent call last)",
      "\u001b[0;32m<ipython-input-13-0a0c22de4dbf>\u001b[0m in \u001b[0;36m<module>\u001b[0;34m()\u001b[0m\n\u001b[1;32m      2\u001b[0m \u001b[0mexport_file_name\u001b[0m \u001b[0;34m=\u001b[0m \u001b[0;34m\"metadata_file_{}.json\"\u001b[0m\u001b[0;34m.\u001b[0m\u001b[0mformat\u001b[0m\u001b[0;34m(\u001b[0m\u001b[0mproject\u001b[0m\u001b[0;34m.\u001b[0m\u001b[0mlower\u001b[0m\u001b[0;34m(\u001b[0m\u001b[0;34m)\u001b[0m\u001b[0;34m.\u001b[0m\u001b[0mreplace\u001b[0m\u001b[0;34m(\u001b[0m\u001b[0;34m' '\u001b[0m\u001b[0;34m,\u001b[0m \u001b[0;34m'_'\u001b[0m\u001b[0;34m)\u001b[0m\u001b[0;34m)\u001b[0m\u001b[0;34m\u001b[0m\u001b[0m\n\u001b[1;32m      3\u001b[0m \u001b[0;34m\u001b[0m\u001b[0m\n\u001b[0;32m----> 4\u001b[0;31m \u001b[0mcheck_for_file\u001b[0m\u001b[0;34m(\u001b[0m\u001b[0mpath_to_folder\u001b[0m\u001b[0;34m=\u001b[0m\u001b[0mpath_to_export_folder\u001b[0m\u001b[0;34m,\u001b[0m \u001b[0mfile\u001b[0m\u001b[0;34m=\u001b[0m\u001b[0mexport_file_name\u001b[0m\u001b[0;34m)\u001b[0m\u001b[0;34m\u001b[0m\u001b[0m\n\u001b[0m\u001b[1;32m      5\u001b[0m \u001b[0;34m\u001b[0m\u001b[0m\n\u001b[1;32m      6\u001b[0m \u001b[0;32mwith\u001b[0m \u001b[0mopen\u001b[0m\u001b[0;34m(\u001b[0m\u001b[0mos\u001b[0m\u001b[0;34m.\u001b[0m\u001b[0mpath\u001b[0m\u001b[0;34m.\u001b[0m\u001b[0mjoin\u001b[0m\u001b[0;34m(\u001b[0m\u001b[0mpath_to_export_folder\u001b[0m\u001b[0;34m,\u001b[0m \u001b[0mexport_file_name\u001b[0m\u001b[0;34m)\u001b[0m\u001b[0;34m,\u001b[0m \u001b[0;34m'w'\u001b[0m\u001b[0;34m)\u001b[0m \u001b[0;32mas\u001b[0m \u001b[0moutput_file\u001b[0m\u001b[0;34m:\u001b[0m\u001b[0;34m\u001b[0m\u001b[0m\n",
      "\u001b[0;32m<ipython-input-6-ec4065310a3d>\u001b[0m in \u001b[0;36mcheck_for_file\u001b[0;34m(path_to_folder, file)\u001b[0m\n\u001b[1;32m     61\u001b[0m     \u001b[0mfiles_in_folder\u001b[0m \u001b[0;34m=\u001b[0m \u001b[0mos\u001b[0m\u001b[0;34m.\u001b[0m\u001b[0mlistdir\u001b[0m\u001b[0;34m(\u001b[0m\u001b[0mpath_to_folder\u001b[0m\u001b[0;34m)\u001b[0m\u001b[0;34m\u001b[0m\u001b[0m\n\u001b[1;32m     62\u001b[0m     \u001b[0;32mif\u001b[0m \u001b[0mfile\u001b[0m \u001b[0;32min\u001b[0m \u001b[0mfiles_in_folder\u001b[0m\u001b[0;34m:\u001b[0m\u001b[0;34m\u001b[0m\u001b[0m\n\u001b[0;32m---> 63\u001b[0;31m         \u001b[0;32mraise\u001b[0m \u001b[0mPermissionError\u001b[0m\u001b[0;34m(\u001b[0m\u001b[0;34mf\"A metadata file with the name '{file}' already exists in the specified folder. Executing this code cell would possibly mean that data is lost. Please create a backup of the file and remove it from the folder '{path_to_folder}' before running this process again.\"\u001b[0m\u001b[0;34m)\u001b[0m\u001b[0;34m\u001b[0m\u001b[0m\n\u001b[0m\u001b[1;32m     64\u001b[0m     \u001b[0;32melse\u001b[0m\u001b[0;34m:\u001b[0m\u001b[0;34m\u001b[0m\u001b[0m\n\u001b[1;32m     65\u001b[0m         \u001b[0;32mreturn\u001b[0m \u001b[0;32mTrue\u001b[0m\u001b[0;34m\u001b[0m\u001b[0m\n",
      "\u001b[0;31mPermissionError\u001b[0m: A metadata file with the name 'metadata_file_coentunnel-tracé.json' already exists in the specified folder. Executing this code cell would possibly mean that data is lost. Please create a backup of the file and remove it from the folder 'data/metadata' before running this process again."
     ]
    }
   ],
   "source": [
    "path_to_export_folder = \"data/metadata\"\n",
    "export_file_name = \"metadata_file_{}.json\".format(project.lower().replace(' ', '_'))\n",
    "\n",
    "check_for_file(path_to_folder=path_to_export_folder, file=export_file_name)\n",
    "\n",
    "with open(os.path.join(path_to_export_folder, export_file_name), 'w') as output_file:\n",
    "    json.dump(json_dict, output_file)\n",
    "    \n",
    "print('Succes!')"
   ]
  },
  {
   "cell_type": "markdown",
   "metadata": {},
   "source": [
    "# Afronding\n",
    "Nu het script is uitgevoerd zijn er twee uitkomsten;\n",
    "    \n",
    "    1. U ziet de terugkoppeling 'Succes!'.\n",
    "    2. U ziet een PermissionError met daarbij een terugkoppeling.\n",
    "    \n",
    "## Afronding na optie 1\n",
    "Indien u de terugkoppeling ```Succes!``` ziet, is het script succesvol doorlopen en staat er een niet bestand in de map ```Automatisering Storingsanalyse/data/metadata```.\n",
    "\n",
    "## Afronding na optie 2\n",
    "Indien u de PermissionError als terugkoppeling ziet, is het van belang dat u dit bericht volgt en vervolgens het script nogmaals probeert uit te voeren."
   ]
  }
 ],
 "metadata": {
  "kernelspec": {
   "display_name": "Python 3",
   "language": "python",
   "name": "python3"
  },
  "language_info": {
   "codemirror_mode": {
    "name": "ipython",
    "version": 3
   },
   "file_extension": ".py",
   "mimetype": "text/x-python",
   "name": "python",
   "nbconvert_exporter": "python",
   "pygments_lexer": "ipython3",
   "version": "3.6.3"
  },
  "toc": {
   "base_numbering": 1,
   "nav_menu": {},
   "number_sections": true,
   "sideBar": true,
   "skip_h1_title": false,
   "title_cell": "Table of Contents",
   "title_sidebar": "Contents",
   "toc_cell": false,
   "toc_position": {},
   "toc_section_display": true,
   "toc_window_display": false
  }
 },
 "nbformat": 4,
 "nbformat_minor": 4
}
