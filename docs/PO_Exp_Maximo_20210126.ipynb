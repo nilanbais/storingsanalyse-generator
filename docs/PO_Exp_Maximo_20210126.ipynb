{
 "cells": [
  {
   "cell_type": "markdown",
   "metadata": {
    "id": "2HiEBERPM-Gl"
   },
   "source": [
    "![INF_AM_LOGO.jpg](data:image/jpeg;base64,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)"
   ]
  },
  {
   "cell_type": "markdown",
   "metadata": {
    "id": "Oy1FYwJJA9Zv"
   },
   "source": [
    "# 1. Import all required Python packages into the environment\n",
    "Import all Python packages/dependencies needed for the Jupyter notebook to run. \n",
    "\n",
    "## What if a package is missing?\n",
    "If a package is missing you can install the packages with pip installer for Python:\n",
    "\n",
    "```\n",
    "!pip3 install packagename\n",
    "```\n",
    "\n",
    "\n",
    "* Tutorial for using pip for Python: https://www.youtube.com/watch?v=mFqdeX1C-8M_"
   ]
  },
  {
   "cell_type": "code",
   "execution_count": 81,
   "metadata": {
    "executionInfo": {
     "elapsed": 917,
     "status": "ok",
     "timestamp": 1614250576395,
     "user": {
      "displayName": "Peter HM",
      "photoUrl": "https://lh3.googleusercontent.com/a-/AOh14GiJ1DrHzshc6KpNlZvZat7WMop7krMw-cxJzuN42w=s64",
      "userId": "15184792381857859425"
     },
     "user_tz": -60
    },
    "id": "FvjM4wY3A9Zv"
   },
   "outputs": [],
   "source": [
    "import time\n",
    "import datetime\n",
    "import pandas as pd\n",
    "import matplotlib.pyplot as plt\n",
    "from matplotlib import gridspec\n",
    "import json\n",
    "import requests\n",
    "from collections import Counter\n",
    "from IPython.display import FileLink\n",
    "plt.style.use('dark_background')"
   ]
  },
  {
   "cell_type": "markdown",
   "metadata": {
    "id": "3_uYA2lVA9Zx"
   },
   "source": [
    "# 2. Declare the required variables needed to run and filter your data export result.\n",
    "\n",
    "You can use these variables or params to adjust your dataset, for example you can choose which PO number you want to use or specify your preferred Workorder status in the __query__ param."
   ]
  },
  {
   "cell_type": "code",
   "execution_count": 82,
   "metadata": {
    "executionInfo": {
     "elapsed": 915,
     "status": "ok",
     "timestamp": 1614250576396,
     "user": {
      "displayName": "Peter HM",
      "photoUrl": "https://lh3.googleusercontent.com/a-/AOh14GiJ1DrHzshc6KpNlZvZat7WMop7krMw-cxJzuN42w=s64",
      "userId": "15184792381857859425"
     },
     "user_tz": -60
    },
    "id": "FQA851PgA9Zx"
   },
   "outputs": [],
   "source": [
    "\"\"\" In the line bellow fill in your API key without < and > \"\"\" \n",
    "api_key = 'TVVMTEVSX1A6QEJvZWluZzIwMQ==' # provided to you by a Maximo Consultant\n",
    "\n",
    "\"\"\" In the line bellow fill in the desired object structure \"\"\"\n",
    "obj_struct = 'SND_PTR' # name of the Maximo object structure\n",
    "\n",
    "\"\"\" In the line bellow fill in the PO number and the SITEID without the < and > \"\"\"\n",
    "#query = 'pmnum=\"1\" and siteid=\"MAVA\"'\n",
    "query = 'pmnum=\"802\" and siteid=\"MAVA\" and reportdate>=\"2018-01-01T00:00:00-00:00\"'\n",
    "#query = 'pmnum>\"61\" and pmnum<\"66\" and siteid=\"MAVA\" and reportdate>=\"2020-01-01T00:00:00-00:00\" and reportdate<=\"2020-12-31T00:00:00-00:00\"'"
   ]
  },
  {
   "cell_type": "markdown",
   "metadata": {
    "id": "jWM7qXgyA9Zz"
   },
   "source": [
    "# 3. Declare the GET request function: `get_response(query)`.\n",
    "This so called GET request does exactly what is says, it GETS data straight from the Maximo application by sending a request using the above params in the query string.\n",
    "\n",
    "* More information about the Maximo API: https://interprosoft.com/maximotimes/maximo/mif/exclusive-look-maximo-rest-web-service-api/\n",
    "\n",
    "* More information about the Maximo query's: https://www.ibm.com/support/knowledgecenter/SSMAMS/com.ibm.mif.doc/gp_intfrmwk/oslc/r_oslc_query_params.html"
   ]
  },
  {
   "cell_type": "code",
   "execution_count": 83,
   "metadata": {
    "executionInfo": {
     "elapsed": 913,
     "status": "ok",
     "timestamp": 1614250576396,
     "user": {
      "displayName": "Peter HM",
      "photoUrl": "https://lh3.googleusercontent.com/a-/AOh14GiJ1DrHzshc6KpNlZvZat7WMop7krMw-cxJzuN42w=s64",
      "userId": "15184792381857859425"
     },
     "user_tz": -60
    },
    "id": "7ATXr0zHA9Zz"
   },
   "outputs": [],
   "source": [
    "def get_response(query) :\n",
    "    \"\"\"\n",
    "    Function to launch the GET request to the Maximo application.\n",
    "    :param query: The query variable defined in '2. Declare the required \n",
    "                  variables needed to run and filter your data export result.'\n",
    "    :return: The respone of the Maximo application.\n",
    "    \"\"\"\n",
    "    api_url = 'https://maximo.tbi.nl/maximo/oslc/os/' + obj_struct + '?'\n",
    "    # Set up header dictionary w/ API key according to documentation\n",
    "    headers = {\n",
    "        'maxauth': api_key,\n",
    "    }\n",
    "    # Set up the params dictionary according to documentation\n",
    "    params = {\n",
    "        'lean' : 1, # no namespace in JSON\n",
    "        '_dropnulls' : 0, # don't pass null values\n",
    "        'Accept':'application/json', # set JSON as default output\n",
    "        'oslc.where' : query,\n",
    "    }\n",
    "    # Call the API\n",
    "    response = requests.get(api_url,\n",
    "                            headers=headers,\n",
    "                            params=params)\n",
    "\n",
    "    if response.status_code == 200:\n",
    "        print('Success!')\n",
    "    elif response.status_code == 404:\n",
    "        print('ApiError')\n",
    "\n",
    "    return response"
   ]
  },
  {
   "cell_type": "markdown",
   "metadata": {
    "id": "P3UTvPX0BstZ"
   },
   "source": [
    "# 4. Run the function: `get_response(query)` with the previously declared variable __query__ as inputvariable and save the result as: __response_data__."
   ]
  },
  {
   "cell_type": "code",
   "execution_count": 84,
   "metadata": {
    "colab": {
     "base_uri": "https://localhost:8080/"
    },
    "executionInfo": {
     "elapsed": 1403,
     "status": "ok",
     "timestamp": 1614250576889,
     "user": {
      "displayName": "Peter HM",
      "photoUrl": "https://lh3.googleusercontent.com/a-/AOh14GiJ1DrHzshc6KpNlZvZat7WMop7krMw-cxJzuN42w=s64",
      "userId": "15184792381857859425"
     },
     "user_tz": -60
    },
    "id": "gXjjPRovBtLT",
    "outputId": "21656ce5-87f7-404a-fba2-9fd8e09cdc33"
   },
   "outputs": [
    {
     "name": "stdout",
     "output_type": "stream",
     "text": [
      "Success!\n"
     ]
    }
   ],
   "source": [
    "response_data = get_response(query)"
   ]
  },
  {
   "cell_type": "markdown",
   "metadata": {
    "id": "U71AIUez7Yu_"
   },
   "source": [
    "# 5. Isolate the JSON data from the response object and save the result as: __json_data__."
   ]
  },
  {
   "cell_type": "code",
   "execution_count": 85,
   "metadata": {
    "colab": {
     "base_uri": "https://localhost:8080/"
    },
    "executionInfo": {
     "elapsed": 1400,
     "status": "ok",
     "timestamp": 1614250576890,
     "user": {
      "displayName": "Peter HM",
      "photoUrl": "https://lh3.googleusercontent.com/a-/AOh14GiJ1DrHzshc6KpNlZvZat7WMop7krMw-cxJzuN42w=s64",
      "userId": "15184792381857859425"
     },
     "user_tz": -60
    },
    "id": "c4TKGKWB7h8h",
    "outputId": "43ebcc64-4cc2-4fef-ea52-bc3e96e39e9f"
   },
   "outputs": [
    {
     "data": {
      "text/plain": [
       "{'href': 'https://maximo.tbi.nl/maxrest/oslc/os/SND_PTR',\n",
       " 'member': [{'href': 'https://maximo.tbi.nl/maxrest/oslc/os/snd_ptr/_TUFWQS8xMjQyNjA5'},\n",
       "  {'href': 'https://maximo.tbi.nl/maxrest/oslc/os/snd_ptr/_TUFWQS8xNDExMTU4'},\n",
       "  {'href': 'https://maximo.tbi.nl/maxrest/oslc/os/snd_ptr/_TUFWQS8xNTcyOTQx'}],\n",
       " 'responseInfo': {'href': 'https://maximo.tbi.nl/maxrest/oslc/os/SND_PTR?lean=1&_dropnulls=0&Accept=application%2Fjson&oslc.where=pmnum%3D%22802%22+and+siteid%3D%22MAVA%22+and+reportdate%3E%3D%222018-01-01T00%3A00%3A00-00%3A00%22'}}"
      ]
     },
     "execution_count": 85,
     "metadata": {},
     "output_type": "execute_result"
    }
   ],
   "source": [
    "json_data = response_data.json()\n",
    "json_data"
   ]
  },
  {
   "cell_type": "markdown",
   "metadata": {
    "id": "GtZnPKm1Byhg"
   },
   "source": [
    "# 6. Load the _'member'_ values to a new DataFrame: __df__ and use the Pandas `df.info()` method to print all information about the __df__ DataFrame. For example, you can see the number of instances (entries) which refers to the number of WO's.\n",
    "\n",
    "The result is a Pandas DataFrame which contains unique href's (hyperlink reference). Each href stands for an unique instance of the query result (for example an indivdual workorder or register of an asset) stored as a URL. To get the data from all href's in the series you have to send an indivdual GET request to each URL.\n"
   ]
  },
  {
   "cell_type": "code",
   "execution_count": 86,
   "metadata": {
    "colab": {
     "base_uri": "https://localhost:8080/"
    },
    "executionInfo": {
     "elapsed": 1396,
     "status": "ok",
     "timestamp": 1614250576891,
     "user": {
      "displayName": "Peter HM",
      "photoUrl": "https://lh3.googleusercontent.com/a-/AOh14GiJ1DrHzshc6KpNlZvZat7WMop7krMw-cxJzuN42w=s64",
      "userId": "15184792381857859425"
     },
     "user_tz": -60
    },
    "id": "vBPofryBBy3p",
    "outputId": "4726e1ab-4c23-4cc2-b548-22af9a68c77d"
   },
   "outputs": [
    {
     "name": "stdout",
     "output_type": "stream",
     "text": [
      "<class 'pandas.core.frame.DataFrame'>\n",
      "RangeIndex: 3 entries, 0 to 2\n",
      "Data columns (total 1 columns):\n",
      " #   Column  Non-Null Count  Dtype \n",
      "---  ------  --------------  ----- \n",
      " 0   href    3 non-null      object\n",
      "dtypes: object(1)\n",
      "memory usage: 152.0+ bytes\n"
     ]
    }
   ],
   "source": [
    "df = pd.DataFrame(json_data['member'])\n",
    "df.info()"
   ]
  },
  {
   "cell_type": "markdown",
   "metadata": {
    "id": "WGFwSY3cE4GE"
   },
   "source": [
    "# 7. Create a new empty DataFrame: __new_df__ for the upcomming _for loop_ in which we will send a individual GET request to each href from Pandas DataFrame __df__. "
   ]
  },
  {
   "cell_type": "code",
   "execution_count": 87,
   "metadata": {
    "executionInfo": {
     "elapsed": 1392,
     "status": "ok",
     "timestamp": 1614250576892,
     "user": {
      "displayName": "Peter HM",
      "photoUrl": "https://lh3.googleusercontent.com/a-/AOh14GiJ1DrHzshc6KpNlZvZat7WMop7krMw-cxJzuN42w=s64",
      "userId": "15184792381857859425"
     },
     "user_tz": -60
    },
    "id": "3VSBCGiAFBdI"
   },
   "outputs": [],
   "source": [
    "new_df = pd.DataFrame()"
   ]
  },
  {
   "cell_type": "markdown",
   "metadata": {
    "id": "Q3qW4Fc6EQCE"
   },
   "source": [
    "# 8. Run a _for loop_ that iterates over each href inside the __df['href']__ column, sends a GET request to it and appends the response data to the DataFrame: __new_df__.\n",
    "\n"
   ]
  },
  {
   "cell_type": "code",
   "execution_count": 88,
   "metadata": {
    "executionInfo": {
     "elapsed": 4036,
     "status": "ok",
     "timestamp": 1614250579538,
     "user": {
      "displayName": "Peter HM",
      "photoUrl": "https://lh3.googleusercontent.com/a-/AOh14GiJ1DrHzshc6KpNlZvZat7WMop7krMw-cxJzuN42w=s64",
      "userId": "15184792381857859425"
     },
     "user_tz": -60
    },
    "id": "9EDGDzkqEQaV"
   },
   "outputs": [],
   "source": [
    "for value in df['href'] :\n",
    "      url = value\n",
    "      headers = {\n",
    "        'maxauth': api_key,\n",
    "      }\n",
    "      url_params = {\n",
    "        'lean':1,\n",
    "        '_dropnulls':0,\n",
    "        'Accept':'application/json'\n",
    "    }\n",
    "      r = requests.get(url, headers=headers, params=url_params)\n",
    "\n",
    "      response_data = r.json()\n",
    "\n",
    "      new_df = new_df.append(response_data, ignore_index=True)"
   ]
  },
  {
   "cell_type": "markdown",
   "metadata": {
    "id": "GDHUyGKNEY77"
   },
   "source": [
    "# 9. Use the Pandas `df.info()` function to learn more about the data inside the DataFrame: __new_df__."
   ]
  },
  {
   "cell_type": "code",
   "execution_count": 89,
   "metadata": {
    "colab": {
     "base_uri": "https://localhost:8080/"
    },
    "executionInfo": {
     "elapsed": 4034,
     "status": "ok",
     "timestamp": 1614250579539,
     "user": {
      "displayName": "Peter HM",
      "photoUrl": "https://lh3.googleusercontent.com/a-/AOh14GiJ1DrHzshc6KpNlZvZat7WMop7krMw-cxJzuN42w=s64",
      "userId": "15184792381857859425"
     },
     "user_tz": -60
    },
    "id": "Dwpt9J23Ec6N",
    "outputId": "807a1e5d-56d7-4c66-be1d-80fbe81d9924"
   },
   "outputs": [
    {
     "name": "stdout",
     "output_type": "stream",
     "text": [
      "<class 'pandas.core.frame.DataFrame'>\n",
      "RangeIndex: 3 entries, 0 to 2\n",
      "Data columns (total 21 columns):\n",
      " #   Column                       Non-Null Count  Dtype  \n",
      "---  ------                       --------------  -----  \n",
      " 0   _rowstamp                    3 non-null      object \n",
      " 1   actfinish                    3 non-null      object \n",
      " 2   actstart                     3 non-null      object \n",
      " 3   description                  3 non-null      object \n",
      " 4   description_longdescription  3 non-null      object \n",
      " 5   hasld                        3 non-null      float64\n",
      " 6   hasparent                    3 non-null      float64\n",
      " 7   href                         3 non-null      object \n",
      " 8   jpnum                        3 non-null      object \n",
      " 9   jptask                       3 non-null      object \n",
      " 10  langcode                     3 non-null      object \n",
      " 11  parent                       3 non-null      object \n",
      " 12  pmnum                        3 non-null      object \n",
      " 13  reportdate                   3 non-null      object \n",
      " 14  reportedby                   3 non-null      object \n",
      " 15  schedstart                   3 non-null      object \n",
      " 16  siteid                       3 non-null      object \n",
      " 17  woactivity                   3 non-null      object \n",
      " 18  woactivity_collectionref     3 non-null      object \n",
      " 19  wonum                        3 non-null      object \n",
      " 20  workorderid                  3 non-null      float64\n",
      "dtypes: float64(3), object(18)\n",
      "memory usage: 632.0+ bytes\n"
     ]
    }
   ],
   "source": [
    "new_df.info()"
   ]
  },
  {
   "cell_type": "markdown",
   "metadata": {
    "id": "KQUGHLRBpUWd"
   },
   "source": [
    "# 10. Create a new DataFrame: __df_wo__ in which you save the unique WONUMS and their upper level dates from the first DataFrame: __new_df__ for further usage in this Notebook."
   ]
  },
  {
   "cell_type": "code",
   "execution_count": 90,
   "metadata": {
    "colab": {
     "base_uri": "https://localhost:8080/",
     "height": 360
    },
    "executionInfo": {
     "elapsed": 4029,
     "status": "ok",
     "timestamp": 1614250579540,
     "user": {
      "displayName": "Peter HM",
      "photoUrl": "https://lh3.googleusercontent.com/a-/AOh14GiJ1DrHzshc6KpNlZvZat7WMop7krMw-cxJzuN42w=s64",
      "userId": "15184792381857859425"
     },
     "user_tz": -60
    },
    "id": "GDYpdLCa2QmA",
    "outputId": "eee63f67-5bde-4045-b479-6bab45a58a81"
   },
   "outputs": [
    {
     "name": "stdout",
     "output_type": "stream",
     "text": [
      "<class 'pandas.core.frame.DataFrame'>\n",
      "RangeIndex: 3 entries, 0 to 2\n",
      "Data columns (total 4 columns):\n",
      " #   Column      Non-Null Count  Dtype \n",
      "---  ------      --------------  ----- \n",
      " 0   wonum       3 non-null      object\n",
      " 1   reportdate  3 non-null      object\n",
      " 2   actstart    3 non-null      object\n",
      " 3   actfinish   3 non-null      object\n",
      "dtypes: object(4)\n",
      "memory usage: 224.0+ bytes\n"
     ]
    },
    {
     "data": {
      "text/html": [
       "<div>\n",
       "<style scoped>\n",
       "    .dataframe tbody tr th:only-of-type {\n",
       "        vertical-align: middle;\n",
       "    }\n",
       "\n",
       "    .dataframe tbody tr th {\n",
       "        vertical-align: top;\n",
       "    }\n",
       "\n",
       "    .dataframe thead th {\n",
       "        text-align: right;\n",
       "    }\n",
       "</style>\n",
       "<table border=\"1\" class=\"dataframe\">\n",
       "  <thead>\n",
       "    <tr style=\"text-align: right;\">\n",
       "      <th></th>\n",
       "      <th>wonum</th>\n",
       "      <th>reportdate</th>\n",
       "      <th>actstart</th>\n",
       "      <th>actfinish</th>\n",
       "    </tr>\n",
       "  </thead>\n",
       "  <tbody>\n",
       "    <tr>\n",
       "      <th>0</th>\n",
       "      <td>1242609</td>\n",
       "      <td>2018-04-16T13:57:47+02:00</td>\n",
       "      <td></td>\n",
       "      <td>2018-05-14T11:51:00+02:00</td>\n",
       "    </tr>\n",
       "    <tr>\n",
       "      <th>1</th>\n",
       "      <td>1411158</td>\n",
       "      <td>2019-05-09T13:22:57+02:00</td>\n",
       "      <td>2019-05-27T10:00:00+02:00</td>\n",
       "      <td>2019-05-27T15:00:00+02:00</td>\n",
       "    </tr>\n",
       "    <tr>\n",
       "      <th>2</th>\n",
       "      <td>1572941</td>\n",
       "      <td>2020-04-08T09:33:34+02:00</td>\n",
       "      <td>2020-06-22T10:00:00+02:00</td>\n",
       "      <td>2020-06-22T15:00:00+02:00</td>\n",
       "    </tr>\n",
       "  </tbody>\n",
       "</table>\n",
       "</div>"
      ],
      "text/plain": [
       "     wonum                 reportdate                   actstart  \\\n",
       "0  1242609  2018-04-16T13:57:47+02:00                              \n",
       "1  1411158  2019-05-09T13:22:57+02:00  2019-05-27T10:00:00+02:00   \n",
       "2  1572941  2020-04-08T09:33:34+02:00  2020-06-22T10:00:00+02:00   \n",
       "\n",
       "                   actfinish  \n",
       "0  2018-05-14T11:51:00+02:00  \n",
       "1  2019-05-27T15:00:00+02:00  \n",
       "2  2020-06-22T15:00:00+02:00  "
      ]
     },
     "execution_count": 90,
     "metadata": {},
     "output_type": "execute_result"
    }
   ],
   "source": [
    "df_wo = new_df[['wonum', 'reportdate', 'actstart', 'actfinish']]\n",
    "df_wo.info()\n",
    "df_wo"
   ]
  },
  {
   "cell_type": "markdown",
   "metadata": {
    "id": "oBdnMEplosPx"
   },
   "source": [
    "# 11. Flatten the nested JSON objects, filter and append them to the __result__ DataFrame.\n",
    "___\n",
    "\n",
    "If we would run the outcommented Pandas function `new_df.head(2)` in the code cell above and plot the first 2 records of the __new_df__ DataFrame we would see that there are 4 columns inside the DataFrame that contains so called _nested JSON objects_. \n",
    "\n",
    " - locations\n",
    " - asset\n",
    " - jobplan\n",
    " - measureunit\n",
    "\n",
    "These nested JSON objects need to be flattened and appended to seperate DataFrames to access/filter the data inside them so they can be appended to the master DataFrame __result__.\n",
    "\n",
    "To do so we have to run 4 different _for loops_ in which we create a new DataFrame for each column in the __new_df__ DataFrame, iterate over it and append its key value pairs to the new DataFrame.\n",
    "\n",
    "We will do this in 5 steps:\n",
    "* 11.1 Create DataFrame __df_lc__ and loop over the __new_df['locations']__ column\n",
    "* 11.2 Create DataFrame __df_as__ and loop over the __new_df['asset']__ column\n",
    "* 11.3 Create DataFrame __df_jp__ and loop over the __new_df['jobplan']__ column\n",
    "* 11.4 Create DataFrame __df_jp2__ in which you save the filtered __df_jp__ DataFrame\n",
    "* 11.5 Create DataFrame __df_mu__ and loop over the __new_df['measureunit']__ column\n",
    "* 11.6 Concat the DataFrames: __df_lc__, __df_as__, __df_jp2__, __df_mu__ to a new DataFrame __result__\n",
    "\n",
    "After each step run the `df.head(3)` function to plot the first 3 results\n",
    "\n",
    "___"
   ]
  },
  {
   "cell_type": "markdown",
   "metadata": {
    "id": "y2OWxNoNHO0K"
   },
   "source": [
    "### 11.1 Create a new empty DataFrame: __df_lc__ for the nested column __new_df['locations']__, loop over the column with a _for loop_ and append the data to the DataFrame."
   ]
  },
  {
   "cell_type": "code",
   "execution_count": 91,
   "metadata": {
    "colab": {
     "base_uri": "https://localhost:8080/",
     "height": 298
    },
    "executionInfo": {
     "elapsed": 4229,
     "status": "ok",
     "timestamp": 1614250579747,
     "user": {
      "displayName": "Peter HM",
      "photoUrl": "https://lh3.googleusercontent.com/a-/AOh14GiJ1DrHzshc6KpNlZvZat7WMop7krMw-cxJzuN42w=s64",
      "userId": "15184792381857859425"
     },
     "user_tz": -60
    },
    "id": "FzvqCqhkt9hw",
    "outputId": "5667c2c0-341b-4dcc-e1a3-09162cd04cb1"
   },
   "outputs": [
    {
     "name": "stdout",
     "output_type": "stream",
     "text": [
      "  lc__rowstamp lc_location                      lc_description  \\\n",
      "0   2516625283        3385  Sectie 3-Korte overspanningen oost   \n",
      "\n",
      "                                         lc_localref lc_gmbgebruimtenr  \\\n",
      "0  https://maximo.tbi.nl/maxrest/oslc/os/snd_ptr/...              3385   \n",
      "\n",
      "                                             lc_href wo_measurementvalue  \\\n",
      "0  http://childkey#V09SS09SREVSL1dPQUNUSVZJVFkvTE...                       \n",
      "\n",
      "  wo_inspector             wo_measuredate wo_taskid  \\\n",
      "0        VOS_S  2020-07-02T09:17:31+02:00        10   \n",
      "\n",
      "               wo_reportdate                   wo_description wo_gmbmemo  \\\n",
      "0  2020-04-08T09:35:21+02:00  Inspecteer status muizenlokdoos              \n",
      "\n",
      "  wo_observation  \n",
      "0           Goed  \n",
      "len df_lc = 414\n"
     ]
    },
    {
     "data": {
      "text/html": [
       "<div>\n",
       "<style scoped>\n",
       "    .dataframe tbody tr th:only-of-type {\n",
       "        vertical-align: middle;\n",
       "    }\n",
       "\n",
       "    .dataframe tbody tr th {\n",
       "        vertical-align: top;\n",
       "    }\n",
       "\n",
       "    .dataframe thead th {\n",
       "        text-align: right;\n",
       "    }\n",
       "</style>\n",
       "<table border=\"1\" class=\"dataframe\">\n",
       "  <thead>\n",
       "    <tr style=\"text-align: right;\">\n",
       "      <th></th>\n",
       "      <th>lc__rowstamp</th>\n",
       "      <th>lc_location</th>\n",
       "      <th>lc_description</th>\n",
       "      <th>lc_localref</th>\n",
       "      <th>lc_gmbgebruimtenr</th>\n",
       "      <th>lc_href</th>\n",
       "      <th>wo_measurementvalue</th>\n",
       "      <th>wo_inspector</th>\n",
       "      <th>wo_measuredate</th>\n",
       "      <th>wo_taskid</th>\n",
       "      <th>wo_reportdate</th>\n",
       "      <th>wo_description</th>\n",
       "      <th>wo_gmbmemo</th>\n",
       "      <th>wo_observation</th>\n",
       "    </tr>\n",
       "  </thead>\n",
       "  <tbody>\n",
       "    <tr>\n",
       "      <th>0</th>\n",
       "      <td>2516620245</td>\n",
       "      <td>3312</td>\n",
       "      <td>Sectie 3-RW A15 HRR 44,950-47,600</td>\n",
       "      <td>https://maximo.tbi.nl/maxrest/oslc/os/snd_ptr/...</td>\n",
       "      <td>3312</td>\n",
       "      <td>http://childkey#V09SS09SREVSL1dPQUNUSVZJVFkvTE...</td>\n",
       "      <td></td>\n",
       "      <td>DEFEITER_P</td>\n",
       "      <td>2018-05-14T10:46:06+02:00</td>\n",
       "      <td>10</td>\n",
       "      <td>2018-04-16T13:57:48+02:00</td>\n",
       "      <td>Inspecteer conditie slot</td>\n",
       "      <td></td>\n",
       "      <td>Goed</td>\n",
       "    </tr>\n",
       "    <tr>\n",
       "      <th>1</th>\n",
       "      <td>2516620245</td>\n",
       "      <td>3312</td>\n",
       "      <td>Sectie 3-RW A15 HRR 44,950-47,600</td>\n",
       "      <td>https://maximo.tbi.nl/maxrest/oslc/os/snd_ptr/...</td>\n",
       "      <td>3312</td>\n",
       "      <td>http://childkey#V09SS09SREVSL1dPQUNUSVZJVFkvTE...</td>\n",
       "      <td></td>\n",
       "      <td>DEFEITER_P</td>\n",
       "      <td>2018-05-14T10:46:09+02:00</td>\n",
       "      <td>20</td>\n",
       "      <td>2018-04-16T13:57:48+02:00</td>\n",
       "      <td>Inspecteer conditie kast afdichting</td>\n",
       "      <td></td>\n",
       "      <td>Goed</td>\n",
       "    </tr>\n",
       "    <tr>\n",
       "      <th>2</th>\n",
       "      <td>2516620245</td>\n",
       "      <td>3312</td>\n",
       "      <td>Sectie 3-RW A15 HRR 44,950-47,600</td>\n",
       "      <td>https://maximo.tbi.nl/maxrest/oslc/os/snd_ptr/...</td>\n",
       "      <td>3312</td>\n",
       "      <td>http://childkey#V09SS09SREVSL1dPQUNUSVZJVFkvTE...</td>\n",
       "      <td></td>\n",
       "      <td>DEFEITER_P</td>\n",
       "      <td>2018-05-14T10:46:20+02:00</td>\n",
       "      <td>30</td>\n",
       "      <td>2018-04-16T13:57:49+02:00</td>\n",
       "      <td>Inspecteer conditie kast</td>\n",
       "      <td></td>\n",
       "      <td>Goed</td>\n",
       "    </tr>\n",
       "  </tbody>\n",
       "</table>\n",
       "</div>"
      ],
      "text/plain": [
       "  lc__rowstamp lc_location                     lc_description  \\\n",
       "0   2516620245        3312  Sectie 3-RW A15 HRR 44,950-47,600   \n",
       "1   2516620245        3312  Sectie 3-RW A15 HRR 44,950-47,600   \n",
       "2   2516620245        3312  Sectie 3-RW A15 HRR 44,950-47,600   \n",
       "\n",
       "                                         lc_localref lc_gmbgebruimtenr  \\\n",
       "0  https://maximo.tbi.nl/maxrest/oslc/os/snd_ptr/...              3312   \n",
       "1  https://maximo.tbi.nl/maxrest/oslc/os/snd_ptr/...              3312   \n",
       "2  https://maximo.tbi.nl/maxrest/oslc/os/snd_ptr/...              3312   \n",
       "\n",
       "                                             lc_href wo_measurementvalue  \\\n",
       "0  http://childkey#V09SS09SREVSL1dPQUNUSVZJVFkvTE...                       \n",
       "1  http://childkey#V09SS09SREVSL1dPQUNUSVZJVFkvTE...                       \n",
       "2  http://childkey#V09SS09SREVSL1dPQUNUSVZJVFkvTE...                       \n",
       "\n",
       "  wo_inspector             wo_measuredate wo_taskid  \\\n",
       "0   DEFEITER_P  2018-05-14T10:46:06+02:00        10   \n",
       "1   DEFEITER_P  2018-05-14T10:46:09+02:00        20   \n",
       "2   DEFEITER_P  2018-05-14T10:46:20+02:00        30   \n",
       "\n",
       "               wo_reportdate                       wo_description wo_gmbmemo  \\\n",
       "0  2018-04-16T13:57:48+02:00             Inspecteer conditie slot              \n",
       "1  2018-04-16T13:57:48+02:00  Inspecteer conditie kast afdichting              \n",
       "2  2018-04-16T13:57:49+02:00             Inspecteer conditie kast              \n",
       "\n",
       "  wo_observation  \n",
       "0           Goed  \n",
       "1           Goed  \n",
       "2           Goed  "
      ]
     },
     "execution_count": 91,
     "metadata": {},
     "output_type": "execute_result"
    }
   ],
   "source": [
    "df_lc = pd.DataFrame()\n",
    "\n",
    "for i in range(len(new_df)):  # It's important to itarate over the range of the length of a DataFrame\n",
    "    row = new_df.iloc[i]\n",
    "\n",
    "    # Isolating the whole nested json in the column 'woactivity'\n",
    "    nested_json = row['woactivity']\n",
    "    try:\n",
    "      len_nested_json = len(nested_json)\n",
    "\n",
    "      # Iterating over every element in the nested json\n",
    "      for ii in range(len_nested_json):\n",
    "\n",
    "          # Try to read the data per element using json_normalize\n",
    "          try:\n",
    "            # Check if the element of the nested_json is an instance of a list\n",
    "            # When the element is not an instance of a list, a KeyError will be forced\n",
    "            if isinstance(nested_json[ii]['locations'], list): \n",
    "              json_data = pd.json_normalize(data=row['woactivity'][ii],\n",
    "                                            record_path='locations',\n",
    "                                            meta=['measurementvalue',\n",
    "                                                  'inspector',\n",
    "                                                  'measuredate',\n",
    "                                                  'taskid',\n",
    "                                                  'reportdate',\n",
    "                                                  'description',\n",
    "                                                  'gmbmemo',\n",
    "                                                  'observation'],\n",
    "                                            meta_prefix='wo_',\n",
    "                                            record_prefix='lc_')\n",
    "              \n",
    "          # We can assume that the data is missing whenever it can't be read\n",
    "          # In that case a row in which all cell have a value of '-1' will be assigned       \n",
    "          except KeyError as e:\n",
    "              n = -1\n",
    "              json_data = [{'lc__rowstamp': n, 'lc_location': n, 'lc_description': n, 'lc_localref': n, 'lc_href': n,\n",
    "                            'wo_measurementvalue': n, 'wo_inspector': n, 'wo_measuredate': n,\t'wo_taskid': n, 'wo_reportdate': n,\n",
    "                            'wo_description': n, 'wo_gmbmemo': n, 'wo_observation': n}]\n",
    "\n",
    "          # The final step of appending the row with the json data (or the filler row) to the DataFrame\n",
    "          finally:\n",
    "              df_lc = df_lc.append(json_data)  \n",
    "    except:\n",
    "      # Skips workorders wothout any jobrows (like MAVA PM:64)\n",
    "      pass\n",
    "\n",
    "\n",
    "print(json_data)\n",
    "\n",
    "# Printing the length of the DataFrame\n",
    "print(f'len df_lc = {len(df_lc)}')\n",
    "\n",
    "# Reindexing the DataFrame\n",
    "df_lc = df_lc.reset_index(drop=True)\n",
    "\n",
    "# Prints the column names and the first three rows of the DataFrame \n",
    "df_lc.head(3)"
   ]
  },
  {
   "cell_type": "markdown",
   "metadata": {
    "id": "voGfuZ0Y4JFH"
   },
   "source": [
    "### 11.2 Create a new empty DataFrame: __df_as__ for the nested column __new_df['asset']__, loop over the column with a _for loop_ and append the data to the DataFrame."
   ]
  },
  {
   "cell_type": "code",
   "execution_count": 92,
   "metadata": {
    "colab": {
     "base_uri": "https://localhost:8080/",
     "height": 169
    },
    "executionInfo": {
     "elapsed": 4224,
     "status": "ok",
     "timestamp": 1614250579748,
     "user": {
      "displayName": "Peter HM",
      "photoUrl": "https://lh3.googleusercontent.com/a-/AOh14GiJ1DrHzshc6KpNlZvZat7WMop7krMw-cxJzuN42w=s64",
      "userId": "15184792381857859425"
     },
     "user_tz": -60
    },
    "id": "9W8JktzZP_zD",
    "outputId": "b7e81df3-96dc-46aa-f9b2-051614a7be8c"
   },
   "outputs": [
    {
     "name": "stdout",
     "output_type": "stream",
     "text": [
      "len df_as = 414\n"
     ]
    },
    {
     "data": {
      "text/html": [
       "<div>\n",
       "<style scoped>\n",
       "    .dataframe tbody tr th:only-of-type {\n",
       "        vertical-align: middle;\n",
       "    }\n",
       "\n",
       "    .dataframe tbody tr th {\n",
       "        vertical-align: top;\n",
       "    }\n",
       "\n",
       "    .dataframe thead th {\n",
       "        text-align: right;\n",
       "    }\n",
       "</style>\n",
       "<table border=\"1\" class=\"dataframe\">\n",
       "  <thead>\n",
       "    <tr style=\"text-align: right;\">\n",
       "      <th></th>\n",
       "      <th>as_assetnum</th>\n",
       "      <th>as__rowstamp</th>\n",
       "      <th>as_description</th>\n",
       "      <th>as_localref</th>\n",
       "      <th>as_href</th>\n",
       "    </tr>\n",
       "  </thead>\n",
       "  <tbody>\n",
       "    <tr>\n",
       "      <th>0</th>\n",
       "      <td>M004631</td>\n",
       "      <td>2417957427</td>\n",
       "      <td>6141WKS2305 - Wegkantsysteem (WKS)</td>\n",
       "      <td>https://maximo.tbi.nl/maxrest/oslc/os/snd_ptr/...</td>\n",
       "      <td>http://childkey#V09SS09SREVSL1dPQUNUSVZJVFkvQV...</td>\n",
       "    </tr>\n",
       "    <tr>\n",
       "      <th>1</th>\n",
       "      <td>M004631</td>\n",
       "      <td>2417957427</td>\n",
       "      <td>6141WKS2305 - Wegkantsysteem (WKS)</td>\n",
       "      <td>https://maximo.tbi.nl/maxrest/oslc/os/snd_ptr/...</td>\n",
       "      <td>http://childkey#V09SS09SREVSL1dPQUNUSVZJVFkvQV...</td>\n",
       "    </tr>\n",
       "    <tr>\n",
       "      <th>2</th>\n",
       "      <td>M004631</td>\n",
       "      <td>2417957427</td>\n",
       "      <td>6141WKS2305 - Wegkantsysteem (WKS)</td>\n",
       "      <td>https://maximo.tbi.nl/maxrest/oslc/os/snd_ptr/...</td>\n",
       "      <td>http://childkey#V09SS09SREVSL1dPQUNUSVZJVFkvQV...</td>\n",
       "    </tr>\n",
       "  </tbody>\n",
       "</table>\n",
       "</div>"
      ],
      "text/plain": [
       "  as_assetnum as__rowstamp                      as_description  \\\n",
       "0     M004631   2417957427  6141WKS2305 - Wegkantsysteem (WKS)   \n",
       "1     M004631   2417957427  6141WKS2305 - Wegkantsysteem (WKS)   \n",
       "2     M004631   2417957427  6141WKS2305 - Wegkantsysteem (WKS)   \n",
       "\n",
       "                                         as_localref  \\\n",
       "0  https://maximo.tbi.nl/maxrest/oslc/os/snd_ptr/...   \n",
       "1  https://maximo.tbi.nl/maxrest/oslc/os/snd_ptr/...   \n",
       "2  https://maximo.tbi.nl/maxrest/oslc/os/snd_ptr/...   \n",
       "\n",
       "                                             as_href  \n",
       "0  http://childkey#V09SS09SREVSL1dPQUNUSVZJVFkvQV...  \n",
       "1  http://childkey#V09SS09SREVSL1dPQUNUSVZJVFkvQV...  \n",
       "2  http://childkey#V09SS09SREVSL1dPQUNUSVZJVFkvQV...  "
      ]
     },
     "execution_count": 92,
     "metadata": {},
     "output_type": "execute_result"
    }
   ],
   "source": [
    "df_as = pd.DataFrame()\n",
    "\n",
    "for i in range(len(new_df)): # It's important to itarate over the range of the length of a DataFrame\n",
    "    row = new_df.iloc[i]\n",
    "\n",
    "    # Isolating the whole nested json in the column 'woactivity'\n",
    "    nested_json = row['woactivity']\n",
    "    try:\n",
    "      len_nested_json = len(nested_json)\n",
    "\n",
    "      # Iterating over every element in the nested json\n",
    "      for ii in range(len_nested_json):\n",
    "\n",
    "          # Try to read the data per element using json_normalize\n",
    "          try:\n",
    "            # Check if the element of the nested_json is an instance of a list\n",
    "            # When the element is not an instance of a list, a KeyError will be forced\n",
    "            if isinstance(nested_json[ii]['asset'], list): \n",
    "              json_data = pd.json_normalize(data=row['woactivity'][ii],\n",
    "                                            record_path='asset',\n",
    "                                            record_prefix='as_')\n",
    "\n",
    "          # We can assume that the data is missing whenever it can't be read\n",
    "          # In that case a row in which all cell have a value of '-1' will be assigned   \n",
    "          except KeyError as e:\n",
    "              n = -1\n",
    "              json_data = [{'as_assetnum': n, 'as__rowstamp': n, 'as_description': n, 'as_localref': n, 'as_href': n}]\n",
    "\n",
    "          # The final step of appending the row with the json data (or the filler row) to the DataFrame\n",
    "          finally:\n",
    "              df_as = df_as.append(json_data)\n",
    "    except:\n",
    "      # Skips workorders wothout any jobrows (like MAVA PM:64)\n",
    "      pass\n",
    "\n",
    "# print(json_data)\n",
    "\n",
    "# Printing the length of the DataFrame\n",
    "print(f'len df_as = {len(df_as)}')\n",
    "\n",
    "# Reindexing the DataFrame\n",
    "df_as = df_as.reset_index(drop=True)\n",
    "\n",
    "# Prints the column names and the first three rows of the DataFrame \n",
    "df_as.head(3)"
   ]
  },
  {
   "cell_type": "markdown",
   "metadata": {
    "id": "U71PMbrF4aY3"
   },
   "source": [
    "### 11.3 Create a new empty DataFrame: __df_jp__ for the nested column __new_df['jobplan']__, loop over the column with a _for loop_ and append the data to the DataFrame."
   ]
  },
  {
   "cell_type": "code",
   "execution_count": 93,
   "metadata": {
    "colab": {
     "base_uri": "https://localhost:8080/",
     "height": 186
    },
    "executionInfo": {
     "elapsed": 4405,
     "status": "ok",
     "timestamp": 1614250579935,
     "user": {
      "displayName": "Peter HM",
      "photoUrl": "https://lh3.googleusercontent.com/a-/AOh14GiJ1DrHzshc6KpNlZvZat7WMop7krMw-cxJzuN42w=s64",
      "userId": "15184792381857859425"
     },
     "user_tz": -60
    },
    "id": "gZhpogJbRA6N",
    "outputId": "5fea9754-601d-4f64-b180-c8f16764ec91"
   },
   "outputs": [
    {
     "name": "stdout",
     "output_type": "stream",
     "text": [
      "len df_jp = 444\n",
      "Counter({0: 414, 1: 30})\n"
     ]
    },
    {
     "data": {
      "text/html": [
       "<div>\n",
       "<style scoped>\n",
       "    .dataframe tbody tr th:only-of-type {\n",
       "        vertical-align: middle;\n",
       "    }\n",
       "\n",
       "    .dataframe tbody tr th {\n",
       "        vertical-align: top;\n",
       "    }\n",
       "\n",
       "    .dataframe thead th {\n",
       "        text-align: right;\n",
       "    }\n",
       "</style>\n",
       "<table border=\"1\" class=\"dataframe\">\n",
       "  <thead>\n",
       "    <tr style=\"text-align: right;\">\n",
       "      <th></th>\n",
       "      <th>jp_jpnum</th>\n",
       "      <th>jp__rowstamp</th>\n",
       "      <th>jp_orgid</th>\n",
       "      <th>jp_pluscrevnum</th>\n",
       "      <th>jp_localref</th>\n",
       "      <th>jp_href</th>\n",
       "    </tr>\n",
       "  </thead>\n",
       "  <tbody>\n",
       "    <tr>\n",
       "      <th>0</th>\n",
       "      <td>TP-I-61-41-02</td>\n",
       "      <td>2438254327</td>\n",
       "      <td>CROON</td>\n",
       "      <td>0</td>\n",
       "      <td>https://maximo.tbi.nl/maxrest/oslc/os/snd_ptr/...</td>\n",
       "      <td>http://childkey#V09SS09SREVSL1dPQUNUSVZJVFkvSk...</td>\n",
       "    </tr>\n",
       "    <tr>\n",
       "      <th>1</th>\n",
       "      <td>TP-I-61-41-02</td>\n",
       "      <td>2438254327</td>\n",
       "      <td>CROON</td>\n",
       "      <td>0</td>\n",
       "      <td>https://maximo.tbi.nl/maxrest/oslc/os/snd_ptr/...</td>\n",
       "      <td>http://childkey#V09SS09SREVSL1dPQUNUSVZJVFkvSk...</td>\n",
       "    </tr>\n",
       "    <tr>\n",
       "      <th>2</th>\n",
       "      <td>TP-I-61-41-02</td>\n",
       "      <td>2438254327</td>\n",
       "      <td>CROON</td>\n",
       "      <td>0</td>\n",
       "      <td>https://maximo.tbi.nl/maxrest/oslc/os/snd_ptr/...</td>\n",
       "      <td>http://childkey#V09SS09SREVSL1dPQUNUSVZJVFkvSk...</td>\n",
       "    </tr>\n",
       "  </tbody>\n",
       "</table>\n",
       "</div>"
      ],
      "text/plain": [
       "        jp_jpnum jp__rowstamp jp_orgid  jp_pluscrevnum  \\\n",
       "0  TP-I-61-41-02   2438254327    CROON               0   \n",
       "1  TP-I-61-41-02   2438254327    CROON               0   \n",
       "2  TP-I-61-41-02   2438254327    CROON               0   \n",
       "\n",
       "                                         jp_localref  \\\n",
       "0  https://maximo.tbi.nl/maxrest/oslc/os/snd_ptr/...   \n",
       "1  https://maximo.tbi.nl/maxrest/oslc/os/snd_ptr/...   \n",
       "2  https://maximo.tbi.nl/maxrest/oslc/os/snd_ptr/...   \n",
       "\n",
       "                                             jp_href  \n",
       "0  http://childkey#V09SS09SREVSL1dPQUNUSVZJVFkvSk...  \n",
       "1  http://childkey#V09SS09SREVSL1dPQUNUSVZJVFkvSk...  \n",
       "2  http://childkey#V09SS09SREVSL1dPQUNUSVZJVFkvSk...  "
      ]
     },
     "execution_count": 93,
     "metadata": {},
     "output_type": "execute_result"
    }
   ],
   "source": [
    "df_jp = pd.DataFrame()\n",
    "\n",
    "for i in range(len(new_df)): # It's important to itarate over the range of the length of a DataFrame\n",
    "    row = new_df.iloc[i]\n",
    "\n",
    "    # Isolating the whole nested json in the column 'woactivity'\n",
    "    nested_json = row['woactivity']\n",
    "    try:\n",
    "      len_nested_json = len(nested_json)\n",
    "\n",
    "      # Iterating over every element in the nested json\n",
    "      for ii in range(len_nested_json):\n",
    "\n",
    "          # Try to read the data per element using json_normalize\n",
    "          try:\n",
    "            # Check if the element of the nested_json is an instance of a list\n",
    "            # When the element is not an instance of a list, a KeyError will be forced\n",
    "            if isinstance(nested_json[ii]['jobplan'], list):\n",
    "              json_data = pd.json_normalize(data=row['woactivity'][ii],\n",
    "                                            record_path='jobplan',\n",
    "                                            record_prefix='jp_')\n",
    "\n",
    "          # We can assume that the data is missing whenever it can't be read\n",
    "          # In that case a row in which all cell have a value of '-1' will be assigned       \n",
    "          except:\n",
    "              n = -1\n",
    "              json_data = [{'jp_jpnum': n, 'jp__rowstamp': n, 'jp_orgid': n, 'jp_pluscrevnum': n, 'jp_localref': n, 'jp_href': n}]\n",
    "\n",
    "          # The final step of appending the row with the json data (or the filler row) to the DataFrame             \n",
    "          finally:\n",
    "              df_jp = df_jp.append(json_data)\n",
    "    except:\n",
    "      # Skips workorders wothout any jobrows (like MAVA PM:64)\n",
    "      pass\n",
    "      \n",
    "# print(json_data)\n",
    "\n",
    "# Printing the length of the DataFrame\n",
    "print(f'len df_jp = {len(df_jp)}')\n",
    "\n",
    "# Prints the number of different revisionnumbers (whenever there are multiple the script will fail)\n",
    "print(Counter(df_jp['jp_pluscrevnum']))\n",
    "\n",
    "# Reindexing the DataFrame\n",
    "df_jp = df_jp.reset_index(drop=True)\n",
    "\n",
    "# Prints the column names and the first three rows of the DataFrame \n",
    "df_jp.head(3)"
   ]
  },
  {
   "cell_type": "markdown",
   "metadata": {
    "id": "zfCzRoRQ1JLF"
   },
   "source": [
    "### 11.4 Run a query with Pandas function: `df.query()` to filter out all the double revisions. Save the result as a DataFrame: __df_jp2__."
   ]
  },
  {
   "cell_type": "code",
   "execution_count": 94,
   "metadata": {
    "colab": {
     "base_uri": "https://localhost:8080/",
     "height": 211
    },
    "executionInfo": {
     "elapsed": 4603,
     "status": "ok",
     "timestamp": 1614250580139,
     "user": {
      "displayName": "Peter HM",
      "photoUrl": "https://lh3.googleusercontent.com/a-/AOh14GiJ1DrHzshc6KpNlZvZat7WMop7krMw-cxJzuN42w=s64",
      "userId": "15184792381857859425"
     },
     "user_tz": -60
    },
    "id": "wBsf_dX21vc9",
    "outputId": "1e44efd9-7a15-4ab6-8c58-715d952786ae"
   },
   "outputs": [
    {
     "name": "stdout",
     "output_type": "stream",
     "text": [
      "Counter({0: 414})\n"
     ]
    },
    {
     "data": {
      "text/html": [
       "<div>\n",
       "<style scoped>\n",
       "    .dataframe tbody tr th:only-of-type {\n",
       "        vertical-align: middle;\n",
       "    }\n",
       "\n",
       "    .dataframe tbody tr th {\n",
       "        vertical-align: top;\n",
       "    }\n",
       "\n",
       "    .dataframe thead th {\n",
       "        text-align: right;\n",
       "    }\n",
       "</style>\n",
       "<table border=\"1\" class=\"dataframe\">\n",
       "  <thead>\n",
       "    <tr style=\"text-align: right;\">\n",
       "      <th></th>\n",
       "      <th>index</th>\n",
       "      <th>jp_jpnum</th>\n",
       "      <th>jp__rowstamp</th>\n",
       "      <th>jp_orgid</th>\n",
       "      <th>jp_pluscrevnum</th>\n",
       "      <th>jp_localref</th>\n",
       "      <th>jp_href</th>\n",
       "    </tr>\n",
       "  </thead>\n",
       "  <tbody>\n",
       "    <tr>\n",
       "      <th>0</th>\n",
       "      <td>0</td>\n",
       "      <td>TP-I-61-41-02</td>\n",
       "      <td>2438254327</td>\n",
       "      <td>CROON</td>\n",
       "      <td>0</td>\n",
       "      <td>https://maximo.tbi.nl/maxrest/oslc/os/snd_ptr/...</td>\n",
       "      <td>http://childkey#V09SS09SREVSL1dPQUNUSVZJVFkvSk...</td>\n",
       "    </tr>\n",
       "    <tr>\n",
       "      <th>1</th>\n",
       "      <td>1</td>\n",
       "      <td>TP-I-61-41-02</td>\n",
       "      <td>2438254327</td>\n",
       "      <td>CROON</td>\n",
       "      <td>0</td>\n",
       "      <td>https://maximo.tbi.nl/maxrest/oslc/os/snd_ptr/...</td>\n",
       "      <td>http://childkey#V09SS09SREVSL1dPQUNUSVZJVFkvSk...</td>\n",
       "    </tr>\n",
       "    <tr>\n",
       "      <th>2</th>\n",
       "      <td>2</td>\n",
       "      <td>TP-I-61-41-02</td>\n",
       "      <td>2438254327</td>\n",
       "      <td>CROON</td>\n",
       "      <td>0</td>\n",
       "      <td>https://maximo.tbi.nl/maxrest/oslc/os/snd_ptr/...</td>\n",
       "      <td>http://childkey#V09SS09SREVSL1dPQUNUSVZJVFkvSk...</td>\n",
       "    </tr>\n",
       "    <tr>\n",
       "      <th>3</th>\n",
       "      <td>3</td>\n",
       "      <td>TP-I-61-41-02</td>\n",
       "      <td>2438254327</td>\n",
       "      <td>CROON</td>\n",
       "      <td>0</td>\n",
       "      <td>https://maximo.tbi.nl/maxrest/oslc/os/snd_ptr/...</td>\n",
       "      <td>http://childkey#V09SS09SREVSL1dPQUNUSVZJVFkvSk...</td>\n",
       "    </tr>\n",
       "    <tr>\n",
       "      <th>4</th>\n",
       "      <td>4</td>\n",
       "      <td>TP-I-61-41-02</td>\n",
       "      <td>2438254327</td>\n",
       "      <td>CROON</td>\n",
       "      <td>0</td>\n",
       "      <td>https://maximo.tbi.nl/maxrest/oslc/os/snd_ptr/...</td>\n",
       "      <td>http://childkey#V09SS09SREVSL1dPQUNUSVZJVFkvSk...</td>\n",
       "    </tr>\n",
       "  </tbody>\n",
       "</table>\n",
       "</div>"
      ],
      "text/plain": [
       "   index       jp_jpnum jp__rowstamp jp_orgid  jp_pluscrevnum  \\\n",
       "0      0  TP-I-61-41-02   2438254327    CROON               0   \n",
       "1      1  TP-I-61-41-02   2438254327    CROON               0   \n",
       "2      2  TP-I-61-41-02   2438254327    CROON               0   \n",
       "3      3  TP-I-61-41-02   2438254327    CROON               0   \n",
       "4      4  TP-I-61-41-02   2438254327    CROON               0   \n",
       "\n",
       "                                         jp_localref  \\\n",
       "0  https://maximo.tbi.nl/maxrest/oslc/os/snd_ptr/...   \n",
       "1  https://maximo.tbi.nl/maxrest/oslc/os/snd_ptr/...   \n",
       "2  https://maximo.tbi.nl/maxrest/oslc/os/snd_ptr/...   \n",
       "3  https://maximo.tbi.nl/maxrest/oslc/os/snd_ptr/...   \n",
       "4  https://maximo.tbi.nl/maxrest/oslc/os/snd_ptr/...   \n",
       "\n",
       "                                             jp_href  \n",
       "0  http://childkey#V09SS09SREVSL1dPQUNUSVZJVFkvSk...  \n",
       "1  http://childkey#V09SS09SREVSL1dPQUNUSVZJVFkvSk...  \n",
       "2  http://childkey#V09SS09SREVSL1dPQUNUSVZJVFkvSk...  \n",
       "3  http://childkey#V09SS09SREVSL1dPQUNUSVZJVFkvSk...  \n",
       "4  http://childkey#V09SS09SREVSL1dPQUNUSVZJVFkvSk...  "
      ]
     },
     "execution_count": 94,
     "metadata": {},
     "output_type": "execute_result"
    }
   ],
   "source": [
    "df_jp2 = df_jp.query('jp_pluscrevnum == \"0\"')\n",
    "print(Counter(df_jp2['jp_pluscrevnum']))\n",
    "df_jp2.reset_index(inplace=True)\n",
    "df_jp2.head()"
   ]
  },
  {
   "cell_type": "markdown",
   "metadata": {
    "id": "jNbSsECR5CH7"
   },
   "source": [
    "### 11.5 Create a new empty DataFrame: __df_mu__ for the nested column __new_df['measureunit']__, loop over the column with a _for loop_ and append the data to the DataFrame."
   ]
  },
  {
   "cell_type": "code",
   "execution_count": 95,
   "metadata": {
    "colab": {
     "base_uri": "https://localhost:8080/",
     "height": 169
    },
    "executionInfo": {
     "elapsed": 4598,
     "status": "ok",
     "timestamp": 1614250580140,
     "user": {
      "displayName": "Peter HM",
      "photoUrl": "https://lh3.googleusercontent.com/a-/AOh14GiJ1DrHzshc6KpNlZvZat7WMop7krMw-cxJzuN42w=s64",
      "userId": "15184792381857859425"
     },
     "user_tz": -60
    },
    "id": "BeZFJGrpR6gd",
    "outputId": "7b2c2f1c-71ad-4384-8885-567feb20dddc"
   },
   "outputs": [
    {
     "name": "stdout",
     "output_type": "stream",
     "text": [
      "len df_mu = 414\n"
     ]
    },
    {
     "data": {
      "text/html": [
       "<div>\n",
       "<style scoped>\n",
       "    .dataframe tbody tr th:only-of-type {\n",
       "        vertical-align: middle;\n",
       "    }\n",
       "\n",
       "    .dataframe tbody tr th {\n",
       "        vertical-align: top;\n",
       "    }\n",
       "\n",
       "    .dataframe thead th {\n",
       "        text-align: right;\n",
       "    }\n",
       "</style>\n",
       "<table border=\"1\" class=\"dataframe\">\n",
       "  <thead>\n",
       "    <tr style=\"text-align: right;\">\n",
       "      <th></th>\n",
       "      <th>mu__rowstamp</th>\n",
       "      <th>mu_orgid</th>\n",
       "      <th>mu_measureunitid</th>\n",
       "      <th>mu_description</th>\n",
       "      <th>mu_localref</th>\n",
       "      <th>mu_abbreviation</th>\n",
       "      <th>mu_href</th>\n",
       "    </tr>\n",
       "  </thead>\n",
       "  <tbody>\n",
       "    <tr>\n",
       "      <th>0</th>\n",
       "      <td>-1</td>\n",
       "      <td>-1</td>\n",
       "      <td>-1</td>\n",
       "      <td>-1</td>\n",
       "      <td>-1</td>\n",
       "      <td>-1</td>\n",
       "      <td>-1</td>\n",
       "    </tr>\n",
       "    <tr>\n",
       "      <th>1</th>\n",
       "      <td>-1</td>\n",
       "      <td>-1</td>\n",
       "      <td>-1</td>\n",
       "      <td>-1</td>\n",
       "      <td>-1</td>\n",
       "      <td>-1</td>\n",
       "      <td>-1</td>\n",
       "    </tr>\n",
       "    <tr>\n",
       "      <th>2</th>\n",
       "      <td>-1</td>\n",
       "      <td>-1</td>\n",
       "      <td>-1</td>\n",
       "      <td>-1</td>\n",
       "      <td>-1</td>\n",
       "      <td>-1</td>\n",
       "      <td>-1</td>\n",
       "    </tr>\n",
       "  </tbody>\n",
       "</table>\n",
       "</div>"
      ],
      "text/plain": [
       "   mu__rowstamp  mu_orgid  mu_measureunitid  mu_description  mu_localref  \\\n",
       "0            -1        -1                -1              -1           -1   \n",
       "1            -1        -1                -1              -1           -1   \n",
       "2            -1        -1                -1              -1           -1   \n",
       "\n",
       "   mu_abbreviation  mu_href  \n",
       "0               -1       -1  \n",
       "1               -1       -1  \n",
       "2               -1       -1  "
      ]
     },
     "execution_count": 95,
     "metadata": {},
     "output_type": "execute_result"
    }
   ],
   "source": [
    "df_mu = pd.DataFrame()\n",
    "\n",
    "for i in range(len(new_df)): # It's important to itarate over the range of the length of a DataFrame\n",
    "    row = new_df.iloc[i]\n",
    "\n",
    "    # Isolating the whole nested json in the column 'woactivity'\n",
    "    nested_json = row['woactivity']\n",
    "    try:\n",
    "      len_nested_json = len(nested_json)\n",
    "\n",
    "      # Iterating over every element in the nested json\n",
    "      for ii in range(len_nested_json):\n",
    "\n",
    "          # Try to read the data per element using json_normalize\n",
    "          try:\n",
    "            # Check if the element of the nested_json is an instance of a list\n",
    "            # When the element is not an instance of a list, a KeyError will be forced\n",
    "              if isinstance(nested_json[ii]['measureunit'], list):\n",
    "                json_data = pd.json_normalize(data=row['woactivity'][ii],\n",
    "                                              record_path='measureunit',\n",
    "                                              record_prefix='mu_')\n",
    "              \n",
    "              else:\n",
    "                  pass\n",
    "          \n",
    "          # We can assume that the data is missing whenever it can't be read\n",
    "          # In that case a row in which all cell have a value of '-1' will be assigned \n",
    "          except:\n",
    "              n = -1\n",
    "              json_data = [{'mu__rowstamp': n, 'mu_orgid': n, 'mu_measureunitid': n, 'mu_description': n, 'mu_localref': n, 'mu_abbreviation': n, 'mu_href': n}]\n",
    "\n",
    "          # The final step of appending the row with the json data (or the filler row) to the DataFrame\n",
    "          finally:\n",
    "              df_mu = df_mu.append(json_data)\n",
    "    except:\n",
    "      # Skips workorders wothout any jobrows (like MAVA PM:64)\n",
    "      pass\n",
    "\n",
    "#print(json_data)\n",
    "\n",
    "# Printing the length of the DataFrame\n",
    "print(f'len df_mu = {len(df_mu)}')\n",
    "\n",
    "# Reindexing the DataFrame\n",
    "df_mu = df_mu.reset_index(drop=True)\n",
    "\n",
    "# Prints the column names and the first three rows of the DataFrame \n",
    "df_mu.head(3)"
   ]
  },
  {
   "cell_type": "markdown",
   "metadata": {
    "id": "Lm2GQdrjcOlo"
   },
   "source": [
    "### 11.6 Concat the DataFrames: __df_lc__, __df_as__, __df_jp2__, __df_mu__ with the Pandas function: `pd.concat()` to a new DataFrame: __result__."
   ]
  },
  {
   "cell_type": "code",
   "execution_count": 96,
   "metadata": {
    "colab": {
     "base_uri": "https://localhost:8080/",
     "height": 332
    },
    "executionInfo": {
     "elapsed": 4592,
     "status": "ok",
     "timestamp": 1614250580142,
     "user": {
      "displayName": "Peter HM",
      "photoUrl": "https://lh3.googleusercontent.com/a-/AOh14GiJ1DrHzshc6KpNlZvZat7WMop7krMw-cxJzuN42w=s64",
      "userId": "15184792381857859425"
     },
     "user_tz": -60
    },
    "id": "OsK4R1I_Wv3q",
    "outputId": "7be5cee5-726e-4ef3-fdc2-20b12d7b12c4"
   },
   "outputs": [
    {
     "name": "stdout",
     "output_type": "stream",
     "text": [
      "Length of DataFrame = 414\n"
     ]
    },
    {
     "data": {
      "text/html": [
       "<div>\n",
       "<style scoped>\n",
       "    .dataframe tbody tr th:only-of-type {\n",
       "        vertical-align: middle;\n",
       "    }\n",
       "\n",
       "    .dataframe tbody tr th {\n",
       "        vertical-align: top;\n",
       "    }\n",
       "\n",
       "    .dataframe thead th {\n",
       "        text-align: right;\n",
       "    }\n",
       "</style>\n",
       "<table border=\"1\" class=\"dataframe\">\n",
       "  <thead>\n",
       "    <tr style=\"text-align: right;\">\n",
       "      <th></th>\n",
       "      <th>lc__rowstamp</th>\n",
       "      <th>lc_location</th>\n",
       "      <th>lc_description</th>\n",
       "      <th>lc_localref</th>\n",
       "      <th>lc_gmbgebruimtenr</th>\n",
       "      <th>lc_href</th>\n",
       "      <th>wo_measurementvalue</th>\n",
       "      <th>wo_inspector</th>\n",
       "      <th>wo_measuredate</th>\n",
       "      <th>wo_taskid</th>\n",
       "      <th>...</th>\n",
       "      <th>jp_pluscrevnum</th>\n",
       "      <th>jp_localref</th>\n",
       "      <th>jp_href</th>\n",
       "      <th>mu__rowstamp</th>\n",
       "      <th>mu_orgid</th>\n",
       "      <th>mu_measureunitid</th>\n",
       "      <th>mu_description</th>\n",
       "      <th>mu_localref</th>\n",
       "      <th>mu_abbreviation</th>\n",
       "      <th>mu_href</th>\n",
       "    </tr>\n",
       "  </thead>\n",
       "  <tbody>\n",
       "    <tr>\n",
       "      <th>0</th>\n",
       "      <td>2516620245</td>\n",
       "      <td>3312</td>\n",
       "      <td>Sectie 3-RW A15 HRR 44,950-47,600</td>\n",
       "      <td>https://maximo.tbi.nl/maxrest/oslc/os/snd_ptr/...</td>\n",
       "      <td>3312</td>\n",
       "      <td>http://childkey#V09SS09SREVSL1dPQUNUSVZJVFkvTE...</td>\n",
       "      <td></td>\n",
       "      <td>DEFEITER_P</td>\n",
       "      <td>2018-05-14T10:46:06+02:00</td>\n",
       "      <td>10</td>\n",
       "      <td>...</td>\n",
       "      <td>0</td>\n",
       "      <td>https://maximo.tbi.nl/maxrest/oslc/os/snd_ptr/...</td>\n",
       "      <td>http://childkey#V09SS09SREVSL1dPQUNUSVZJVFkvSk...</td>\n",
       "      <td>-1</td>\n",
       "      <td>-1</td>\n",
       "      <td>-1</td>\n",
       "      <td>-1</td>\n",
       "      <td>-1</td>\n",
       "      <td>-1</td>\n",
       "      <td>-1</td>\n",
       "    </tr>\n",
       "    <tr>\n",
       "      <th>1</th>\n",
       "      <td>2516620245</td>\n",
       "      <td>3312</td>\n",
       "      <td>Sectie 3-RW A15 HRR 44,950-47,600</td>\n",
       "      <td>https://maximo.tbi.nl/maxrest/oslc/os/snd_ptr/...</td>\n",
       "      <td>3312</td>\n",
       "      <td>http://childkey#V09SS09SREVSL1dPQUNUSVZJVFkvTE...</td>\n",
       "      <td></td>\n",
       "      <td>DEFEITER_P</td>\n",
       "      <td>2018-05-14T10:46:09+02:00</td>\n",
       "      <td>20</td>\n",
       "      <td>...</td>\n",
       "      <td>0</td>\n",
       "      <td>https://maximo.tbi.nl/maxrest/oslc/os/snd_ptr/...</td>\n",
       "      <td>http://childkey#V09SS09SREVSL1dPQUNUSVZJVFkvSk...</td>\n",
       "      <td>-1</td>\n",
       "      <td>-1</td>\n",
       "      <td>-1</td>\n",
       "      <td>-1</td>\n",
       "      <td>-1</td>\n",
       "      <td>-1</td>\n",
       "      <td>-1</td>\n",
       "    </tr>\n",
       "    <tr>\n",
       "      <th>2</th>\n",
       "      <td>2516620245</td>\n",
       "      <td>3312</td>\n",
       "      <td>Sectie 3-RW A15 HRR 44,950-47,600</td>\n",
       "      <td>https://maximo.tbi.nl/maxrest/oslc/os/snd_ptr/...</td>\n",
       "      <td>3312</td>\n",
       "      <td>http://childkey#V09SS09SREVSL1dPQUNUSVZJVFkvTE...</td>\n",
       "      <td></td>\n",
       "      <td>DEFEITER_P</td>\n",
       "      <td>2018-05-14T10:46:20+02:00</td>\n",
       "      <td>30</td>\n",
       "      <td>...</td>\n",
       "      <td>0</td>\n",
       "      <td>https://maximo.tbi.nl/maxrest/oslc/os/snd_ptr/...</td>\n",
       "      <td>http://childkey#V09SS09SREVSL1dPQUNUSVZJVFkvSk...</td>\n",
       "      <td>-1</td>\n",
       "      <td>-1</td>\n",
       "      <td>-1</td>\n",
       "      <td>-1</td>\n",
       "      <td>-1</td>\n",
       "      <td>-1</td>\n",
       "      <td>-1</td>\n",
       "    </tr>\n",
       "  </tbody>\n",
       "</table>\n",
       "<p>3 rows × 33 columns</p>\n",
       "</div>"
      ],
      "text/plain": [
       "  lc__rowstamp lc_location                     lc_description  \\\n",
       "0   2516620245        3312  Sectie 3-RW A15 HRR 44,950-47,600   \n",
       "1   2516620245        3312  Sectie 3-RW A15 HRR 44,950-47,600   \n",
       "2   2516620245        3312  Sectie 3-RW A15 HRR 44,950-47,600   \n",
       "\n",
       "                                         lc_localref lc_gmbgebruimtenr  \\\n",
       "0  https://maximo.tbi.nl/maxrest/oslc/os/snd_ptr/...              3312   \n",
       "1  https://maximo.tbi.nl/maxrest/oslc/os/snd_ptr/...              3312   \n",
       "2  https://maximo.tbi.nl/maxrest/oslc/os/snd_ptr/...              3312   \n",
       "\n",
       "                                             lc_href wo_measurementvalue  \\\n",
       "0  http://childkey#V09SS09SREVSL1dPQUNUSVZJVFkvTE...                       \n",
       "1  http://childkey#V09SS09SREVSL1dPQUNUSVZJVFkvTE...                       \n",
       "2  http://childkey#V09SS09SREVSL1dPQUNUSVZJVFkvTE...                       \n",
       "\n",
       "  wo_inspector             wo_measuredate wo_taskid  ... jp_pluscrevnum  \\\n",
       "0   DEFEITER_P  2018-05-14T10:46:06+02:00        10  ...              0   \n",
       "1   DEFEITER_P  2018-05-14T10:46:09+02:00        20  ...              0   \n",
       "2   DEFEITER_P  2018-05-14T10:46:20+02:00        30  ...              0   \n",
       "\n",
       "                                         jp_localref  \\\n",
       "0  https://maximo.tbi.nl/maxrest/oslc/os/snd_ptr/...   \n",
       "1  https://maximo.tbi.nl/maxrest/oslc/os/snd_ptr/...   \n",
       "2  https://maximo.tbi.nl/maxrest/oslc/os/snd_ptr/...   \n",
       "\n",
       "                                             jp_href mu__rowstamp mu_orgid  \\\n",
       "0  http://childkey#V09SS09SREVSL1dPQUNUSVZJVFkvSk...           -1       -1   \n",
       "1  http://childkey#V09SS09SREVSL1dPQUNUSVZJVFkvSk...           -1       -1   \n",
       "2  http://childkey#V09SS09SREVSL1dPQUNUSVZJVFkvSk...           -1       -1   \n",
       "\n",
       "  mu_measureunitid mu_description mu_localref mu_abbreviation  mu_href  \n",
       "0               -1             -1          -1              -1       -1  \n",
       "1               -1             -1          -1              -1       -1  \n",
       "2               -1             -1          -1              -1       -1  \n",
       "\n",
       "[3 rows x 33 columns]"
      ]
     },
     "execution_count": 96,
     "metadata": {},
     "output_type": "execute_result"
    }
   ],
   "source": [
    "result = pd.DataFrame()\n",
    "\n",
    "result = pd.concat([df_lc, df_as, df_jp2, df_mu], axis=1)\n",
    "\n",
    "print(f\"Length of DataFrame = {len(result)}\")\n",
    "\n",
    "result.head(3)"
   ]
  },
  {
   "cell_type": "markdown",
   "metadata": {
    "id": "Ix-vVSl9NAI1"
   },
   "source": [
    "# 12. Clean and order the __result__ DataFrame so it has the desired outcome for the Excel file you want to create.\n",
    "___\n",
    "\n",
    "To do so for this specific dataset we will go through the following steps:\n",
    "* 12.1 Drop the uneccessary columns with the `df.drop()` function\n",
    "* 12.2 Rename the remaining columns with the `df.rename()` function so they are human readable\n",
    "* 12.3 Split the __result['Datum melding']__ column into 2 separate columns: __['Datum']__ and __['Tijdstip']__ and append them to the __result__ DataFrame.\n",
    "* 12.4 Order the columns the way you want to see in the Excel file\n",
    "* 12.5 Clean the remaining data and save the final DataFrame __result__\n",
    "\n",
    "\n",
    "After each step run the `df.head(3)` function to plot the first 3 results.\n",
    "\n",
    "___"
   ]
  },
  {
   "cell_type": "markdown",
   "metadata": {
    "id": "Lb7nDd-mSzHT"
   },
   "source": [
    "### 12.1 Use the Pandas `df.drop()` function to drop all the columns that you don't want to use in your __result__ DataFrame."
   ]
  },
  {
   "cell_type": "code",
   "execution_count": 97,
   "metadata": {
    "colab": {
     "base_uri": "https://localhost:8080/",
     "height": 313
    },
    "executionInfo": {
     "elapsed": 4793,
     "status": "ok",
     "timestamp": 1614250580350,
     "user": {
      "displayName": "Peter HM",
      "photoUrl": "https://lh3.googleusercontent.com/a-/AOh14GiJ1DrHzshc6KpNlZvZat7WMop7krMw-cxJzuN42w=s64",
      "userId": "15184792381857859425"
     },
     "user_tz": -60
    },
    "id": "rxrNaSxFNHzw",
    "outputId": "db0a3126-b924-49d4-d357-1607bf3d741a"
   },
   "outputs": [
    {
     "data": {
      "text/html": [
       "<div>\n",
       "<style scoped>\n",
       "    .dataframe tbody tr th:only-of-type {\n",
       "        vertical-align: middle;\n",
       "    }\n",
       "\n",
       "    .dataframe tbody tr th {\n",
       "        vertical-align: top;\n",
       "    }\n",
       "\n",
       "    .dataframe thead th {\n",
       "        text-align: right;\n",
       "    }\n",
       "</style>\n",
       "<table border=\"1\" class=\"dataframe\">\n",
       "  <thead>\n",
       "    <tr style=\"text-align: right;\">\n",
       "      <th></th>\n",
       "      <th>lc_description</th>\n",
       "      <th>lc_gmbgebruimtenr</th>\n",
       "      <th>wo_measurementvalue</th>\n",
       "      <th>wo_inspector</th>\n",
       "      <th>wo_measuredate</th>\n",
       "      <th>wo_taskid</th>\n",
       "      <th>wo_reportdate</th>\n",
       "      <th>wo_description</th>\n",
       "      <th>wo_gmbmemo</th>\n",
       "      <th>wo_observation</th>\n",
       "      <th>as_assetnum</th>\n",
       "      <th>as_description</th>\n",
       "      <th>index</th>\n",
       "      <th>jp_jpnum</th>\n",
       "      <th>mu_description</th>\n",
       "      <th>mu_abbreviation</th>\n",
       "    </tr>\n",
       "  </thead>\n",
       "  <tbody>\n",
       "    <tr>\n",
       "      <th>0</th>\n",
       "      <td>Sectie 3-RW A15 HRR 44,950-47,600</td>\n",
       "      <td>3312</td>\n",
       "      <td></td>\n",
       "      <td>DEFEITER_P</td>\n",
       "      <td>2018-05-14T10:46:06+02:00</td>\n",
       "      <td>10</td>\n",
       "      <td>2018-04-16T13:57:48+02:00</td>\n",
       "      <td>Inspecteer conditie slot</td>\n",
       "      <td></td>\n",
       "      <td>Goed</td>\n",
       "      <td>M004631</td>\n",
       "      <td>6141WKS2305 - Wegkantsysteem (WKS)</td>\n",
       "      <td>0</td>\n",
       "      <td>TP-I-61-41-02</td>\n",
       "      <td>-1</td>\n",
       "      <td>-1</td>\n",
       "    </tr>\n",
       "    <tr>\n",
       "      <th>1</th>\n",
       "      <td>Sectie 3-RW A15 HRR 44,950-47,600</td>\n",
       "      <td>3312</td>\n",
       "      <td></td>\n",
       "      <td>DEFEITER_P</td>\n",
       "      <td>2018-05-14T10:46:09+02:00</td>\n",
       "      <td>20</td>\n",
       "      <td>2018-04-16T13:57:48+02:00</td>\n",
       "      <td>Inspecteer conditie kast afdichting</td>\n",
       "      <td></td>\n",
       "      <td>Goed</td>\n",
       "      <td>M004631</td>\n",
       "      <td>6141WKS2305 - Wegkantsysteem (WKS)</td>\n",
       "      <td>1</td>\n",
       "      <td>TP-I-61-41-02</td>\n",
       "      <td>-1</td>\n",
       "      <td>-1</td>\n",
       "    </tr>\n",
       "    <tr>\n",
       "      <th>2</th>\n",
       "      <td>Sectie 3-RW A15 HRR 44,950-47,600</td>\n",
       "      <td>3312</td>\n",
       "      <td></td>\n",
       "      <td>DEFEITER_P</td>\n",
       "      <td>2018-05-14T10:46:20+02:00</td>\n",
       "      <td>30</td>\n",
       "      <td>2018-04-16T13:57:49+02:00</td>\n",
       "      <td>Inspecteer conditie kast</td>\n",
       "      <td></td>\n",
       "      <td>Goed</td>\n",
       "      <td>M004631</td>\n",
       "      <td>6141WKS2305 - Wegkantsysteem (WKS)</td>\n",
       "      <td>2</td>\n",
       "      <td>TP-I-61-41-02</td>\n",
       "      <td>-1</td>\n",
       "      <td>-1</td>\n",
       "    </tr>\n",
       "  </tbody>\n",
       "</table>\n",
       "</div>"
      ],
      "text/plain": [
       "                      lc_description lc_gmbgebruimtenr wo_measurementvalue  \\\n",
       "0  Sectie 3-RW A15 HRR 44,950-47,600              3312                       \n",
       "1  Sectie 3-RW A15 HRR 44,950-47,600              3312                       \n",
       "2  Sectie 3-RW A15 HRR 44,950-47,600              3312                       \n",
       "\n",
       "  wo_inspector             wo_measuredate wo_taskid  \\\n",
       "0   DEFEITER_P  2018-05-14T10:46:06+02:00        10   \n",
       "1   DEFEITER_P  2018-05-14T10:46:09+02:00        20   \n",
       "2   DEFEITER_P  2018-05-14T10:46:20+02:00        30   \n",
       "\n",
       "               wo_reportdate                       wo_description wo_gmbmemo  \\\n",
       "0  2018-04-16T13:57:48+02:00             Inspecteer conditie slot              \n",
       "1  2018-04-16T13:57:48+02:00  Inspecteer conditie kast afdichting              \n",
       "2  2018-04-16T13:57:49+02:00             Inspecteer conditie kast              \n",
       "\n",
       "  wo_observation as_assetnum                      as_description  index  \\\n",
       "0           Goed     M004631  6141WKS2305 - Wegkantsysteem (WKS)      0   \n",
       "1           Goed     M004631  6141WKS2305 - Wegkantsysteem (WKS)      1   \n",
       "2           Goed     M004631  6141WKS2305 - Wegkantsysteem (WKS)      2   \n",
       "\n",
       "        jp_jpnum  mu_description  mu_abbreviation  \n",
       "0  TP-I-61-41-02              -1               -1  \n",
       "1  TP-I-61-41-02              -1               -1  \n",
       "2  TP-I-61-41-02              -1               -1  "
      ]
     },
     "execution_count": 97,
     "metadata": {},
     "output_type": "execute_result"
    }
   ],
   "source": [
    "result = result.drop(columns=['lc__rowstamp', 'lc_location', 'lc_localref', 'lc_href',\n",
    "                              'as__rowstamp', 'as_localref', 'as_href', 'jp__rowstamp',\n",
    "                              'jp_orgid', 'jp_pluscrevnum', 'jp_localref', 'jp_href',\n",
    "                              'mu__rowstamp', 'mu_orgid', 'mu_measureunitid',\n",
    "                              'mu_localref', 'mu_href'])\n",
    "\n",
    "result.head(3)"
   ]
  },
  {
   "cell_type": "markdown",
   "metadata": {
    "id": "L7gxNz2zVLfk"
   },
   "source": [
    "### 12.2 Use the Pandas `df.rename()` function to rename the columns to the desired description."
   ]
  },
  {
   "cell_type": "code",
   "execution_count": 98,
   "metadata": {
    "colab": {
     "base_uri": "https://localhost:8080/",
     "height": 248
    },
    "executionInfo": {
     "elapsed": 4788,
     "status": "ok",
     "timestamp": 1614250580351,
     "user": {
      "displayName": "Peter HM",
      "photoUrl": "https://lh3.googleusercontent.com/a-/AOh14GiJ1DrHzshc6KpNlZvZat7WMop7krMw-cxJzuN42w=s64",
      "userId": "15184792381857859425"
     },
     "user_tz": -60
    },
    "id": "CG9KIjhhXLzB",
    "outputId": "60577a9b-e80d-458f-cd51-6c2044c89b0e"
   },
   "outputs": [
    {
     "data": {
      "text/html": [
       "<div>\n",
       "<style scoped>\n",
       "    .dataframe tbody tr th:only-of-type {\n",
       "        vertical-align: middle;\n",
       "    }\n",
       "\n",
       "    .dataframe tbody tr th {\n",
       "        vertical-align: top;\n",
       "    }\n",
       "\n",
       "    .dataframe thead th {\n",
       "        text-align: right;\n",
       "    }\n",
       "</style>\n",
       "<table border=\"1\" class=\"dataframe\">\n",
       "  <thead>\n",
       "    <tr style=\"text-align: right;\">\n",
       "      <th></th>\n",
       "      <th>Locatie</th>\n",
       "      <th>Ruimtenummer</th>\n",
       "      <th>Meetwaarde</th>\n",
       "      <th>Persoon</th>\n",
       "      <th>Datum meting</th>\n",
       "      <th>Taaknummer</th>\n",
       "      <th>Aanmaakdatum</th>\n",
       "      <th>Omschrijving</th>\n",
       "      <th>Memo</th>\n",
       "      <th>Observatie</th>\n",
       "      <th>Assetnummer</th>\n",
       "      <th>Asset</th>\n",
       "      <th>index</th>\n",
       "      <th>Taakplan</th>\n",
       "      <th>Grootheid</th>\n",
       "      <th>Eenheid</th>\n",
       "    </tr>\n",
       "  </thead>\n",
       "  <tbody>\n",
       "    <tr>\n",
       "      <th>0</th>\n",
       "      <td>Sectie 3-RW A15 HRR 44,950-47,600</td>\n",
       "      <td>3312</td>\n",
       "      <td></td>\n",
       "      <td>DEFEITER_P</td>\n",
       "      <td>2018-05-14T10:46:06+02:00</td>\n",
       "      <td>10</td>\n",
       "      <td>2018-04-16T13:57:48+02:00</td>\n",
       "      <td>Inspecteer conditie slot</td>\n",
       "      <td></td>\n",
       "      <td>Goed</td>\n",
       "      <td>M004631</td>\n",
       "      <td>6141WKS2305 - Wegkantsysteem (WKS)</td>\n",
       "      <td>0</td>\n",
       "      <td>TP-I-61-41-02</td>\n",
       "      <td>-1</td>\n",
       "      <td>-1</td>\n",
       "    </tr>\n",
       "    <tr>\n",
       "      <th>1</th>\n",
       "      <td>Sectie 3-RW A15 HRR 44,950-47,600</td>\n",
       "      <td>3312</td>\n",
       "      <td></td>\n",
       "      <td>DEFEITER_P</td>\n",
       "      <td>2018-05-14T10:46:09+02:00</td>\n",
       "      <td>20</td>\n",
       "      <td>2018-04-16T13:57:48+02:00</td>\n",
       "      <td>Inspecteer conditie kast afdichting</td>\n",
       "      <td></td>\n",
       "      <td>Goed</td>\n",
       "      <td>M004631</td>\n",
       "      <td>6141WKS2305 - Wegkantsysteem (WKS)</td>\n",
       "      <td>1</td>\n",
       "      <td>TP-I-61-41-02</td>\n",
       "      <td>-1</td>\n",
       "      <td>-1</td>\n",
       "    </tr>\n",
       "    <tr>\n",
       "      <th>2</th>\n",
       "      <td>Sectie 3-RW A15 HRR 44,950-47,600</td>\n",
       "      <td>3312</td>\n",
       "      <td></td>\n",
       "      <td>DEFEITER_P</td>\n",
       "      <td>2018-05-14T10:46:20+02:00</td>\n",
       "      <td>30</td>\n",
       "      <td>2018-04-16T13:57:49+02:00</td>\n",
       "      <td>Inspecteer conditie kast</td>\n",
       "      <td></td>\n",
       "      <td>Goed</td>\n",
       "      <td>M004631</td>\n",
       "      <td>6141WKS2305 - Wegkantsysteem (WKS)</td>\n",
       "      <td>2</td>\n",
       "      <td>TP-I-61-41-02</td>\n",
       "      <td>-1</td>\n",
       "      <td>-1</td>\n",
       "    </tr>\n",
       "  </tbody>\n",
       "</table>\n",
       "</div>"
      ],
      "text/plain": [
       "                             Locatie Ruimtenummer Meetwaarde     Persoon  \\\n",
       "0  Sectie 3-RW A15 HRR 44,950-47,600         3312             DEFEITER_P   \n",
       "1  Sectie 3-RW A15 HRR 44,950-47,600         3312             DEFEITER_P   \n",
       "2  Sectie 3-RW A15 HRR 44,950-47,600         3312             DEFEITER_P   \n",
       "\n",
       "                Datum meting Taaknummer               Aanmaakdatum  \\\n",
       "0  2018-05-14T10:46:06+02:00         10  2018-04-16T13:57:48+02:00   \n",
       "1  2018-05-14T10:46:09+02:00         20  2018-04-16T13:57:48+02:00   \n",
       "2  2018-05-14T10:46:20+02:00         30  2018-04-16T13:57:49+02:00   \n",
       "\n",
       "                          Omschrijving Memo Observatie Assetnummer  \\\n",
       "0             Inspecteer conditie slot            Goed     M004631   \n",
       "1  Inspecteer conditie kast afdichting            Goed     M004631   \n",
       "2             Inspecteer conditie kast            Goed     M004631   \n",
       "\n",
       "                                Asset  index       Taakplan  Grootheid  \\\n",
       "0  6141WKS2305 - Wegkantsysteem (WKS)      0  TP-I-61-41-02         -1   \n",
       "1  6141WKS2305 - Wegkantsysteem (WKS)      1  TP-I-61-41-02         -1   \n",
       "2  6141WKS2305 - Wegkantsysteem (WKS)      2  TP-I-61-41-02         -1   \n",
       "\n",
       "   Eenheid  \n",
       "0       -1  \n",
       "1       -1  \n",
       "2       -1  "
      ]
     },
     "execution_count": 98,
     "metadata": {},
     "output_type": "execute_result"
    }
   ],
   "source": [
    "col_names = {'lc_description': 'Locatie', 'lc_gmbgebruimtenr': 'Ruimtenummer',\n",
    "             'wo_measurementvalue': 'Meetwaarde', 'wo_inspector': 'Persoon',\n",
    "             'wo_measuredate': 'Datum meting', 'wo_taskid': 'Taaknummer',\n",
    "             'wo_reportdate': 'Aanmaakdatum', 'wo_gmbmemo': 'Memo',\n",
    "             'wo_description': 'Omschrijving', 'wo_observation': 'Observatie',\n",
    "             'as_assetnum': 'Assetnummer', 'as_description': 'Asset',\n",
    "             'jp_jpnum': 'Taakplan', 'mu_description': 'Grootheid',\n",
    "             'mu_abbreviation': 'Eenheid'}\n",
    "result.rename(columns=col_names, inplace=True)\n",
    "\n",
    "result.head(3)"
   ]
  },
  {
   "cell_type": "markdown",
   "metadata": {
    "id": "qut3RPHaW3NJ"
   },
   "source": [
    "### 12.3 Split the __result['Datum melding']__ column to 2 new columns: __Datum__ and __Tijdstip__ and append them to the DataFrame __final__.\n",
    "\n",
    " - For more information about remove chars in strings: https://stackoverflow.com/questions/15478127/remove-final-character-from-string\n",
    "\n",
    " - For more information about the split method: https://cmdlinetips.com/2018/11/how-to-split-a-text-column-in-pandas/#:~:text=split%20function%20to%20split%20the,Pandas%20Series%20object%20as%20output.\n"
   ]
  },
  {
   "cell_type": "code",
   "execution_count": 99,
   "metadata": {
    "colab": {
     "base_uri": "https://localhost:8080/",
     "height": 452
    },
    "executionInfo": {
     "elapsed": 4782,
     "status": "ok",
     "timestamp": 1614250580351,
     "user": {
      "displayName": "Peter HM",
      "photoUrl": "https://lh3.googleusercontent.com/a-/AOh14GiJ1DrHzshc6KpNlZvZat7WMop7krMw-cxJzuN42w=s64",
      "userId": "15184792381857859425"
     },
     "user_tz": -60
    },
    "id": "KNTQGP47W64y",
    "outputId": "42507bff-daa8-4e56-9cd8-29e5df6b5fc2"
   },
   "outputs": [
    {
     "name": "stdout",
     "output_type": "stream",
     "text": [
      "0    2018-05-14T10:46:06+02:00\n",
      "1    2018-05-14T10:46:09+02:00\n",
      "2    2018-05-14T10:46:20+02:00\n",
      "3    2018-05-14T10:46:33+02:00\n",
      "4    2018-05-14T10:46:49+02:00\n",
      "Name: Datum meting, dtype: object\n",
      "0    2018-05-14T10:46\n",
      "1    2018-05-14T10:46\n",
      "2    2018-05-14T10:46\n",
      "3    2018-05-14T10:46\n",
      "4    2018-05-14T10:46\n",
      "Name: Datum meting, dtype: object\n"
     ]
    },
    {
     "data": {
      "text/html": [
       "<div>\n",
       "<style scoped>\n",
       "    .dataframe tbody tr th:only-of-type {\n",
       "        vertical-align: middle;\n",
       "    }\n",
       "\n",
       "    .dataframe tbody tr th {\n",
       "        vertical-align: top;\n",
       "    }\n",
       "\n",
       "    .dataframe thead th {\n",
       "        text-align: right;\n",
       "    }\n",
       "</style>\n",
       "<table border=\"1\" class=\"dataframe\">\n",
       "  <thead>\n",
       "    <tr style=\"text-align: right;\">\n",
       "      <th></th>\n",
       "      <th>Locatie</th>\n",
       "      <th>Ruimtenummer</th>\n",
       "      <th>Meetwaarde</th>\n",
       "      <th>Persoon</th>\n",
       "      <th>Datum meting</th>\n",
       "      <th>Taaknummer</th>\n",
       "      <th>Aanmaakdatum</th>\n",
       "      <th>Omschrijving</th>\n",
       "      <th>Memo</th>\n",
       "      <th>Observatie</th>\n",
       "      <th>Assetnummer</th>\n",
       "      <th>Asset</th>\n",
       "      <th>index</th>\n",
       "      <th>Taakplan</th>\n",
       "      <th>Grootheid</th>\n",
       "      <th>Eenheid</th>\n",
       "      <th>Datum</th>\n",
       "      <th>Tijdstip</th>\n",
       "    </tr>\n",
       "  </thead>\n",
       "  <tbody>\n",
       "    <tr>\n",
       "      <th>0</th>\n",
       "      <td>Sectie 3-RW A15 HRR 44,950-47,600</td>\n",
       "      <td>3312</td>\n",
       "      <td></td>\n",
       "      <td>DEFEITER_P</td>\n",
       "      <td>2018-05-14T10:46</td>\n",
       "      <td>10</td>\n",
       "      <td>2018-04-16T13:57:48+02:00</td>\n",
       "      <td>Inspecteer conditie slot</td>\n",
       "      <td></td>\n",
       "      <td>Goed</td>\n",
       "      <td>M004631</td>\n",
       "      <td>6141WKS2305 - Wegkantsysteem (WKS)</td>\n",
       "      <td>0</td>\n",
       "      <td>TP-I-61-41-02</td>\n",
       "      <td>-1</td>\n",
       "      <td>-1</td>\n",
       "      <td>2018-05-14</td>\n",
       "      <td>10:46</td>\n",
       "    </tr>\n",
       "    <tr>\n",
       "      <th>1</th>\n",
       "      <td>Sectie 3-RW A15 HRR 44,950-47,600</td>\n",
       "      <td>3312</td>\n",
       "      <td></td>\n",
       "      <td>DEFEITER_P</td>\n",
       "      <td>2018-05-14T10:46</td>\n",
       "      <td>20</td>\n",
       "      <td>2018-04-16T13:57:48+02:00</td>\n",
       "      <td>Inspecteer conditie kast afdichting</td>\n",
       "      <td></td>\n",
       "      <td>Goed</td>\n",
       "      <td>M004631</td>\n",
       "      <td>6141WKS2305 - Wegkantsysteem (WKS)</td>\n",
       "      <td>1</td>\n",
       "      <td>TP-I-61-41-02</td>\n",
       "      <td>-1</td>\n",
       "      <td>-1</td>\n",
       "      <td>2018-05-14</td>\n",
       "      <td>10:46</td>\n",
       "    </tr>\n",
       "    <tr>\n",
       "      <th>2</th>\n",
       "      <td>Sectie 3-RW A15 HRR 44,950-47,600</td>\n",
       "      <td>3312</td>\n",
       "      <td></td>\n",
       "      <td>DEFEITER_P</td>\n",
       "      <td>2018-05-14T10:46</td>\n",
       "      <td>30</td>\n",
       "      <td>2018-04-16T13:57:49+02:00</td>\n",
       "      <td>Inspecteer conditie kast</td>\n",
       "      <td></td>\n",
       "      <td>Goed</td>\n",
       "      <td>M004631</td>\n",
       "      <td>6141WKS2305 - Wegkantsysteem (WKS)</td>\n",
       "      <td>2</td>\n",
       "      <td>TP-I-61-41-02</td>\n",
       "      <td>-1</td>\n",
       "      <td>-1</td>\n",
       "      <td>2018-05-14</td>\n",
       "      <td>10:46</td>\n",
       "    </tr>\n",
       "  </tbody>\n",
       "</table>\n",
       "</div>"
      ],
      "text/plain": [
       "                             Locatie Ruimtenummer Meetwaarde     Persoon  \\\n",
       "0  Sectie 3-RW A15 HRR 44,950-47,600         3312             DEFEITER_P   \n",
       "1  Sectie 3-RW A15 HRR 44,950-47,600         3312             DEFEITER_P   \n",
       "2  Sectie 3-RW A15 HRR 44,950-47,600         3312             DEFEITER_P   \n",
       "\n",
       "       Datum meting Taaknummer               Aanmaakdatum  \\\n",
       "0  2018-05-14T10:46         10  2018-04-16T13:57:48+02:00   \n",
       "1  2018-05-14T10:46         20  2018-04-16T13:57:48+02:00   \n",
       "2  2018-05-14T10:46         30  2018-04-16T13:57:49+02:00   \n",
       "\n",
       "                          Omschrijving Memo Observatie Assetnummer  \\\n",
       "0             Inspecteer conditie slot            Goed     M004631   \n",
       "1  Inspecteer conditie kast afdichting            Goed     M004631   \n",
       "2             Inspecteer conditie kast            Goed     M004631   \n",
       "\n",
       "                                Asset  index       Taakplan  Grootheid  \\\n",
       "0  6141WKS2305 - Wegkantsysteem (WKS)      0  TP-I-61-41-02         -1   \n",
       "1  6141WKS2305 - Wegkantsysteem (WKS)      1  TP-I-61-41-02         -1   \n",
       "2  6141WKS2305 - Wegkantsysteem (WKS)      2  TP-I-61-41-02         -1   \n",
       "\n",
       "   Eenheid       Datum Tijdstip  \n",
       "0       -1  2018-05-14    10:46  \n",
       "1       -1  2018-05-14    10:46  \n",
       "2       -1  2018-05-14    10:46  "
      ]
     },
     "execution_count": 99,
     "metadata": {},
     "output_type": "execute_result"
    }
   ],
   "source": [
    "dt = pd.Series(result['Datum meting']) # create a new Pandas Series to iterate over and modify the values\n",
    "# inside it with a for loop and replace method\n",
    "print(dt.head()) # print the head to see the original data from the DataFrame: data\n",
    "\n",
    "for value in dt :\n",
    "  try:\n",
    "    dt.replace(value, value[:16], inplace=True)# only keep the first 16 chars of the value in v\n",
    "  except:\n",
    "    pass\n",
    "              \n",
    "print(dt.head()) # print the head to see the modified data\n",
    "\n",
    "result[['Datum', 'Tijdstip']] = result['Datum meting'].str.split('T', expand=True) # define the new columns \n",
    "# in which you want to split the Datum melding values in. Then use the str.split method and define the\n",
    "# delimiter, in this case its the letter T in the value.\n",
    "\n",
    "result.head(3)"
   ]
  },
  {
   "cell_type": "markdown",
   "metadata": {
    "id": "Im3SyIJDXcCo"
   },
   "source": [
    "### 12.4 Use the Pandas `df.reindex()` function to reorder the columns to the desired order."
   ]
  },
  {
   "cell_type": "code",
   "execution_count": 100,
   "metadata": {
    "colab": {
     "base_uri": "https://localhost:8080/",
     "height": 200
    },
    "executionInfo": {
     "elapsed": 4778,
     "status": "ok",
     "timestamp": 1614250580352,
     "user": {
      "displayName": "Peter HM",
      "photoUrl": "https://lh3.googleusercontent.com/a-/AOh14GiJ1DrHzshc6KpNlZvZat7WMop7krMw-cxJzuN42w=s64",
      "userId": "15184792381857859425"
     },
     "user_tz": -60
    },
    "id": "VOmBrqTeXeRr",
    "outputId": "64e42f12-332a-4e29-c5b3-3cd87d1241e6"
   },
   "outputs": [
    {
     "data": {
      "text/html": [
       "<div>\n",
       "<style scoped>\n",
       "    .dataframe tbody tr th:only-of-type {\n",
       "        vertical-align: middle;\n",
       "    }\n",
       "\n",
       "    .dataframe tbody tr th {\n",
       "        vertical-align: top;\n",
       "    }\n",
       "\n",
       "    .dataframe thead th {\n",
       "        text-align: right;\n",
       "    }\n",
       "</style>\n",
       "<table border=\"1\" class=\"dataframe\">\n",
       "  <thead>\n",
       "    <tr style=\"text-align: right;\">\n",
       "      <th></th>\n",
       "      <th>Taakplan</th>\n",
       "      <th>Taaknummer</th>\n",
       "      <th>Omschrijving</th>\n",
       "      <th>Ruimtenummer</th>\n",
       "      <th>Assetnummer</th>\n",
       "      <th>Asset</th>\n",
       "      <th>Persoon</th>\n",
       "      <th>Datum</th>\n",
       "      <th>Tijdstip</th>\n",
       "      <th>Observatie</th>\n",
       "      <th>Meetwaarde</th>\n",
       "      <th>Eenheid</th>\n",
       "      <th>Grootheid</th>\n",
       "      <th>Memo</th>\n",
       "      <th>Aanmaakdatum</th>\n",
       "    </tr>\n",
       "  </thead>\n",
       "  <tbody>\n",
       "    <tr>\n",
       "      <th>0</th>\n",
       "      <td>TP-I-61-41-02</td>\n",
       "      <td>10</td>\n",
       "      <td>Inspecteer conditie slot</td>\n",
       "      <td>3312</td>\n",
       "      <td>M004631</td>\n",
       "      <td>6141WKS2305 - Wegkantsysteem (WKS)</td>\n",
       "      <td>DEFEITER_P</td>\n",
       "      <td>2018-05-14</td>\n",
       "      <td>10:46</td>\n",
       "      <td>Goed</td>\n",
       "      <td></td>\n",
       "      <td>-1</td>\n",
       "      <td>-1</td>\n",
       "      <td></td>\n",
       "      <td>2018-04-16T13:57:48+02:00</td>\n",
       "    </tr>\n",
       "    <tr>\n",
       "      <th>1</th>\n",
       "      <td>TP-I-61-41-02</td>\n",
       "      <td>20</td>\n",
       "      <td>Inspecteer conditie kast afdichting</td>\n",
       "      <td>3312</td>\n",
       "      <td>M004631</td>\n",
       "      <td>6141WKS2305 - Wegkantsysteem (WKS)</td>\n",
       "      <td>DEFEITER_P</td>\n",
       "      <td>2018-05-14</td>\n",
       "      <td>10:46</td>\n",
       "      <td>Goed</td>\n",
       "      <td></td>\n",
       "      <td>-1</td>\n",
       "      <td>-1</td>\n",
       "      <td></td>\n",
       "      <td>2018-04-16T13:57:48+02:00</td>\n",
       "    </tr>\n",
       "    <tr>\n",
       "      <th>2</th>\n",
       "      <td>TP-I-61-41-02</td>\n",
       "      <td>30</td>\n",
       "      <td>Inspecteer conditie kast</td>\n",
       "      <td>3312</td>\n",
       "      <td>M004631</td>\n",
       "      <td>6141WKS2305 - Wegkantsysteem (WKS)</td>\n",
       "      <td>DEFEITER_P</td>\n",
       "      <td>2018-05-14</td>\n",
       "      <td>10:46</td>\n",
       "      <td>Goed</td>\n",
       "      <td></td>\n",
       "      <td>-1</td>\n",
       "      <td>-1</td>\n",
       "      <td></td>\n",
       "      <td>2018-04-16T13:57:49+02:00</td>\n",
       "    </tr>\n",
       "  </tbody>\n",
       "</table>\n",
       "</div>"
      ],
      "text/plain": [
       "        Taakplan Taaknummer                         Omschrijving Ruimtenummer  \\\n",
       "0  TP-I-61-41-02         10             Inspecteer conditie slot         3312   \n",
       "1  TP-I-61-41-02         20  Inspecteer conditie kast afdichting         3312   \n",
       "2  TP-I-61-41-02         30             Inspecteer conditie kast         3312   \n",
       "\n",
       "  Assetnummer                               Asset     Persoon       Datum  \\\n",
       "0     M004631  6141WKS2305 - Wegkantsysteem (WKS)  DEFEITER_P  2018-05-14   \n",
       "1     M004631  6141WKS2305 - Wegkantsysteem (WKS)  DEFEITER_P  2018-05-14   \n",
       "2     M004631  6141WKS2305 - Wegkantsysteem (WKS)  DEFEITER_P  2018-05-14   \n",
       "\n",
       "  Tijdstip Observatie Meetwaarde  Eenheid  Grootheid Memo  \\\n",
       "0    10:46       Goed                  -1         -1        \n",
       "1    10:46       Goed                  -1         -1        \n",
       "2    10:46       Goed                  -1         -1        \n",
       "\n",
       "                Aanmaakdatum  \n",
       "0  2018-04-16T13:57:48+02:00  \n",
       "1  2018-04-16T13:57:48+02:00  \n",
       "2  2018-04-16T13:57:49+02:00  "
      ]
     },
     "execution_count": 100,
     "metadata": {},
     "output_type": "execute_result"
    }
   ],
   "source": [
    "col_order = ['Taakplan', 'Taaknummer', 'Omschrijving', 'Ruimtenummer', 'Assetnummer',\n",
    "             'Asset', 'Persoon', 'Datum', 'Tijdstip', 'Observatie', 'Meetwaarde',\n",
    "             'Eenheid', 'Grootheid', 'Memo', 'Aanmaakdatum']\n",
    "result = result.reindex(columns=col_order)\n",
    "\n",
    "result.head(3)"
   ]
  },
  {
   "cell_type": "markdown",
   "metadata": {
    "id": "x2BYHTqMd0I2"
   },
   "source": [
    "### 12.5 Execute the latest step in the cleaning proces and save the final dataset as DataFrame: __result__.\n",
    "\n",
    "Do a final check before genarating the Excel sheet, print the and explore the entire DataFrame by calling: `result`."
   ]
  },
  {
   "cell_type": "code",
   "execution_count": 101,
   "metadata": {
    "colab": {
     "base_uri": "https://localhost:8080/",
     "height": 1023
    },
    "executionInfo": {
     "elapsed": 4979,
     "status": "ok",
     "timestamp": 1614250580559,
     "user": {
      "displayName": "Peter HM",
      "photoUrl": "https://lh3.googleusercontent.com/a-/AOh14GiJ1DrHzshc6KpNlZvZat7WMop7krMw-cxJzuN42w=s64",
      "userId": "15184792381857859425"
     },
     "user_tz": -60
    },
    "id": "dBngWdLDd2pm",
    "outputId": "7d5a7af0-f9cb-4454-85f0-24f2c156b792"
   },
   "outputs": [
    {
     "data": {
      "text/html": [
       "<div>\n",
       "<style scoped>\n",
       "    .dataframe tbody tr th:only-of-type {\n",
       "        vertical-align: middle;\n",
       "    }\n",
       "\n",
       "    .dataframe tbody tr th {\n",
       "        vertical-align: top;\n",
       "    }\n",
       "\n",
       "    .dataframe thead th {\n",
       "        text-align: right;\n",
       "    }\n",
       "</style>\n",
       "<table border=\"1\" class=\"dataframe\">\n",
       "  <thead>\n",
       "    <tr style=\"text-align: right;\">\n",
       "      <th></th>\n",
       "      <th>Taakplan</th>\n",
       "      <th>Taaknummer</th>\n",
       "      <th>Omschrijving</th>\n",
       "      <th>Ruimtenummer</th>\n",
       "      <th>Assetnummer</th>\n",
       "      <th>Asset</th>\n",
       "      <th>Persoon</th>\n",
       "      <th>Datum</th>\n",
       "      <th>Tijdstip</th>\n",
       "      <th>Observatie</th>\n",
       "      <th>Meetwaarde</th>\n",
       "      <th>Eenheid</th>\n",
       "      <th>Grootheid</th>\n",
       "      <th>Memo</th>\n",
       "      <th>Aanmaakdatum</th>\n",
       "    </tr>\n",
       "  </thead>\n",
       "  <tbody>\n",
       "    <tr>\n",
       "      <th>0</th>\n",
       "      <td>TP-I-61-41-02</td>\n",
       "      <td>10</td>\n",
       "      <td>Inspecteer conditie slot</td>\n",
       "      <td>3312</td>\n",
       "      <td>M004631</td>\n",
       "      <td>6141WKS2305 - Wegkantsysteem (WKS)</td>\n",
       "      <td>DEFEITER_P</td>\n",
       "      <td>2018-05-14</td>\n",
       "      <td>10:46</td>\n",
       "      <td>Goed</td>\n",
       "      <td></td>\n",
       "      <td></td>\n",
       "      <td></td>\n",
       "      <td></td>\n",
       "      <td>2018-04-16T13:57:48+02:00</td>\n",
       "    </tr>\n",
       "    <tr>\n",
       "      <th>1</th>\n",
       "      <td>TP-I-61-41-02</td>\n",
       "      <td>20</td>\n",
       "      <td>Inspecteer conditie kast afdichting</td>\n",
       "      <td>3312</td>\n",
       "      <td>M004631</td>\n",
       "      <td>6141WKS2305 - Wegkantsysteem (WKS)</td>\n",
       "      <td>DEFEITER_P</td>\n",
       "      <td>2018-05-14</td>\n",
       "      <td>10:46</td>\n",
       "      <td>Goed</td>\n",
       "      <td></td>\n",
       "      <td></td>\n",
       "      <td></td>\n",
       "      <td></td>\n",
       "      <td>2018-04-16T13:57:48+02:00</td>\n",
       "    </tr>\n",
       "    <tr>\n",
       "      <th>2</th>\n",
       "      <td>TP-I-61-41-02</td>\n",
       "      <td>30</td>\n",
       "      <td>Inspecteer conditie kast</td>\n",
       "      <td>3312</td>\n",
       "      <td>M004631</td>\n",
       "      <td>6141WKS2305 - Wegkantsysteem (WKS)</td>\n",
       "      <td>DEFEITER_P</td>\n",
       "      <td>2018-05-14</td>\n",
       "      <td>10:46</td>\n",
       "      <td>Goed</td>\n",
       "      <td></td>\n",
       "      <td></td>\n",
       "      <td></td>\n",
       "      <td></td>\n",
       "      <td>2018-04-16T13:57:49+02:00</td>\n",
       "    </tr>\n",
       "    <tr>\n",
       "      <th>3</th>\n",
       "      <td>TP-I-61-41-02</td>\n",
       "      <td>40</td>\n",
       "      <td>Verwijder vuil buitenzijde kast</td>\n",
       "      <td>3312</td>\n",
       "      <td>M004631</td>\n",
       "      <td>6141WKS2305 - Wegkantsysteem (WKS)</td>\n",
       "      <td>DEFEITER_P</td>\n",
       "      <td>2018-05-14</td>\n",
       "      <td>10:46</td>\n",
       "      <td>Niet</td>\n",
       "      <td></td>\n",
       "      <td></td>\n",
       "      <td></td>\n",
       "      <td>Kast zag er schoon uit</td>\n",
       "      <td>2018-04-16T13:57:49+02:00</td>\n",
       "    </tr>\n",
       "    <tr>\n",
       "      <th>4</th>\n",
       "      <td>TP-I-61-41-02</td>\n",
       "      <td>50</td>\n",
       "      <td>Verwijder vuil binnenzijde kast indien zichtba...</td>\n",
       "      <td>3312</td>\n",
       "      <td>M004631</td>\n",
       "      <td>6141WKS2305 - Wegkantsysteem (WKS)</td>\n",
       "      <td>DEFEITER_P</td>\n",
       "      <td>2018-05-14</td>\n",
       "      <td>10:46</td>\n",
       "      <td>Uitgevoerd</td>\n",
       "      <td></td>\n",
       "      <td></td>\n",
       "      <td></td>\n",
       "      <td></td>\n",
       "      <td>2018-04-16T13:57:49+02:00</td>\n",
       "    </tr>\n",
       "    <tr>\n",
       "      <th>...</th>\n",
       "      <td>...</td>\n",
       "      <td>...</td>\n",
       "      <td>...</td>\n",
       "      <td>...</td>\n",
       "      <td>...</td>\n",
       "      <td>...</td>\n",
       "      <td>...</td>\n",
       "      <td>...</td>\n",
       "      <td>...</td>\n",
       "      <td>...</td>\n",
       "      <td>...</td>\n",
       "      <td>...</td>\n",
       "      <td>...</td>\n",
       "      <td>...</td>\n",
       "      <td>...</td>\n",
       "    </tr>\n",
       "    <tr>\n",
       "      <th>409</th>\n",
       "      <td>TP-I-61-41-02</td>\n",
       "      <td>100</td>\n",
       "      <td>Controleer dat LED's geen defect aangeven</td>\n",
       "      <td>3385</td>\n",
       "      <td>M004629</td>\n",
       "      <td>6141WKS2303 - Wegkantsysteem (WKS)</td>\n",
       "      <td>VOS_S</td>\n",
       "      <td>2020-07-02</td>\n",
       "      <td>09:17</td>\n",
       "      <td>Goed</td>\n",
       "      <td></td>\n",
       "      <td></td>\n",
       "      <td></td>\n",
       "      <td></td>\n",
       "      <td>2020-04-08T09:35:13+02:00</td>\n",
       "    </tr>\n",
       "    <tr>\n",
       "      <th>410</th>\n",
       "      <td>TP-I-61-41-02</td>\n",
       "      <td>110</td>\n",
       "      <td>Inspecteer status van UPS(en)</td>\n",
       "      <td>3385</td>\n",
       "      <td>M004629</td>\n",
       "      <td>6141WKS2303 - Wegkantsysteem (WKS)</td>\n",
       "      <td>VOS_S</td>\n",
       "      <td>2020-07-02</td>\n",
       "      <td>09:17</td>\n",
       "      <td>Goed</td>\n",
       "      <td></td>\n",
       "      <td></td>\n",
       "      <td></td>\n",
       "      <td></td>\n",
       "      <td>2020-04-08T09:35:13+02:00</td>\n",
       "    </tr>\n",
       "    <tr>\n",
       "      <th>411</th>\n",
       "      <td>TP-I-61-41-02</td>\n",
       "      <td>120</td>\n",
       "      <td>Operationele test UPS(en)</td>\n",
       "      <td>3385</td>\n",
       "      <td>M004629</td>\n",
       "      <td>6141WKS2303 - Wegkantsysteem (WKS)</td>\n",
       "      <td>VOS_S</td>\n",
       "      <td>2020-07-02</td>\n",
       "      <td>09:17</td>\n",
       "      <td>Goed</td>\n",
       "      <td></td>\n",
       "      <td></td>\n",
       "      <td></td>\n",
       "      <td></td>\n",
       "      <td>2020-04-08T09:35:14+02:00</td>\n",
       "    </tr>\n",
       "    <tr>\n",
       "      <th>412</th>\n",
       "      <td>TP-I-61-41-02</td>\n",
       "      <td>130</td>\n",
       "      <td>Operationele test kastverwarming</td>\n",
       "      <td>3385</td>\n",
       "      <td>M004629</td>\n",
       "      <td>6141WKS2303 - Wegkantsysteem (WKS)</td>\n",
       "      <td>VOS_S</td>\n",
       "      <td>2020-07-02</td>\n",
       "      <td>09:17</td>\n",
       "      <td>Goed</td>\n",
       "      <td></td>\n",
       "      <td></td>\n",
       "      <td></td>\n",
       "      <td></td>\n",
       "      <td>2020-04-08T09:35:14+02:00</td>\n",
       "    </tr>\n",
       "    <tr>\n",
       "      <th>413</th>\n",
       "      <td>TP-I-61-00-03</td>\n",
       "      <td>10</td>\n",
       "      <td>Inspecteer status muizenlokdoos</td>\n",
       "      <td>3385</td>\n",
       "      <td>M004629</td>\n",
       "      <td>6141WKS2303 - Wegkantsysteem (WKS)</td>\n",
       "      <td>VOS_S</td>\n",
       "      <td>2020-07-02</td>\n",
       "      <td>09:17</td>\n",
       "      <td>Goed</td>\n",
       "      <td></td>\n",
       "      <td></td>\n",
       "      <td></td>\n",
       "      <td></td>\n",
       "      <td>2020-04-08T09:35:21+02:00</td>\n",
       "    </tr>\n",
       "  </tbody>\n",
       "</table>\n",
       "<p>414 rows × 15 columns</p>\n",
       "</div>"
      ],
      "text/plain": [
       "          Taakplan  Taaknummer  \\\n",
       "0    TP-I-61-41-02          10   \n",
       "1    TP-I-61-41-02          20   \n",
       "2    TP-I-61-41-02          30   \n",
       "3    TP-I-61-41-02          40   \n",
       "4    TP-I-61-41-02          50   \n",
       "..             ...         ...   \n",
       "409  TP-I-61-41-02         100   \n",
       "410  TP-I-61-41-02         110   \n",
       "411  TP-I-61-41-02         120   \n",
       "412  TP-I-61-41-02         130   \n",
       "413  TP-I-61-00-03          10   \n",
       "\n",
       "                                          Omschrijving Ruimtenummer  \\\n",
       "0                             Inspecteer conditie slot         3312   \n",
       "1                  Inspecteer conditie kast afdichting         3312   \n",
       "2                             Inspecteer conditie kast         3312   \n",
       "3                      Verwijder vuil buitenzijde kast         3312   \n",
       "4    Verwijder vuil binnenzijde kast indien zichtba...         3312   \n",
       "..                                                 ...          ...   \n",
       "409          Controleer dat LED's geen defect aangeven         3385   \n",
       "410                      Inspecteer status van UPS(en)         3385   \n",
       "411                          Operationele test UPS(en)         3385   \n",
       "412                   Operationele test kastverwarming         3385   \n",
       "413                    Inspecteer status muizenlokdoos         3385   \n",
       "\n",
       "    Assetnummer                               Asset     Persoon       Datum  \\\n",
       "0       M004631  6141WKS2305 - Wegkantsysteem (WKS)  DEFEITER_P  2018-05-14   \n",
       "1       M004631  6141WKS2305 - Wegkantsysteem (WKS)  DEFEITER_P  2018-05-14   \n",
       "2       M004631  6141WKS2305 - Wegkantsysteem (WKS)  DEFEITER_P  2018-05-14   \n",
       "3       M004631  6141WKS2305 - Wegkantsysteem (WKS)  DEFEITER_P  2018-05-14   \n",
       "4       M004631  6141WKS2305 - Wegkantsysteem (WKS)  DEFEITER_P  2018-05-14   \n",
       "..          ...                                 ...         ...         ...   \n",
       "409     M004629  6141WKS2303 - Wegkantsysteem (WKS)       VOS_S  2020-07-02   \n",
       "410     M004629  6141WKS2303 - Wegkantsysteem (WKS)       VOS_S  2020-07-02   \n",
       "411     M004629  6141WKS2303 - Wegkantsysteem (WKS)       VOS_S  2020-07-02   \n",
       "412     M004629  6141WKS2303 - Wegkantsysteem (WKS)       VOS_S  2020-07-02   \n",
       "413     M004629  6141WKS2303 - Wegkantsysteem (WKS)       VOS_S  2020-07-02   \n",
       "\n",
       "    Tijdstip  Observatie Meetwaarde Eenheid Grootheid                    Memo  \\\n",
       "0      10:46        Goed                                                        \n",
       "1      10:46        Goed                                                        \n",
       "2      10:46        Goed                                                        \n",
       "3      10:46        Niet                               Kast zag er schoon uit   \n",
       "4      10:46  Uitgevoerd                                                        \n",
       "..       ...         ...        ...     ...       ...                     ...   \n",
       "409    09:17        Goed                                                        \n",
       "410    09:17        Goed                                                        \n",
       "411    09:17        Goed                                                        \n",
       "412    09:17        Goed                                                        \n",
       "413    09:17        Goed                                                        \n",
       "\n",
       "                  Aanmaakdatum  \n",
       "0    2018-04-16T13:57:48+02:00  \n",
       "1    2018-04-16T13:57:48+02:00  \n",
       "2    2018-04-16T13:57:49+02:00  \n",
       "3    2018-04-16T13:57:49+02:00  \n",
       "4    2018-04-16T13:57:49+02:00  \n",
       "..                         ...  \n",
       "409  2020-04-08T09:35:13+02:00  \n",
       "410  2020-04-08T09:35:13+02:00  \n",
       "411  2020-04-08T09:35:14+02:00  \n",
       "412  2020-04-08T09:35:14+02:00  \n",
       "413  2020-04-08T09:35:21+02:00  \n",
       "\n",
       "[414 rows x 15 columns]"
      ]
     },
     "execution_count": 101,
     "metadata": {},
     "output_type": "execute_result"
    }
   ],
   "source": [
    "result.replace(to_replace=int(-1), value='', inplace=True)\n",
    "result"
   ]
  },
  {
   "cell_type": "markdown",
   "metadata": {
    "id": "eS2TcVBnpjbX"
   },
   "source": [
    "# 13. Based on __result['Aanmaakdatum']__ and __result['reportdate']__ calculate the hours spend per Workorder.\n"
   ]
  },
  {
   "cell_type": "markdown",
   "metadata": {
    "id": "oIno96UI62fn"
   },
   "source": [
    "### 13.1 Change the datatype of the __result['Aanmaakdatum']__ to DateTime format with parameter `utc=True`."
   ]
  },
  {
   "cell_type": "code",
   "execution_count": 102,
   "metadata": {
    "colab": {
     "base_uri": "https://localhost:8080/"
    },
    "executionInfo": {
     "elapsed": 4974,
     "status": "ok",
     "timestamp": 1614250580560,
     "user": {
      "displayName": "Peter HM",
      "photoUrl": "https://lh3.googleusercontent.com/a-/AOh14GiJ1DrHzshc6KpNlZvZat7WMop7krMw-cxJzuN42w=s64",
      "userId": "15184792381857859425"
     },
     "user_tz": -60
    },
    "id": "XiIJHFSeZcEo",
    "outputId": "c1da38d4-f493-4eaa-909d-ac4eb6a7e373"
   },
   "outputs": [
    {
     "data": {
      "text/plain": [
       "0   2018-04-16 11:57:48+00:00\n",
       "Name: Aanmaakdatum, dtype: datetime64[ns, UTC]"
      ]
     },
     "execution_count": 102,
     "metadata": {},
     "output_type": "execute_result"
    }
   ],
   "source": [
    "result[['Aanmaakdatum']] = result[['Aanmaakdatum']].apply(pd.to_datetime, utc=True)\n",
    "result['Aanmaakdatum'].head(1)"
   ]
  },
  {
   "cell_type": "markdown",
   "metadata": {
    "id": "aEN6TxEh64Yz"
   },
   "source": [
    "### 13.2 Change the datatype of the __result['reportdate']__ to DateTime format with parameter `utc=True`."
   ]
  },
  {
   "cell_type": "code",
   "execution_count": 103,
   "metadata": {
    "colab": {
     "base_uri": "https://localhost:8080/"
    },
    "executionInfo": {
     "elapsed": 4969,
     "status": "ok",
     "timestamp": 1614250580560,
     "user": {
      "displayName": "Peter HM",
      "photoUrl": "https://lh3.googleusercontent.com/a-/AOh14GiJ1DrHzshc6KpNlZvZat7WMop7krMw-cxJzuN42w=s64",
      "userId": "15184792381857859425"
     },
     "user_tz": -60
    },
    "id": "k1mw1Wy0a7mG",
    "outputId": "8cf14782-dfc4-44b6-d921-a310bfe2e121"
   },
   "outputs": [
    {
     "name": "stderr",
     "output_type": "stream",
     "text": [
      "/jet/var/python/lib/python3.6/site-packages/pandas/core/frame.py:3069: SettingWithCopyWarning: \n",
      "A value is trying to be set on a copy of a slice from a DataFrame.\n",
      "Try using .loc[row_indexer,col_indexer] = value instead\n",
      "\n",
      "See the caveats in the documentation: https://pandas.pydata.org/pandas-docs/stable/user_guide/indexing.html#returning-a-view-versus-a-copy\n",
      "  self[k1] = value[k2]\n"
     ]
    },
    {
     "data": {
      "text/plain": [
       "0   2018-04-16 11:57:47+00:00\n",
       "Name: reportdate, dtype: datetime64[ns, UTC]"
      ]
     },
     "execution_count": 103,
     "metadata": {},
     "output_type": "execute_result"
    }
   ],
   "source": [
    "df_wo[['reportdate']] = df_wo[['reportdate']].apply(pd.to_datetime, utc=True)\n",
    "df_wo['reportdate'].head(1)"
   ]
  },
  {
   "cell_type": "markdown",
   "metadata": {
    "id": "hjJsE0bY66Ka"
   },
   "source": [
    "### 13.3 Sort the __result_sorted__ DataFrame with parameters `ascending=True` and `ignore_index=True`."
   ]
  },
  {
   "cell_type": "code",
   "execution_count": 104,
   "metadata": {
    "colab": {
     "base_uri": "https://localhost:8080/",
     "height": 180
    },
    "executionInfo": {
     "elapsed": 4965,
     "status": "ok",
     "timestamp": 1614250580561,
     "user": {
      "displayName": "Peter HM",
      "photoUrl": "https://lh3.googleusercontent.com/a-/AOh14GiJ1DrHzshc6KpNlZvZat7WMop7krMw-cxJzuN42w=s64",
      "userId": "15184792381857859425"
     },
     "user_tz": -60
    },
    "id": "dk-v7Hyxgpbb",
    "outputId": "820333cb-65a7-4e14-ea0a-71ee0489e3fa"
   },
   "outputs": [
    {
     "name": "stdout",
     "output_type": "stream",
     "text": [
      "len df_mu = 414\n"
     ]
    },
    {
     "data": {
      "text/html": [
       "<div>\n",
       "<style scoped>\n",
       "    .dataframe tbody tr th:only-of-type {\n",
       "        vertical-align: middle;\n",
       "    }\n",
       "\n",
       "    .dataframe tbody tr th {\n",
       "        vertical-align: top;\n",
       "    }\n",
       "\n",
       "    .dataframe thead th {\n",
       "        text-align: right;\n",
       "    }\n",
       "</style>\n",
       "<table border=\"1\" class=\"dataframe\">\n",
       "  <thead>\n",
       "    <tr style=\"text-align: right;\">\n",
       "      <th></th>\n",
       "      <th>Taakplan</th>\n",
       "      <th>Taaknummer</th>\n",
       "      <th>Omschrijving</th>\n",
       "      <th>Ruimtenummer</th>\n",
       "      <th>Assetnummer</th>\n",
       "      <th>Asset</th>\n",
       "      <th>Persoon</th>\n",
       "      <th>Datum</th>\n",
       "      <th>Tijdstip</th>\n",
       "      <th>Observatie</th>\n",
       "      <th>Meetwaarde</th>\n",
       "      <th>Eenheid</th>\n",
       "      <th>Grootheid</th>\n",
       "      <th>Memo</th>\n",
       "      <th>Aanmaakdatum</th>\n",
       "    </tr>\n",
       "  </thead>\n",
       "  <tbody>\n",
       "    <tr>\n",
       "      <th>0</th>\n",
       "      <td>TP-I-61-41-02</td>\n",
       "      <td>10</td>\n",
       "      <td>Inspecteer conditie slot</td>\n",
       "      <td>3312</td>\n",
       "      <td>M004631</td>\n",
       "      <td>6141WKS2305 - Wegkantsysteem (WKS)</td>\n",
       "      <td>DEFEITER_P</td>\n",
       "      <td>2018-05-14</td>\n",
       "      <td>10:46</td>\n",
       "      <td>Goed</td>\n",
       "      <td></td>\n",
       "      <td></td>\n",
       "      <td></td>\n",
       "      <td></td>\n",
       "      <td>2018-04-16 11:57:48+00:00</td>\n",
       "    </tr>\n",
       "    <tr>\n",
       "      <th>1</th>\n",
       "      <td>TP-I-61-41-02</td>\n",
       "      <td>20</td>\n",
       "      <td>Inspecteer conditie kast afdichting</td>\n",
       "      <td>3312</td>\n",
       "      <td>M004631</td>\n",
       "      <td>6141WKS2305 - Wegkantsysteem (WKS)</td>\n",
       "      <td>DEFEITER_P</td>\n",
       "      <td>2018-05-14</td>\n",
       "      <td>10:46</td>\n",
       "      <td>Goed</td>\n",
       "      <td></td>\n",
       "      <td></td>\n",
       "      <td></td>\n",
       "      <td></td>\n",
       "      <td>2018-04-16 11:57:48+00:00</td>\n",
       "    </tr>\n",
       "  </tbody>\n",
       "</table>\n",
       "</div>"
      ],
      "text/plain": [
       "        Taakplan  Taaknummer                         Omschrijving  \\\n",
       "0  TP-I-61-41-02          10             Inspecteer conditie slot   \n",
       "1  TP-I-61-41-02          20  Inspecteer conditie kast afdichting   \n",
       "\n",
       "  Ruimtenummer Assetnummer                               Asset     Persoon  \\\n",
       "0         3312     M004631  6141WKS2305 - Wegkantsysteem (WKS)  DEFEITER_P   \n",
       "1         3312     M004631  6141WKS2305 - Wegkantsysteem (WKS)  DEFEITER_P   \n",
       "\n",
       "        Datum Tijdstip Observatie Meetwaarde Eenheid Grootheid Memo  \\\n",
       "0  2018-05-14    10:46       Goed                                     \n",
       "1  2018-05-14    10:46       Goed                                     \n",
       "\n",
       "               Aanmaakdatum  \n",
       "0 2018-04-16 11:57:48+00:00  \n",
       "1 2018-04-16 11:57:48+00:00  "
      ]
     },
     "execution_count": 104,
     "metadata": {},
     "output_type": "execute_result"
    }
   ],
   "source": [
    " result_sorted = result.sort_values(['Aanmaakdatum', 'Taaknummer'],\n",
    "                                    ascending=True,\n",
    "                                    ignore_index=True)\n",
    " \n",
    "print(f'len df_mu = {len(result_sorted)}')\n",
    "result_sorted.head(2)"
   ]
  },
  {
   "cell_type": "markdown",
   "metadata": {
    "id": "S3BX4uLZ69NO"
   },
   "source": [
    "### 13.4 Sort the __df_wo_sorted__ DataFrame with parameters `ascending=True` and `ignore_index=True`."
   ]
  },
  {
   "cell_type": "code",
   "execution_count": 105,
   "metadata": {
    "colab": {
     "base_uri": "https://localhost:8080/",
     "height": 148
    },
    "executionInfo": {
     "elapsed": 4960,
     "status": "ok",
     "timestamp": 1614250580561,
     "user": {
      "displayName": "Peter HM",
      "photoUrl": "https://lh3.googleusercontent.com/a-/AOh14GiJ1DrHzshc6KpNlZvZat7WMop7krMw-cxJzuN42w=s64",
      "userId": "15184792381857859425"
     },
     "user_tz": -60
    },
    "id": "B02_cHoHknWv",
    "outputId": "34442c99-be82-4837-ce89-2f8be1dd3835"
   },
   "outputs": [
    {
     "name": "stdout",
     "output_type": "stream",
     "text": [
      "len df_mu = 3\n"
     ]
    },
    {
     "data": {
      "text/html": [
       "<div>\n",
       "<style scoped>\n",
       "    .dataframe tbody tr th:only-of-type {\n",
       "        vertical-align: middle;\n",
       "    }\n",
       "\n",
       "    .dataframe tbody tr th {\n",
       "        vertical-align: top;\n",
       "    }\n",
       "\n",
       "    .dataframe thead th {\n",
       "        text-align: right;\n",
       "    }\n",
       "</style>\n",
       "<table border=\"1\" class=\"dataframe\">\n",
       "  <thead>\n",
       "    <tr style=\"text-align: right;\">\n",
       "      <th></th>\n",
       "      <th>wonum</th>\n",
       "      <th>reportdate</th>\n",
       "      <th>actstart</th>\n",
       "      <th>actfinish</th>\n",
       "    </tr>\n",
       "  </thead>\n",
       "  <tbody>\n",
       "    <tr>\n",
       "      <th>0</th>\n",
       "      <td>1242609</td>\n",
       "      <td>2018-04-16 11:57:47+00:00</td>\n",
       "      <td></td>\n",
       "      <td>2018-05-14T11:51:00+02:00</td>\n",
       "    </tr>\n",
       "    <tr>\n",
       "      <th>1</th>\n",
       "      <td>1411158</td>\n",
       "      <td>2019-05-09 11:22:57+00:00</td>\n",
       "      <td>2019-05-27T10:00:00+02:00</td>\n",
       "      <td>2019-05-27T15:00:00+02:00</td>\n",
       "    </tr>\n",
       "  </tbody>\n",
       "</table>\n",
       "</div>"
      ],
      "text/plain": [
       "     wonum                reportdate                   actstart  \\\n",
       "0  1242609 2018-04-16 11:57:47+00:00                              \n",
       "1  1411158 2019-05-09 11:22:57+00:00  2019-05-27T10:00:00+02:00   \n",
       "\n",
       "                   actfinish  \n",
       "0  2018-05-14T11:51:00+02:00  \n",
       "1  2019-05-27T15:00:00+02:00  "
      ]
     },
     "execution_count": 105,
     "metadata": {},
     "output_type": "execute_result"
    }
   ],
   "source": [
    "df_wo_sorted = df_wo.sort_values('reportdate',\n",
    "                                       ascending=True)\n",
    "\n",
    "print(f'len df_mu = {len(df_wo_sorted)}')\n",
    "df_wo_sorted.head(2)"
   ]
  },
  {
   "cell_type": "markdown",
   "metadata": {
    "id": "4UaQDcpr6_Lf"
   },
   "source": [
    "### 13.5 Merge the Dataframes __result_sorted__ and __df_wo_sorted__, drop the unnecessary columns and print the result."
   ]
  },
  {
   "cell_type": "code",
   "execution_count": 106,
   "metadata": {
    "colab": {
     "base_uri": "https://localhost:8080/",
     "height": 1056
    },
    "executionInfo": {
     "elapsed": 5250,
     "status": "ok",
     "timestamp": 1614250580857,
     "user": {
      "displayName": "Peter HM",
      "photoUrl": "https://lh3.googleusercontent.com/a-/AOh14GiJ1DrHzshc6KpNlZvZat7WMop7krMw-cxJzuN42w=s64",
      "userId": "15184792381857859425"
     },
     "user_tz": -60
    },
    "id": "glUw3jmZcIjV",
    "outputId": "e2cc74f6-7d80-4057-c5cb-3009f6ef969e"
   },
   "outputs": [
    {
     "name": "stdout",
     "output_type": "stream",
     "text": [
      "len df_mu = 414\n"
     ]
    },
    {
     "data": {
      "text/html": [
       "<div>\n",
       "<style scoped>\n",
       "    .dataframe tbody tr th:only-of-type {\n",
       "        vertical-align: middle;\n",
       "    }\n",
       "\n",
       "    .dataframe tbody tr th {\n",
       "        vertical-align: top;\n",
       "    }\n",
       "\n",
       "    .dataframe thead th {\n",
       "        text-align: right;\n",
       "    }\n",
       "</style>\n",
       "<table border=\"1\" class=\"dataframe\">\n",
       "  <thead>\n",
       "    <tr style=\"text-align: right;\">\n",
       "      <th></th>\n",
       "      <th>Taakplan</th>\n",
       "      <th>Taaknummer</th>\n",
       "      <th>Omschrijving</th>\n",
       "      <th>Ruimtenummer</th>\n",
       "      <th>Assetnummer</th>\n",
       "      <th>Asset</th>\n",
       "      <th>Persoon</th>\n",
       "      <th>Datum</th>\n",
       "      <th>Tijdstip</th>\n",
       "      <th>Observatie</th>\n",
       "      <th>Meetwaarde</th>\n",
       "      <th>Eenheid</th>\n",
       "      <th>Grootheid</th>\n",
       "      <th>Memo</th>\n",
       "      <th>wonum</th>\n",
       "      <th>actstart</th>\n",
       "      <th>actfinish</th>\n",
       "    </tr>\n",
       "  </thead>\n",
       "  <tbody>\n",
       "    <tr>\n",
       "      <th>0</th>\n",
       "      <td>TP-I-61-41-02</td>\n",
       "      <td>10</td>\n",
       "      <td>Inspecteer conditie slot</td>\n",
       "      <td>3312</td>\n",
       "      <td>M004631</td>\n",
       "      <td>6141WKS2305 - Wegkantsysteem (WKS)</td>\n",
       "      <td>DEFEITER_P</td>\n",
       "      <td>2018-05-14</td>\n",
       "      <td>10:46</td>\n",
       "      <td>Goed</td>\n",
       "      <td></td>\n",
       "      <td></td>\n",
       "      <td></td>\n",
       "      <td></td>\n",
       "      <td>1242609</td>\n",
       "      <td></td>\n",
       "      <td>2018-05-14T11:51:00+02:00</td>\n",
       "    </tr>\n",
       "    <tr>\n",
       "      <th>1</th>\n",
       "      <td>TP-I-61-41-02</td>\n",
       "      <td>20</td>\n",
       "      <td>Inspecteer conditie kast afdichting</td>\n",
       "      <td>3312</td>\n",
       "      <td>M004631</td>\n",
       "      <td>6141WKS2305 - Wegkantsysteem (WKS)</td>\n",
       "      <td>DEFEITER_P</td>\n",
       "      <td>2018-05-14</td>\n",
       "      <td>10:46</td>\n",
       "      <td>Goed</td>\n",
       "      <td></td>\n",
       "      <td></td>\n",
       "      <td></td>\n",
       "      <td></td>\n",
       "      <td>1242609</td>\n",
       "      <td></td>\n",
       "      <td>2018-05-14T11:51:00+02:00</td>\n",
       "    </tr>\n",
       "    <tr>\n",
       "      <th>2</th>\n",
       "      <td>TP-I-61-41-02</td>\n",
       "      <td>30</td>\n",
       "      <td>Inspecteer conditie kast</td>\n",
       "      <td>3312</td>\n",
       "      <td>M004631</td>\n",
       "      <td>6141WKS2305 - Wegkantsysteem (WKS)</td>\n",
       "      <td>DEFEITER_P</td>\n",
       "      <td>2018-05-14</td>\n",
       "      <td>10:46</td>\n",
       "      <td>Goed</td>\n",
       "      <td></td>\n",
       "      <td></td>\n",
       "      <td></td>\n",
       "      <td></td>\n",
       "      <td>1242609</td>\n",
       "      <td></td>\n",
       "      <td>2018-05-14T11:51:00+02:00</td>\n",
       "    </tr>\n",
       "    <tr>\n",
       "      <th>3</th>\n",
       "      <td>TP-I-61-41-02</td>\n",
       "      <td>40</td>\n",
       "      <td>Verwijder vuil buitenzijde kast</td>\n",
       "      <td>3312</td>\n",
       "      <td>M004631</td>\n",
       "      <td>6141WKS2305 - Wegkantsysteem (WKS)</td>\n",
       "      <td>DEFEITER_P</td>\n",
       "      <td>2018-05-14</td>\n",
       "      <td>10:46</td>\n",
       "      <td>Niet</td>\n",
       "      <td></td>\n",
       "      <td></td>\n",
       "      <td></td>\n",
       "      <td>Kast zag er schoon uit</td>\n",
       "      <td>1242609</td>\n",
       "      <td></td>\n",
       "      <td>2018-05-14T11:51:00+02:00</td>\n",
       "    </tr>\n",
       "    <tr>\n",
       "      <th>4</th>\n",
       "      <td>TP-I-61-41-02</td>\n",
       "      <td>50</td>\n",
       "      <td>Verwijder vuil binnenzijde kast indien zichtba...</td>\n",
       "      <td>3312</td>\n",
       "      <td>M004631</td>\n",
       "      <td>6141WKS2305 - Wegkantsysteem (WKS)</td>\n",
       "      <td>DEFEITER_P</td>\n",
       "      <td>2018-05-14</td>\n",
       "      <td>10:46</td>\n",
       "      <td>Uitgevoerd</td>\n",
       "      <td></td>\n",
       "      <td></td>\n",
       "      <td></td>\n",
       "      <td></td>\n",
       "      <td>1242609</td>\n",
       "      <td></td>\n",
       "      <td>2018-05-14T11:51:00+02:00</td>\n",
       "    </tr>\n",
       "    <tr>\n",
       "      <th>...</th>\n",
       "      <td>...</td>\n",
       "      <td>...</td>\n",
       "      <td>...</td>\n",
       "      <td>...</td>\n",
       "      <td>...</td>\n",
       "      <td>...</td>\n",
       "      <td>...</td>\n",
       "      <td>...</td>\n",
       "      <td>...</td>\n",
       "      <td>...</td>\n",
       "      <td>...</td>\n",
       "      <td>...</td>\n",
       "      <td>...</td>\n",
       "      <td>...</td>\n",
       "      <td>...</td>\n",
       "      <td>...</td>\n",
       "      <td>...</td>\n",
       "    </tr>\n",
       "    <tr>\n",
       "      <th>409</th>\n",
       "      <td>TP-I-61-41-02</td>\n",
       "      <td>100</td>\n",
       "      <td>Controleer dat LED's geen defect aangeven</td>\n",
       "      <td>3385</td>\n",
       "      <td>M004629</td>\n",
       "      <td>6141WKS2303 - Wegkantsysteem (WKS)</td>\n",
       "      <td>VOS_S</td>\n",
       "      <td>2020-07-02</td>\n",
       "      <td>09:17</td>\n",
       "      <td>Goed</td>\n",
       "      <td></td>\n",
       "      <td></td>\n",
       "      <td></td>\n",
       "      <td></td>\n",
       "      <td>1572941</td>\n",
       "      <td>2020-06-22T10:00:00+02:00</td>\n",
       "      <td>2020-06-22T15:00:00+02:00</td>\n",
       "    </tr>\n",
       "    <tr>\n",
       "      <th>410</th>\n",
       "      <td>TP-I-61-41-02</td>\n",
       "      <td>110</td>\n",
       "      <td>Inspecteer status van UPS(en)</td>\n",
       "      <td>3385</td>\n",
       "      <td>M004629</td>\n",
       "      <td>6141WKS2303 - Wegkantsysteem (WKS)</td>\n",
       "      <td>VOS_S</td>\n",
       "      <td>2020-07-02</td>\n",
       "      <td>09:17</td>\n",
       "      <td>Goed</td>\n",
       "      <td></td>\n",
       "      <td></td>\n",
       "      <td></td>\n",
       "      <td></td>\n",
       "      <td>1572941</td>\n",
       "      <td>2020-06-22T10:00:00+02:00</td>\n",
       "      <td>2020-06-22T15:00:00+02:00</td>\n",
       "    </tr>\n",
       "    <tr>\n",
       "      <th>411</th>\n",
       "      <td>TP-I-61-41-02</td>\n",
       "      <td>120</td>\n",
       "      <td>Operationele test UPS(en)</td>\n",
       "      <td>3385</td>\n",
       "      <td>M004629</td>\n",
       "      <td>6141WKS2303 - Wegkantsysteem (WKS)</td>\n",
       "      <td>VOS_S</td>\n",
       "      <td>2020-07-02</td>\n",
       "      <td>09:17</td>\n",
       "      <td>Goed</td>\n",
       "      <td></td>\n",
       "      <td></td>\n",
       "      <td></td>\n",
       "      <td></td>\n",
       "      <td>1572941</td>\n",
       "      <td>2020-06-22T10:00:00+02:00</td>\n",
       "      <td>2020-06-22T15:00:00+02:00</td>\n",
       "    </tr>\n",
       "    <tr>\n",
       "      <th>412</th>\n",
       "      <td>TP-I-61-41-02</td>\n",
       "      <td>130</td>\n",
       "      <td>Operationele test kastverwarming</td>\n",
       "      <td>3385</td>\n",
       "      <td>M004629</td>\n",
       "      <td>6141WKS2303 - Wegkantsysteem (WKS)</td>\n",
       "      <td>VOS_S</td>\n",
       "      <td>2020-07-02</td>\n",
       "      <td>09:17</td>\n",
       "      <td>Goed</td>\n",
       "      <td></td>\n",
       "      <td></td>\n",
       "      <td></td>\n",
       "      <td></td>\n",
       "      <td>1572941</td>\n",
       "      <td>2020-06-22T10:00:00+02:00</td>\n",
       "      <td>2020-06-22T15:00:00+02:00</td>\n",
       "    </tr>\n",
       "    <tr>\n",
       "      <th>413</th>\n",
       "      <td>TP-I-61-00-03</td>\n",
       "      <td>10</td>\n",
       "      <td>Inspecteer status muizenlokdoos</td>\n",
       "      <td>3385</td>\n",
       "      <td>M004629</td>\n",
       "      <td>6141WKS2303 - Wegkantsysteem (WKS)</td>\n",
       "      <td>VOS_S</td>\n",
       "      <td>2020-07-02</td>\n",
       "      <td>09:17</td>\n",
       "      <td>Goed</td>\n",
       "      <td></td>\n",
       "      <td></td>\n",
       "      <td></td>\n",
       "      <td></td>\n",
       "      <td>1572941</td>\n",
       "      <td>2020-06-22T10:00:00+02:00</td>\n",
       "      <td>2020-06-22T15:00:00+02:00</td>\n",
       "    </tr>\n",
       "  </tbody>\n",
       "</table>\n",
       "<p>414 rows × 17 columns</p>\n",
       "</div>"
      ],
      "text/plain": [
       "          Taakplan  Taaknummer  \\\n",
       "0    TP-I-61-41-02          10   \n",
       "1    TP-I-61-41-02          20   \n",
       "2    TP-I-61-41-02          30   \n",
       "3    TP-I-61-41-02          40   \n",
       "4    TP-I-61-41-02          50   \n",
       "..             ...         ...   \n",
       "409  TP-I-61-41-02         100   \n",
       "410  TP-I-61-41-02         110   \n",
       "411  TP-I-61-41-02         120   \n",
       "412  TP-I-61-41-02         130   \n",
       "413  TP-I-61-00-03          10   \n",
       "\n",
       "                                          Omschrijving Ruimtenummer  \\\n",
       "0                             Inspecteer conditie slot         3312   \n",
       "1                  Inspecteer conditie kast afdichting         3312   \n",
       "2                             Inspecteer conditie kast         3312   \n",
       "3                      Verwijder vuil buitenzijde kast         3312   \n",
       "4    Verwijder vuil binnenzijde kast indien zichtba...         3312   \n",
       "..                                                 ...          ...   \n",
       "409          Controleer dat LED's geen defect aangeven         3385   \n",
       "410                      Inspecteer status van UPS(en)         3385   \n",
       "411                          Operationele test UPS(en)         3385   \n",
       "412                   Operationele test kastverwarming         3385   \n",
       "413                    Inspecteer status muizenlokdoos         3385   \n",
       "\n",
       "    Assetnummer                               Asset     Persoon       Datum  \\\n",
       "0       M004631  6141WKS2305 - Wegkantsysteem (WKS)  DEFEITER_P  2018-05-14   \n",
       "1       M004631  6141WKS2305 - Wegkantsysteem (WKS)  DEFEITER_P  2018-05-14   \n",
       "2       M004631  6141WKS2305 - Wegkantsysteem (WKS)  DEFEITER_P  2018-05-14   \n",
       "3       M004631  6141WKS2305 - Wegkantsysteem (WKS)  DEFEITER_P  2018-05-14   \n",
       "4       M004631  6141WKS2305 - Wegkantsysteem (WKS)  DEFEITER_P  2018-05-14   \n",
       "..          ...                                 ...         ...         ...   \n",
       "409     M004629  6141WKS2303 - Wegkantsysteem (WKS)       VOS_S  2020-07-02   \n",
       "410     M004629  6141WKS2303 - Wegkantsysteem (WKS)       VOS_S  2020-07-02   \n",
       "411     M004629  6141WKS2303 - Wegkantsysteem (WKS)       VOS_S  2020-07-02   \n",
       "412     M004629  6141WKS2303 - Wegkantsysteem (WKS)       VOS_S  2020-07-02   \n",
       "413     M004629  6141WKS2303 - Wegkantsysteem (WKS)       VOS_S  2020-07-02   \n",
       "\n",
       "    Tijdstip  Observatie Meetwaarde Eenheid Grootheid                    Memo  \\\n",
       "0      10:46        Goed                                                        \n",
       "1      10:46        Goed                                                        \n",
       "2      10:46        Goed                                                        \n",
       "3      10:46        Niet                               Kast zag er schoon uit   \n",
       "4      10:46  Uitgevoerd                                                        \n",
       "..       ...         ...        ...     ...       ...                     ...   \n",
       "409    09:17        Goed                                                        \n",
       "410    09:17        Goed                                                        \n",
       "411    09:17        Goed                                                        \n",
       "412    09:17        Goed                                                        \n",
       "413    09:17        Goed                                                        \n",
       "\n",
       "       wonum                   actstart                  actfinish  \n",
       "0    1242609                             2018-05-14T11:51:00+02:00  \n",
       "1    1242609                             2018-05-14T11:51:00+02:00  \n",
       "2    1242609                             2018-05-14T11:51:00+02:00  \n",
       "3    1242609                             2018-05-14T11:51:00+02:00  \n",
       "4    1242609                             2018-05-14T11:51:00+02:00  \n",
       "..       ...                        ...                        ...  \n",
       "409  1572941  2020-06-22T10:00:00+02:00  2020-06-22T15:00:00+02:00  \n",
       "410  1572941  2020-06-22T10:00:00+02:00  2020-06-22T15:00:00+02:00  \n",
       "411  1572941  2020-06-22T10:00:00+02:00  2020-06-22T15:00:00+02:00  \n",
       "412  1572941  2020-06-22T10:00:00+02:00  2020-06-22T15:00:00+02:00  \n",
       "413  1572941  2020-06-22T10:00:00+02:00  2020-06-22T15:00:00+02:00  \n",
       "\n",
       "[414 rows x 17 columns]"
      ]
     },
     "execution_count": 106,
     "metadata": {},
     "output_type": "execute_result"
    }
   ],
   "source": [
    "final_result = pd.merge_asof(result_sorted, df_wo_sorted,\n",
    "                             left_on='Aanmaakdatum',\n",
    "                             right_on='reportdate',\n",
    "                             suffixes=('', '_first'),\n",
    "                             direction='nearest')\n",
    "\n",
    "final_result.drop(labels=['Aanmaakdatum', 'reportdate'],\n",
    "                          axis=1,\n",
    "                          inplace=True)\n",
    "\n",
    "# Lengte van het df presenteren (moet 2026 zijn)\n",
    "print(f'len df_mu = {len(final_result)}')\n",
    "\n",
    "final_result"
   ]
  },
  {
   "cell_type": "markdown",
   "metadata": {
    "id": "qfFwgQehfcGx"
   },
   "source": [
    "# 14. Declare the function: `calc_workhours(end, begin)` to automaticly calculate the hours spend per job based on the start and end time registered by the employee."
   ]
  },
  {
   "cell_type": "code",
   "execution_count": 107,
   "metadata": {
    "executionInfo": {
     "elapsed": 5245,
     "status": "ok",
     "timestamp": 1614250580858,
     "user": {
      "displayName": "Peter HM",
      "photoUrl": "https://lh3.googleusercontent.com/a-/AOh14GiJ1DrHzshc6KpNlZvZat7WMop7krMw-cxJzuN42w=s64",
      "userId": "15184792381857859425"
     },
     "user_tz": -60
    },
    "id": "OIr94Lcxgmrt"
   },
   "outputs": [],
   "source": [
    "def calc_workhours(end, begin):\n",
    "  \"\"\"\n",
    "  Function to calculate the hours spend per job.\n",
    "  :param end: The time register at the end of the job.\n",
    "  :param begin: The time registered at the start of the job.\n",
    "  :return: The time spend per job.\n",
    "  \"\"\"\n",
    "  try:\n",
    "    end_list = end.split('+')\n",
    "    dt_end_obj = datetime.datetime.strptime(end_list[0], '%Y-%m-%dT%H:%M:%S')\n",
    "\n",
    "    begin_list = begin.split('+')\n",
    "    dt_start_obj = datetime.datetime.strptime(begin_list[0], '%Y-%m-%dT%H:%M:%S')\n",
    "\n",
    "    runtime = dt_end_obj - dt_start_obj\n",
    "  except:\n",
    "    runtime = ''\n",
    "  \n",
    "  finally:\n",
    "    return runtime"
   ]
  },
  {
   "cell_type": "markdown",
   "metadata": {
    "id": "gxCpaFp6firr"
   },
   "source": [
    "### 14.1 Create a list: __test_list__, apply the automated calculation and add the result to the created list."
   ]
  },
  {
   "cell_type": "code",
   "execution_count": 108,
   "metadata": {
    "executionInfo": {
     "elapsed": 5243,
     "status": "ok",
     "timestamp": 1614250580859,
     "user": {
      "displayName": "Peter HM",
      "photoUrl": "https://lh3.googleusercontent.com/a-/AOh14GiJ1DrHzshc6KpNlZvZat7WMop7krMw-cxJzuN42w=s64",
      "userId": "15184792381857859425"
     },
     "user_tz": -60
    },
    "id": "TQNYaekhqZHn"
   },
   "outputs": [],
   "source": [
    "test_list = list()\n",
    "\n",
    "for i in range(len(final_result)):\n",
    "  c = calc_workhours(final_result['actfinish'][i], final_result['actstart'][i])\n",
    "  test_list.append(str(c))"
   ]
  },
  {
   "cell_type": "markdown",
   "metadata": {
    "id": "osPN5YNjfldF"
   },
   "source": [
    "### 14.2 Change the datatype of the list (created in 14.1) to a `pd.Series()` and add a new column to final_result using the data in the `pd.Series()`."
   ]
  },
  {
   "cell_type": "code",
   "execution_count": 109,
   "metadata": {
    "executionInfo": {
     "elapsed": 5239,
     "status": "ok",
     "timestamp": 1614250580859,
     "user": {
      "displayName": "Peter HM",
      "photoUrl": "https://lh3.googleusercontent.com/a-/AOh14GiJ1DrHzshc6KpNlZvZat7WMop7krMw-cxJzuN42w=s64",
      "userId": "15184792381857859425"
     },
     "user_tz": -60
    },
    "id": "wOpAa7bko7xe"
   },
   "outputs": [],
   "source": [
    "tl = pd.Series(data=test_list)\n",
    "final_result['Arbeid'] = tl"
   ]
  },
  {
   "cell_type": "markdown",
   "metadata": {
    "id": "sC5gcSzmfoJ8"
   },
   "source": [
    "### 14.3 Drop the unnecessary columns __final_result['actstart']__ and __final_result['actfinish']__, define a new order of columns and reindex __final_result__ with the new order of columns."
   ]
  },
  {
   "cell_type": "code",
   "execution_count": 110,
   "metadata": {
    "executionInfo": {
     "elapsed": 5238,
     "status": "ok",
     "timestamp": 1614250580860,
     "user": {
      "displayName": "Peter HM",
      "photoUrl": "https://lh3.googleusercontent.com/a-/AOh14GiJ1DrHzshc6KpNlZvZat7WMop7krMw-cxJzuN42w=s64",
      "userId": "15184792381857859425"
     },
     "user_tz": -60
    },
    "id": "pqHNGh1xvr39"
   },
   "outputs": [],
   "source": [
    "final_result.drop(columns=['actstart', 'actfinish'], inplace=True)\n",
    "final_result.columns\n",
    "\n",
    "col_order2 = ['wonum', 'Taakplan', 'Taaknummer', 'Omschrijving', 'Ruimtenummer',\n",
    "              'Assetnummer', 'Asset', 'Persoon', 'Datum', 'Tijdstip',\n",
    "              'Observatie', 'Meetwaarde', 'Eenheid', 'Grootheid', 'Memo',\n",
    "              'Arbeid']\n",
    "final_result = final_result.reindex(columns=col_order2)"
   ]
  },
  {
   "cell_type": "markdown",
   "metadata": {
    "id": "LbuCMZwaZdNn"
   },
   "source": [
    "# 15. This is the final step, use the Pandas function `pd.to_excel()` to export the __result__ DataFrame to a new Excel .xlsx file with filename: MXdata_XXXXX.xlsx."
   ]
  },
  {
   "cell_type": "code",
   "execution_count": 111,
   "metadata": {
    "executionInfo": {
     "elapsed": 5236,
     "status": "ok",
     "timestamp": 1614250580861,
     "user": {
      "displayName": "Peter HM",
      "photoUrl": "https://lh3.googleusercontent.com/a-/AOh14GiJ1DrHzshc6KpNlZvZat7WMop7krMw-cxJzuN42w=s64",
      "userId": "15184792381857859425"
     },
     "user_tz": -60
    },
    "id": "2wMPN6nhZgLL"
   },
   "outputs": [],
   "source": [
    "date = datetime.date.today()\n",
    "\n",
    "final_result.to_excel(f'MXData_{query}_{date}.xlsx', sheet_name='Sheet1')"
   ]
  },
  {
   "cell_type": "markdown",
   "metadata": {
    "id": "JPkTBZcEtGid"
   },
   "source": [
    "# 16. Create a downloadlink for the Excel outputfile so you can download it to your local device."
   ]
  },
  {
   "cell_type": "code",
   "execution_count": 112,
   "metadata": {
    "colab": {
     "base_uri": "https://localhost:8080/",
     "height": 17
    },
    "executionInfo": {
     "elapsed": 5233,
     "status": "ok",
     "timestamp": 1614250580861,
     "user": {
      "displayName": "Peter HM",
      "photoUrl": "https://lh3.googleusercontent.com/a-/AOh14GiJ1DrHzshc6KpNlZvZat7WMop7krMw-cxJzuN42w=s64",
      "userId": "15184792381857859425"
     },
     "user_tz": -60
    },
    "id": "MLXNHQuNtQQ7",
    "outputId": "66dfc857-d511-4e95-bf5c-34a037bab51c"
   },
   "outputs": [
    {
     "data": {
      "text/html": [
       "<a href='MXData_pmnum=\"802\" and siteid=\"MAVA\" and reportdate>=\"2018-01-01T00:00:00-00:00\"_2021-04-19.xlsx' target='_blank'>MXData_pmnum=\"802\" and siteid=\"MAVA\" and reportdate>=\"2018-01-01T00:00:00-00:00\"_2021-04-19.xlsx</a><br>"
      ],
      "text/plain": [
       "/jet/prs/workspace/1. Maximo/1.1 Preventief onderhoud/MXData_pmnum=\"802\" and siteid=\"MAVA\" and reportdate>=\"2018-01-01T00:00:00-00:00\"_2021-04-19.xlsx"
      ]
     },
     "execution_count": 112,
     "metadata": {},
     "output_type": "execute_result"
    }
   ],
   "source": [
    "FileLink(f\"MXData_{query}_{date}.xlsx\")"
   ]
  },
  {
   "cell_type": "markdown",
   "metadata": {
    "id": "YV51pXH25m7X"
   },
   "source": [
    "---\n",
    "---\n",
    "# **OPTIONAL**\n",
    "---\n",
    "---"
   ]
  },
  {
   "cell_type": "markdown",
   "metadata": {
    "id": "S3cAu5RbyVaW"
   },
   "source": [
    "# Filter only on Assetnummer(asset): 'pmnum=\"72\", M008071 and Taaknummer: 10.0 and 40.0, plot the resulting __Meetwaardes__ in a diagram"
   ]
  },
  {
   "cell_type": "code",
   "execution_count": 113,
   "metadata": {
    "executionInfo": {
     "elapsed": 5228,
     "status": "ok",
     "timestamp": 1614250580862,
     "user": {
      "displayName": "Peter HM",
      "photoUrl": "https://lh3.googleusercontent.com/a-/AOh14GiJ1DrHzshc6KpNlZvZat7WMop7krMw-cxJzuN42w=s64",
      "userId": "15184792381857859425"
     },
     "user_tz": -60
    },
    "id": "tblxynA0Dbcn"
   },
   "outputs": [],
   "source": [
    "# asset = 'M008083' #M008167, M008171, M008148\n",
    "# taak1 = 30.0\n",
    "# taak2 = 40.0"
   ]
  },
  {
   "cell_type": "markdown",
   "metadata": {
    "id": "NR-mnWB1lOD-"
   },
   "source": [
    "### Asset + taakregel 1"
   ]
  },
  {
   "cell_type": "code",
   "execution_count": 114,
   "metadata": {
    "executionInfo": {
     "elapsed": 5226,
     "status": "ok",
     "timestamp": 1614250580863,
     "user": {
      "displayName": "Peter HM",
      "photoUrl": "https://lh3.googleusercontent.com/a-/AOh14GiJ1DrHzshc6KpNlZvZat7WMop7krMw-cxJzuN42w=s64",
      "userId": "15184792381857859425"
     },
     "user_tz": -60
    },
    "id": "dNv2Cwg84Opc"
   },
   "outputs": [],
   "source": [
    "# result_query = result.loc[(result['Assetnummer'] == asset) & (result['Taaknummer'] == taak1)]\n",
    "# asset_df = result_query[['Datum', 'Meetwaarde']]\n",
    "# asset_df.info()\n",
    "# asset_df[['Meetwaarde']] = asset_df[['Meetwaarde']].apply(pd.to_numeric)\n",
    "# asset_df[['Datum']] = asset_df[['Datum']].apply(pd.to_datetime)\n",
    "# asset_df.info()\n",
    "# asset_df.sort_values('Datum', ignore_index=True, inplace=True)\n",
    "# asset_df"
   ]
  },
  {
   "cell_type": "markdown",
   "metadata": {
    "id": "0itbvvkPlSIc"
   },
   "source": [
    "### Asset + taalregel 2"
   ]
  },
  {
   "cell_type": "code",
   "execution_count": 115,
   "metadata": {
    "executionInfo": {
     "elapsed": 5224,
     "status": "ok",
     "timestamp": 1614250580863,
     "user": {
      "displayName": "Peter HM",
      "photoUrl": "https://lh3.googleusercontent.com/a-/AOh14GiJ1DrHzshc6KpNlZvZat7WMop7krMw-cxJzuN42w=s64",
      "userId": "15184792381857859425"
     },
     "user_tz": -60
    },
    "id": "lkZ9IaVwhcGk"
   },
   "outputs": [],
   "source": [
    "# result_query2 = result.loc[(result['Assetnummer'] == asset) & (result['Taaknummer'] == taak2)]\n",
    "# asset2_df = result_query2[['Datum', 'Meetwaarde']]\n",
    "# asset2_df.info()\n",
    "# asset2_df[['Meetwaarde']] = asset2_df[['Meetwaarde']].apply(pd.to_numeric)\n",
    "# asset2_df[['Datum']] = asset2_df[['Datum']].apply(pd.to_datetime)\n",
    "# asset2_df.info()\n",
    "# asset2_df.sort_values('Datum', ignore_index=True, inplace=True)\n",
    "# asset2_df        "
   ]
  },
  {
   "cell_type": "code",
   "execution_count": 116,
   "metadata": {
    "executionInfo": {
     "elapsed": 5431,
     "status": "ok",
     "timestamp": 1614250581072,
     "user": {
      "displayName": "Peter HM",
      "photoUrl": "https://lh3.googleusercontent.com/a-/AOh14GiJ1DrHzshc6KpNlZvZat7WMop7krMw-cxJzuN42w=s64",
      "userId": "15184792381857859425"
     },
     "user_tz": -60
    },
    "id": "aNDK_tQYRkXI",
    "scrolled": false
   },
   "outputs": [],
   "source": [
    "# fig = plt.figure(figsize=(20, 10))\n",
    "# gs = gridspec.GridSpec(1, 1)\n",
    "# ax1 = fig.add_subplot(gs[0])\n",
    "\n",
    "# ax1.set_xlabel('Datum')\n",
    "# ax1.set_ylabel('Opgenomen stroom in A', color='r')\n",
    "# ax1.plot(asset_df['Datum'], asset_df['Meetwaarde'], 'ro-')\n",
    "# ax1.tick_params(axis='y', labelcolor='r')\n",
    "\n",
    "# ax2 = ax1.twinx()  # instantiate a second axes that shares the same x-axis\n",
    "\n",
    "# ax2.set_ylabel('Temperatuur in Celsius', color='b')  # we already handled the x-label with ax1\n",
    "# ax2.plot(asset2_df['Datum'], asset2_df['Meetwaarde'], 'bo-')\n",
    "# ax2.tick_params(axis='y', labelcolor='b')\n",
    "\n",
    "# fig.tight_layout(pad=1.08)  # otherwise the right y-label is slightly clipped\n",
    "# ax1.grid(which='major', color='b', linestyle='--', linewidth=0.1, alpha=1)\n",
    "# ax2.grid(which='minor', color='b', linestyle='--', linewidth=0.1, alpha=1)\n",
    "# plt.title(f'Resultaat voor asset: {asset}')\n",
    "# plt.show()"
   ]
  }
 ],
 "metadata": {
  "colab": {
   "collapsed_sections": [],
   "name": "PO_Exp_Maximo_20210126.ipynb",
   "provenance": [
    {
     "file_id": "https://github.com/sandervanruijven/maximo_iam/blob/master/PROD_Maximo_Peter_v1_20210118.ipynb",
     "timestamp": 1611658659466
    }
   ]
  },
  "kernelspec": {
   "display_name": "Python 3",
   "language": "python",
   "name": "python3"
  },
  "language_info": {
   "codemirror_mode": {
    "name": "ipython",
    "version": 3
   },
   "file_extension": ".py",
   "mimetype": "text/x-python",
   "name": "python",
   "nbconvert_exporter": "python",
   "pygments_lexer": "ipython3",
   "version": "3.8.3"
  },
  "toc": {
   "base_numbering": 1,
   "nav_menu": {},
   "number_sections": true,
   "sideBar": true,
   "skip_h1_title": false,
   "title_cell": "Table of Contents",
   "title_sidebar": "Contents",
   "toc_cell": false,
   "toc_position": {},
   "toc_section_display": true,
   "toc_window_display": false
  }
 },
 "nbformat": 4,
 "nbformat_minor": 1
}
