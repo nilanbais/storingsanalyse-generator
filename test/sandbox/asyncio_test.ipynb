{
 "cells": [
  {
   "cell_type": "code",
   "execution_count": 1,
   "metadata": {},
   "outputs": [],
   "source": [
    "import asyncio\n",
    "import time\n",
    "import ipywidgets as widgets \n",
    "from ipywidgets import interact, interact_manual, Layout\n",
    "\n",
    "# Class zorgt ervoor dat een waarde meegegeven kan worden aan een Button\n",
    "import traitlets\n",
    "class LoadedButton(widgets.Button):\n",
    "    \"\"\"A button that can holds a value as a attribute.\"\"\"\n",
    "\n",
    "    def __init__(self, value=None, *args, **kwargs):\n",
    "        super(LoadedButton, self).__init__(*args, **kwargs)\n",
    "        # Create the value attribute.\n",
    "        self.add_traits(value=traitlets.Any(value))"
   ]
  },
  {
   "cell_type": "code",
   "execution_count": 2,
   "metadata": {},
   "outputs": [],
   "source": [
    "# Aparte functie voor het wachten op verandering (aka input van de ME)\n",
    "\n",
    "def wait_for_change(widget):\n",
    "    future = asyncio.Future()\n",
    "    def getvalue(change):\n",
    "        future.set_result(change.description)\n",
    "        widget.on_click(getvalue, remove=True) \n",
    "        # we need to free up the binding to getvalue to avoid an InvalidState error\n",
    "        # buttons don't support unobserve\n",
    "        # so use `remove=True` \n",
    "    widget.on_click(getvalue)\n",
    "    return future"
   ]
  },
  {
   "cell_type": "code",
   "execution_count": 10,
   "metadata": {},
   "outputs": [
    {
     "data": {
      "application/vnd.jupyter.widget-view+json": {
       "model_id": "f93966abc95b447eab026d05c97289da",
       "version_major": 2,
       "version_minor": 0
      },
      "text/plain": [
       "LoadedButton(description='Start', style=ButtonStyle())"
      ]
     },
     "metadata": {},
     "output_type": "display_data"
    },
    {
     "data": {
      "text/plain": [
       "<Task pending name='Task-10' coro=<main() running at <ipython-input-10-23aac998bb9f>:27>>"
      ]
     },
     "execution_count": 10,
     "metadata": {},
     "output_type": "execute_result"
    },
    {
     "name": "stdout",
     "output_type": "stream",
     "text": [
      "get loop\n",
      "waiting for create loop task\n",
      "Waiting\n",
      "button value = False\n",
      "done waiting on task <Task finished name='Task-12' coro=<wait_for_change() done, defined at <ipython-input-10-23aac998bb9f>:6> result=<Future pending>>\n",
      "button value = True\n",
      "DONE WAITING\n"
     ]
    }
   ],
   "source": [
    "button = LoadedButton(description='Start', value=False)\n",
    "\n",
    "def if_clicked():\n",
    "    button.value = True\n",
    "    \n",
    "async def wait_for_change(widget):\n",
    "    future = asyncio.Future()\n",
    "    def getvalue(change):\n",
    "        future.set_result(change.description)\n",
    "        widget.on_click(getvalue, remove=True) \n",
    "        # we need to free up the binding to getvalue to avoid an InvalidState error\n",
    "        # buttons don't support unobserve\n",
    "        # so use `remove=True` \n",
    "    widget.on_click(getvalue)\n",
    "    return future\n",
    "\n",
    "async def start_function():\n",
    "    print('Waiting')\n",
    "    print(f'button value = {button.value}')\n",
    "    task = loop.create_task(wait_for_change(button))\n",
    "    await task\n",
    "    print(f'done waiting on task {task}')\n",
    "    if_clicked()\n",
    "    print(f'button value = {button.value}')\n",
    "    return button.value\n",
    "    \n",
    "async def main():\n",
    "    print('get loop')\n",
    "     \n",
    "    print('waiting for create loop task')\n",
    "    loop_task = loop.create_task(start_function())\n",
    "    await loop_task\n",
    "    print('DONE WAITING')\n",
    "    sa = loop_task.result()\n",
    "    return sa\n",
    "\n",
    "\n",
    "display(button)    \n",
    "# x = await asyncio.create_task(main())\n",
    "# x = await main()\n",
    "loop = asyncio.get_event_loop() \n",
    "loop.create_task(main())\n",
    "# x = await main()"
   ]
  },
  {
   "cell_type": "code",
   "execution_count": 13,
   "metadata": {},
   "outputs": [
    {
     "data": {
      "application/vnd.jupyter.widget-view+json": {
       "model_id": "055b63f11b494a21b8b5ada9c8add1cb",
       "version_major": 2,
       "version_minor": 0
      },
      "text/plain": [
       "LoadedButton(description='Start', style=ButtonStyle())"
      ]
     },
     "metadata": {},
     "output_type": "display_data"
    },
    {
     "name": "stdout",
     "output_type": "stream",
     "text": [
      "get loop\n",
      "waiting for create loop task\n",
      "Waiting\n",
      "button value = False\n"
     ]
    },
    {
     "ename": "CancelledError",
     "evalue": "",
     "output_type": "error",
     "traceback": [
      "\u001b[1;31m---------------------------------------------------------------------------\u001b[0m",
      "\u001b[1;31mCancelledError\u001b[0m                            Traceback (most recent call last)",
      "\u001b[1;32m<ipython-input-13-b832e6731c3e>\u001b[0m in \u001b[0;36m<module>\u001b[1;34m\u001b[0m\n\u001b[0;32m     26\u001b[0m \u001b[0mprint\u001b[0m\u001b[1;33m(\u001b[0m\u001b[1;34m'waiting for create loop task'\u001b[0m\u001b[1;33m)\u001b[0m\u001b[1;33m\u001b[0m\u001b[1;33m\u001b[0m\u001b[0m\n\u001b[0;32m     27\u001b[0m \u001b[0mloop_task\u001b[0m \u001b[1;33m=\u001b[0m \u001b[0mloop\u001b[0m\u001b[1;33m.\u001b[0m\u001b[0mcreate_task\u001b[0m\u001b[1;33m(\u001b[0m\u001b[0mstart_function\u001b[0m\u001b[1;33m(\u001b[0m\u001b[1;33m)\u001b[0m\u001b[1;33m)\u001b[0m\u001b[1;33m\u001b[0m\u001b[1;33m\u001b[0m\u001b[0m\n\u001b[1;32m---> 28\u001b[1;33m \u001b[1;32mawait\u001b[0m \u001b[0mloop_task\u001b[0m\u001b[1;33m\u001b[0m\u001b[1;33m\u001b[0m\u001b[0m\n\u001b[0m\u001b[0;32m     29\u001b[0m \u001b[0mprint\u001b[0m\u001b[1;33m(\u001b[0m\u001b[1;34m'DONE WAITING'\u001b[0m\u001b[1;33m)\u001b[0m\u001b[1;33m\u001b[0m\u001b[1;33m\u001b[0m\u001b[0m\n\u001b[0;32m     30\u001b[0m \u001b[0msa\u001b[0m \u001b[1;33m=\u001b[0m \u001b[0mloop_task\u001b[0m\u001b[1;33m.\u001b[0m\u001b[0mresult\u001b[0m\u001b[1;33m(\u001b[0m\u001b[1;33m)\u001b[0m\u001b[1;33m\u001b[0m\u001b[1;33m\u001b[0m\u001b[0m\n",
      "\u001b[1;31mCancelledError\u001b[0m: "
     ]
    }
   ],
   "source": [
    "button = LoadedButton(description='Start', value=False)\n",
    "\n",
    "def wait_for_change(widget):\n",
    "    future = asyncio.Future()\n",
    "    def getvalue(change):\n",
    "        future.set_result(change.description)\n",
    "        widget.on_click(getvalue, remove=True) \n",
    "        # we need to free up the binding to getvalue to avoid an InvalidState error\n",
    "        # buttons don't support unobserve\n",
    "        # so use `remove=True` \n",
    "    widget.on_click(getvalue)\n",
    "    return future\n",
    "\n",
    "async def start_function():\n",
    "    print('Waiting')\n",
    "    print(f'button value = {button.value}')\n",
    "    task = await wait_for_change(button)\n",
    "    print(f'done waiting on task {task}')\n",
    "    if_clicked()\n",
    "    print(f'button value = {button.value}')\n",
    "\n",
    "display(button)\n",
    "    \n",
    "print('get loop')\n",
    "loop = asyncio.get_event_loop()\n",
    "print('waiting for create loop task')\n",
    "loop_task = loop.create_task(start_function())\n",
    "await loop_task\n",
    "print('DONE WAITING')\n",
    "sa = loop_task.result()"
   ]
  },
  {
   "cell_type": "code",
   "execution_count": 42,
   "metadata": {},
   "outputs": [
    {
     "data": {
      "application/vnd.jupyter.widget-view+json": {
       "model_id": "8820c1a2ecd748329cbe62128929c389",
       "version_major": 2,
       "version_minor": 0
      },
      "text/plain": [
       "LoadedButton(description='Start', style=ButtonStyle())"
      ]
     },
     "metadata": {},
     "output_type": "display_data"
    },
    {
     "name": "stdout",
     "output_type": "stream",
     "text": [
      "Waiting for input\n",
      "ja toch\n"
     ]
    }
   ],
   "source": [
    "button = LoadedButton(description='Start', value=False)\n",
    "sa = None\n",
    "\n",
    "def wait_for_change(widget):\n",
    "    future = asyncio.Future()\n",
    "    def getvalue(change):\n",
    "        future.set_result(change.description)\n",
    "        widget.on_click(getvalue, remove=True) \n",
    "        # we need to free up the binding to getvalue to avoid an InvalidState error\n",
    "        # buttons don't support unobserve\n",
    "        # so use `remove=True` \n",
    "    widget.on_click(getvalue)\n",
    "    return future\n",
    "\n",
    "async def start_function():\n",
    "    global sa\n",
    "    print('Waiting for input')\n",
    "    await wait_for_change(button)  # Wachter gebeurt o.a. hierdoor \n",
    "    sa = 'ja toch'\n",
    "    print(sa)\n",
    "\n",
    "\n",
    "loop = asyncio.get_event_loop()\n",
    "loop.create_task(start_function())\n",
    "\n",
    "display(button)"
   ]
  },
  {
   "cell_type": "code",
   "execution_count": 38,
   "metadata": {},
   "outputs": [
    {
     "name": "stdout",
     "output_type": "stream",
     "text": [
      "ja toch\n"
     ]
    }
   ],
   "source": [
    "print(sa)"
   ]
  }
 ],
 "metadata": {
  "kernelspec": {
   "display_name": "Python 3",
   "language": "python",
   "name": "python3"
  },
  "language_info": {
   "codemirror_mode": {
    "name": "ipython",
    "version": 3
   },
   "file_extension": ".py",
   "mimetype": "text/x-python",
   "name": "python",
   "nbconvert_exporter": "python",
   "pygments_lexer": "ipython3",
   "version": "3.8.3"
  },
  "toc": {
   "base_numbering": 1,
   "nav_menu": {},
   "number_sections": true,
   "sideBar": true,
   "skip_h1_title": false,
   "title_cell": "Table of Contents",
   "title_sidebar": "Contents",
   "toc_cell": false,
   "toc_position": {},
   "toc_section_display": true,
   "toc_window_display": false
  }
 },
 "nbformat": 4,
 "nbformat_minor": 4
}
