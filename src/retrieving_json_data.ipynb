{
 "cells": [
  {
   "cell_type": "code",
   "execution_count": 1,
   "metadata": {},
   "outputs": [],
   "source": [
    "import time\n",
    "import datetime\n",
    "import pandas as pd\n",
    "import matplotlib.pyplot as plt\n",
    "from matplotlib import gridspec\n",
    "import json\n",
    "import requests\n",
    "from collections import Counter\n",
    "from IPython.display import FileLink\n",
    "plt.style.use('dark_background')"
   ]
  },
  {
   "cell_type": "code",
   "execution_count": 2,
   "metadata": {},
   "outputs": [],
   "source": [
    "\"\"\" In the line bellow fill in your API key without < and > \"\"\" \n",
    "api_key = 'bWF4YWRtaW46R21iQ1dlbkQyMDE5' # provided to you by a Maximo Consultant\n",
    "\n",
    "\"\"\" In the line bellow fill in the desired object structure \"\"\"\n",
    "obj_struct = 'MXWO_SND' # name of the Maximo object structure\n",
    "\n",
    "\"\"\" In the line bellow fill in the PO number and the SITEID without the < and > \"\"\"\n",
    "query = 'siteid=\"CT1EN2\" and worktype=\"COR\" and reportdate>=\"2018-01-01T00:00:00-00:00\" and reportdate<=\"2018-03-30T00:00:00-00:00\"'"
   ]
  },
  {
   "cell_type": "code",
   "execution_count": 3,
   "metadata": {},
   "outputs": [],
   "source": [
    "def get_response(query) :\n",
    "    \"\"\"\n",
    "    Function to launch the GET request to the Maximo application.\n",
    "    :param query: The query variable defined in '2. Declare the required \n",
    "                  variables needed to run and filter your data export result.'\n",
    "    :return: The respone of the Maximo application.\n",
    "    \"\"\"\n",
    "    api_url = 'https://maximotest.tbi.nl/maximo/oslc/os/' + obj_struct + '?'\n",
    "    # Set up header dictionary w/ API key according to documentation\n",
    "    headers = {\n",
    "        'maxauth': api_key,\n",
    "    }\n",
    "    # Set up the params dictionary according to documentation\n",
    "    params = {\n",
    "        'lean' : 1, # no namespace in JSON\n",
    "        '_dropnulls' : 0, # don't pass null values\n",
    "        'Accept':'application/json', # set JSON as default output\n",
    "        'oslc.where' : query,\n",
    "    }\n",
    "    # Call the API\n",
    "    response = requests.get(api_url,\n",
    "                            headers=headers,\n",
    "                            params=params)\n",
    "\n",
    "    if response.status_code == 200:\n",
    "        print('Success!')\n",
    "    elif response.status_code == 404:\n",
    "        print('ApiError')\n",
    "\n",
    "    return response"
   ]
  },
  {
   "cell_type": "code",
   "execution_count": 4,
   "metadata": {},
   "outputs": [
    {
     "name": "stdout",
     "output_type": "stream",
     "text": [
      "Success!\n",
      "<Response [200]>\n",
      "[{'href': 'https://maximotest.tbi.nl/maxrest/oslc/os/mxwo_snd/_Q1QxRU4yLzExNzg5OTI-'}, {'href': 'https://maximotest.tbi.nl/maxrest/oslc/os/mxwo_snd/_Q1QxRU4yLzExNzg5OTM-'}, {'href': 'https://maximotest.tbi.nl/maxrest/oslc/os/mxwo_snd/_Q1QxRU4yLzExNzg5OTQ-'}, {'href': 'https://maximotest.tbi.nl/maxrest/oslc/os/mxwo_snd/_Q1QxRU4yLzExNzg5OTU-'}, {'href': 'https://maximotest.tbi.nl/maxrest/oslc/os/mxwo_snd/_Q1QxRU4yLzExODA3Njg-'}, {'href': 'https://maximotest.tbi.nl/maxrest/oslc/os/mxwo_snd/_Q1QxRU4yLzExODE4OTE-'}, {'href': 'https://maximotest.tbi.nl/maxrest/oslc/os/mxwo_snd/_Q1QxRU4yLzExODYzMDk-'}, {'href': 'https://maximotest.tbi.nl/maxrest/oslc/os/mxwo_snd/_Q1QxRU4yLzExODYzMTA-'}, {'href': 'https://maximotest.tbi.nl/maxrest/oslc/os/mxwo_snd/_Q1QxRU4yLzExODYzMTE-'}, {'href': 'https://maximotest.tbi.nl/maxrest/oslc/os/mxwo_snd/_Q1QxRU4yLzExODYzMTI-'}, {'href': 'https://maximotest.tbi.nl/maxrest/oslc/os/mxwo_snd/_Q1QxRU4yLzExODYzMTM-'}, {'href': 'https://maximotest.tbi.nl/maxrest/oslc/os/mxwo_snd/_Q1QxRU4yLzExODYzMTQ-'}, {'href': 'https://maximotest.tbi.nl/maxrest/oslc/os/mxwo_snd/_Q1QxRU4yLzEyMDIxODk-'}, {'href': 'https://maximotest.tbi.nl/maxrest/oslc/os/mxwo_snd/_Q1QxRU4yLzEyMDIxOTA-'}, {'href': 'https://maximotest.tbi.nl/maxrest/oslc/os/mxwo_snd/_Q1QxRU4yLzEyMDIxOTE-'}, {'href': 'https://maximotest.tbi.nl/maxrest/oslc/os/mxwo_snd/_Q1QxRU4yLzEyMDIxOTI-'}, {'href': 'https://maximotest.tbi.nl/maxrest/oslc/os/mxwo_snd/_Q1QxRU4yLzEyMDIxOTM-'}, {'href': 'https://maximotest.tbi.nl/maxrest/oslc/os/mxwo_snd/_Q1QxRU4yLzEyMDIxOTQ-'}, {'href': 'https://maximotest.tbi.nl/maxrest/oslc/os/mxwo_snd/_Q1QxRU4yLzEyMDU5ODY-'}, {'href': 'https://maximotest.tbi.nl/maxrest/oslc/os/mxwo_snd/_Q1QxRU4yLzEyMDU5OTc-'}, {'href': 'https://maximotest.tbi.nl/maxrest/oslc/os/mxwo_snd/_Q1QxRU4yLzEyMDIxOTU-'}, {'href': 'https://maximotest.tbi.nl/maxrest/oslc/os/mxwo_snd/_Q1QxRU4yLzEyMDIxOTY-'}, {'href': 'https://maximotest.tbi.nl/maxrest/oslc/os/mxwo_snd/_Q1QxRU4yLzEyMDIyMTM-'}, {'href': 'https://maximotest.tbi.nl/maxrest/oslc/os/mxwo_snd/_Q1QxRU4yLzEyMDIyMTU-'}, {'href': 'https://maximotest.tbi.nl/maxrest/oslc/os/mxwo_snd/_Q1QxRU4yLzEyMDIyMTg-'}, {'href': 'https://maximotest.tbi.nl/maxrest/oslc/os/mxwo_snd/_Q1QxRU4yLzEyMDU5ODc-'}, {'href': 'https://maximotest.tbi.nl/maxrest/oslc/os/mxwo_snd/_Q1QxRU4yLzEyMDYxNjY-'}, {'href': 'https://maximotest.tbi.nl/maxrest/oslc/os/mxwo_snd/_Q1QxRU4yLzEyMDU5ODU-'}, {'href': 'https://maximotest.tbi.nl/maxrest/oslc/os/mxwo_snd/_Q1QxRU4yLzEyMDU5OTY-'}, {'href': 'https://maximotest.tbi.nl/maxrest/oslc/os/mxwo_snd/_Q1QxRU4yLzEyMDU5OTk-'}, {'href': 'https://maximotest.tbi.nl/maxrest/oslc/os/mxwo_snd/_Q1QxRU4yLzEyMDYwMDE-'}, {'href': 'https://maximotest.tbi.nl/maxrest/oslc/os/mxwo_snd/_Q1QxRU4yLzEyMDYxMjY-'}, {'href': 'https://maximotest.tbi.nl/maxrest/oslc/os/mxwo_snd/_Q1QxRU4yLzEyMDYxMjc-'}, {'href': 'https://maximotest.tbi.nl/maxrest/oslc/os/mxwo_snd/_Q1QxRU4yLzEyMDYxMjk-'}, {'href': 'https://maximotest.tbi.nl/maxrest/oslc/os/mxwo_snd/_Q1QxRU4yLzEyMDYxMzM-'}, {'href': 'https://maximotest.tbi.nl/maxrest/oslc/os/mxwo_snd/_Q1QxRU4yLzEyMDYxNTY-'}, {'href': 'https://maximotest.tbi.nl/maxrest/oslc/os/mxwo_snd/_Q1QxRU4yLzEyMDYxNjU-'}, {'href': 'https://maximotest.tbi.nl/maxrest/oslc/os/mxwo_snd/_Q1QxRU4yLzEyMDY3NDE-'}, {'href': 'https://maximotest.tbi.nl/maxrest/oslc/os/mxwo_snd/_Q1QxRU4yLzEyMDY3NDg-'}, {'href': 'https://maximotest.tbi.nl/maxrest/oslc/os/mxwo_snd/_Q1QxRU4yLzEyMDY3NDk-'}, {'href': 'https://maximotest.tbi.nl/maxrest/oslc/os/mxwo_snd/_Q1QxRU4yLzEyMTIwMjc-'}, {'href': 'https://maximotest.tbi.nl/maxrest/oslc/os/mxwo_snd/_Q1QxRU4yLzEyMTIyNzM-'}, {'href': 'https://maximotest.tbi.nl/maxrest/oslc/os/mxwo_snd/_Q1QxRU4yLzEyMTIyNzQ-'}, {'href': 'https://maximotest.tbi.nl/maxrest/oslc/os/mxwo_snd/_Q1QxRU4yLzEyMTIyNzU-'}, {'href': 'https://maximotest.tbi.nl/maxrest/oslc/os/mxwo_snd/_Q1QxRU4yLzEyMTIyNzY-'}, {'href': 'https://maximotest.tbi.nl/maxrest/oslc/os/mxwo_snd/_Q1QxRU4yLzEyMTIyODQ-'}, {'href': 'https://maximotest.tbi.nl/maxrest/oslc/os/mxwo_snd/_Q1QxRU4yLzEyMTIyODU-'}, {'href': 'https://maximotest.tbi.nl/maxrest/oslc/os/mxwo_snd/_Q1QxRU4yLzEyMTIyODY-'}, {'href': 'https://maximotest.tbi.nl/maxrest/oslc/os/mxwo_snd/_Q1QxRU4yLzEyMTIyODc-'}, {'href': 'https://maximotest.tbi.nl/maxrest/oslc/os/mxwo_snd/_Q1QxRU4yLzEyMTIyODg-'}, {'href': 'https://maximotest.tbi.nl/maxrest/oslc/os/mxwo_snd/_Q1QxRU4yLzEyMTIyODk-'}, {'href': 'https://maximotest.tbi.nl/maxrest/oslc/os/mxwo_snd/_Q1QxRU4yLzEyMTIyOTA-'}, {'href': 'https://maximotest.tbi.nl/maxrest/oslc/os/mxwo_snd/_Q1QxRU4yLzEyMTIyOTE-'}, {'href': 'https://maximotest.tbi.nl/maxrest/oslc/os/mxwo_snd/_Q1QxRU4yLzEyMTIyOTI-'}, {'href': 'https://maximotest.tbi.nl/maxrest/oslc/os/mxwo_snd/_Q1QxRU4yLzEyMTU4Mzg-'}, {'href': 'https://maximotest.tbi.nl/maxrest/oslc/os/mxwo_snd/_Q1QxRU4yLzEyMTU4Mzk-'}, {'href': 'https://maximotest.tbi.nl/maxrest/oslc/os/mxwo_snd/_Q1QxRU4yLzEyMTU4NDA-'}, {'href': 'https://maximotest.tbi.nl/maxrest/oslc/os/mxwo_snd/_Q1QxRU4yLzEyMTU4NDE-'}, {'href': 'https://maximotest.tbi.nl/maxrest/oslc/os/mxwo_snd/_Q1QxRU4yLzEyMTU4NDQ-'}, {'href': 'https://maximotest.tbi.nl/maxrest/oslc/os/mxwo_snd/_Q1QxRU4yLzEyMTU4NDU-'}, {'href': 'https://maximotest.tbi.nl/maxrest/oslc/os/mxwo_snd/_Q1QxRU4yLzEyMTU4NDY-'}, {'href': 'https://maximotest.tbi.nl/maxrest/oslc/os/mxwo_snd/_Q1QxRU4yLzEyMTU4NDc-'}, {'href': 'https://maximotest.tbi.nl/maxrest/oslc/os/mxwo_snd/_Q1QxRU4yLzEyMTU4NDg-'}, {'href': 'https://maximotest.tbi.nl/maxrest/oslc/os/mxwo_snd/_Q1QxRU4yLzEyMTU4NDk-'}, {'href': 'https://maximotest.tbi.nl/maxrest/oslc/os/mxwo_snd/_Q1QxRU4yLzEyMTU4NTA-'}, {'href': 'https://maximotest.tbi.nl/maxrest/oslc/os/mxwo_snd/_Q1QxRU4yLzEyMTU4NTM-'}, {'href': 'https://maximotest.tbi.nl/maxrest/oslc/os/mxwo_snd/_Q1QxRU4yLzEyMTU4NTQ-'}, {'href': 'https://maximotest.tbi.nl/maxrest/oslc/os/mxwo_snd/_Q1QxRU4yLzEyMTU4NTU-'}, {'href': 'https://maximotest.tbi.nl/maxrest/oslc/os/mxwo_snd/_Q1QxRU4yLzEyMTU4NTY-'}, {'href': 'https://maximotest.tbi.nl/maxrest/oslc/os/mxwo_snd/_Q1QxRU4yLzEyMTU4NTc-'}, {'href': 'https://maximotest.tbi.nl/maxrest/oslc/os/mxwo_snd/_Q1QxRU4yLzEyMTU4NTg-'}, {'href': 'https://maximotest.tbi.nl/maxrest/oslc/os/mxwo_snd/_Q1QxRU4yLzEyMTU4NTk-'}, {'href': 'https://maximotest.tbi.nl/maxrest/oslc/os/mxwo_snd/_Q1QxRU4yLzEyMTU4NjA-'}, {'href': 'https://maximotest.tbi.nl/maxrest/oslc/os/mxwo_snd/_Q1QxRU4yLzEyMTU4OTI-'}, {'href': 'https://maximotest.tbi.nl/maxrest/oslc/os/mxwo_snd/_Q1QxRU4yLzEyMTU5NDE-'}, {'href': 'https://maximotest.tbi.nl/maxrest/oslc/os/mxwo_snd/_Q1QxRU4yLzEyMTU5NDI-'}, {'href': 'https://maximotest.tbi.nl/maxrest/oslc/os/mxwo_snd/_Q1QxRU4yLzEyMTU5NTI-'}, {'href': 'https://maximotest.tbi.nl/maxrest/oslc/os/mxwo_snd/_Q1QxRU4yLzEyMTU5NTY-'}, {'href': 'https://maximotest.tbi.nl/maxrest/oslc/os/mxwo_snd/_Q1QxRU4yLzEyMTU5NTc-'}, {'href': 'https://maximotest.tbi.nl/maxrest/oslc/os/mxwo_snd/_Q1QxRU4yLzEyMTU5NTM-'}, {'href': 'https://maximotest.tbi.nl/maxrest/oslc/os/mxwo_snd/_Q1QxRU4yLzEyMTU5NjA-'}, {'href': 'https://maximotest.tbi.nl/maxrest/oslc/os/mxwo_snd/_Q1QxRU4yLzEyMTU5NjE-'}, {'href': 'https://maximotest.tbi.nl/maxrest/oslc/os/mxwo_snd/_Q1QxRU4yLzEyMTU5NjY-'}, {'href': 'https://maximotest.tbi.nl/maxrest/oslc/os/mxwo_snd/_Q1QxRU4yLzEyMTU5Njc-'}, {'href': 'https://maximotest.tbi.nl/maxrest/oslc/os/mxwo_snd/_Q1QxRU4yLzEyMTU5Njg-'}, {'href': 'https://maximotest.tbi.nl/maxrest/oslc/os/mxwo_snd/_Q1QxRU4yLzEyMTU5Njk-'}, {'href': 'https://maximotest.tbi.nl/maxrest/oslc/os/mxwo_snd/_Q1QxRU4yLzEyMTU5NzA-'}, {'href': 'https://maximotest.tbi.nl/maxrest/oslc/os/mxwo_snd/_Q1QxRU4yLzEyMTU5NzE-'}, {'href': 'https://maximotest.tbi.nl/maxrest/oslc/os/mxwo_snd/_Q1QxRU4yLzEyMTYyNzU-'}, {'href': 'https://maximotest.tbi.nl/maxrest/oslc/os/mxwo_snd/_Q1QxRU4yLzEyMTc4MDg-'}, {'href': 'https://maximotest.tbi.nl/maxrest/oslc/os/mxwo_snd/_Q1QxRU4yLzEyMTc4MTA-'}, {'href': 'https://maximotest.tbi.nl/maxrest/oslc/os/mxwo_snd/_Q1QxRU4yLzEyMzI1Mzk-'}, {'href': 'https://maximotest.tbi.nl/maxrest/oslc/os/mxwo_snd/_Q1QxRU4yLzEyMzI1OTU-'}, {'href': 'https://maximotest.tbi.nl/maxrest/oslc/os/mxwo_snd/_Q1QxRU4yLzEyMzI1OTY-'}, {'href': 'https://maximotest.tbi.nl/maxrest/oslc/os/mxwo_snd/_Q1QxRU4yLzEyMzI1OTc-'}, {'href': 'https://maximotest.tbi.nl/maxrest/oslc/os/mxwo_snd/_Q1QxRU4yLzEyMzI2MDE-'}, {'href': 'https://maximotest.tbi.nl/maxrest/oslc/os/mxwo_snd/_Q1QxRU4yLzEyMzI2MDI-'}, {'href': 'https://maximotest.tbi.nl/maxrest/oslc/os/mxwo_snd/_Q1QxRU4yLzEyMzI2MDk-'}, {'href': 'https://maximotest.tbi.nl/maxrest/oslc/os/mxwo_snd/_Q1QxRU4yLzEyMzI3MTU-'}]\n",
      "<class 'pandas.core.frame.DataFrame'>\n",
      "RangeIndex: 99 entries, 0 to 98\n",
      "Data columns (total 1 columns):\n",
      " #   Column  Non-Null Count  Dtype \n",
      "---  ------  --------------  ----- \n",
      " 0   href    99 non-null     object\n",
      "dtypes: object(1)\n",
      "memory usage: 920.0+ bytes\n",
      "None\n"
     ]
    }
   ],
   "source": [
    "response_data = get_response(query)\n",
    "print(response_data)\n",
    "json_data = response_data.json()\n",
    "print(json_data['member'])\n",
    "df = pd.DataFrame(json_data['member'])\n",
    "print(df.info())"
   ]
  },
  {
   "cell_type": "code",
   "execution_count": 6,
   "metadata": {},
   "outputs": [],
   "source": [
    "with open('raw_json_payload.json', 'w') as output_file:\n",
    "    dump_list = []\n",
    "    for value in df['href'] :\n",
    "          url = value\n",
    "          headers = {\n",
    "            'maxauth': api_key,\n",
    "          }\n",
    "          url_params = {\n",
    "            'lean':1,\n",
    "            '_dropnulls':0,\n",
    "            'Accept':'application/json'\n",
    "          }\n",
    "          r = requests.get(url, headers=headers, params=url_params)\n",
    "\n",
    "          response_data = r.json()\n",
    "\n",
    "        dump_list.append(response_data)\n",
    "        \n",
    "    json.dump(dump_list, output_file, indent=6)"
   ]
  },
  {
   "cell_type": "code",
   "execution_count": null,
   "metadata": {},
   "outputs": [],
   "source": [
    "new_df = pd.DataFrame(dump_list)\n",
    "new_df"
   ]
  },
  {
   "cell_type": "code",
   "execution_count": null,
   "metadata": {},
   "outputs": [],
   "source": [
    "new_df.info()"
   ]
  },
  {
   "cell_type": "code",
   "execution_count": null,
   "metadata": {},
   "outputs": [],
   "source": [
    "json_data = new_df.to_json()"
   ]
  }
 ],
 "metadata": {
  "kernelspec": {
   "display_name": "Python 3",
   "language": "python",
   "name": "python3"
  },
  "language_info": {
   "codemirror_mode": {
    "name": "ipython",
    "version": 3
   },
   "file_extension": ".py",
   "mimetype": "text/x-python",
   "name": "python",
   "nbconvert_exporter": "python",
   "pygments_lexer": "ipython3",
   "version": "3.8.3"
  },
  "toc": {
   "base_numbering": 1,
   "nav_menu": {},
   "number_sections": true,
   "sideBar": true,
   "skip_h1_title": false,
   "title_cell": "Table of Contents",
   "title_sidebar": "Contents",
   "toc_cell": false,
   "toc_position": {},
   "toc_section_display": true,
   "toc_window_display": false
  }
 },
 "nbformat": 4,
 "nbformat_minor": 5
}
