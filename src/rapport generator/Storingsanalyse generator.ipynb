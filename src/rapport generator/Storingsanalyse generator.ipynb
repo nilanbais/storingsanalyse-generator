{
 "cells": [
  {
   "cell_type": "markdown",
   "metadata": {
    "hide_input": true
   },
   "source": [
    "![INF_AM_LOGO.jpg](data:image/jpeg;base64,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)"
   ]
  },
  {
   "cell_type": "code",
   "execution_count": 4,
   "metadata": {
    "hide_input": false
   },
   "outputs": [],
   "source": [
    "import os\n",
    "import json\n",
    "import asyncio\n",
    "\n",
    "import traitlets\n",
    "\n",
    "import numpy as np\n",
    "import pandas as pd\n",
    "\n",
    "import ipywidgets as widgets \n",
    "from ipywidgets import interact, interact_manual, Layout\n",
    "\n",
    "import time\n",
    "from datetime import datetime, timedelta\n",
    "\n",
    "from storingsanalyse import StoringsAnalyse\n",
    "from storingsanalyse_v2 import StoringsAnalyse as StoringsAnalyseV2\n",
    "from text_writer import DocumentGeneratorCoentunnel\n",
    "\n",
    "import numpy as np\n",
    "import matplotlib.pyplot as plt\n",
    "from matplotlib.figure import Figure\n",
    "\n",
    "from IPython.display import Markdown, Latex\n",
    "\n",
    "# Class zorgt ervoor dat een waarde meegegeven kan worden aan een Button\n",
    "import traitlets\n",
    "class LoadedButton(widgets.Button):\n",
    "    \"\"\"A button that can holds a value as a attribute.\"\"\"\n",
    "\n",
    "    def __init__(self, value=None, *args, **kwargs):\n",
    "        super(LoadedButton, self).__init__(*args, **kwargs)\n",
    "        # Create the value attribute.\n",
    "        self.add_traits(value=traitlets.Any(value))\n",
    "\n",
    "\n",
    "# Aparte functie voor het wachten op verandering (aka input van de ME)\n",
    "def wait_for_change(widget):\n",
    "    future = asyncio.Future()\n",
    "    def getvalue(change):\n",
    "        future.set_result(change.description)\n",
    "        widget.on_click(getvalue, remove=True) \n",
    "        # we need to free up the binding to getvalue to avoid an InvalidState error\n",
    "        # buttons don't support unobserve\n",
    "        # so use `remove=True` \n",
    "    widget.on_click(getvalue)\n",
    "    return future\n",
    "\n",
    "# Lege variabele voor class instance\n",
    "sa = 0"
   ]
  },
  {
   "cell_type": "markdown",
   "metadata": {
    "hide_input": false
   },
   "source": [
    "# Storingsanalyse"
   ]
  },
  {
   "cell_type": "code",
   "execution_count": 5,
   "metadata": {
    "hide_input": false,
    "scrolled": true
   },
   "outputs": [
    {
     "data": {
      "application/vnd.jupyter.widget-view+json": {
       "model_id": "882fa4ea8f064bd29997ad16732c76b5",
       "version_major": 2,
       "version_minor": 0
      },
      "text/plain": [
       "Dropdown(description='Project:', options=('Coentunnel-tracé', 'Sluis Eefde'), value='Coentunnel-tracé')"
      ]
     },
     "metadata": {},
     "output_type": "display_data"
    },
    {
     "data": {
      "application/vnd.jupyter.widget-view+json": {
       "model_id": "40ac519355c04853bfdbb8e4a7762b65",
       "version_major": 2,
       "version_minor": 0
      },
      "text/plain": [
       "Dropdown(description='Rapport type:', options=('Kwartaalrapportage', 'Jaarrapportage'), value='Kwartaalrapport…"
      ]
     },
     "metadata": {},
     "output_type": "display_data"
    },
    {
     "data": {
      "application/vnd.jupyter.widget-view+json": {
       "model_id": "4c6ff484d1fc4853aba17ed13b5ce383",
       "version_major": 2,
       "version_minor": 0
      },
      "text/plain": [
       "Dropdown(description='Kwartaal:', options=('n.v.t.', 'Q1', 'Q2', 'Q3', 'Q4'), value='n.v.t.')"
      ]
     },
     "metadata": {},
     "output_type": "display_data"
    },
    {
     "data": {
      "application/vnd.jupyter.widget-view+json": {
       "model_id": "093099f6912a40c9a2da7689450480b0",
       "version_major": 2,
       "version_minor": 0
      },
      "text/plain": [
       "Text(value='bWF4YWRtaW46R21iQ1dlbkQyMDE5', description='API key:', layout=Layout(width='50%'), placeholder='Ty…"
      ]
     },
     "metadata": {},
     "output_type": "display_data"
    },
    {
     "data": {
      "application/vnd.jupyter.widget-view+json": {
       "model_id": "57de62a909cd496692e363b23f23176b",
       "version_major": 2,
       "version_minor": 0
      },
      "text/plain": [
       "Text(value='..\\\\staging file\\\\validating_input_data.xlsx', description='Pad naar Staging File:', layout=Layout…"
      ]
     },
     "metadata": {},
     "output_type": "display_data"
    }
   ],
   "source": [
    "input_project = widgets.Dropdown(\n",
    "    options=[\"Coentunnel-tracé\", \"Sluis Eefde\"],\n",
    "    value=\"Coentunnel-tracé\",\n",
    "    description='Project:',\n",
    "    disabled=False)\n",
    "\n",
    "input_rapport_type = widgets.Dropdown(\n",
    "    options=[\"Kwartaalrapportage\", \"Jaarrapportage\"],\n",
    "    description='Rapport type:',\n",
    "    disabled=False)\n",
    "\n",
    "input_quarter = widgets.Dropdown(\n",
    "    options=[\"n.v.t.\", \"Q1\", \"Q2\", \"Q3\", \"Q4\"],\n",
    "    description='Kwartaal:',\n",
    "    disabled=False)\n",
    "\n",
    "input_api_key = widgets.Text(\n",
    "    value='bWF4YWRtaW46R21iQ1dlbkQyMDE5',\n",
    "    placeholder='Type something',\n",
    "    description='API key:',\n",
    "    disabled=False,\n",
    "    layout=Layout(width='50%'))\n",
    "\n",
    "input_path_staging_file = widgets.Text(\n",
    "    placeholder='Path to the Staging File',\n",
    "    value='..\\\\staging file\\\\validating_input_data.xlsx',\n",
    "    description='Pad naar Staging File:',\n",
    "    disabled=False,\n",
    "    layout=Layout(width='50%'))\n",
    "\n",
    "display(input_project, input_rapport_type, input_quarter, input_api_key, input_path_staging_file)"
   ]
  },
  {
   "cell_type": "code",
   "execution_count": 6,
   "metadata": {},
   "outputs": [],
   "source": [
    "dg = DocumentGeneratorCoentunnel(project=input_project.value, \n",
    "                         rapport_type=input_rapport_type.value, \n",
    "                         quarter=input_quarter.value,\n",
    "                         year=datetime.now().year,\n",
    "                         api_key=input_api_key.value, \n",
    "                         path_to_staging_file=input_path_staging_file.value)\n",
    "dg.build_full_document()"
   ]
  },
  {
   "cell_type": "code",
   "execution_count": 6,
   "metadata": {},
   "outputs": [
    {
     "data": {
      "application/vnd.jupyter.widget-view+json": {
       "model_id": "14dad2daa55e42569c41c102c1228071",
       "version_major": 2,
       "version_minor": 0
      },
      "text/plain": [
       "LoadedButton(description='Generate docuements', layout=Layout(width='25%'), style=ButtonStyle())"
      ]
     },
     "metadata": {},
     "output_type": "display_data"
    },
    {
     "name": "stdout",
     "output_type": "stream",
     "text": [
      "Please insert input parameters.\n",
      "Click 'Generate docuements' to generate the documents.\n"
     ]
    }
   ],
   "source": [
    "# \"\"\"\n",
    "# De inhoud van deze cell bevat de code voor een generator. Om de generator te kunnen gebruiken op een manier waarbij de\n",
    "# code wacht op input van de gebruiker, moet alle code worden toegevoegd aan de asynchone functie na de await keyword.\n",
    "# Ter behoeven van de leesbaarheid kan dit ook gedaan worden met behulp van een extra class die een rapport kan maken op \n",
    "# basis van de input parameters.\n",
    "# \"\"\"\n",
    "\n",
    "# # Instance van LoadedButton\n",
    "# button_description = 'Generate docuements'\n",
    "\n",
    "# button = LoadedButton(description=button_description, value=False, layout=Layout(width='25%'))\n",
    "# loop = asyncio.get_event_loop()\n",
    "\n",
    "# async def gen_start():\n",
    "#     print('Please insert input parameters.')\n",
    "#     print(f\"Click '{button_description}' to generate the documents.\")\n",
    "#     start = await wait_for_change(button)  # Wachter gebeurt o.a. hierdoor \n",
    "#     print('starting')\n",
    "#     dg = DocumentGeneratorCoentunnel(project=input_project.value, \n",
    "#                                      rapport_type=input_rapport_type.value, \n",
    "#                                      quarter=input_quarter.value,\n",
    "#                                      year=datetime.now().year,\n",
    "#                                      api_key=input_api_key.value, \n",
    "#                                      path_to_staging_file=input_path_staging_file.value)\n",
    "#     # onderdaande misschien combineren met een log functie o.i.d.\n",
    "#     print('Generating documents')\n",
    "#     dg.build_full_document()\n",
    "    \n",
    "    \n",
    "# # Starting function and displaying button\n",
    "# loop.create_task(gen_start())\n",
    "# display(button)"
   ]
  }
 ],
 "metadata": {
  "kernelspec": {
   "display_name": "Python 3",
   "language": "python",
   "name": "python3"
  },
  "language_info": {
   "codemirror_mode": {
    "name": "ipython",
    "version": 3
   },
   "file_extension": ".py",
   "mimetype": "text/x-python",
   "name": "python",
   "nbconvert_exporter": "python",
   "pygments_lexer": "ipython3",
   "version": "3.8.3"
  },
  "toc": {
   "base_numbering": 1,
   "nav_menu": {},
   "number_sections": true,
   "sideBar": true,
   "skip_h1_title": false,
   "title_cell": "Table of Contents",
   "title_sidebar": "Contents",
   "toc_cell": false,
   "toc_position": {},
   "toc_section_display": true,
   "toc_window_display": false
  }
 },
 "nbformat": 4,
 "nbformat_minor": 4
}
