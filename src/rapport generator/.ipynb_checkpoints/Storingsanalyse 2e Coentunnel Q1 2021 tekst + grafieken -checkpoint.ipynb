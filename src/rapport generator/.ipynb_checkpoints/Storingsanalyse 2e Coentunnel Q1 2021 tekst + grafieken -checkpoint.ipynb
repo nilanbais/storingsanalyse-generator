{
 "cells": [
  {
   "cell_type": "markdown",
   "metadata": {},
   "source": [
    "# Voorbereiding"
   ]
  },
  {
   "cell_type": "code",
   "execution_count": 1,
   "metadata": {},
   "outputs": [],
   "source": [
    "import os\n",
    "import json\n",
    "import asyncio\n",
    "\n",
    "import traitlets\n",
    "\n",
    "import numpy as np\n",
    "import pandas as pd\n",
    "\n",
    "import ipywidgets as widgets \n",
    "from ipywidgets import interact, interact_manual, Layout\n",
    "\n",
    "import time\n",
    "from datetime import datetime\n",
    "\n",
    "from storingsanalyse import StoringsAnalyse\n",
    "\n",
    "import numpy as np\n",
    "import matplotlib.pyplot as plt\n",
    "from matplotlib.figure import Figure\n",
    "\n",
    "from IPython.display import Markdown, Latex"
   ]
  },
  {
   "cell_type": "code",
   "execution_count": 2,
   "metadata": {
    "hide_input": true
   },
   "outputs": [],
   "source": [
    "class LoadedButton(widgets.Button):\n",
    "    \"\"\"A button that can holds a value as a attribute.\"\"\"\n",
    "\n",
    "    def __init__(self, value=None, *args, **kwargs):\n",
    "        super(LoadedButton, self).__init__(*args, **kwargs)\n",
    "        # Create the value attribute.\n",
    "        self.add_traits(value=traitlets.Any(value))\n",
    "\n",
    "\n",
    "# Aparte functie voor het wachten op verandering (aka input van de ME)\n",
    "def wait_for_change(widget):\n",
    "    future = asyncio.Future()\n",
    "    def getvalue(change):\n",
    "        future.set_result(change.description)\n",
    "        widget.on_click(getvalue, remove=True) \n",
    "        # we need to free up the binding to getvalue to avoid an InvalidState error\n",
    "        # buttons don't support unobserve\n",
    "        # so use `remove=True` \n",
    "    widget.on_click(getvalue)\n",
    "    return future"
   ]
  },
  {
   "cell_type": "code",
   "execution_count": 3,
   "metadata": {
    "hide_input": true
   },
   "outputs": [],
   "source": [
    "\"\"\" In the line bellow fill in your API key without < and > \"\"\" \n",
    "api_key = 'bWF4YWRtaW46R21iQ1dlbkQyMDE5' # provided to you by a Maximo Consultant\n",
    "\n",
    "\"\"\" In the line bellow fill in the desired object structure \"\"\"\n",
    "obj_struct = 'MXWO_SND' # name of the Maximo object structure\n",
    "\n",
    "\"\"\" In the line bellow fill in the PO number and the SITEID without the < and > \"\"\"\n",
    "query = 'siteid=\"CT1EN2\" and worktype=\"COR\" and reportdate>=\"2018-01-01T00:00:00-00:00\" and reportdate<=\"2018-03-30T00:00:00-00:00\"'"
   ]
  },
  {
   "cell_type": "code",
   "execution_count": 4,
   "metadata": {},
   "outputs": [],
   "source": [
    "sa = StoringsAnalyse(\"coentunnel\", api_key, obj_struct)"
   ]
  },
  {
   "cell_type": "code",
   "execution_count": 5,
   "metadata": {},
   "outputs": [],
   "source": [
    "sa.read_staging_file(\"20210702_12_55_staging_file.xlsx\")"
   ]
  },
  {
   "cell_type": "code",
   "execution_count": 6,
   "metadata": {},
   "outputs": [],
   "source": [
    "sf_data = sa.staging_file_data"
   ]
  },
  {
   "cell_type": "markdown",
   "metadata": {
    "hide_input": true
   },
   "source": [
    "### Aanpassen van de staging_file -- DEZE STAP WORDT VERWIJDERD IN DE TOEKOMST\n",
    "Het opbouwen van deze automatische storingsanalyse vraagt om een ingevulde kolom 'type melding'. Om het process van opbouwen niet te laten stagneren op dit aspect, wordt er hieronder fictive data gegenereerd. Met behulp van de fictieve data wordt het genereren van de verschillende tabellen en grafieken gebouwd."
   ]
  },
  {
   "cell_type": "code",
   "execution_count": 7,
   "metadata": {
    "hide_input": true
   },
   "outputs": [],
   "source": [
    "from random import randrange\n",
    "\n",
    "lijst_opties = ['Storing', 'Incident', 'Preventief', 'Onterecht']\n",
    "random_ranges = [lijst_opties[randrange(0, 4, 1)] for _ in range(len(sf_data['type melding (Storing/Incident/Preventief/Onterecht)']))]\n",
    "sf_data.loc[:, 'type melding (Storing/Incident/Preventief/Onterecht)'] = random_ranges"
   ]
  },
  {
   "cell_type": "code",
   "execution_count": 8,
   "metadata": {
    "hide_input": true
   },
   "outputs": [],
   "source": [
    "lijst_opties = ['P01', 'P02', 'P03', 'P04', 'P05', 'P06', 'P07', 'P08', 'P09', 'P10', 'P11', np.nan]\n",
    "random_ranges = [lijst_opties[randrange(0, len(lijst_opties), 1)] for _ in range(len(sf_data['probleem code']))]\n",
    "sf_data.loc[:, 'probleem code'] = random_ranges"
   ]
  },
  {
   "cell_type": "code",
   "execution_count": 9,
   "metadata": {
    "hide_input": true
   },
   "outputs": [],
   "source": [
    "lijst_opties = ['C01', 'C02', 'C03', 'C04', 'C05', 'C06', 'C07', 'C08', 'C09', 'C10', 'C11', 'C12', 'C13', 'C14', 'C15', 'C16', np.nan]\n",
    "random_ranges = [lijst_opties[randrange(0, len(lijst_opties), 1)] for _ in range(len(sf_data['oorzaak code']))]\n",
    "sf_data.loc[:, 'oorzaak code'] = random_ranges"
   ]
  },
  {
   "cell_type": "code",
   "execution_count": 10,
   "metadata": {
    "hide_input": true
   },
   "outputs": [],
   "source": [
    "lijst_opties = ['S01', 'S02', 'S03', 'S04', 'S05', 'S06', 'S07', 'S08', np.nan]\n",
    "random_ranges = [lijst_opties[randrange(0, len(lijst_opties), 1)] for _ in range(len(sf_data['oplos code']))]\n",
    "sf_data.loc[:, 'oplos code'] = random_ranges"
   ]
  },
  {
   "cell_type": "code",
   "execution_count": 11,
   "metadata": {
    "hide_input": true,
    "scrolled": true
   },
   "outputs": [],
   "source": [
    "# sf_data.iloc[:5, 15:25]"
   ]
  },
  {
   "cell_type": "code",
   "execution_count": 12,
   "metadata": {
    "hide_input": true
   },
   "outputs": [],
   "source": [
    "# changing the di_numbers from '45-10' to '45'\n",
    "new_num = []\n",
    "for num in sf_data['sbs']:\n",
    "    if num is np.nan:\n",
    "        new_num.append(num)\n",
    "    else:\n",
    "        new_num.append(sa._isolate_di_number(num))\n",
    "\n",
    "sf_data.loc[:, 'sbs'] = new_num"
   ]
  },
  {
   "cell_type": "code",
   "execution_count": 13,
   "metadata": {
    "hide_input": true
   },
   "outputs": [],
   "source": [
    "# sf_data.iloc[:5, 5:15]"
   ]
  },
  {
   "cell_type": "code",
   "execution_count": 14,
   "metadata": {},
   "outputs": [
    {
     "data": {
      "text/plain": [
       "'Data available through the use of StoringsAnalyse.meldingen and StoringsAnalyse.storingen'"
      ]
     },
     "execution_count": 14,
     "metadata": {},
     "output_type": "execute_result"
    }
   ],
   "source": [
    "sa.split_staging_file()"
   ]
  },
  {
   "cell_type": "markdown",
   "metadata": {
    "hide_input": false
   },
   "source": [
    "# Analyse"
   ]
  },
  {
   "cell_type": "markdown",
   "metadata": {},
   "source": [
    "## Aantallen meldingen"
   ]
  },
  {
   "cell_type": "markdown",
   "metadata": {},
   "source": [
    "### Aantal meldingen per maand"
   ]
  },
  {
   "cell_type": "code",
   "execution_count": 15,
   "metadata": {
    "hide_input": false
   },
   "outputs": [],
   "source": [
    "totaal_aantal_meldingen = len(sf_data.index)\n",
    "\n",
    "meldingen_per_maand = sf_data['month_number'].value_counts()\n",
    "\n",
    "gemiddelde_per_maand = sum(meldingen_per_maand) / len(meldingen_per_maand)\n",
    "\n",
    "num_maand_max_meldingen = [meldingen_per_maand.index[meldingen_per_maand == max(meldingen_per_maand)][0]]\n",
    "maand_max = sa._month_num_to_name(month_num=num_maand_max_meldingen)\n",
    "\n",
    "num_maand_min_meldingen = [meldingen_per_maand.index[meldingen_per_maand == min(meldingen_per_maand)][0]]\n",
    "maand_min = sa._month_num_to_name(month_num=num_maand_min_meldingen)\n",
    "\n",
    "data_2019 = [key for key in sa.metadata.meldingen().keys() if '2019' in key]\n",
    "meldingen_2019 = sa.metadata.sum_values(dictionary=sa.meldingen, keys=data_2019)\n",
    "\n",
    "jaarlijks_gemiddelde = sa.metadata.avg_yearly(dictionary=sa.metadata.meldingen(), exclude_year='2020')\n",
    "\n",
    "maanden = sa.metadata.get_month_list(exclude_year='2020')\n",
    "maandelijks_gemiddelde = sa.metadata.avg_monthly(dictionary=sa.metadata.meldingen(), exclude_keys=maanden)\n",
    "\n",
    "kwartaal_gemiddelde = sa.metadata.avg_quarterly(dictionary=sa.metadata.meldingen())"
   ]
  },
  {
   "cell_type": "code",
   "execution_count": 16,
   "metadata": {
    "hide_input": false
   },
   "outputs": [
    {
     "data": {
      "text/markdown": [
       "\n",
       "Om te kunnen bepalen of een trend waarneembaar is in het aantal meldingen per \n",
       "maand, wordt als onderdeel van deze rapportage een grafiek toegevoegd. Zie \n",
       "bijlage 1: “Aantal meldingen per maand”.\n",
       "\n",
       "Uit de grafiek valt het volgende te constateren:\n",
       "\n",
       "• Het totaal aantal meldingen in Q1 2021 : **99** \n",
       "\n",
       "• Het gemiddelde aantal meldingen per maand : **33.0** \n",
       "\n",
       "• Hoogste aantal meldingen in de maand **Februari** : **45**\n",
       "\n",
       "• Laagste aantal meldingen in de maanden **Maart** : **24**\n",
       "\n",
       "• Het gemiddelde aantal meldingen per maand vanaf **01-2016**: **35.98412698412698**\n",
       "\n",
       "• Het gemiddelde aantal meldingen per kwartaal vanaf **01-2016**: **107.95238095238095**\n"
      ],
      "text/plain": [
       "<IPython.core.display.Markdown object>"
      ]
     },
     "metadata": {},
     "output_type": "display_data"
    }
   ],
   "source": [
    "tekst = f\"\"\"\n",
    "Om te kunnen bepalen of een trend waarneembaar is in het aantal meldingen per \n",
    "maand, wordt als onderdeel van deze rapportage een grafiek toegevoegd. Zie \n",
    "bijlage 1: “Aantal meldingen per maand”.\n",
    "\n",
    "Uit de grafiek valt het volgende te constateren:\n",
    "\n",
    "• Het totaal aantal meldingen in Q1 2021 : **{totaal_aantal_meldingen}** \n",
    "\n",
    "• Het gemiddelde aantal meldingen per maand : **{gemiddelde_per_maand}** \n",
    "\n",
    "• Hoogste aantal meldingen in de maand **{maand_max}** : **{max(meldingen_per_maand)}**\n",
    "\n",
    "• Laagste aantal meldingen in de maanden **{maand_min}** : **{min(meldingen_per_maand)}**\n",
    "\n",
    "• Het gemiddelde aantal meldingen per maand vanaf **{sa.start_date}**: **{maandelijks_gemiddelde}**\n",
    "\n",
    "• Het gemiddelde aantal meldingen per kwartaal vanaf **{sa.start_date}**: **{kwartaal_gemiddelde}**\n",
    "\"\"\"\n",
    "display(Markdown(tekst))"
   ]
  },
  {
   "cell_type": "code",
   "execution_count": 17,
   "metadata": {
    "hide_input": false
   },
   "outputs": [],
   "source": [
    "huidige_q = 'Q1'\n",
    "huidig_jaar = '2021'\n",
    "\n",
    "# Aantal meldingen in voorgaande q\n",
    "voorgaande_q = sa.quarter_sequence.get_prev_val(huidige_q)\n",
    "voorgaand_jaar = str(int(huidig_jaar) - 1)\n",
    "mlist = sa.metadata.get_keys(dictionary=sa.metadata.meldingen(), containing_quarter=[voorgaande_q], containing_year=[voorgaand_jaar])\n",
    "meldingen_gefilterd = sa.metadata.filter_dictionary_keys(dictionary=sa.metadata.meldingen(), keys=mlist)\n",
    "totaal_meldingen_voorgaand_kwartaal = sa.metadata.sum_values(meldingen_gefilterd)\n",
    "\n",
    "# Aantal meldingen in zelfde q voorgaand jaar\n",
    "mlist = sa.metadata.get_keys(dictionary=sa.metadata.meldingen(),containing_quarter=[huidige_q], containing_year=[voorgaand_jaar])\n",
    "meldingen_gefilterd = sa.metadata.filter_dictionary_keys(dictionary=sa.metadata.meldingen(), keys=mlist)\n",
    "totaal_meldingen_zelfde_kwartaal = sa.metadata.sum_values(meldingen_gefilterd)"
   ]
  },
  {
   "cell_type": "code",
   "execution_count": 18,
   "metadata": {
    "hide_input": false
   },
   "outputs": [
    {
     "data": {
      "text/markdown": [
       "\n",
       "In **Q1** **2020** waren in totaal **60** meldingen gemaakt. In **Q1** **2021** zijn er **39** meldingen \n",
       "meer t.o.v. **Q1** **2020**. \n",
       " \n",
       "In **Q4** **2020** waren in totaal **79** meldingen gemaakt. In **Q1** **2021** zijn er **20** meldingen \n",
       "meer t.o.v. **Q4** **2020**. \n"
      ],
      "text/plain": [
       "<IPython.core.display.Markdown object>"
      ]
     },
     "metadata": {},
     "output_type": "display_data"
    }
   ],
   "source": [
    "tekst = f\"\"\"\n",
    "In **{huidige_q}** **{voorgaand_jaar}** waren in totaal **{totaal_meldingen_zelfde_kwartaal}** meldingen gemaakt. In **{huidige_q}** **{huidig_jaar}** zijn er **{totaal_aantal_meldingen-totaal_meldingen_zelfde_kwartaal}** meldingen \n",
    "meer t.o.v. **{huidige_q}** **{voorgaand_jaar}**. \n",
    " \n",
    "In **{voorgaande_q}** **{voorgaand_jaar}** waren in totaal **{totaal_meldingen_voorgaand_kwartaal}** meldingen gemaakt. In **{huidige_q}** **{huidig_jaar}** zijn er **{totaal_aantal_meldingen-totaal_meldingen_voorgaand_kwartaal}** meldingen \n",
    "meer t.o.v. **{voorgaande_q}** **{voorgaand_jaar}**. \n",
    "\"\"\"\n",
    "display(Markdown(tekst))"
   ]
  },
  {
   "cell_type": "markdown",
   "metadata": {},
   "source": [
    "### Aantal meldingen per subsysteem "
   ]
  },
  {
   "cell_type": "code",
   "execution_count": 19,
   "metadata": {
    "hide_input": true
   },
   "outputs": [],
   "source": [
    "df = sa.meldingen.copy()\n",
    "# unieke types vastlegen\n",
    "unique_types = list(df.loc[:, 'sbs'].unique())\n",
    "\n",
    "sbs_count = df.loc[:, 'sbs'].value_counts()"
   ]
  },
  {
   "cell_type": "code",
   "execution_count": 20,
   "metadata": {
    "hide_input": true,
    "scrolled": true
   },
   "outputs": [
    {
     "data": {
      "application/vnd.jupyter.widget-view+json": {
       "model_id": "43fbc478c2bb4a7d99f1d53344a34b4c",
       "version_major": 2,
       "version_minor": 0
      },
      "text/plain": [
       "IntSlider(value=0, continuous_update=False, description='Drempelwaarde:', max=10, style=SliderStyle(descriptio…"
      ]
     },
     "metadata": {},
     "output_type": "display_data"
    }
   ],
   "source": [
    "input_threshhold = widgets.IntSlider(\n",
    "    value=0,\n",
    "    min=0,\n",
    "    max=sbs_count.max(),\n",
    "    step=1,\n",
    "    description='Drempelwaarde:',\n",
    "    disabled=False,\n",
    "    continuous_update=False,\n",
    "    orientation='horizontal',\n",
    "    readout=True,\n",
    "    readout_format='d',\n",
    "    style=dict(description_width='initial')\n",
    ")\n",
    "\n",
    "display(input_threshhold)"
   ]
  },
  {
   "cell_type": "code",
   "execution_count": 21,
   "metadata": {
    "hide_input": true
   },
   "outputs": [],
   "source": [
    "sbs_to_process = [x for x in sbs_count.index if sbs_count.at[x] >= input_threshhold.value]\n",
    "\n",
    "r2p = list()\n",
    "for sbs in sbs_to_process:\n",
    "    meldingen_per_sbs = sbs_count[sbs]\n",
    "    percentage_storing = round((meldingen_per_sbs / sum(sbs_count)) * 100, 2)\n",
    "    line = f\"{sa._get_breakdown_description(sbs)[0]}\\t- {meldingen_per_sbs} meldingen ({percentage_storing}% van het totale aantal meldingen)\"\n",
    "    r2p.append(line)"
   ]
  },
  {
   "cell_type": "code",
   "execution_count": 22,
   "metadata": {
    "hide_input": true
   },
   "outputs": [],
   "source": [
    "# notification type\n",
    "ntypes = list(df.loc[:, 'type melding (Storing/Incident/Preventief/Onterecht)'].unique())\n",
    "ntype_count = df.loc[:, 'type melding (Storing/Incident/Preventief/Onterecht)'].value_counts()\n",
    "n2p = list()\n",
    "for n in ntypes:\n",
    "    line = f\"{ntype_count[n]} meldingen zijn gecategoriseerd als {n}.\"\n",
    "    n2p.append(line)"
   ]
  },
  {
   "cell_type": "code",
   "execution_count": 129,
   "metadata": {
    "hide_input": false
   },
   "outputs": [
    {
     "data": {
      "text/markdown": [
       "\n",
       "Er wordt en Pareto analyse gemaakt van het totaal aantal meldingen per subsysteem. Deze is toegevoegd als bijlage 1. \n",
       " \n",
       "Uit de pareto blijkt dat in **Q1** **2020** een totaal van **99** meldingen zijn gemeld, intern \n",
       "dan wel extern. Voor het overzicht zijn de meldingen bekeken met **2** of meer \n",
       "meldingen. Dit is de top **8** en heeft een totaal van 12** meldingen van de in totaal \n",
       "**99** (dit is **12.12**% van het totaal). \n",
       "Hieronder staan de deelinstallatie**s**:\n",
       "\n",
       "\n",
       "\n",
       "**-\tAfsluitbomen (AB)\t- 4 storingen (33.33% van het totale aantal storingen)**\n",
       "\n",
       "**-\tVerkeerssignaleringssysteem (MTM)\t- 2 storingen (16.67% van het totale aantal storingen)**\n",
       "\n",
       "**-\tCalamiteiten doorsteek (CaDo)\t- 1 storingen (8.33% van het totale aantal storingen)**\n",
       "\n",
       "**-\tHoogfrequent installatie (HF-Systeem)\t- 1 storingen (8.33% van het totale aantal storingen)**\n",
       "\n",
       "**-\tBrandblusinstallatie tunnel en hulpposten\t- 1 storingen (8.33% van het totale aantal storingen)**\n",
       "\n",
       "**-\tOpenbare verlichting (OV)\t- 1 storingen (8.33% van het totale aantal storingen)**\n",
       "\n",
       "**-\tKantelwalsborden (KW)\t- 1 storingen (8.33% van het totale aantal storingen)**\n",
       "\n",
       "**-\tTelefoon en intercominstallatie\t- 1 storingen (8.33% van het totale aantal storingen)**\n",
       "\n",
       "\n",
       "\n",
       "De **99** van **Q1** **2021** zijn als volgt onder te verdelen:\n",
       "\n",
       "\n",
       "**-\t26 meldingen zijn gecategoriseerd als Storing.**\n",
       "\n",
       "**-\t21 meldingen zijn gecategoriseerd als Preventief.**\n",
       "\n",
       "**-\t26 meldingen zijn gecategoriseerd als Onterecht.**\n",
       "\n",
       "**-\t26 meldingen zijn gecategoriseerd als Incident.**\n",
       "\n",
       "\n"
      ],
      "text/plain": [
       "<IPython.core.display.Markdown object>"
      ]
     },
     "metadata": {},
     "output_type": "display_data"
    }
   ],
   "source": [
    "# '\\' is not allowed as character in a f-string like bellow. reason for newline and tab\n",
    "newline = '\\n'\n",
    "tab = '\\t'\n",
    "\n",
    "tekst=f\"\"\"\n",
    "Er wordt en Pareto analyse gemaakt van het totaal aantal meldingen per subsysteem. Deze is toegevoegd als bijlage 1. \n",
    " \n",
    "Uit de pareto blijkt dat in **{huidige_q}** **{voorgaand_jaar}** een totaal van **{totaal_aantal_meldingen}** meldingen zijn gemeld, intern \n",
    "dan wel extern. Voor het overzicht zijn de meldingen bekeken met **{input_threshhold.value}** of meer \n",
    "meldingen. Dit is de top **{len(sbs_to_process)}** en heeft een totaal van {sum(sbs_count[sbs_to_process])}** meldingen van de in totaal \n",
    "**{totaal_aantal_meldingen}** (dit is **{round((sum(sbs_count[sbs_to_process])/totaal_aantal_meldingen) * 100, 2)}**% van het totaal). \n",
    "Hieronder staan de deelinstallatie**{'s' if len(sbs_to_process) > 1 else ''}**:\n",
    "\n",
    "\n",
    "{''.join((newline + '**-' + tab + line + '**' + newline for line in r2p))}\n",
    "\n",
    "\n",
    "De **{totaal_aantal_meldingen}** van **{huidige_q}** **{huidig_jaar}** zijn als volgt onder te verdelen:\n",
    "\n",
    "{''.join((newline + '**-' + tab + ntype_line + '**' + newline for ntype_line in n2p))}\n",
    "\n",
    "\"\"\"\n",
    "display(Markdown(tekst))"
   ]
  },
  {
   "cell_type": "markdown",
   "metadata": {},
   "source": [
    "## Aantallen storingen"
   ]
  },
  {
   "cell_type": "markdown",
   "metadata": {},
   "source": [
    "### Aantal storingen per maand"
   ]
  },
  {
   "cell_type": "code",
   "execution_count": 24,
   "metadata": {
    "hide_input": true
   },
   "outputs": [],
   "source": [
    "totaal_aantal_storingen = len(sf_data.index)\n",
    "\n",
    "storingen_per_maand = sf_data['month_number'].value_counts()\n",
    "\n",
    "gemiddelde_per_maand = sum(storingen_per_maand) / len(storingen_per_maand)\n",
    "\n",
    "num_maand_max_storingen = [storingen_per_maand.index[storingen_per_maand == max(storingen_per_maand)][0]]\n",
    "maand_max = sa._month_num_to_name(month_num=num_maand_max_storingen)\n",
    "\n",
    "num_maand_min_storingen = [storingen_per_maand.index[storingen_per_maand == min(storingen_per_maand)][0]]\n",
    "maand_min = sa._month_num_to_name(month_num=num_maand_min_storingen)\n",
    "\n",
    "data_2019 = [key for key in sa.metadata.storingen().keys() if '2019' in key]\n",
    "storingen_2019 = sa.metadata.sum_values(dictionary=sa.storingen, keys=data_2019)\n",
    "\n",
    "jaarlijks_gemiddelde = sa.metadata.avg_yearly(dictionary=sa.metadata.storingen(), exclude_year='2020')\n",
    "\n",
    "maanden = sa.metadata.get_month_list(exclude_year='2020')\n",
    "maandelijks_gemiddelde = sa.metadata.avg_monthly(dictionary=sa.metadata.storingen(), exclude_keys=maanden)\n",
    "\n",
    "kwartaal_gemiddelde = sa.metadata.avg_quarterly(dictionary=sa.metadata.storingen())"
   ]
  },
  {
   "cell_type": "code",
   "execution_count": 25,
   "metadata": {
    "hide_input": false
   },
   "outputs": [
    {
     "data": {
      "text/markdown": [
       "\n",
       "Om te kunnen bepalen of een trend waarneembaar is in het aantal storingen per \n",
       "maand, wordt als onderdeel van deze rapportage een grafiek toegevoegd. Zie \n",
       "bijlage 1: “Aantal storingen per maand”.\n",
       "\n",
       "Uit de grafiek valt het volgende te constateren:\n",
       "\n",
       "• Het totaal aantal storingen in Q1 2021 : **99**\n",
       "\n",
       "• Het gemiddelde aantal storingen per maand : **33.0**\n",
       "\n",
       "• Hoogste aantal storingen in de maand **Februari** : **45**\n",
       "\n",
       "• Laagste aantal storingen in de maanden **Maart** : **24**\n",
       "\n",
       "• Het gemiddelde aantal storingen per maand vanaf **01-2016**: **19.19047619047619**\n",
       "\n",
       "• Het gemiddelde aantal storingen per kwartaal vanaf **01-2016**: **57.57142857142857**\n"
      ],
      "text/plain": [
       "<IPython.core.display.Markdown object>"
      ]
     },
     "metadata": {},
     "output_type": "display_data"
    }
   ],
   "source": [
    "tekst = f\"\"\"\n",
    "Om te kunnen bepalen of een trend waarneembaar is in het aantal storingen per \n",
    "maand, wordt als onderdeel van deze rapportage een grafiek toegevoegd. Zie \n",
    "bijlage 1: “Aantal storingen per maand”.\n",
    "\n",
    "Uit de grafiek valt het volgende te constateren:\n",
    "\n",
    "• Het totaal aantal storingen in Q1 2021 : **{totaal_aantal_storingen}**\n",
    "\n",
    "• Het gemiddelde aantal storingen per maand : **{gemiddelde_per_maand}**\n",
    "\n",
    "• Hoogste aantal storingen in de maand **{maand_max}** : **{max(storingen_per_maand)}**\n",
    "\n",
    "• Laagste aantal storingen in de maanden **{maand_min}** : **{min(storingen_per_maand)}**\n",
    "\n",
    "• Het gemiddelde aantal storingen per maand vanaf **{sa.start_date}**: **{maandelijks_gemiddelde}**\n",
    "\n",
    "• Het gemiddelde aantal storingen per kwartaal vanaf **{sa.start_date}**: **{kwartaal_gemiddelde}**\n",
    "\"\"\"\n",
    "display(Markdown(tekst))"
   ]
  },
  {
   "cell_type": "code",
   "execution_count": 26,
   "metadata": {
    "hide_input": true
   },
   "outputs": [],
   "source": [
    "huidige_q = 'Q1'\n",
    "huidig_jaar = '2021'\n",
    "\n",
    "# Aantal storingen in voorgaande q\n",
    "voorgaande_q = sa.quarter_sequence.get_prev_val(huidige_q)\n",
    "voorgaand_jaar = str(int(huidig_jaar) - 1)\n",
    "mlist = sa.metadata.get_keys(dictionary=sa.metadata.storingen(), containing_quarter=[voorgaande_q], containing_year=[voorgaand_jaar])\n",
    "storingen_gefilterd = sa.metadata.filter_dictionary_keys(dictionary=sa.metadata.storingen(), keys=mlist)\n",
    "totaal_storingen_voorgaand_kwartaal = sa.metadata.sum_values(storingen_gefilterd)\n",
    "\n",
    "# Aantal storingen in zelfde q voorgaand jaar\n",
    "mlist = sa.metadata.get_keys(dictionary=sa.metadata.storingen(),containing_quarter=[huidige_q], containing_year=[voorgaand_jaar])\n",
    "storingen_gefilterd = sa.metadata.filter_dictionary_keys(dictionary=sa.metadata.storingen(), keys=mlist)\n",
    "totaal_storingen_zelfde_kwartaal = sa.metadata.sum_values(storingen_gefilterd)"
   ]
  },
  {
   "cell_type": "code",
   "execution_count": 27,
   "metadata": {
    "hide_input": false
   },
   "outputs": [
    {
     "data": {
      "text/markdown": [
       "\n",
       "In **Q1** **2020** waren in totaal **31** storingen gemaakt. In **Q1** **2021** zijn er **68** storingen \n",
       "meer t.o.v. **Q1** **2020**. \n",
       "\n",
       "In **Q4** **2020** waren in totaal **39** storingen gemaakt. In **Q1** **2021** zijn er **60** storingen \n",
       "meer t.o.v. **Q4** **2020**. \n"
      ],
      "text/plain": [
       "<IPython.core.display.Markdown object>"
      ]
     },
     "metadata": {},
     "output_type": "display_data"
    }
   ],
   "source": [
    "tekst = f\"\"\"\n",
    "In **{huidige_q}** **{voorgaand_jaar}** waren in totaal **{totaal_storingen_zelfde_kwartaal}** storingen gemaakt. In **{huidige_q}** **{huidig_jaar}** zijn er **{totaal_aantal_storingen - totaal_storingen_zelfde_kwartaal}** storingen \n",
    "meer t.o.v. **{huidige_q}** **{voorgaand_jaar}**. \n",
    "\n",
    "In **{voorgaande_q}** **{voorgaand_jaar}** waren in totaal **{totaal_storingen_voorgaand_kwartaal}** storingen gemaakt. In **{huidige_q}** **{huidig_jaar}** zijn er **{totaal_aantal_storingen - totaal_storingen_voorgaand_kwartaal}** storingen \n",
    "meer t.o.v. **{voorgaande_q}** **{voorgaand_jaar}**. \n",
    "\"\"\"\n",
    "display(Markdown(tekst))"
   ]
  },
  {
   "cell_type": "markdown",
   "metadata": {},
   "source": [
    "### Aantal storingen per subsysteem"
   ]
  },
  {
   "cell_type": "code",
   "execution_count": 28,
   "metadata": {
    "hide_input": true
   },
   "outputs": [],
   "source": [
    "df = sa.storingen.copy()\n",
    "# unieke types vastlegen\n",
    "unique_types = list(df.loc[:, 'sbs'].unique())\n",
    "\n",
    "sbs_count = df.loc[:, 'sbs'].value_counts()\n",
    "\n",
    "sbs_to_process = [x for x in sbs_count.index if sbs_count.at[x] >= input_threshhold.value]"
   ]
  },
  {
   "cell_type": "code",
   "execution_count": 29,
   "metadata": {
    "hide_input": true
   },
   "outputs": [],
   "source": [
    "r2p = list()\n",
    "for sbs in sbs_to_process:\n",
    "    storingen_per_sbs = sbs_count[sbs]\n",
    "    percentage_storing = round((storingen_per_sbs / sum(sbs_count)) * 100, 2)\n",
    "    line = f\"{sa._get_breakdown_description(sbs)[0]}\\t- {storingen_per_sbs} storingen ({percentage_storing}% van het totale aantal storingen)\"\n",
    "    r2p.append(line)"
   ]
  },
  {
   "cell_type": "code",
   "execution_count": 30,
   "metadata": {
    "hide_input": false
   },
   "outputs": [
    {
     "data": {
      "text/markdown": [
       "\n",
       "Er wordt en Pareto analyse gemaakt van het totaal aantal storingen per subsysteem. Deze is toegevoegd als bijlage. \n",
       "\n",
       "Uit de pareto blijkt dat in **Q1** **2021** een totaal van **99** storingen zijn gemeld, intern \n",
       "dan wel extern. Voor het overzicht zijn de storingen bekeken met **0** of meer \n",
       "storingen. Dit is de top **8** en heeft een totaal van **12** storingen van de in totaal \n",
       "**99** (dit is **12.12**% van het totaal). \n",
       "Hieronder staan de deelinstallatie**s**:\n",
       "\n",
       "\n",
       "**-\tAfsluitbomen (AB)\t- 4 storingen (33.33% van het totale aantal storingen)**\n",
       "\n",
       "**-\tVerkeerssignaleringssysteem (MTM)\t- 2 storingen (16.67% van het totale aantal storingen)**\n",
       "\n",
       "**-\tCalamiteiten doorsteek (CaDo)\t- 1 storingen (8.33% van het totale aantal storingen)**\n",
       "\n",
       "**-\tHoogfrequent installatie (HF-Systeem)\t- 1 storingen (8.33% van het totale aantal storingen)**\n",
       "\n",
       "**-\tBrandblusinstallatie tunnel en hulpposten\t- 1 storingen (8.33% van het totale aantal storingen)**\n",
       "\n",
       "**-\tOpenbare verlichting (OV)\t- 1 storingen (8.33% van het totale aantal storingen)**\n",
       "\n",
       "**-\tKantelwalsborden (KW)\t- 1 storingen (8.33% van het totale aantal storingen)**\n",
       "\n",
       "**-\tTelefoon en intercominstallatie\t- 1 storingen (8.33% van het totale aantal storingen)**\n",
       "\n",
       "\n",
       "In totaal hebben **8** deelsystemen **1** of meerdere storingen gehad in **Q1** **2021**.\n",
       "\n"
      ],
      "text/plain": [
       "<IPython.core.display.Markdown object>"
      ]
     },
     "metadata": {},
     "output_type": "display_data"
    }
   ],
   "source": [
    "# '\\' is not allowed as character in a f-string like bellow. reason for newline and tab\n",
    "newline = '\\n'\n",
    "tab = '\\t'\n",
    "\n",
    "tekst = f\"\"\"\n",
    "Er wordt en Pareto analyse gemaakt van het totaal aantal storingen per subsysteem. Deze is toegevoegd als bijlage. \n",
    "\n",
    "Uit de pareto blijkt dat in **{huidige_q}** **{huidig_jaar}** een totaal van **{totaal_aantal_storingen}** storingen zijn gemeld, intern \n",
    "dan wel extern. Voor het overzicht zijn de storingen bekeken met **{input_threshhold.value}** of meer \n",
    "storingen. Dit is de top **{len(sbs_to_process)}** en heeft een totaal van **{sum(sbs_count[sbs_to_process])}** storingen van de in totaal \n",
    "**{totaal_aantal_storingen}** (dit is **{round((sum(sbs_count[sbs_to_process]) / totaal_aantal_storingen) * 100, 2)}**% van het totaal). \n",
    "Hieronder staan de deelinstallatie**{'s' if len(sbs_to_process) > 1 else ''}**:\n",
    "\n",
    "{''.join((newline + '**-' + tab + line + '**' + newline for line in r2p))}\n",
    "\n",
    "In totaal hebben **{len(sbs_count)}** deelsystemen **{min(sbs_count)}** of meerdere storingen gehad in **{huidige_q}** **{huidig_jaar}**.\n",
    "\n",
    "\"\"\"\n",
    "display(Markdown(tekst))"
   ]
  },
  {
   "cell_type": "markdown",
   "metadata": {},
   "source": [
    "# Conclusie / aanbeveling"
   ]
  },
  {
   "cell_type": "markdown",
   "metadata": {},
   "source": [
    "## Algemeen"
   ]
  },
  {
   "cell_type": "code",
   "execution_count": 31,
   "metadata": {
    "hide_input": true
   },
   "outputs": [],
   "source": [
    "sbs_count = df.loc[:, 'sbs'].value_counts(dropna=False)"
   ]
  },
  {
   "cell_type": "code",
   "execution_count": 32,
   "metadata": {},
   "outputs": [
    {
     "data": {
      "text/markdown": [
       "\n",
       "Er heeft een analyse van de storingen plaatsgevonden. Uit deze analyse is niet \n",
       "naar voren gekomen dat verbeteren aan het onderhoudsplan en/of procedures en/of \n",
       "hardware noodzakelijk zijn om het faalgedrag te verbeteren. \n",
       " \n",
       "Alle meldingen moeten aan een asset / sub niveau van een DI worden gekoppeld. \n",
       "Zodat altijd is te herleiden wat precies is gefaald. Aan alle meldingen is DI \n",
       "gekoppeld. Aan **14** werkorders zit geen asset gekoppeld. (zie besluit 5). \n",
       " \n",
       "De meldingen zijn gekoppeld aan een probleem, oorzaak en oplossing. \n",
       " \n",
       "Vanaf 1 september 2018 heeft een update plaats gevonden van het \n",
       "onderhoudsmanagementsysteem. Bij deze update is het invullen van probleem, \n",
       "oorzaak en oplossing toegevoegd in het systeem. Vanaf Q4 2018 zal dit ook \n",
       "worden meegenomen in de analyse. In de volgende paragrafen staat de uitwerking \n",
       "hiervan. Daarbij zie je het aantal van het huidige jaar, het totaal aantal en het \n",
       "gemiddelde per Q vanaf Q4 2018.\n"
      ],
      "text/plain": [
       "<IPython.core.display.Markdown object>"
      ]
     },
     "metadata": {},
     "output_type": "display_data"
    }
   ],
   "source": [
    "tekst = f\"\"\"\n",
    "Er heeft een analyse van de storingen plaatsgevonden. Uit deze analyse is niet \n",
    "naar voren gekomen dat verbeteren aan het onderhoudsplan en/of procedures en/of \n",
    "hardware noodzakelijk zijn om het faalgedrag te verbeteren. \n",
    " \n",
    "Alle meldingen moeten aan een asset / sub niveau van een DI worden gekoppeld. \n",
    "Zodat altijd is te herleiden wat precies is gefaald. Aan alle meldingen is DI \n",
    "gekoppeld. Aan **{max(sbs_count[sbs_count.index.isnull()].values)}** werkorders zit geen asset gekoppeld. (zie besluit 5). \n",
    " \n",
    "De meldingen zijn gekoppeld aan een probleem, oorzaak en oplossing. \n",
    " \n",
    "Vanaf 1 september 2018 heeft een update plaats gevonden van het \n",
    "onderhoudsmanagementsysteem. Bij deze update is het invullen van probleem, \n",
    "oorzaak en oplossing toegevoegd in het systeem. Vanaf Q4 2018 zal dit ook \n",
    "worden meegenomen in de analyse. In de volgende paragrafen staat de uitwerking \n",
    "hiervan. Daarbij zie je het aantal van het huidige jaar, het totaal aantal en het \n",
    "gemiddelde per Q vanaf Q4 2018.\n",
    "\"\"\"\n",
    "display(Markdown(tekst))"
   ]
  },
  {
   "cell_type": "markdown",
   "metadata": {},
   "source": [
    "### Probleem"
   ]
  },
  {
   "cell_type": "code",
   "execution_count": 65,
   "metadata": {
    "hide_input": false
   },
   "outputs": [],
   "source": [
    "probleem_code_count = sf_data['probleem code'].value_counts(dropna=False).to_dict()\n",
    "oorzaak_code_count = sf_data['oorzaak code'].value_counts(dropna=False).to_dict()\n",
    "oplossing_code_count = sf_data['oplos code'].value_counts(dropna=False).to_dict()\n",
    "\n",
    "meta_probleem = sa.metadata.poo_data()['probleem']\n",
    "meta_oorzaak = sa.metadata.poo_data()['oorzaak']\n",
    "meta_oplossing = sa.metadata.poo_data()['oplossing']\n",
    "\n",
    "poo_beschrijvingen = sa.metadata.contract_info()['POO_codes']\n",
    "\n",
    "probleem_code_count['Leeg'] = probleem_code_count.pop(np.nan)\n",
    "oorzaak_code_count['Leeg'] = oorzaak_code_count.pop(np.nan)\n",
    "oplossing_code_count['Leeg'] = oplossing_code_count.pop(np.nan)\n",
    "\n",
    "probleem_avg_table = sa.metadata.poo_avg_table(meta_probleem)\n",
    "oorzaak_avg_table = sa.metadata.poo_avg_table(meta_oorzaak)\n",
    "oplossing_avg_table = sa.metadata.poo_avg_table(meta_oplossing)"
   ]
  },
  {
   "cell_type": "code",
   "execution_count": 66,
   "metadata": {
    "hide_input": false
   },
   "outputs": [
    {
     "data": {
      "text/markdown": [
       "\n",
       "|Probleem|Beschrijving|Aantal|Totaal|Gemiddelde|\n",
       "|--------|------------|------|------|----------|\n",
       "|P01|Niet beschikbaar|8|107|10.7|\n",
       "|P02|Geen / slecht / afwijkend beeld|7|54|5.4|\n",
       "|P03|Aangereden|9|44|4.4|\n",
       "|P04|In storing|5|118|11.8|\n",
       "|P05|Blijft hangen|9|33|3.3|\n",
       "|P06|Fatale fout|9|25|2.5|\n",
       "|P07|Gewenste stand komt niet overeen (niet mogelijk)|12|9|0.9|\n",
       "|P08|Geen communicatie (mogelijk)|6|10|1.0|\n",
       "|P09|Oproep actief|8|3|0.3|\n",
       "|P10|Niet bedienbaar|8|17|1.7|\n",
       "|P11|Overige|10|233|23.3|\n",
       "|Leeg|Niet ingevuld|8|162|16.2|\n"
      ],
      "text/plain": [
       "<IPython.core.display.Markdown object>"
      ]
     },
     "metadata": {},
     "output_type": "display_data"
    }
   ],
   "source": [
    "line_dict = dict()\n",
    "for code in (k for k in poo_beschrijvingen.keys() if 'P' in k or k == 'Leeg'):    \n",
    "    code_counts = list()\n",
    "    for q in meta_probleem.keys():\n",
    "        if code in meta_probleem[q].keys():\n",
    "            code_counts.append(sa.metadata.sum_values(dictionary=meta_probleem[q], keys=[code]))\n",
    "        else:\n",
    "            code_counts.append(0)\n",
    "    \n",
    "    totaal = sum(code_counts)\n",
    "    \n",
    "    if code not in probleem_avg_table.keys():\n",
    "        line = ''.join((newline + '|' + code + '|' + poo_beschrijvingen[code] + '|' + str(probleem_code_count[code]) + '|' + str(totaal) + '|' + '0' + '|'))\n",
    "        line_dict[code] = line\n",
    "        continue\n",
    "    \n",
    "    line = ''.join((newline + '|' + code + '|' + poo_beschrijvingen[code] + '|' + str(probleem_code_count[code]) + '|' + str(totaal) + '|' + str(probleem_avg_table[code]) + '|'))\n",
    "    line_dict[code] = line\n",
    "    \n",
    "tekst = f\"\"\"\n",
    "|Probleem|Beschrijving|Aantal|Totaal|Gemiddelde|\n",
    "|--------|------------|------|------|----------|{''.join((line_dict[code] for code in line_dict.keys()))}\n",
    "\"\"\"\n",
    "display(Markdown(tekst))"
   ]
  },
  {
   "cell_type": "code",
   "execution_count": 67,
   "metadata": {
    "hide_input": false
   },
   "outputs": [
    {
     "data": {
      "text/markdown": [
       "\n",
       "|Oorzaak|Beschrijving|Aantal|Totaal|Gemiddelde|\n",
       "|-------|------------|------|------|----------|\n",
       "|Leeg|Niet ingevuld|6|180|18.0|\n",
       "|C01|Corrosie|4|4|0.4|\n",
       "|C02|Mechanische slijtage, - breuk, - vervorming|3|14|1.4|\n",
       "|C03|Molest / diefstal|4|3|0.3|\n",
       "|C04|Ongedierte|6|0|0|\n",
       "|C05|Schade|6|12|1.2|\n",
       "|C06|Random / software / applicatie fout|4|41|4.1|\n",
       "|C07|Thermische vervorming|9|2|0.2|\n",
       "|C08|Veroudering|6|99|9.9|\n",
       "|C09|Vervuiling|7|7|0.7|\n",
       "|C10|Weersomstandigheden|6|38|3.8|\n",
       "|C11|Externe oorzaak|9|42|4.2|\n",
       "|C12|Aanlegkwaliteit|5|3|0.3|\n",
       "|C13|Overige|7|309|30.9|\n",
       "|C14|Bedienfout|8|20|2.0|\n",
       "|C15|Vocht|6|3|0.3|\n",
       "|C16|Incident|3|35|3.5|\n"
      ],
      "text/plain": [
       "<IPython.core.display.Markdown object>"
      ]
     },
     "metadata": {},
     "output_type": "display_data"
    }
   ],
   "source": [
    "line_dict = dict()\n",
    "for code in (k for k in poo_beschrijvingen.keys() if 'C' in k or k == 'Leeg'):   \n",
    "    code_counts = list()\n",
    "    for q in meta_oorzaak.keys():\n",
    "        if code in meta_oorzaak[q].keys():\n",
    "            code_counts.append(sa.metadata.sum_values(dictionary=meta_oorzaak[q], keys=[code]))\n",
    "        else:\n",
    "            code_counts.append(0)\n",
    "    \n",
    "    totaal = sum(code_counts)\n",
    "    \n",
    "    if code not in oorzaak_avg_table.keys():\n",
    "        line = ''.join((newline + '|' + code + '|' + poo_beschrijvingen[code] + '|' + str(oorzaak_code_count[code]) + '|' + str(totaal) + '|' + '0' + '|'))\n",
    "        line_dict[code] = line\n",
    "        continue\n",
    "    \n",
    "    line = ''.join((newline + '|' + code + '|' + poo_beschrijvingen[code] + '|' + str(oorzaak_code_count[code]) + '|' + str(totaal) + '|' + str(oorzaak_avg_table[code]) + '|'))\n",
    "    line_dict[code] = line\n",
    "\n",
    "tekst = f\"\"\"\n",
    "|Oorzaak|Beschrijving|Aantal|Totaal|Gemiddelde|\n",
    "|-------|------------|------|------|----------|{''.join((line_dict[code] for code in line_dict.keys()))}\n",
    "\"\"\"\n",
    "display(Markdown(tekst))"
   ]
  },
  {
   "cell_type": "code",
   "execution_count": 68,
   "metadata": {
    "hide_input": false
   },
   "outputs": [
    {
     "data": {
      "text/markdown": [
       "\n",
       "|Oplossing|Beschrijving|Aantal|Totaal|Gemiddelde|\n",
       "|---------|------------|------|------|----------|\n",
       "|Leeg|Niet ingevuld|10|180|18.0|\n",
       "|S01|Reinigen|8|10|1.0|\n",
       "|S02|Vervangen|11|244|24.4|\n",
       "|S03|Resetten|13|173|17.3|\n",
       "|S04|Afstellen/vastzetten|9|24|2.4|\n",
       "|S05|Bijvullen|5|2|0.2|\n",
       "|S06|Repareren|15|11|1.1|\n",
       "|S07|Smeren / bijvullen / bijwerken|17|2|0.2|\n",
       "|S08|Overige|11|166|16.6|\n"
      ],
      "text/plain": [
       "<IPython.core.display.Markdown object>"
      ]
     },
     "metadata": {},
     "output_type": "display_data"
    }
   ],
   "source": [
    "line_dict = dict()\n",
    "for code in (k for k in poo_beschrijvingen.keys() if 'S' in k or k == 'Leeg'):\n",
    "    code_counts = list()\n",
    "    for q in meta_oplossing.keys():\n",
    "        if code in meta_oplossing[q].keys():\n",
    "            code_counts.append(sa.metadata.sum_values(dictionary=meta_oplossing[q], keys=[code]))\n",
    "        else:\n",
    "            code_counts.append(0)\n",
    "\n",
    "    totaal = sum(code_counts)\n",
    "    \n",
    "    if code not in oplossing_avg_table.keys():\n",
    "        line = ''.join((newline + '|' + code + '|' + poo_beschrijvingen[code] + '|' + str(oplossing_code_count[code]) + '|' + str(totaal) + '|' + str(oplossing_avg_table[code]) + '|'))\n",
    "        line_dict[code] = line\n",
    "        continue\n",
    "        \n",
    "    line = ''.join((newline + '|' + code + '|' + poo_beschrijvingen[code] + '|' + str(oplossing_code_count[code]) + '|' + str(totaal) + '|' + str(oplossing_avg_table[code]) + '|'))\n",
    "    line_dict[code] = line\n",
    "\n",
    "tekst = f\"\"\"\n",
    "|Oplossing|Beschrijving|Aantal|Totaal|Gemiddelde|\n",
    "|---------|------------|------|------|----------|{''.join((line_dict[code] for code in line_dict.keys()))}\n",
    "\"\"\"\n",
    "display(Markdown(tekst))"
   ]
  },
  {
   "cell_type": "code",
   "execution_count": null,
   "metadata": {},
   "outputs": [],
   "source": []
  },
  {
   "cell_type": "markdown",
   "metadata": {
    "hide_input": true
   },
   "source": [
    "# Assets met de meeste meldingen"
   ]
  },
  {
   "cell_type": "markdown",
   "metadata": {
    "hide_input": true
   },
   "source": [
    "## Algemeen"
   ]
  },
  {
   "cell_type": "code",
   "execution_count": 121,
   "metadata": {
    "hide_input": false
   },
   "outputs": [],
   "source": [
    "meldingen_per_asset = sf_data['asset nummer'].value_counts()\n",
    "meldingen_per_asset = meldingen_per_asset.reset_index()\n",
    "meldingen_per_asset.rename(columns={\"asset nummer\": \"count\", \"index\": \"asset nummer\"}, inplace=True)\n",
    "\n",
    "list_descriptions = {sf_data['asset nummer'][index]: sf_data['asset beschrijving'][index] for index in range(sf_data.shape[0])} \n",
    "\n",
    "\n",
    "asset_beschrijvingen = []\n",
    "for index, row in meldingen_per_asset.iterrows():\n",
    "    asset_num = row[0]\n",
    "    if asset_num in list_descriptions.keys():\n",
    "        asset_beschrijvingen.append(list_descriptions[asset_num])\n",
    "\n",
    "meldingen_per_asset.at[:, 'asset beschrijving'] = asset_beschrijvingen\n",
    "\n",
    "# ophalen van de sbs nummers van de assets\n",
    "sbs_dict = dict()\n",
    "for asset_num in meldingen_per_asset.loc[:, 'asset nummer'].to_dict().values():\n",
    "    row = sf_data[sf_data.loc[:, 'asset nummer'] == asset_num]\n",
    "    sbs_dict[asset_num] = row['sbs'].unique()[0]"
   ]
  },
  {
   "cell_type": "code",
   "execution_count": 91,
   "metadata": {
    "hide_input": false
   },
   "outputs": [
    {
     "data": {
      "application/vnd.jupyter.widget-view+json": {
       "model_id": "1ca6133aff8a4b15838144bcfd657f07",
       "version_major": 2,
       "version_minor": 0
      },
      "text/plain": [
       "IntSlider(value=1, continuous_update=False, description='Drempelwaarde:', max=4, min=1, style=SliderStyle(desc…"
      ]
     },
     "metadata": {},
     "output_type": "display_data"
    }
   ],
   "source": [
    "input_threshhold = widgets.IntSlider(\n",
    "    value=meldingen_per_asset['count'].min(),\n",
    "    min=meldingen_per_asset['count'].min(),\n",
    "    max=meldingen_per_asset['count'].max(),\n",
    "    step=1,\n",
    "    description='Drempelwaarde:',\n",
    "    disabled=False,\n",
    "    continuous_update=False,\n",
    "    orientation='horizontal',\n",
    "    readout=True,\n",
    "    readout_format='d',\n",
    "    style=dict(description_width='initial')\n",
    ")\n",
    "\n",
    "display(input_threshhold)"
   ]
  },
  {
   "cell_type": "code",
   "execution_count": 127,
   "metadata": {
    "hide_input": false
   },
   "outputs": [
    {
     "data": {
      "text/markdown": [
       "\n",
       "De hieronder benoemde assets, zijn de **2** assets die **4** of meer meldingen hebben \n",
       "gehad in **Q1** **2021**: \n",
       "\n",
       "|Deelinstallatie|Asset|Aantal|\n",
       "|---------------|-----|------|\n",
       "|Verkeerssignaleringssysteem (MTM)|A10 TSG2 30,015PWn - Kast A10 TSG2 30,015PWn|4|\n",
       "|Calamiteiten doorsteek (CaDo)|A10 CADO 29,280 BBR (CB) - CADO boom|4|\n"
      ],
      "text/plain": [
       "<IPython.core.display.Markdown object>"
      ]
     },
     "metadata": {},
     "output_type": "display_data"
    }
   ],
   "source": [
    "lines = list()\n",
    "lines2handle = meldingen_per_asset[meldingen_per_asset['count'] >= input_threshhold.value]\n",
    "for r in lines2handle.iterrows():\n",
    "    row = r[1]\n",
    "    line = ''.join((newline + '|' + str(sa._get_breakdown_description(sbs_dict[row[0]])[0]) + '|' + str(row[-1]) + '|' + str(row[1]) + '|'))\n",
    "    lines.append(line)\n",
    "    \n",
    "tekst = f\"\"\"\n",
    "De hieronder benoemde assets, zijn de **{len(lines)}** assets die **{input_threshhold.value}** of meer meldingen hebben \n",
    "gehad in **{huidige_q}** **{huidig_jaar}**: \n",
    "\n",
    "|Deelinstallatie|Asset|Aantal|\n",
    "|---------------|-----|------|{''.join((line for line in lines))}\n",
    "\"\"\"\n",
    "display(Markdown(tekst))"
   ]
  },
  {
   "cell_type": "markdown",
   "metadata": {},
   "source": [
    "## Uitwerking meldingen"
   ]
  },
  {
   "cell_type": "code",
   "execution_count": null,
   "metadata": {},
   "outputs": [],
   "source": []
  },
  {
   "cell_type": "markdown",
   "metadata": {},
   "source": [
    "## Conclusie"
   ]
  },
  {
   "cell_type": "code",
   "execution_count": null,
   "metadata": {},
   "outputs": [],
   "source": [
    "tekst = f\"\"\"\n",
    "Als wordt gekeken naar de oorzaken van de meldingen van de **{len(lines)}** assets welke **{input_threshhold.value}** of \n",
    "meerdere meldingen hebben gehad, is bij somige assets repeterend en bij andere \n",
    "tekens verschillen.  \n",
    " \n",
    "Het falen van deze assets hoeft niet verder worden bekeken of worden onderzocht. \n",
    "Dit omdat deze al reeds zijn behandeld bij de verschillende systemen. \n",
    "\"\"\"\n",
    "display(Markdown(tekst))"
   ]
  }
 ],
 "metadata": {
  "kernelspec": {
   "display_name": "Python 3",
   "language": "python",
   "name": "python3"
  },
  "language_info": {
   "codemirror_mode": {
    "name": "ipython",
    "version": 3
   },
   "file_extension": ".py",
   "mimetype": "text/x-python",
   "name": "python",
   "nbconvert_exporter": "python",
   "pygments_lexer": "ipython3",
   "version": "3.8.3"
  },
  "toc": {
   "base_numbering": 1,
   "nav_menu": {},
   "number_sections": true,
   "sideBar": true,
   "skip_h1_title": false,
   "title_cell": "Table of Contents",
   "title_sidebar": "Contents",
   "toc_cell": false,
   "toc_position": {
    "height": "calc(100% - 180px)",
    "left": "10px",
    "top": "150px",
    "width": "165px"
   },
   "toc_section_display": true,
   "toc_window_display": false
  }
 },
 "nbformat": 4,
 "nbformat_minor": 4
}
