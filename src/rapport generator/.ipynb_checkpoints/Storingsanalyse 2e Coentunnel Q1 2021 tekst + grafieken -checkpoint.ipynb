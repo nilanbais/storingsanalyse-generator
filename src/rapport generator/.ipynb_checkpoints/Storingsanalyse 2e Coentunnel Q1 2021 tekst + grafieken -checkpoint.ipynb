{
 "cells": [
  {
   "cell_type": "markdown",
   "metadata": {},
   "source": [
    "# Voorbereiding"
   ]
  },
  {
   "cell_type": "code",
   "execution_count": 1,
   "metadata": {},
   "outputs": [],
   "source": [
    "import os\n",
    "import json\n",
    "import asyncio\n",
    "\n",
    "import traitlets\n",
    "\n",
    "import numpy as np\n",
    "import pandas as pd\n",
    "\n",
    "import ipywidgets as widgets \n",
    "from ipywidgets import interact, interact_manual, Layout\n",
    "\n",
    "import time\n",
    "from datetime import datetime\n",
    "\n",
    "from storingsanalyse import StoringsAnalyse\n",
    "\n",
    "import numpy as np\n",
    "import matplotlib.pyplot as plt\n",
    "from matplotlib.figure import Figure\n",
    "\n",
    "from IPython.display import Markdown, Latex"
   ]
  },
  {
   "cell_type": "code",
   "execution_count": 2,
   "metadata": {
    "hide_input": true
   },
   "outputs": [],
   "source": [
    "class LoadedButton(widgets.Button):\n",
    "    \"\"\"A button that can holds a value as a attribute.\"\"\"\n",
    "\n",
    "    def __init__(self, value=None, *args, **kwargs):\n",
    "        super(LoadedButton, self).__init__(*args, **kwargs)\n",
    "        # Create the value attribute.\n",
    "        self.add_traits(value=traitlets.Any(value))\n",
    "\n",
    "\n",
    "# Aparte functie voor het wachten op verandering (aka input van de ME)\n",
    "def wait_for_change(widget):\n",
    "    future = asyncio.Future()\n",
    "    def getvalue(change):\n",
    "        future.set_result(change.description)\n",
    "        widget.on_click(getvalue, remove=True) \n",
    "        # we need to free up the binding to getvalue to avoid an InvalidState error\n",
    "        # buttons don't support unobserve\n",
    "        # so use `remove=True` \n",
    "    widget.on_click(getvalue)\n",
    "    return future"
   ]
  },
  {
   "cell_type": "code",
   "execution_count": 3,
   "metadata": {
    "hide_input": true
   },
   "outputs": [],
   "source": [
    "\"\"\" In the line bellow fill in your API key without < and > \"\"\" \n",
    "api_key = 'bWF4YWRtaW46R21iQ1dlbkQyMDE5' # provided to you by a Maximo Consultant\n",
    "\n",
    "\"\"\" In the line bellow fill in the desired object structure \"\"\"\n",
    "obj_struct = 'MXWO_SND' # name of the Maximo object structure\n",
    "\n",
    "\"\"\" In the line bellow fill in the PO number and the SITEID without the < and > \"\"\"\n",
    "query = 'siteid=\"CT1EN2\" and worktype=\"COR\" and reportdate>=\"2018-01-01T00:00:00-00:00\" and reportdate<=\"2018-03-30T00:00:00-00:00\"'"
   ]
  },
  {
   "cell_type": "code",
   "execution_count": 4,
   "metadata": {},
   "outputs": [],
   "source": [
    "sa = StoringsAnalyse(\"coentunnel\", api_key, obj_struct)"
   ]
  },
  {
   "cell_type": "code",
   "execution_count": 5,
   "metadata": {},
   "outputs": [],
   "source": [
    "sa.read_staging_file(\"20210702_12_55_staging_file.xlsx\")"
   ]
  },
  {
   "cell_type": "code",
   "execution_count": 6,
   "metadata": {},
   "outputs": [],
   "source": [
    "sf_data = sa.staging_file_data"
   ]
  },
  {
   "cell_type": "markdown",
   "metadata": {
    "hide_input": true
   },
   "source": [
    "### Aanpassen van de staging_file -- DEZE STAP WORDT VERWIJDERD IN DE TOEKOMST\n",
    "Het opbouwen van deze automatische storingsanalyse vraagt om een ingevulde kolom 'type melding'. Om het process van opbouwen niet te laten stagneren op dit aspect, wordt er hieronder fictive data gegenereerd. Met behulp van de fictieve data wordt het genereren van de verschillende tabellen en grafieken gebouwd."
   ]
  },
  {
   "cell_type": "code",
   "execution_count": 7,
   "metadata": {
    "hide_input": true
   },
   "outputs": [],
   "source": [
    "from random import randrange\n",
    "\n",
    "lijst_opties = ['Storing', 'Incident', 'Preventief', 'Onterecht']\n",
    "random_ranges = [lijst_opties[randrange(0, 4, 1)] for _ in range(len(sf_data['type melding (Storing/Incident/Preventief/Onterecht)']))]\n",
    "sf_data.loc[:, 'type melding (Storing/Incident/Preventief/Onterecht)'] = random_ranges"
   ]
  },
  {
   "cell_type": "code",
   "execution_count": 8,
   "metadata": {
    "hide_input": true
   },
   "outputs": [],
   "source": [
    "lijst_opties = ['P01', 'P02', 'P03', 'P04', 'P05', 'P06', 'P07', 'P08', 'P09', 'P10', 'P11', np.nan]\n",
    "random_ranges = [lijst_opties[randrange(0, len(lijst_opties), 1)] for _ in range(len(sf_data['probleem code']))]\n",
    "sf_data.loc[:, 'probleem code'] = random_ranges"
   ]
  },
  {
   "cell_type": "code",
   "execution_count": 9,
   "metadata": {
    "hide_input": true
   },
   "outputs": [],
   "source": [
    "lijst_opties = ['C01', 'C02', 'C03', 'C04', 'C05', 'C06', 'C07', 'C08', 'C09', 'C10', 'C11', 'C12', 'C13', 'C14', 'C15', 'C16', np.nan]\n",
    "random_ranges = [lijst_opties[randrange(0, len(lijst_opties), 1)] for _ in range(len(sf_data['oorzaak code']))]\n",
    "sf_data.loc[:, 'oorzaak code'] = random_ranges"
   ]
  },
  {
   "cell_type": "code",
   "execution_count": 10,
   "metadata": {
    "hide_input": true
   },
   "outputs": [],
   "source": [
    "lijst_opties = ['S01', 'S02', 'S03', 'S04', 'S05', 'S06', 'S07', 'S08', np.nan]\n",
    "random_ranges = [lijst_opties[randrange(0, len(lijst_opties), 1)] for _ in range(len(sf_data['oplos code']))]\n",
    "sf_data.loc[:, 'oplos code'] = random_ranges"
   ]
  },
  {
   "cell_type": "code",
   "execution_count": 11,
   "metadata": {
    "hide_input": true,
    "scrolled": true
   },
   "outputs": [],
   "source": [
    "# sf_data.iloc[:5, 15:25]"
   ]
  },
  {
   "cell_type": "code",
   "execution_count": 12,
   "metadata": {
    "hide_input": true
   },
   "outputs": [],
   "source": [
    "# changing the di_numbers from '45-10' to '45'\n",
    "new_num = []\n",
    "for num in sf_data['sbs']:\n",
    "    if num is np.nan:\n",
    "        new_num.append(num)\n",
    "    else:\n",
    "        new_num.append(sa._isolate_di_number(num))\n",
    "\n",
    "sf_data.loc[:, 'sbs'] = new_num"
   ]
  },
  {
   "cell_type": "code",
   "execution_count": 13,
   "metadata": {
    "hide_input": true
   },
   "outputs": [],
   "source": [
    "# sf_data.iloc[:5, 5:15]"
   ]
  },
  {
   "cell_type": "code",
   "execution_count": 14,
   "metadata": {},
   "outputs": [
    {
     "data": {
      "text/plain": [
       "'Data available through the use of StoringsAnalyse.meldingen and StoringsAnalyse.storingen'"
      ]
     },
     "execution_count": 14,
     "metadata": {},
     "output_type": "execute_result"
    }
   ],
   "source": [
    "sa.split_staging_file()"
   ]
  },
  {
   "cell_type": "markdown",
   "metadata": {
    "hide_input": false
   },
   "source": [
    "# Analyse"
   ]
  },
  {
   "cell_type": "markdown",
   "metadata": {},
   "source": [
    "## Aantallen meldingen"
   ]
  },
  {
   "cell_type": "markdown",
   "metadata": {},
   "source": [
    "### Aantal meldingen per maand"
   ]
  },
  {
   "cell_type": "code",
   "execution_count": 15,
   "metadata": {
    "hide_input": false
   },
   "outputs": [],
   "source": [
    "totaal_aantal_meldingen = len(sf_data.index)\n",
    "\n",
    "meldingen_per_maand = sf_data['month_number'].value_counts()\n",
    "\n",
    "gemiddelde_per_maand = sum(meldingen_per_maand) / len(meldingen_per_maand)\n",
    "\n",
    "num_maand_max_meldingen = [meldingen_per_maand.index[meldingen_per_maand == max(meldingen_per_maand)][0]]\n",
    "maand_max = sa._month_num_to_name(month_num=num_maand_max_meldingen)\n",
    "\n",
    "num_maand_min_meldingen = [meldingen_per_maand.index[meldingen_per_maand == min(meldingen_per_maand)][0]]\n",
    "maand_min = sa._month_num_to_name(month_num=num_maand_min_meldingen)\n",
    "\n",
    "data_2019 = [key for key in sa.metadata.meldingen().keys() if '2019' in key]\n",
    "meldingen_2019 = sa.metadata.sum_values(dictionary=sa.meldingen, keys=data_2019)\n",
    "\n",
    "jaarlijks_gemiddelde = sa.metadata.avg_yearly(dictionary=sa.metadata.meldingen(), exclude_year='2020')\n",
    "\n",
    "maanden = sa.metadata.get_month_list(exclude_year='2020')\n",
    "maandelijks_gemiddelde = sa.metadata.avg_monthly(dictionary=sa.metadata.meldingen(), exclude_keys=maanden)\n",
    "\n",
    "kwartaal_gemiddelde = sa.metadata.avg_quarterly(dictionary=sa.metadata.meldingen())"
   ]
  },
  {
   "cell_type": "code",
   "execution_count": 16,
   "metadata": {
    "hide_input": false
   },
   "outputs": [
    {
     "data": {
      "text/markdown": [
       "\n",
       "Om te kunnen bepalen of een trend waarneembaar is in het aantal meldingen per \n",
       "maand, wordt als onderdeel van deze rapportage een grafiek toegevoegd. Zie \n",
       "bijlage 1: “Aantal meldingen per maand”.\n",
       "\n",
       "Uit de grafiek valt het volgende te constateren:\n",
       "\n",
       "• Het totaal aantal meldingen in Q1 2021 : **99** \n",
       "\n",
       "• Het gemiddelde aantal meldingen per maand : **33.0** \n",
       "\n",
       "• Hoogste aantal meldingen in de maand **Februari** : **45**\n",
       "\n",
       "• Laagste aantal meldingen in de maanden **Maart** : **24**\n",
       "\n",
       "• Het gemiddelde aantal meldingen per maand vanaf **01-2016**: **35.98412698412698**\n",
       "\n",
       "• Het gemiddelde aantal meldingen per kwartaal vanaf **01-2016**: **107.95238095238095**\n"
      ],
      "text/plain": [
       "<IPython.core.display.Markdown object>"
      ]
     },
     "metadata": {},
     "output_type": "display_data"
    }
   ],
   "source": [
    "tekst = f\"\"\"\n",
    "Om te kunnen bepalen of een trend waarneembaar is in het aantal meldingen per \n",
    "maand, wordt als onderdeel van deze rapportage een grafiek toegevoegd. Zie \n",
    "bijlage 1: “Aantal meldingen per maand”.\n",
    "\n",
    "Uit de grafiek valt het volgende te constateren:\n",
    "\n",
    "• Het totaal aantal meldingen in Q1 2021 : **{totaal_aantal_meldingen}** \n",
    "\n",
    "• Het gemiddelde aantal meldingen per maand : **{gemiddelde_per_maand}** \n",
    "\n",
    "• Hoogste aantal meldingen in de maand **{maand_max}** : **{max(meldingen_per_maand)}**\n",
    "\n",
    "• Laagste aantal meldingen in de maanden **{maand_min}** : **{min(meldingen_per_maand)}**\n",
    "\n",
    "• Het gemiddelde aantal meldingen per maand vanaf **{sa.start_date}**: **{maandelijks_gemiddelde}**\n",
    "\n",
    "• Het gemiddelde aantal meldingen per kwartaal vanaf **{sa.start_date}**: **{kwartaal_gemiddelde}**\n",
    "\"\"\"\n",
    "display(Markdown(tekst))"
   ]
  },
  {
   "cell_type": "code",
   "execution_count": 17,
   "metadata": {
    "hide_input": false
   },
   "outputs": [],
   "source": [
    "huidige_q = 'Q1'\n",
    "huidig_jaar = '2021'\n",
    "\n",
    "# Aantal meldingen in voorgaande q\n",
    "voorgaande_q = sa.quarter_sequence.get_prev_val(huidige_q)\n",
    "voorgaand_jaar = str(int(huidig_jaar) - 1)\n",
    "mlist = sa.metadata.get_keys(dictionary=sa.metadata.meldingen(), containing_quarter=[voorgaande_q], containing_year=[voorgaand_jaar])\n",
    "meldingen_gefilterd = sa.metadata.filter_dictionary_keys(dictionary=sa.metadata.meldingen(), keys=mlist)\n",
    "totaal_meldingen_voorgaand_kwartaal = sa.metadata.sum_values(meldingen_gefilterd)\n",
    "\n",
    "# Aantal meldingen in zelfde q voorgaand jaar\n",
    "mlist = sa.metadata.get_keys(dictionary=sa.metadata.meldingen(),containing_quarter=[huidige_q], containing_year=[voorgaand_jaar])\n",
    "meldingen_gefilterd = sa.metadata.filter_dictionary_keys(dictionary=sa.metadata.meldingen(), keys=mlist)\n",
    "totaal_meldingen_zelfde_kwartaal = sa.metadata.sum_values(meldingen_gefilterd)"
   ]
  },
  {
   "cell_type": "code",
   "execution_count": 18,
   "metadata": {
    "hide_input": false
   },
   "outputs": [
    {
     "data": {
      "text/markdown": [
       "\n",
       "In **Q1** **2020** waren in totaal **60** meldingen gemaakt. In **Q1** **2021** zijn er **39** meldingen \n",
       "meer t.o.v. **Q1** **2020**. \n",
       " \n",
       "In **Q4** **2020** waren in totaal **79** meldingen gemaakt. In **Q1** **2021** zijn er **20** meldingen \n",
       "meer t.o.v. **Q4** **2020**. \n"
      ],
      "text/plain": [
       "<IPython.core.display.Markdown object>"
      ]
     },
     "metadata": {},
     "output_type": "display_data"
    }
   ],
   "source": [
    "tekst = f\"\"\"\n",
    "In **{huidige_q}** **{voorgaand_jaar}** waren in totaal **{totaal_meldingen_zelfde_kwartaal}** meldingen gemaakt. In **{huidige_q}** **{huidig_jaar}** zijn er **{totaal_aantal_meldingen-totaal_meldingen_zelfde_kwartaal}** meldingen \n",
    "meer t.o.v. **{huidige_q}** **{voorgaand_jaar}**. \n",
    " \n",
    "In **{voorgaande_q}** **{voorgaand_jaar}** waren in totaal **{totaal_meldingen_voorgaand_kwartaal}** meldingen gemaakt. In **{huidige_q}** **{huidig_jaar}** zijn er **{totaal_aantal_meldingen-totaal_meldingen_voorgaand_kwartaal}** meldingen \n",
    "meer t.o.v. **{voorgaande_q}** **{voorgaand_jaar}**. \n",
    "\"\"\"\n",
    "display(Markdown(tekst))"
   ]
  },
  {
   "cell_type": "markdown",
   "metadata": {},
   "source": [
    "### Aantal meldingen per subsysteem "
   ]
  },
  {
   "cell_type": "code",
   "execution_count": 19,
   "metadata": {
    "hide_input": true
   },
   "outputs": [],
   "source": [
    "df = sa.meldingen.copy()\n",
    "# unieke types vastlegen\n",
    "unique_types = list(df.loc[:, 'sbs'].unique())\n",
    "\n",
    "sbs_count = df.loc[:, 'sbs'].value_counts()"
   ]
  },
  {
   "cell_type": "code",
   "execution_count": 20,
   "metadata": {
    "hide_input": true,
    "scrolled": true
   },
   "outputs": [
    {
     "data": {
      "application/vnd.jupyter.widget-view+json": {
       "model_id": "1f782f51f7da4ee6a7935bd6805c81d2",
       "version_major": 2,
       "version_minor": 0
      },
      "text/plain": [
       "IntSlider(value=0, continuous_update=False, description='Drempelwaarde:', max=10, style=SliderStyle(descriptio…"
      ]
     },
     "metadata": {},
     "output_type": "display_data"
    }
   ],
   "source": [
    "input_threshhold = widgets.IntSlider(\n",
    "    value=0,\n",
    "    min=0,\n",
    "    max=sbs_count.max(),\n",
    "    step=1,\n",
    "    description='Drempelwaarde:',\n",
    "    disabled=False,\n",
    "    continuous_update=False,\n",
    "    orientation='horizontal',\n",
    "    readout=True,\n",
    "    readout_format='d',\n",
    "    style=dict(description_width='initial')\n",
    ")\n",
    "\n",
    "display(input_threshhold)"
   ]
  },
  {
   "cell_type": "code",
   "execution_count": 21,
   "metadata": {
    "hide_input": true
   },
   "outputs": [],
   "source": [
    "sbs_to_process = [x for x in sbs_count.index if sbs_count.at[x] >= input_threshhold.value]\n",
    "\n",
    "r2p = list()\n",
    "for sbs in sbs_to_process:\n",
    "    meldingen_per_sbs = sbs_count[sbs]\n",
    "    percentage_storing = round((meldingen_per_sbs / sum(sbs_count)) * 100, 2)\n",
    "    line = f\"{sa._get_breakdown_description(sbs)[0]}\\t- {meldingen_per_sbs} meldingen ({percentage_storing}% van het totale aantal meldingen)\"\n",
    "    r2p.append(line)"
   ]
  },
  {
   "cell_type": "code",
   "execution_count": 22,
   "metadata": {
    "hide_input": true
   },
   "outputs": [],
   "source": [
    "# notification type\n",
    "ntypes = list(df.loc[:, 'type melding (Storing/Incident/Preventief/Onterecht)'].unique())\n",
    "ntype_count = df.loc[:, 'type melding (Storing/Incident/Preventief/Onterecht)'].value_counts()\n",
    "n2p = list()\n",
    "for n in ntypes:\n",
    "    line = f\"{ntype_count[n]} meldingen zijn gecategoriseerd als {n}.\"\n",
    "    n2p.append(line)"
   ]
  },
  {
   "cell_type": "code",
   "execution_count": 23,
   "metadata": {
    "hide_input": false
   },
   "outputs": [
    {
     "data": {
      "text/markdown": [
       "\n",
       "Er wordt en Pareto analyse gemaakt van het totaal aantal meldingen per subsysteem. Deze is toegevoegd als bijlage 1. \n",
       " \n",
       "Uit de pareto blijkt dat in **Q1** **2020** een totaal van **99** meldingen zijn gemeld, intern \n",
       "dan wel extern. Voor het overzicht zijn de meldingen bekeken met **0** of meer \n",
       "meldingen. Dit is de top **17** en heeft een totaal van 43** meldingen van de in totaal \n",
       "**99** (dit is **43.43**% van het totaal). \n",
       "Hieronder staan de deelinstallatie**s**:\n",
       "\n",
       "\n",
       "\n",
       "**-\tAfsluitbomen (AB)\t- 10 meldingen (23.26% van het totale aantal meldingen)**\n",
       "\n",
       "**-\tVerkeerssignaleringssysteem (MTM)\t- 7 meldingen (16.28% van het totale aantal meldingen)**\n",
       "\n",
       "**-\tCalamiteiten doorsteek (CaDo)\t- 5 meldingen (11.63% van het totale aantal meldingen)**\n",
       "\n",
       "**-\tBrandmeldinstallatie dienstengebouwen\t- 4 meldingen (9.3% van het totale aantal meldingen)**\n",
       "\n",
       "**-\tGeluidsbakeninstallatie vluchtdeuren\t- 2 meldingen (4.65% van het totale aantal meldingen)**\n",
       "\n",
       "**-\tCCTV-camerasysteem\t- 2 meldingen (4.65% van het totale aantal meldingen)**\n",
       "\n",
       "**-\tVerkeersdetectiesysteem (SOS/SDS)\t- 2 meldingen (4.65% van het totale aantal meldingen)**\n",
       "\n",
       "**-\tKlimaatinstallatie dienstgebouwen\t- 2 meldingen (4.65% van het totale aantal meldingen)**\n",
       "\n",
       "**-\tBrandblusinstallatie tunnel en hulpposten\t- 1 meldingen (2.33% van het totale aantal meldingen)**\n",
       "\n",
       "**-\tTunnelverlichting\t- 1 meldingen (2.33% van het totale aantal meldingen)**\n",
       "\n",
       "**-\tVerplaatsbare vangrail (VEVA)\t- 1 meldingen (2.33% van het totale aantal meldingen)**\n",
       "\n",
       "**-\tTelefoon en intercominstallatie\t- 1 meldingen (2.33% van het totale aantal meldingen)**\n",
       "\n",
       "**-\tOpenbare verlichting (OV)\t- 1 meldingen (2.33% van het totale aantal meldingen)**\n",
       "\n",
       "**-\tHoogfrequent installatie (HF-Systeem)\t- 1 meldingen (2.33% van het totale aantal meldingen)**\n",
       "\n",
       "**-\tIntern transmissienetwerk\t- 1 meldingen (2.33% van het totale aantal meldingen)**\n",
       "\n",
       "**-\tBesturingssysteem\t- 1 meldingen (2.33% van het totale aantal meldingen)**\n",
       "\n",
       "**-\tKantelwalsborden (KW)\t- 1 meldingen (2.33% van het totale aantal meldingen)**\n",
       "\n",
       "\n",
       "\n",
       "De **99** van **Q1** **2021** zijn als volgt onder te verdelen:\n",
       "\n",
       "\n",
       "**-\t33 meldingen zijn gecategoriseerd als Incident.**\n",
       "\n",
       "**-\t22 meldingen zijn gecategoriseerd als Preventief.**\n",
       "\n",
       "**-\t20 meldingen zijn gecategoriseerd als Onterecht.**\n",
       "\n",
       "**-\t24 meldingen zijn gecategoriseerd als Storing.**\n",
       "\n",
       "\n"
      ],
      "text/plain": [
       "<IPython.core.display.Markdown object>"
      ]
     },
     "metadata": {},
     "output_type": "display_data"
    }
   ],
   "source": [
    "# '\\' is not allowed as character in a f-string like bellow. reason for newline and tab\n",
    "newline = '\\n'\n",
    "tab = '\\t'\n",
    "\n",
    "tekst=f\"\"\"\n",
    "Er wordt en Pareto analyse gemaakt van het totaal aantal meldingen per subsysteem. Deze is toegevoegd als bijlage 1. \n",
    " \n",
    "Uit de pareto blijkt dat in **{huidige_q}** **{voorgaand_jaar}** een totaal van **{totaal_aantal_meldingen}** meldingen zijn gemeld, intern \n",
    "dan wel extern. Voor het overzicht zijn de meldingen bekeken met **{input_threshhold.value}** of meer \n",
    "meldingen. Dit is de top **{len(sbs_to_process)}** en heeft een totaal van {sum(sbs_count[sbs_to_process])}** meldingen van de in totaal \n",
    "**{totaal_aantal_meldingen}** (dit is **{round((sum(sbs_count[sbs_to_process])/totaal_aantal_meldingen) * 100, 2)}**% van het totaal). \n",
    "Hieronder staan de deelinstallatie**{'s' if len(sbs_to_process) > 1 else ''}**:\n",
    "\n",
    "\n",
    "{''.join((newline + '**-' + tab + line + '**' + newline for line in r2p))}\n",
    "\n",
    "\n",
    "De **{totaal_aantal_meldingen}** van **{huidige_q}** **{huidig_jaar}** zijn als volgt onder te verdelen:\n",
    "\n",
    "{''.join((newline + '**-' + tab + ntype_line + '**' + newline for ntype_line in n2p))}\n",
    "\n",
    "\"\"\"\n",
    "display(Markdown(tekst))"
   ]
  },
  {
   "cell_type": "markdown",
   "metadata": {},
   "source": [
    "## Aantallen storingen"
   ]
  },
  {
   "cell_type": "markdown",
   "metadata": {},
   "source": [
    "### Aantal storingen per maand"
   ]
  },
  {
   "cell_type": "code",
   "execution_count": 24,
   "metadata": {
    "hide_input": true
   },
   "outputs": [],
   "source": [
    "totaal_aantal_storingen = len(sf_data.index)\n",
    "\n",
    "storingen_per_maand = sf_data['month_number'].value_counts()\n",
    "\n",
    "gemiddelde_per_maand = sum(storingen_per_maand) / len(storingen_per_maand)\n",
    "\n",
    "num_maand_max_storingen = [storingen_per_maand.index[storingen_per_maand == max(storingen_per_maand)][0]]\n",
    "maand_max = sa._month_num_to_name(month_num=num_maand_max_storingen)\n",
    "\n",
    "num_maand_min_storingen = [storingen_per_maand.index[storingen_per_maand == min(storingen_per_maand)][0]]\n",
    "maand_min = sa._month_num_to_name(month_num=num_maand_min_storingen)\n",
    "\n",
    "data_2019 = [key for key in sa.metadata.storingen().keys() if '2019' in key]\n",
    "storingen_2019 = sa.metadata.sum_values(dictionary=sa.storingen, keys=data_2019)\n",
    "\n",
    "jaarlijks_gemiddelde = sa.metadata.avg_yearly(dictionary=sa.metadata.storingen(), exclude_year='2020')\n",
    "\n",
    "maanden = sa.metadata.get_month_list(exclude_year='2020')\n",
    "maandelijks_gemiddelde = sa.metadata.avg_monthly(dictionary=sa.metadata.storingen(), exclude_keys=maanden)\n",
    "\n",
    "kwartaal_gemiddelde = sa.metadata.avg_quarterly(dictionary=sa.metadata.storingen())"
   ]
  },
  {
   "cell_type": "code",
   "execution_count": 25,
   "metadata": {
    "hide_input": false
   },
   "outputs": [
    {
     "data": {
      "text/markdown": [
       "\n",
       "Om te kunnen bepalen of een trend waarneembaar is in het aantal storingen per \n",
       "maand, wordt als onderdeel van deze rapportage een grafiek toegevoegd. Zie \n",
       "bijlage 1: “Aantal storingen per maand”.\n",
       "\n",
       "Uit de grafiek valt het volgende te constateren:\n",
       "\n",
       "• Het totaal aantal storingen in Q1 2021 : **99**\n",
       "\n",
       "• Het gemiddelde aantal storingen per maand : **33.0**\n",
       "\n",
       "• Hoogste aantal storingen in de maand **Februari** : **45**\n",
       "\n",
       "• Laagste aantal storingen in de maanden **Maart** : **24**\n",
       "\n",
       "• Het gemiddelde aantal storingen per maand vanaf **01-2016**: **19.19047619047619**\n",
       "\n",
       "• Het gemiddelde aantal storingen per kwartaal vanaf **01-2016**: **57.57142857142857**\n"
      ],
      "text/plain": [
       "<IPython.core.display.Markdown object>"
      ]
     },
     "metadata": {},
     "output_type": "display_data"
    }
   ],
   "source": [
    "tekst = f\"\"\"\n",
    "Om te kunnen bepalen of een trend waarneembaar is in het aantal storingen per \n",
    "maand, wordt als onderdeel van deze rapportage een grafiek toegevoegd. Zie \n",
    "bijlage 1: “Aantal storingen per maand”.\n",
    "\n",
    "Uit de grafiek valt het volgende te constateren:\n",
    "\n",
    "• Het totaal aantal storingen in Q1 2021 : **{totaal_aantal_storingen}**\n",
    "\n",
    "• Het gemiddelde aantal storingen per maand : **{gemiddelde_per_maand}**\n",
    "\n",
    "• Hoogste aantal storingen in de maand **{maand_max}** : **{max(storingen_per_maand)}**\n",
    "\n",
    "• Laagste aantal storingen in de maanden **{maand_min}** : **{min(storingen_per_maand)}**\n",
    "\n",
    "• Het gemiddelde aantal storingen per maand vanaf **{sa.start_date}**: **{maandelijks_gemiddelde}**\n",
    "\n",
    "• Het gemiddelde aantal storingen per kwartaal vanaf **{sa.start_date}**: **{kwartaal_gemiddelde}**\n",
    "\"\"\"\n",
    "display(Markdown(tekst))"
   ]
  },
  {
   "cell_type": "code",
   "execution_count": 26,
   "metadata": {
    "hide_input": true
   },
   "outputs": [],
   "source": [
    "huidige_q = 'Q1'\n",
    "huidig_jaar = '2021'\n",
    "\n",
    "# Aantal storingen in voorgaande q\n",
    "voorgaande_q = sa.quarter_sequence.get_prev_val(huidige_q)\n",
    "voorgaand_jaar = str(int(huidig_jaar) - 1)\n",
    "mlist = sa.metadata.get_keys(dictionary=sa.metadata.storingen(), containing_quarter=[voorgaande_q], containing_year=[voorgaand_jaar])\n",
    "storingen_gefilterd = sa.metadata.filter_dictionary_keys(dictionary=sa.metadata.storingen(), keys=mlist)\n",
    "totaal_storingen_voorgaand_kwartaal = sa.metadata.sum_values(storingen_gefilterd)\n",
    "\n",
    "# Aantal storingen in zelfde q voorgaand jaar\n",
    "mlist = sa.metadata.get_keys(dictionary=sa.metadata.storingen(),containing_quarter=[huidige_q], containing_year=[voorgaand_jaar])\n",
    "storingen_gefilterd = sa.metadata.filter_dictionary_keys(dictionary=sa.metadata.storingen(), keys=mlist)\n",
    "totaal_storingen_zelfde_kwartaal = sa.metadata.sum_values(storingen_gefilterd)"
   ]
  },
  {
   "cell_type": "code",
   "execution_count": 27,
   "metadata": {
    "hide_input": false
   },
   "outputs": [
    {
     "data": {
      "text/markdown": [
       "\n",
       "In **Q1** **2020** waren in totaal **31** storingen gemaakt. In **Q1** **2021** zijn er **68** storingen \n",
       "meer t.o.v. **Q1** **2020**. \n",
       "\n",
       "In **Q4** **2020** waren in totaal **39** storingen gemaakt. In **Q1** **2021** zijn er **60** storingen \n",
       "meer t.o.v. **Q4** **2020**. \n"
      ],
      "text/plain": [
       "<IPython.core.display.Markdown object>"
      ]
     },
     "metadata": {},
     "output_type": "display_data"
    }
   ],
   "source": [
    "tekst = f\"\"\"\n",
    "In **{huidige_q}** **{voorgaand_jaar}** waren in totaal **{totaal_storingen_zelfde_kwartaal}** storingen gemaakt. In **{huidige_q}** **{huidig_jaar}** zijn er **{totaal_aantal_storingen - totaal_storingen_zelfde_kwartaal}** storingen \n",
    "meer t.o.v. **{huidige_q}** **{voorgaand_jaar}**. \n",
    "\n",
    "In **{voorgaande_q}** **{voorgaand_jaar}** waren in totaal **{totaal_storingen_voorgaand_kwartaal}** storingen gemaakt. In **{huidige_q}** **{huidig_jaar}** zijn er **{totaal_aantal_storingen - totaal_storingen_voorgaand_kwartaal}** storingen \n",
    "meer t.o.v. **{voorgaande_q}** **{voorgaand_jaar}**. \n",
    "\"\"\"\n",
    "display(Markdown(tekst))"
   ]
  },
  {
   "cell_type": "markdown",
   "metadata": {},
   "source": [
    "### Aantal storingen per subsysteem"
   ]
  },
  {
   "cell_type": "code",
   "execution_count": 28,
   "metadata": {
    "hide_input": true
   },
   "outputs": [],
   "source": [
    "df = sa.storingen.copy()\n",
    "# unieke types vastlegen\n",
    "unique_types = list(df.loc[:, 'sbs'].unique())\n",
    "\n",
    "sbs_count = df.loc[:, 'sbs'].value_counts()\n",
    "\n",
    "sbs_to_process = [x for x in sbs_count.index if sbs_count.at[x] >= input_threshhold.value]"
   ]
  },
  {
   "cell_type": "code",
   "execution_count": 29,
   "metadata": {
    "hide_input": true
   },
   "outputs": [],
   "source": [
    "r2p = list()\n",
    "for sbs in sbs_to_process:\n",
    "    storingen_per_sbs = sbs_count[sbs]\n",
    "    percentage_storing = round((storingen_per_sbs / sum(sbs_count)) * 100, 2)\n",
    "    line = f\"{sa._get_breakdown_description(sbs)[0]}\\t- {storingen_per_sbs} storingen ({percentage_storing}% van het totale aantal storingen)\"\n",
    "    r2p.append(line)"
   ]
  },
  {
   "cell_type": "code",
   "execution_count": 30,
   "metadata": {
    "hide_input": false
   },
   "outputs": [
    {
     "data": {
      "text/markdown": [
       "\n",
       "Er wordt en Pareto analyse gemaakt van het totaal aantal storingen per subsysteem. Deze is toegevoegd als bijlage. \n",
       "\n",
       "Uit de pareto blijkt dat in **Q1** **2021** een totaal van **99** storingen zijn gemeld, intern \n",
       "dan wel extern. Voor het overzicht zijn de storingen bekeken met **0** of meer \n",
       "storingen. Dit is de top **5** en heeft een totaal van **11** storingen van de in totaal \n",
       "**99** (dit is **11.11**% van het totaal). \n",
       "Hieronder staan de deelinstallatie**s**:\n",
       "\n",
       "\n",
       "**-\tAfsluitbomen (AB)\t- 3 storingen (27.27% van het totale aantal storingen)**\n",
       "\n",
       "**-\tVerkeerssignaleringssysteem (MTM)\t- 3 storingen (27.27% van het totale aantal storingen)**\n",
       "\n",
       "**-\tBrandmeldinstallatie dienstengebouwen\t- 3 storingen (27.27% van het totale aantal storingen)**\n",
       "\n",
       "**-\tTelefoon en intercominstallatie\t- 1 storingen (9.09% van het totale aantal storingen)**\n",
       "\n",
       "**-\tOpenbare verlichting (OV)\t- 1 storingen (9.09% van het totale aantal storingen)**\n",
       "\n",
       "\n",
       "In totaal hebben **5** deelsystemen **1** of meerdere storingen gehad in **Q1** **2021**.\n",
       "\n"
      ],
      "text/plain": [
       "<IPython.core.display.Markdown object>"
      ]
     },
     "metadata": {},
     "output_type": "display_data"
    }
   ],
   "source": [
    "# '\\' is not allowed as character in a f-string like bellow. reason for newline and tab\n",
    "newline = '\\n'\n",
    "tab = '\\t'\n",
    "\n",
    "tekst = f\"\"\"\n",
    "Er wordt en Pareto analyse gemaakt van het totaal aantal storingen per subsysteem. Deze is toegevoegd als bijlage. \n",
    "\n",
    "Uit de pareto blijkt dat in **{huidige_q}** **{huidig_jaar}** een totaal van **{totaal_aantal_storingen}** storingen zijn gemeld, intern \n",
    "dan wel extern. Voor het overzicht zijn de storingen bekeken met **{input_threshhold.value}** of meer \n",
    "storingen. Dit is de top **{len(sbs_to_process)}** en heeft een totaal van **{sum(sbs_count[sbs_to_process])}** storingen van de in totaal \n",
    "**{totaal_aantal_storingen}** (dit is **{round((sum(sbs_count[sbs_to_process]) / totaal_aantal_storingen) * 100, 2)}**% van het totaal). \n",
    "Hieronder staan de deelinstallatie**{'s' if len(sbs_to_process) > 1 else ''}**:\n",
    "\n",
    "{''.join((newline + '**-' + tab + line + '**' + newline for line in r2p))}\n",
    "\n",
    "In totaal hebben **{len(sbs_count)}** deelsystemen **{min(sbs_count)}** of meerdere storingen gehad in **{huidige_q}** **{huidig_jaar}**.\n",
    "\n",
    "\"\"\"\n",
    "display(Markdown(tekst))"
   ]
  },
  {
   "cell_type": "markdown",
   "metadata": {},
   "source": [
    "# Conclusie / aanbeveling"
   ]
  },
  {
   "cell_type": "markdown",
   "metadata": {},
   "source": [
    "## Algemeen"
   ]
  },
  {
   "cell_type": "code",
   "execution_count": 31,
   "metadata": {
    "hide_input": true
   },
   "outputs": [],
   "source": [
    "sbs_count = df.loc[:, 'sbs'].value_counts(dropna=False)"
   ]
  },
  {
   "cell_type": "code",
   "execution_count": 32,
   "metadata": {},
   "outputs": [
    {
     "data": {
      "text/markdown": [
       "\n",
       "Er heeft een analyse van de storingen plaatsgevonden. Uit deze analyse is niet \n",
       "naar voren gekomen dat verbeteren aan het onderhoudsplan en/of procedures en/of \n",
       "hardware noodzakelijk zijn om het faalgedrag te verbeteren. \n",
       " \n",
       "Alle meldingen moeten aan een asset / sub niveau van een DI worden gekoppeld. \n",
       "Zodat altijd is te herleiden wat precies is gefaald. Aan alle meldingen is DI \n",
       "gekoppeld. Aan **13** werkorders zit geen asset gekoppeld. (zie besluit 5). \n",
       " \n",
       "De meldingen zijn gekoppeld aan een probleem, oorzaak en oplossing. \n",
       " \n",
       "Vanaf 1 september 2018 heeft een update plaats gevonden van het \n",
       "onderhoudsmanagementsysteem. Bij deze update is het invullen van probleem, \n",
       "oorzaak en oplossing toegevoegd in het systeem. Vanaf Q4 2018 zal dit ook \n",
       "worden meegenomen in de analyse. In de volgende paragrafen staat de uitwerking \n",
       "hiervan. Daarbij zie je het aantal van het huidige jaar, het totaal aantal en het \n",
       "gemiddelde per Q vanaf Q4 2018.\n"
      ],
      "text/plain": [
       "<IPython.core.display.Markdown object>"
      ]
     },
     "metadata": {},
     "output_type": "display_data"
    }
   ],
   "source": [
    "tekst = f\"\"\"\n",
    "Er heeft een analyse van de storingen plaatsgevonden. Uit deze analyse is niet \n",
    "naar voren gekomen dat verbeteren aan het onderhoudsplan en/of procedures en/of \n",
    "hardware noodzakelijk zijn om het faalgedrag te verbeteren. \n",
    " \n",
    "Alle meldingen moeten aan een asset / sub niveau van een DI worden gekoppeld. \n",
    "Zodat altijd is te herleiden wat precies is gefaald. Aan alle meldingen is DI \n",
    "gekoppeld. Aan **{max(sbs_count[sbs_count.index.isnull()].values)}** werkorders zit geen asset gekoppeld. (zie besluit 5). \n",
    " \n",
    "De meldingen zijn gekoppeld aan een probleem, oorzaak en oplossing. \n",
    " \n",
    "Vanaf 1 september 2018 heeft een update plaats gevonden van het \n",
    "onderhoudsmanagementsysteem. Bij deze update is het invullen van probleem, \n",
    "oorzaak en oplossing toegevoegd in het systeem. Vanaf Q4 2018 zal dit ook \n",
    "worden meegenomen in de analyse. In de volgende paragrafen staat de uitwerking \n",
    "hiervan. Daarbij zie je het aantal van het huidige jaar, het totaal aantal en het \n",
    "gemiddelde per Q vanaf Q4 2018.\n",
    "\"\"\"\n",
    "display(Markdown(tekst))"
   ]
  },
  {
   "cell_type": "markdown",
   "metadata": {},
   "source": [
    "### Probleem"
   ]
  },
  {
   "cell_type": "code",
   "execution_count": 33,
   "metadata": {
    "hide_input": false
   },
   "outputs": [
    {
     "data": {
      "text/plain": [
       "dict_keys(['C11', 'C13', 'C08', 'C04', 'C05', 'C12', 'C16', 'C10', 'C03', 'C09', 'C15', 'C02', 'C06', 'C07', 'C01', 'C14', 'Leeg'])"
      ]
     },
     "execution_count": 33,
     "metadata": {},
     "output_type": "execute_result"
    }
   ],
   "source": [
    "probleem_code_count = sf_data['probleem code'].value_counts(dropna=False).to_dict()\n",
    "oorzaak_code_count = sf_data['oorzaak code'].value_counts(dropna=False).to_dict()\n",
    "oplossing_code_count = sf_data['oplos code'].value_counts(dropna=False).to_dict()\n",
    "\n",
    "meta_probleem = sa.metadata.poo_data()['probleem']\n",
    "meta_oorzaak = sa.metadata.poo_data()['oorzaak']\n",
    "meta_oplossing = sa.metadata.poo_data()['oplossing']\n",
    "\n",
    "poo_beschrijvingen = sa.metadata.contract_info()['POO_codes']\n",
    "\n",
    "\n",
    "probleem_code_count['Leeg'] = probleem_code_count.pop(np.nan)\n",
    "oorzaak_code_count['Leeg'] = oorzaak_code_count.pop(np.nan)\n",
    "oplossing_code_count['Leeg'] = oplossing_code_count.pop(np.nan)"
   ]
  },
  {
   "cell_type": "code",
   "execution_count": 34,
   "metadata": {
    "hide_input": false
   },
   "outputs": [
    {
     "data": {
      "text/markdown": [
       "\n",
       "|Probleem|Beschrijving|Aantal|Totaal|Gemiddelde|\n",
       "|--------|------------|------|------|----------|\n",
       "|P01|Niet beschikbaar|9|107|z|\n",
       "|P02|Geen / slecht / afwijkend beeld|4|54|z|\n",
       "|P03|Aangereden|10|44|z|\n",
       "|P04|In storing|14|118|z|\n",
       "|P05|Blijft hangen|9|33|z|\n",
       "|P06|Fatale fout|9|25|z|\n",
       "|P07|Gewenste stand komt niet overeen (niet mogelijk)|8|9|z|\n",
       "|P08|Geen communicatie (mogelijk)|4|10|z|\n",
       "|P09|Oproep actief|7|3|z|\n",
       "|P10|Niet bedienbaar|11|17|z|\n",
       "|P11|Overige|6|233|z|\n",
       "|Leeg|Niet ingevuld|8|162|z|\n"
      ],
      "text/plain": [
       "<IPython.core.display.Markdown object>"
      ]
     },
     "metadata": {},
     "output_type": "display_data"
    }
   ],
   "source": [
    "line_dict = dict()\n",
    "for code in (k for k in poo_beschrijvingen.keys() if 'P' in k or k == 'Leeg'):\n",
    "    code_counts = list()\n",
    "    for q in meta_probleem.keys():\n",
    "        if code in meta_probleem[q].keys():\n",
    "            code_counts.append(sa.metadata.sum_values(dictionary=meta_probleem[q], keys=[code]))\n",
    "        else:\n",
    "            code_counts.append(0)\n",
    "    \n",
    "    totaal = sum(code_counts)\n",
    "    line = ''.join((newline + '|' + code + '|' + poo_beschrijvingen[code] + '|' + str(probleem_code_count[code]) + '|' + str(totaal) + '|' + 'z' '|'))\n",
    "    line_dict[code] = line\n",
    "    \n",
    "tekst = f\"\"\"\n",
    "|Probleem|Beschrijving|Aantal|Totaal|Gemiddelde|\n",
    "|--------|------------|------|------|----------|{''.join((line_dict[code] for code in line_dict.keys()))}\n",
    "\"\"\"\n",
    "display(Markdown(tekst))"
   ]
  },
  {
   "cell_type": "code",
   "execution_count": 36,
   "metadata": {
    "hide_input": false
   },
   "outputs": [
    {
     "data": {
      "text/markdown": [
       "\n",
       "|Oorzaak|Beschrijving|Aantal|Totaal|Gemiddelde|\n",
       "|-------|------------|------|------|----------|\n",
       "|Leeg|Niet ingevuld|1|180|z|\n",
       "|C01|Corrosie|4|4|z|\n",
       "|C02|Mechanische slijtage, - breuk, - vervorming|5|14|z|\n",
       "|C03|Molest / diefstal|6|3|z|\n",
       "|C04|Ongedierte|7|0|z|\n",
       "|C05|Schade|7|12|z|\n",
       "|C06|Random / software / applicatie fout|5|41|z|\n",
       "|C07|Thermische vervorming|4|2|z|\n",
       "|C08|Veroudering|8|99|z|\n",
       "|C09|Vervuiling|6|7|z|\n",
       "|C10|Weersomstandigheden|6|38|z|\n",
       "|C11|Externe oorzaak|10|42|z|\n",
       "|C12|Aanlegkwaliteit|7|3|z|\n",
       "|C13|Overige|9|309|z|\n",
       "|C14|Bedienfout|3|20|z|\n",
       "|C15|Vocht|5|3|z|\n",
       "|C16|Incident|6|35|z|\n"
      ],
      "text/plain": [
       "<IPython.core.display.Markdown object>"
      ]
     },
     "metadata": {},
     "output_type": "display_data"
    }
   ],
   "source": [
    "line_dict = dict()\n",
    "for code in (k for k in poo_beschrijvingen.keys() if 'C' in k or k == 'Leeg'):\n",
    "    code_counts = list()\n",
    "    for q in meta_oorzaak.keys():\n",
    "        if code in meta_oorzaak[q].keys():\n",
    "            code_counts.append(sa.metadata.sum_values(dictionary=meta_oorzaak[q], keys=[code]))\n",
    "        else:\n",
    "            code_counts.append(0)\n",
    "\n",
    "    totaal = sum(code_counts)\n",
    "    line = ''.join((newline + '|' + code + '|' + poo_beschrijvingen[code] + '|' + str(oorzaak_code_count[code]) + '|' + str(totaal) + '|' + 'z' '|'))\n",
    "    line_dict[code] = line\n",
    "\n",
    "tekst = f\"\"\"\n",
    "|Oorzaak|Beschrijving|Aantal|Totaal|Gemiddelde|\n",
    "|-------|------------|------|------|----------|{''.join((line_dict[code] for code in line_dict.keys()))}\n",
    "\"\"\"\n",
    "display(Markdown(tekst))"
   ]
  },
  {
   "cell_type": "code",
   "execution_count": 37,
   "metadata": {
    "hide_input": false
   },
   "outputs": [
    {
     "data": {
      "text/markdown": [
       "\n",
       "|oplossing|Beschrijving|Aantal|Totaal|Gemiddelde|\n",
       "|-------|------------|------|------|----------|\n",
       "|Leeg|Niet ingevuld|16|180|z|\n",
       "|S01|Reinigen|12|10|z|\n",
       "|S02|Vervangen|7|244|z|\n",
       "|S03|Resetten|8|173|z|\n",
       "|S04|Afstellen/vastzetten|9|24|z|\n",
       "|S05|Bijvullen|11|2|z|\n",
       "|S06|Repareren|8|11|z|\n",
       "|S07|Smeren / bijvullen / bijwerken|12|2|z|\n",
       "|S08|Overige|16|166|z|\n"
      ],
      "text/plain": [
       "<IPython.core.display.Markdown object>"
      ]
     },
     "metadata": {},
     "output_type": "display_data"
    }
   ],
   "source": [
    "line_dict = dict()\n",
    "for code in (k for k in poo_beschrijvingen.keys() if 'S' in k or k == 'Leeg'):\n",
    "    code_counts = list()\n",
    "    for q in meta_oplossing.keys():\n",
    "        if code in meta_oplossing[q].keys():\n",
    "            code_counts.append(sa.metadata.sum_values(dictionary=meta_oplossing[q], keys=[code]))\n",
    "        else:\n",
    "            code_counts.append(0)\n",
    "\n",
    "    totaal = sum(code_counts)\n",
    "    line = ''.join((newline + '|' + code + '|' + poo_beschrijvingen[code] + '|' + str(oplossing_code_count[code]) + '|' + str(totaal) + '|' + 'z' '|'))\n",
    "    line_dict[code] = line\n",
    "\n",
    "tekst = f\"\"\"\n",
    "|Oplossing|Beschrijving|Aantal|Totaal|Gemiddelde|\n",
    "|---------|------------|------|------|----------|{''.join((line_dict[code] for code in line_dict.keys()))}\n",
    "\"\"\"\n",
    "display(Markdown(tekst))"
   ]
  }
 ],
 "metadata": {
  "kernelspec": {
   "display_name": "Python 3",
   "language": "python",
   "name": "python3"
  },
  "language_info": {
   "codemirror_mode": {
    "name": "ipython",
    "version": 3
   },
   "file_extension": ".py",
   "mimetype": "text/x-python",
   "name": "python",
   "nbconvert_exporter": "python",
   "pygments_lexer": "ipython3",
   "version": "3.8.3"
  },
  "toc": {
   "base_numbering": 1,
   "nav_menu": {},
   "number_sections": true,
   "sideBar": true,
   "skip_h1_title": false,
   "title_cell": "Table of Contents",
   "title_sidebar": "Contents",
   "toc_cell": false,
   "toc_position": {
    "height": "calc(100% - 180px)",
    "left": "10px",
    "top": "150px",
    "width": "165px"
   },
   "toc_section_display": true,
   "toc_window_display": false
  }
 },
 "nbformat": 4,
 "nbformat_minor": 4
}
