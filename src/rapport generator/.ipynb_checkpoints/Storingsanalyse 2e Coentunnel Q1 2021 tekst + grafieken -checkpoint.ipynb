{
 "cells": [
  {
   "cell_type": "markdown",
   "metadata": {},
   "source": [
    "# Voorbereiding"
   ]
  },
  {
   "cell_type": "code",
   "execution_count": 1,
   "metadata": {},
   "outputs": [],
   "source": [
    "import os\n",
    "import json\n",
    "import asyncio\n",
    "\n",
    "import traitlets\n",
    "\n",
    "import numpy as np\n",
    "import pandas as pd\n",
    "\n",
    "import ipywidgets as widgets \n",
    "from ipywidgets import interact, interact_manual, Layout\n",
    "\n",
    "import time\n",
    "from datetime import datetime\n",
    "\n",
    "from storingsanalyse import StoringsAnalyse\n",
    "\n",
    "import numpy as np\n",
    "import matplotlib.pyplot as plt\n",
    "from matplotlib.figure import Figure\n",
    "\n",
    "from IPython.display import Markdown, Latex"
   ]
  },
  {
   "cell_type": "code",
   "execution_count": 2,
   "metadata": {
    "hide_input": false
   },
   "outputs": [],
   "source": [
    "class LoadedButton(widgets.Button):\n",
    "    \"\"\"A button that can holds a value as a attribute.\"\"\"\n",
    "\n",
    "    def __init__(self, value=None, *args, **kwargs):\n",
    "        super(LoadedButton, self).__init__(*args, **kwargs)\n",
    "        # Create the value attribute.\n",
    "        self.add_traits(value=traitlets.Any(value))\n",
    "\n",
    "\n",
    "# Aparte functie voor het wachten op verandering (aka input van de ME)\n",
    "def wait_for_change(widget):\n",
    "    future = asyncio.Future()\n",
    "    def getvalue(change):\n",
    "        future.set_result(change.description)\n",
    "        widget.on_click(getvalue, remove=True) \n",
    "        # we need to free up the binding to getvalue to avoid an InvalidState error\n",
    "        # buttons don't support unobserve\n",
    "        # so use `remove=True` \n",
    "    widget.on_click(getvalue)\n",
    "    return future"
   ]
  },
  {
   "cell_type": "code",
   "execution_count": 3,
   "metadata": {
    "hide_input": false
   },
   "outputs": [],
   "source": [
    "\"\"\" In the line bellow fill in your API key without < and > \"\"\" \n",
    "api_key = 'bWF4YWRtaW46R21iQ1dlbkQyMDE5' # provided to you by a Maximo Consultant\n",
    "\n",
    "\"\"\" In the line bellow fill in the desired object structure \"\"\"\n",
    "obj_struct = 'MXWO_SND' # name of the Maximo object structure\n",
    "\n",
    "\"\"\" In the line bellow fill in the PO number and the SITEID without the < and > \"\"\"\n",
    "query = 'siteid=\"CT1EN2\" and worktype=\"COR\" and reportdate>=\"2018-01-01T00:00:00-00:00\" and reportdate<=\"2018-03-30T00:00:00-00:00\"'"
   ]
  },
  {
   "cell_type": "code",
   "execution_count": 4,
   "metadata": {},
   "outputs": [],
   "source": [
    "sa = StoringsAnalyse(\"coentunnel\", api_key)"
   ]
  },
  {
   "cell_type": "code",
   "execution_count": 5,
   "metadata": {},
   "outputs": [
    {
     "name": "stderr",
     "output_type": "stream",
     "text": [
      "C:\\Users\\NBais\\Anaconda3\\lib\\site-packages\\openpyxl\\worksheet\\_reader.py:300: UserWarning: Data Validation extension is not supported and will be removed\n",
      "  warn(msg)\n"
     ]
    }
   ],
   "source": [
    "sa.read_staging_file(\"20210702_12_55_staging_file.xlsx\")"
   ]
  },
  {
   "cell_type": "code",
   "execution_count": 6,
   "metadata": {},
   "outputs": [],
   "source": [
    "sf_data = sa.staging_file_data"
   ]
  },
  {
   "cell_type": "markdown",
   "metadata": {
    "hide_input": true
   },
   "source": [
    "### Aanpassen van de staging_file -- DEZE STAP WORDT VERWIJDERD IN DE TOEKOMST\n",
    "Het opbouwen van deze automatische storingsanalyse vraagt om een ingevulde kolom 'type melding'. Om het process van opbouwen niet te laten stagneren op dit aspect, wordt er hieronder fictive data gegenereerd. Met behulp van de fictieve data wordt het genereren van de verschillende tabellen en grafieken gebouwd."
   ]
  },
  {
   "cell_type": "code",
   "execution_count": 7,
   "metadata": {
    "hide_input": true
   },
   "outputs": [],
   "source": [
    "from random import randrange\n",
    "\n",
    "lijst_opties = ['Storing', 'Incident', 'Preventief', 'Onterecht']\n",
    "random_ranges = [lijst_opties[randrange(0, 4, 1)] for _ in range(len(sf_data['type melding (Storing/Incident/Preventief/Onterecht)']))]\n",
    "sf_data.loc[:, 'type melding (Storing/Incident/Preventief/Onterecht)'] = random_ranges"
   ]
  },
  {
   "cell_type": "code",
   "execution_count": 8,
   "metadata": {
    "hide_input": true
   },
   "outputs": [],
   "source": [
    "lijst_opties = ['P01', 'P02', 'P03', 'P04', 'P05', 'P06', 'P07', 'P08', 'P09', 'P10', 'P11', np.nan]\n",
    "random_ranges = [lijst_opties[randrange(0, len(lijst_opties), 1)] for _ in range(len(sf_data['probleem code']))]\n",
    "sf_data.loc[:, 'probleem code'] = random_ranges"
   ]
  },
  {
   "cell_type": "code",
   "execution_count": 9,
   "metadata": {
    "hide_input": true
   },
   "outputs": [],
   "source": [
    "lijst_opties = ['C01', 'C02', 'C03', 'C04', 'C05', 'C06', 'C07', 'C08', 'C09', 'C10', 'C11', 'C12', 'C13', 'C14', 'C15', 'C16', np.nan]\n",
    "random_ranges = [lijst_opties[randrange(0, len(lijst_opties), 1)] for _ in range(len(sf_data['oorzaak code']))]\n",
    "sf_data.loc[:, 'oorzaak code'] = random_ranges"
   ]
  },
  {
   "cell_type": "code",
   "execution_count": 10,
   "metadata": {
    "hide_input": true
   },
   "outputs": [],
   "source": [
    "lijst_opties = ['S01', 'S02', 'S03', 'S04', 'S05', 'S06', 'S07', 'S08', np.nan]\n",
    "random_ranges = [lijst_opties[randrange(0, len(lijst_opties), 1)] for _ in range(len(sf_data['oplos code']))]\n",
    "sf_data.loc[:, 'oplos code'] = random_ranges"
   ]
  },
  {
   "cell_type": "code",
   "execution_count": 11,
   "metadata": {
    "hide_input": true,
    "scrolled": true
   },
   "outputs": [],
   "source": [
    "# sf_data.iloc[:5, 15:25]"
   ]
  },
  {
   "cell_type": "code",
   "execution_count": 12,
   "metadata": {
    "hide_input": true
   },
   "outputs": [],
   "source": [
    "# changing the di_numbers from '45-10' to '45'\n",
    "new_num = []\n",
    "for num in sf_data['sbs']:\n",
    "    if num is np.nan:\n",
    "        new_num.append(num)\n",
    "    else:\n",
    "        new_num.append(sa._isolate_di_number(num))\n",
    "\n",
    "sf_data.loc[:, 'sbs'] = new_num"
   ]
  },
  {
   "cell_type": "code",
   "execution_count": 13,
   "metadata": {
    "hide_input": true
   },
   "outputs": [],
   "source": [
    "# sf_data.iloc[:5, 5:15]"
   ]
  },
  {
   "cell_type": "code",
   "execution_count": 14,
   "metadata": {},
   "outputs": [
    {
     "data": {
      "text/plain": [
       "'Data available through the use of StoringsAnalyse.meldingen and StoringsAnalyse.storingen'"
      ]
     },
     "execution_count": 14,
     "metadata": {},
     "output_type": "execute_result"
    }
   ],
   "source": [
    "sa.split_staging_file()"
   ]
  },
  {
   "cell_type": "markdown",
   "metadata": {
    "hide_input": false
   },
   "source": [
    "# Analyse"
   ]
  },
  {
   "cell_type": "markdown",
   "metadata": {},
   "source": [
    "## Aantallen meldingen"
   ]
  },
  {
   "cell_type": "markdown",
   "metadata": {},
   "source": [
    "### Aantal meldingen per maand"
   ]
  },
  {
   "cell_type": "code",
   "execution_count": 15,
   "metadata": {
    "hide_input": true,
    "scrolled": true
   },
   "outputs": [
    {
     "data": {
      "text/markdown": [
       "\n",
       "Om te kunnen bepalen of een trend waarneembaar is in het aantal meldingen per \n",
       "maand, wordt als onderdeel van deze rapportage een grafiek toegevoegd. Zie \n",
       "bijlage 1: “Aantal meldingen per maand”.\n",
       "\n",
       "Uit de grafiek valt het volgende te constateren:\n",
       "\n",
       "• Het totaal aantal meldingen in Q1 2021 : **99** \n",
       "\n",
       "• Het gemiddelde aantal meldingen per maand : **33.0** \n",
       "\n",
       "• Hoogste aantal meldingen in de maand **Februari** : **45**\n",
       "\n",
       "• Laagste aantal meldingen in de maanden **Maart** : **24**\n",
       "\n",
       "• Het gemiddelde aantal meldingen per maand vanaf **01-2016**: **35.98412698412698**\n",
       "\n",
       "• Het gemiddelde aantal meldingen per kwartaal vanaf **01-2016**: **107.95238095238095**\n"
      ],
      "text/plain": [
       "<IPython.core.display.Markdown object>"
      ]
     },
     "metadata": {},
     "output_type": "display_data"
    }
   ],
   "source": [
    "# Data voor in tekst ophalen\n",
    "totaal_aantal_meldingen = len(sf_data.index)\n",
    "\n",
    "meldingen_per_maand = sf_data['month_number'].value_counts()\n",
    "\n",
    "gemiddelde_per_maand = sum(meldingen_per_maand) / len(meldingen_per_maand)\n",
    "\n",
    "num_maand_max_meldingen = [meldingen_per_maand.index[meldingen_per_maand == max(meldingen_per_maand)][0]]\n",
    "maand_max = sa._month_num_to_name(month_num=num_maand_max_meldingen)\n",
    "\n",
    "num_maand_min_meldingen = [meldingen_per_maand.index[meldingen_per_maand == min(meldingen_per_maand)][0]]\n",
    "maand_min = sa._month_num_to_name(month_num=num_maand_min_meldingen)\n",
    "\n",
    "data_2019 = [key for key in sa.metadata.meldingen().keys() if '2019' in key]\n",
    "meldingen_2019 = sa.metadata.sum_values(dictionary=sa.meldingen, keys=data_2019)\n",
    "\n",
    "jaarlijks_gemiddelde = sa.metadata.avg_yearly(dictionary=sa.metadata.meldingen(), exclude_year='2020')\n",
    "\n",
    "maanden = sa.metadata.get_month_list(exclude_year='2020')\n",
    "maandelijks_gemiddelde = sa.metadata.avg_monthly(dictionary=sa.metadata.meldingen(), exclude_keys=maanden)\n",
    "\n",
    "kwartaal_gemiddelde = sa.metadata.avg_quarterly(dictionary=sa.metadata.meldingen())\n",
    "\n",
    "# tekst opbouwen + afbeelden \n",
    "tekst = f\"\"\"\n",
    "Om te kunnen bepalen of een trend waarneembaar is in het aantal meldingen per \n",
    "maand, wordt als onderdeel van deze rapportage een grafiek toegevoegd. Zie \n",
    "bijlage 1: “Aantal meldingen per maand”.\n",
    "\n",
    "Uit de grafiek valt het volgende te constateren:\n",
    "\n",
    "• Het totaal aantal meldingen in Q1 2021 : **{totaal_aantal_meldingen}** \n",
    "\n",
    "• Het gemiddelde aantal meldingen per maand : **{gemiddelde_per_maand}** \n",
    "\n",
    "• Hoogste aantal meldingen in de maand **{maand_max}** : **{max(meldingen_per_maand)}**\n",
    "\n",
    "• Laagste aantal meldingen in de maanden **{maand_min}** : **{min(meldingen_per_maand)}**\n",
    "\n",
    "• Het gemiddelde aantal meldingen per maand vanaf **{sa.start_date}**: **{maandelijks_gemiddelde}**\n",
    "\n",
    "• Het gemiddelde aantal meldingen per kwartaal vanaf **{sa.start_date}**: **{kwartaal_gemiddelde}**\n",
    "\"\"\"\n",
    "display(Markdown(tekst))"
   ]
  },
  {
   "cell_type": "code",
   "execution_count": 16,
   "metadata": {
    "hide_input": false
   },
   "outputs": [
    {
     "data": {
      "text/markdown": [
       "\n",
       "In **Q1** **2020** waren in totaal **60** meldingen gemaakt. In **Q1** **2021** zijn er **39** meldingen \n",
       "meer t.o.v. **Q1** **2020**. \n",
       " \n",
       "In **Q4** **2020** waren in totaal **79** meldingen gemaakt. In **Q1** **2021** zijn er **20** meldingen \n",
       "meer t.o.v. **Q4** **2020**. \n"
      ],
      "text/plain": [
       "<IPython.core.display.Markdown object>"
      ]
     },
     "metadata": {},
     "output_type": "display_data"
    }
   ],
   "source": [
    "huidige_q = 'Q1'\n",
    "huidig_jaar = '2021'\n",
    "\n",
    "# Aantal meldingen in voorgaande q\n",
    "voorgaande_q = sa.quarter_sequence.get_prev_val(huidige_q)\n",
    "voorgaand_jaar = str(int(huidig_jaar) - 1)\n",
    "mlist = sa.metadata.get_keys(dictionary=sa.metadata.meldingen(), containing_quarter=[voorgaande_q], containing_year=[voorgaand_jaar])\n",
    "meldingen_gefilterd = sa.metadata.filter_dictionary_keys(dictionary=sa.metadata.meldingen(), keys=mlist)\n",
    "totaal_meldingen_voorgaand_kwartaal = sa.metadata.sum_values(meldingen_gefilterd)\n",
    "\n",
    "# Aantal meldingen in zelfde q voorgaand jaar\n",
    "mlist = sa.metadata.get_keys(dictionary=sa.metadata.meldingen(),containing_quarter=[huidige_q], containing_year=[voorgaand_jaar])\n",
    "meldingen_gefilterd = sa.metadata.filter_dictionary_keys(dictionary=sa.metadata.meldingen(), keys=mlist)\n",
    "totaal_meldingen_zelfde_kwartaal = sa.metadata.sum_values(meldingen_gefilterd)\n",
    "\n",
    "tekst = f\"\"\"\n",
    "In **{huidige_q}** **{voorgaand_jaar}** waren in totaal **{totaal_meldingen_zelfde_kwartaal}** meldingen gemaakt. In **{huidige_q}** **{huidig_jaar}** zijn er **{totaal_aantal_meldingen-totaal_meldingen_zelfde_kwartaal}** meldingen \n",
    "meer t.o.v. **{huidige_q}** **{voorgaand_jaar}**. \n",
    " \n",
    "In **{voorgaande_q}** **{voorgaand_jaar}** waren in totaal **{totaal_meldingen_voorgaand_kwartaal}** meldingen gemaakt. In **{huidige_q}** **{huidig_jaar}** zijn er **{totaal_aantal_meldingen-totaal_meldingen_voorgaand_kwartaal}** meldingen \n",
    "meer t.o.v. **{voorgaande_q}** **{voorgaand_jaar}**. \n",
    "\"\"\"\n",
    "display(Markdown(tekst))"
   ]
  },
  {
   "cell_type": "markdown",
   "metadata": {},
   "source": [
    "### Aantal meldingen per subsysteem "
   ]
  },
  {
   "cell_type": "code",
   "execution_count": 17,
   "metadata": {
    "hide_input": false,
    "scrolled": true
   },
   "outputs": [
    {
     "data": {
      "application/vnd.jupyter.widget-view+json": {
       "model_id": "5ca143090646473daea34f47f7c88585",
       "version_major": 2,
       "version_minor": 0
      },
      "text/plain": [
       "IntSlider(value=3, continuous_update=False, description='Drempelwaarde:', max=10, min=1, style=SliderStyle(des…"
      ]
     },
     "metadata": {},
     "output_type": "display_data"
    }
   ],
   "source": [
    "df = sa.meldingen.copy()\n",
    "# unieke types vastlegen\n",
    "unique_types = list(df.loc[:, 'sbs'].unique())\n",
    "\n",
    "sbs_count = df.loc[:, 'sbs'].value_counts()\n",
    "\n",
    "input_threshhold = widgets.IntSlider(\n",
    "    value=3,\n",
    "    min=sbs_count.min(),\n",
    "    max=sbs_count.max(),\n",
    "    step=1,\n",
    "    description='Drempelwaarde:',\n",
    "    disabled=False,\n",
    "    continuous_update=False,\n",
    "    orientation='horizontal',\n",
    "    readout=True,\n",
    "    readout_format='d',\n",
    "    style=dict(description_width='initial')\n",
    ")\n",
    "\n",
    "display(input_threshhold)"
   ]
  },
  {
   "cell_type": "code",
   "execution_count": 18,
   "metadata": {
    "hide_input": false,
    "scrolled": false
   },
   "outputs": [
    {
     "data": {
      "text/markdown": [
       "\n",
       "Er wordt en Pareto analyse gemaakt van het totaal aantal meldingen per subsysteem. Deze is toegevoegd als bijlage 1. \n",
       " \n",
       "Uit de pareto blijkt dat in **Q1** **2020** een totaal van **99** meldingen zijn gemeld, intern \n",
       "dan wel extern. Voor het overzicht zijn de meldingen bekeken met **3** of meer \n",
       "meldingen. Dit is de top **4** en heeft een totaal van **26** meldingen van de in totaal \n",
       "**99** (dit is **26.26**% van het totaal). \n",
       "Hieronder staan de deelinstallatie**s**:\n",
       "\n",
       "\n",
       "\n",
       "**-\tAfsluitbomen (AB)\t- 10 meldingen (23.26% van het totale aantal meldingen)**\n",
       "\n",
       "**-\tVerkeerssignaleringssysteem (MTM)\t- 7 meldingen (16.28% van het totale aantal meldingen)**\n",
       "\n",
       "**-\tCalamiteiten doorsteek (CaDo)\t- 5 meldingen (11.63% van het totale aantal meldingen)**\n",
       "\n",
       "**-\tBrandmeldinstallatie dienstengebouwen\t- 4 meldingen (9.3% van het totale aantal meldingen)**\n",
       "\n",
       "\n",
       "\n",
       "De **99** van **Q1** **2021** zijn als volgt onder te verdelen:\n",
       "\n",
       "\n",
       "**-\t26 meldingen zijn gecategoriseerd als Preventief.**\n",
       "\n",
       "**-\t22 meldingen zijn gecategoriseerd als Onterecht.**\n",
       "\n",
       "**-\t31 meldingen zijn gecategoriseerd als Incident.**\n",
       "\n",
       "**-\t20 meldingen zijn gecategoriseerd als Storing.**\n",
       "\n",
       "\n"
      ],
      "text/plain": [
       "<IPython.core.display.Markdown object>"
      ]
     },
     "metadata": {},
     "output_type": "display_data"
    }
   ],
   "source": [
    "# sbs nummers die verwerkt moeten worden\n",
    "sbs_to_process = [x for x in sbs_count.index if sbs_count.at[x] >= input_threshhold.value]\n",
    "\n",
    "# lijst met rijen die verwerkt moeten worden\n",
    "rows2process = list()\n",
    "for sbs in sbs_to_process:\n",
    "    meldingen_per_sbs = sbs_count[sbs]\n",
    "    percentage_storing = round((meldingen_per_sbs / sum(sbs_count)) * 100, 2)\n",
    "    line = f\"{sa._get_breakdown_description(sbs)}\\t- {meldingen_per_sbs} meldingen ({percentage_storing}% van het totale aantal meldingen)\"\n",
    "    rows2process.append(line)\n",
    "\n",
    "# notification type\n",
    "ntypes = list(df.loc[:, 'type melding (Storing/Incident/Preventief/Onterecht)'].unique())\n",
    "ntype_count = df.loc[:, 'type melding (Storing/Incident/Preventief/Onterecht)'].value_counts()\n",
    "n2p = list()\n",
    "for n in ntypes:\n",
    "    line = f\"{ntype_count[n]} meldingen zijn gecategoriseerd als {n}.\"\n",
    "    n2p.append(line)\n",
    "\n",
    "# '\\' is not allowed as character in a f-string like bellow. reason for newline and tab\n",
    "newline = '\\n'\n",
    "tab = '\\t'\n",
    "\n",
    "tekst=f\"\"\"\n",
    "Er wordt en Pareto analyse gemaakt van het totaal aantal meldingen per subsysteem. Deze is toegevoegd als bijlage 1. \n",
    " \n",
    "Uit de pareto blijkt dat in **{huidige_q}** **{voorgaand_jaar}** een totaal van **{totaal_aantal_meldingen}** meldingen zijn gemeld, intern \n",
    "dan wel extern. Voor het overzicht zijn de meldingen bekeken met **{input_threshhold.value}** of meer \n",
    "meldingen. Dit is de top **{len(sbs_to_process)}** en heeft een totaal van **{sum(sbs_count[sbs_to_process])}** meldingen van de in totaal \n",
    "**{totaal_aantal_meldingen}** (dit is **{round((sum(sbs_count[sbs_to_process])/totaal_aantal_meldingen) * 100, 2)}**% van het totaal). \n",
    "Hieronder staan de deelinstallatie**{'s' if len(sbs_to_process) > 1 else ''}**:\n",
    "\n",
    "\n",
    "{''.join((newline + '**-' + tab + line + '**' + newline for line in rows2process))}\n",
    "\n",
    "\n",
    "De **{totaal_aantal_meldingen}** van **{huidige_q}** **{huidig_jaar}** zijn als volgt onder te verdelen:\n",
    "\n",
    "{''.join((newline + '**-' + tab + ntype_line + '**' + newline for ntype_line in n2p))}\n",
    "\n",
    "\"\"\"\n",
    "display(Markdown(tekst))"
   ]
  },
  {
   "cell_type": "markdown",
   "metadata": {},
   "source": [
    "## Aantallen storingen"
   ]
  },
  {
   "cell_type": "markdown",
   "metadata": {},
   "source": [
    "### Aantal storingen per maand"
   ]
  },
  {
   "cell_type": "code",
   "execution_count": 19,
   "metadata": {
    "hide_input": true
   },
   "outputs": [
    {
     "data": {
      "text/markdown": [
       "\n",
       "Om te kunnen bepalen of een trend waarneembaar is in het aantal storingen per \n",
       "maand, wordt als onderdeel van deze rapportage een grafiek toegevoegd. Zie \n",
       "bijlage 1: “Aantal storingen per maand”.\n",
       "\n",
       "Uit de grafiek valt het volgende te constateren:\n",
       "\n",
       "• Het totaal aantal storingen in Q1 2021 : **99**\n",
       "\n",
       "• Het gemiddelde aantal storingen per maand : **33.0**\n",
       "\n",
       "• Hoogste aantal storingen in de maand **Februari** : **45**\n",
       "\n",
       "• Laagste aantal storingen in de maanden **Maart** : **24**\n",
       "\n",
       "• Het gemiddelde aantal storingen per maand vanaf **01-2016**: **19.19047619047619**\n",
       "\n",
       "• Het gemiddelde aantal storingen per kwartaal vanaf **01-2016**: **57.57142857142857**\n"
      ],
      "text/plain": [
       "<IPython.core.display.Markdown object>"
      ]
     },
     "metadata": {},
     "output_type": "display_data"
    }
   ],
   "source": [
    "totaal_aantal_storingen = len(sf_data.index)\n",
    "\n",
    "storingen_per_maand = sf_data['month_number'].value_counts()\n",
    "\n",
    "gemiddelde_per_maand = sum(storingen_per_maand) / len(storingen_per_maand)\n",
    "\n",
    "num_maand_max_storingen = [storingen_per_maand.index[storingen_per_maand == max(storingen_per_maand)][0]]\n",
    "maand_max = sa._month_num_to_name(month_num=num_maand_max_storingen)\n",
    "\n",
    "num_maand_min_storingen = [storingen_per_maand.index[storingen_per_maand == min(storingen_per_maand)][0]]\n",
    "maand_min = sa._month_num_to_name(month_num=num_maand_min_storingen)\n",
    "\n",
    "data_2019 = [key for key in sa.metadata.storingen().keys() if '2019' in key]\n",
    "storingen_2019 = sa.metadata.sum_values(dictionary=sa.storingen, keys=data_2019)\n",
    "\n",
    "jaarlijks_gemiddelde = sa.metadata.avg_yearly(dictionary=sa.metadata.storingen(), exclude_year='2020')\n",
    "\n",
    "maanden = sa.metadata.get_month_list(exclude_year='2020')\n",
    "maandelijks_gemiddelde = sa.metadata.avg_monthly(dictionary=sa.metadata.storingen(), exclude_keys=maanden)\n",
    "\n",
    "kwartaal_gemiddelde = sa.metadata.avg_quarterly(dictionary=sa.metadata.storingen())\n",
    "\n",
    "# Tekst opbouwen + afbeelden\n",
    "tekst = f\"\"\"\n",
    "Om te kunnen bepalen of een trend waarneembaar is in het aantal storingen per \n",
    "maand, wordt als onderdeel van deze rapportage een grafiek toegevoegd. Zie \n",
    "bijlage 1: “Aantal storingen per maand”.\n",
    "\n",
    "Uit de grafiek valt het volgende te constateren:\n",
    "\n",
    "• Het totaal aantal storingen in Q1 2021 : **{totaal_aantal_storingen}**\n",
    "\n",
    "• Het gemiddelde aantal storingen per maand : **{gemiddelde_per_maand}**\n",
    "\n",
    "• Hoogste aantal storingen in de maand **{maand_max}** : **{max(storingen_per_maand)}**\n",
    "\n",
    "• Laagste aantal storingen in de maanden **{maand_min}** : **{min(storingen_per_maand)}**\n",
    "\n",
    "• Het gemiddelde aantal storingen per maand vanaf **{sa.start_date}**: **{maandelijks_gemiddelde}**\n",
    "\n",
    "• Het gemiddelde aantal storingen per kwartaal vanaf **{sa.start_date}**: **{kwartaal_gemiddelde}**\n",
    "\"\"\"\n",
    "display(Markdown(tekst))"
   ]
  },
  {
   "cell_type": "code",
   "execution_count": 20,
   "metadata": {
    "hide_input": true
   },
   "outputs": [
    {
     "data": {
      "text/markdown": [
       "\n",
       "In **Q1** **2020** waren in totaal **31** storingen gemaakt. In **Q1** **2021** zijn er **68** storingen \n",
       "meer t.o.v. **Q1** **2020**. \n",
       "\n",
       "In **Q4** **2020** waren in totaal **39** storingen gemaakt. In **Q1** **2021** zijn er **60** storingen \n",
       "meer t.o.v. **Q4** **2020**. \n"
      ],
      "text/plain": [
       "<IPython.core.display.Markdown object>"
      ]
     },
     "metadata": {},
     "output_type": "display_data"
    }
   ],
   "source": [
    "huidige_q = 'Q1'\n",
    "huidig_jaar = '2021'\n",
    "\n",
    "# Aantal storingen in voorgaande q\n",
    "voorgaande_q = sa.quarter_sequence.get_prev_val(huidige_q)\n",
    "voorgaand_jaar = str(int(huidig_jaar) - 1)\n",
    "mlist = sa.metadata.get_keys(dictionary=sa.metadata.storingen(), containing_quarter=[voorgaande_q], containing_year=[voorgaand_jaar])\n",
    "storingen_gefilterd = sa.metadata.filter_dictionary_keys(dictionary=sa.metadata.storingen(), keys=mlist)\n",
    "totaal_storingen_voorgaand_kwartaal = sa.metadata.sum_values(storingen_gefilterd)\n",
    "\n",
    "# Aantal storingen in zelfde q voorgaand jaar\n",
    "mlist = sa.metadata.get_keys(dictionary=sa.metadata.storingen(),containing_quarter=[huidige_q], containing_year=[voorgaand_jaar])\n",
    "storingen_gefilterd = sa.metadata.filter_dictionary_keys(dictionary=sa.metadata.storingen(), keys=mlist)\n",
    "totaal_storingen_zelfde_kwartaal = sa.metadata.sum_values(storingen_gefilterd)\n",
    "\n",
    "tekst = f\"\"\"\n",
    "In **{huidige_q}** **{voorgaand_jaar}** waren in totaal **{totaal_storingen_zelfde_kwartaal}** storingen gemaakt. In **{huidige_q}** **{huidig_jaar}** zijn er **{totaal_aantal_storingen - totaal_storingen_zelfde_kwartaal}** storingen \n",
    "meer t.o.v. **{huidige_q}** **{voorgaand_jaar}**. \n",
    "\n",
    "In **{voorgaande_q}** **{voorgaand_jaar}** waren in totaal **{totaal_storingen_voorgaand_kwartaal}** storingen gemaakt. In **{huidige_q}** **{huidig_jaar}** zijn er **{totaal_aantal_storingen - totaal_storingen_voorgaand_kwartaal}** storingen \n",
    "meer t.o.v. **{voorgaande_q}** **{voorgaand_jaar}**. \n",
    "\"\"\"\n",
    "display(Markdown(tekst))"
   ]
  },
  {
   "cell_type": "markdown",
   "metadata": {},
   "source": [
    "### Aantal storingen per subsysteem"
   ]
  },
  {
   "cell_type": "code",
   "execution_count": 21,
   "metadata": {
    "hide_input": true,
    "scrolled": false
   },
   "outputs": [
    {
     "data": {
      "text/markdown": [
       "\n",
       "Er wordt en Pareto analyse gemaakt van het totaal aantal storingen per subsysteem. Deze is toegevoegd als bijlage. \n",
       "\n",
       "Uit de pareto blijkt dat in **Q1** **2021** een totaal van **99** storingen zijn gemeld, intern \n",
       "dan wel extern. Voor het overzicht zijn de storingen bekeken met **3** of meer \n",
       "storingen. Dit is de top **0** en heeft een totaal van **0** storingen van de in totaal \n",
       "**99** (dit is **0.0**% van het totaal). \n",
       "Hieronder staan de deelinstallatie****:\n",
       "\n",
       "\n",
       "\n",
       "In totaal hebben **10** deelsystemen **1** of meerdere storingen gehad in **Q1** **2021**.\n",
       "\n"
      ],
      "text/plain": [
       "<IPython.core.display.Markdown object>"
      ]
     },
     "metadata": {},
     "output_type": "display_data"
    }
   ],
   "source": [
    "df = sa.storingen.copy()\n",
    "# unieke types vastlegen\n",
    "unique_types = list(df.loc[:, 'sbs'].unique())\n",
    "\n",
    "sbs_count = df.loc[:, 'sbs'].value_counts()\n",
    "\n",
    "sbs_to_process = [x for x in sbs_count.index if sbs_count.at[x] >= input_threshhold.value]\n",
    "\n",
    "r2p = list()\n",
    "for sbs in sbs_to_process:\n",
    "    storingen_per_sbs = sbs_count[sbs]\n",
    "    percentage_storing = round((storingen_per_sbs / sum(sbs_count)) * 100, 2)\n",
    "    line = f\"{sa._get_breakdown_description(sbs)}\\t- {storingen_per_sbs} storingen ({percentage_storing}% van het totale aantal storingen)\"\n",
    "    r2p.append(line)\n",
    "\n",
    "# '\\' is not allowed as character in a f-string like bellow. reason for newline and tab\n",
    "newline = '\\n'\n",
    "tab = '\\t'\n",
    "\n",
    "tekst = f\"\"\"\n",
    "Er wordt en Pareto analyse gemaakt van het totaal aantal storingen per subsysteem. Deze is toegevoegd als bijlage. \n",
    "\n",
    "Uit de pareto blijkt dat in **{huidige_q}** **{huidig_jaar}** een totaal van **{totaal_aantal_storingen}** storingen zijn gemeld, intern \n",
    "dan wel extern. Voor het overzicht zijn de storingen bekeken met **{input_threshhold.value}** of meer \n",
    "storingen. Dit is de top **{len(sbs_to_process)}** en heeft een totaal van **{sum(sbs_count[sbs_to_process])}** storingen van de in totaal \n",
    "**{totaal_aantal_storingen}** (dit is **{round((sum(sbs_count[sbs_to_process]) / totaal_aantal_storingen) * 100, 2)}**% van het totaal). \n",
    "Hieronder staan de deelinstallatie**{'s' if len(sbs_to_process) > 1 else ''}**:\n",
    "\n",
    "{''.join((newline + '**-' + tab + line + '**' + newline for line in r2p))}\n",
    "\n",
    "In totaal hebben **{len(sbs_count)}** deelsystemen **{min(sbs_count)}** of meerdere storingen gehad in **{huidige_q}** **{huidig_jaar}**.\n",
    "\n",
    "\"\"\"\n",
    "display(Markdown(tekst))"
   ]
  },
  {
   "cell_type": "markdown",
   "metadata": {},
   "source": [
    "# Conclusie / aanbeveling"
   ]
  },
  {
   "cell_type": "markdown",
   "metadata": {},
   "source": [
    "## Algemeen"
   ]
  },
  {
   "cell_type": "code",
   "execution_count": 22,
   "metadata": {
    "hide_input": true
   },
   "outputs": [
    {
     "data": {
      "text/markdown": [
       "\n",
       "Er heeft een analyse van de storingen plaatsgevonden. Uit deze analyse is niet \n",
       "naar voren gekomen dat verbeteren aan het onderhoudsplan en/of procedures en/of \n",
       "hardware noodzakelijk zijn om het faalgedrag te verbeteren. \n",
       " \n",
       "Alle meldingen moeten aan een asset / sub niveau van een DI worden gekoppeld. \n",
       "Zodat altijd is te herleiden wat precies is gefaald. Aan alle meldingen is DI \n",
       "gekoppeld. Aan **9** werkorders zit geen asset gekoppeld. (zie besluit 5). \n",
       " \n",
       "De meldingen zijn gekoppeld aan een probleem, oorzaak en oplossing. \n",
       " \n",
       "Vanaf 1 september 2018 heeft een update plaats gevonden van het \n",
       "onderhoudsmanagementsysteem. Bij deze update is het invullen van probleem, \n",
       "oorzaak en oplossing toegevoegd in het systeem. Vanaf Q4 2018 zal dit ook \n",
       "worden meegenomen in de analyse. In de volgende paragrafen staat de uitwerking \n",
       "hiervan. Daarbij zie je het aantal van het huidige jaar, het totaal aantal en het \n",
       "gemiddelde per Q vanaf Q4 2018.\n"
      ],
      "text/plain": [
       "<IPython.core.display.Markdown object>"
      ]
     },
     "metadata": {},
     "output_type": "display_data"
    }
   ],
   "source": [
    "sbs_count = df.loc[:, 'sbs'].value_counts(dropna=False)\n",
    "\n",
    "tekst = f\"\"\"\n",
    "Er heeft een analyse van de storingen plaatsgevonden. Uit deze analyse is niet \n",
    "naar voren gekomen dat verbeteren aan het onderhoudsplan en/of procedures en/of \n",
    "hardware noodzakelijk zijn om het faalgedrag te verbeteren. \n",
    " \n",
    "Alle meldingen moeten aan een asset / sub niveau van een DI worden gekoppeld. \n",
    "Zodat altijd is te herleiden wat precies is gefaald. Aan alle meldingen is DI \n",
    "gekoppeld. Aan **{max(sbs_count[sbs_count.index.isnull()].values)}** werkorders zit geen asset gekoppeld. (zie besluit 5). \n",
    " \n",
    "De meldingen zijn gekoppeld aan een probleem, oorzaak en oplossing. \n",
    " \n",
    "Vanaf 1 september 2018 heeft een update plaats gevonden van het \n",
    "onderhoudsmanagementsysteem. Bij deze update is het invullen van probleem, \n",
    "oorzaak en oplossing toegevoegd in het systeem. Vanaf Q4 2018 zal dit ook \n",
    "worden meegenomen in de analyse. In de volgende paragrafen staat de uitwerking \n",
    "hiervan. Daarbij zie je het aantal van het huidige jaar, het totaal aantal en het \n",
    "gemiddelde per Q vanaf Q4 2018.\n",
    "\"\"\"\n",
    "display(Markdown(tekst))"
   ]
  },
  {
   "cell_type": "markdown",
   "metadata": {},
   "source": [
    "### Probleem"
   ]
  },
  {
   "cell_type": "code",
   "execution_count": 23,
   "metadata": {
    "hide_input": true
   },
   "outputs": [],
   "source": [
    "probleem_code_count = sf_data['probleem code'].value_counts(dropna=False).to_dict()\n",
    "oorzaak_code_count = sf_data['oorzaak code'].value_counts(dropna=False).to_dict()\n",
    "oplossing_code_count = sf_data['oplos code'].value_counts(dropna=False).to_dict()\n",
    "\n",
    "meta_probleem = sa.metadata.poo_data()['probleem']\n",
    "meta_oorzaak = sa.metadata.poo_data()['oorzaak']\n",
    "meta_oplossing = sa.metadata.poo_data()['oplossing']\n",
    "\n",
    "poo_beschrijvingen = sa.metadata.contract_info()['POO_codes']\n",
    "\n",
    "probleem_code_count['Leeg'] = probleem_code_count.pop(np.nan)\n",
    "oorzaak_code_count['Leeg'] = oorzaak_code_count.pop(np.nan)\n",
    "oplossing_code_count['Leeg'] = oplossing_code_count.pop(np.nan)\n",
    "\n",
    "probleem_avg_table = sa.metadata.poo_avg_table(meta_probleem)\n",
    "oorzaak_avg_table = sa.metadata.poo_avg_table(meta_oorzaak)\n",
    "oplossing_avg_table = sa.metadata.poo_avg_table(meta_oplossing)"
   ]
  },
  {
   "cell_type": "code",
   "execution_count": 24,
   "metadata": {
    "hide_input": true
   },
   "outputs": [
    {
     "data": {
      "text/markdown": [
       "\n",
       "|Probleem|Beschrijving|Aantal|Totaal|Gemiddelde|\n",
       "|--------|------------|------|------|----------|\n",
       "|P01|Niet beschikbaar|11|107|10.7|\n",
       "|P02|Geen / slecht / afwijkend beeld|9|54|5.4|\n",
       "|P03|Aangereden|5|44|4.4|\n",
       "|P04|In storing|6|118|11.8|\n",
       "|P05|Blijft hangen|10|33|3.3|\n",
       "|P06|Fatale fout|9|25|2.5|\n",
       "|P07|Gewenste stand komt niet overeen (niet mogelijk)|4|9|0.9|\n",
       "|P08|Geen communicatie (mogelijk)|11|10|1.0|\n",
       "|P09|Oproep actief|10|3|0.3|\n",
       "|P10|Niet bedienbaar|7|17|1.7|\n",
       "|P11|Overige|9|233|23.3|\n",
       "|Leeg|Niet ingevuld|8|162|16.2|\n"
      ],
      "text/plain": [
       "<IPython.core.display.Markdown object>"
      ]
     },
     "metadata": {},
     "output_type": "display_data"
    }
   ],
   "source": [
    "line_dict = dict()\n",
    "for code in (k for k in poo_beschrijvingen.keys() if 'P' in k or k == 'Leeg'):    \n",
    "    code_counts = list()\n",
    "    for q in meta_probleem.keys():\n",
    "        if code in meta_probleem[q].keys():\n",
    "            code_counts.append(sa.metadata.sum_values(dictionary=meta_probleem[q], keys=[code]))\n",
    "        else:\n",
    "            code_counts.append(0)\n",
    "    \n",
    "    totaal = sum(code_counts)\n",
    "    \n",
    "    if code not in probleem_avg_table.keys():\n",
    "        line = ''.join((newline + '|' + code + '|' + poo_beschrijvingen[code] + '|' + str(probleem_code_count[code]) + '|' + str(totaal) + '|' + '0' + '|'))\n",
    "        line_dict[code] = line\n",
    "        continue\n",
    "    \n",
    "    line = ''.join((newline + '|' + code + '|' + poo_beschrijvingen[code] + '|' + str(probleem_code_count[code]) + '|' + str(totaal) + '|' + str(probleem_avg_table[code]) + '|'))\n",
    "    line_dict[code] = line\n",
    "    \n",
    "tekst = f\"\"\"\n",
    "|Probleem|Beschrijving|Aantal|Totaal|Gemiddelde|\n",
    "|--------|------------|------|------|----------|{''.join((line_dict[code] for code in line_dict.keys()))}\n",
    "\"\"\"\n",
    "display(Markdown(tekst))"
   ]
  },
  {
   "cell_type": "markdown",
   "metadata": {},
   "source": [
    "### Oorzaak"
   ]
  },
  {
   "cell_type": "code",
   "execution_count": 25,
   "metadata": {
    "hide_input": true,
    "scrolled": false
   },
   "outputs": [
    {
     "data": {
      "text/markdown": [
       "\n",
       "|Oorzaak|Beschrijving|Aantal|Totaal|Gemiddelde|\n",
       "|-------|------------|------|------|----------|\n",
       "|Leeg|Niet ingevuld|8|180|18.0|\n",
       "|C01|Corrosie|2|4|0.4|\n",
       "|C02|Mechanische slijtage, - breuk, - vervorming|5|14|1.4|\n",
       "|C03|Molest / diefstal|4|3|0.3|\n",
       "|C04|Ongedierte|7|0|0|\n",
       "|C05|Schade|5|12|1.2|\n",
       "|C06|Random / software / applicatie fout|6|41|4.1|\n",
       "|C07|Thermische vervorming|5|2|0.2|\n",
       "|C08|Veroudering|9|99|9.9|\n",
       "|C09|Vervuiling|4|7|0.7|\n",
       "|C10|Weersomstandigheden|7|38|3.8|\n",
       "|C11|Externe oorzaak|9|42|4.2|\n",
       "|C12|Aanlegkwaliteit|4|3|0.3|\n",
       "|C13|Overige|4|309|30.9|\n",
       "|C14|Bedienfout|7|20|2.0|\n",
       "|C15|Vocht|5|3|0.3|\n",
       "|C16|Incident|8|35|3.5|\n"
      ],
      "text/plain": [
       "<IPython.core.display.Markdown object>"
      ]
     },
     "metadata": {},
     "output_type": "display_data"
    }
   ],
   "source": [
    "line_dict = dict()\n",
    "for code in (k for k in poo_beschrijvingen.keys() if 'C' in k or k == 'Leeg'):   \n",
    "    code_counts = list()\n",
    "    for q in meta_oorzaak.keys():\n",
    "        if code in meta_oorzaak[q].keys():\n",
    "            code_counts.append(sa.metadata.sum_values(dictionary=meta_oorzaak[q], keys=[code]))\n",
    "        else:\n",
    "            code_counts.append(0)\n",
    "    \n",
    "    totaal = sum(code_counts)\n",
    "    \n",
    "    if code not in oorzaak_avg_table.keys():\n",
    "        line = ''.join((newline + '|' + code + '|' + poo_beschrijvingen[code] + '|' + str(oorzaak_code_count[code]) + '|' + str(totaal) + '|' + '0' + '|'))\n",
    "        line_dict[code] = line\n",
    "        continue\n",
    "    \n",
    "    line = ''.join((newline + '|' + code + '|' + poo_beschrijvingen[code] + '|' + str(oorzaak_code_count[code]) + '|' + str(totaal) + '|' + str(oorzaak_avg_table[code]) + '|'))\n",
    "    line_dict[code] = line\n",
    "\n",
    "tekst = f\"\"\"\n",
    "|Oorzaak|Beschrijving|Aantal|Totaal|Gemiddelde|\n",
    "|-------|------------|------|------|----------|{''.join((line_dict[code] for code in line_dict.keys()))}\n",
    "\"\"\"\n",
    "display(Markdown(tekst))"
   ]
  },
  {
   "cell_type": "markdown",
   "metadata": {},
   "source": [
    "### Oplossing"
   ]
  },
  {
   "cell_type": "code",
   "execution_count": 26,
   "metadata": {
    "hide_input": true,
    "scrolled": true
   },
   "outputs": [
    {
     "data": {
      "text/markdown": [
       "\n",
       "|Oplossing|Beschrijving|Aantal|Totaal|Gemiddelde|\n",
       "|---------|------------|------|------|----------|\n",
       "|Leeg|Niet ingevuld|9|180|18.0|\n",
       "|S01|Reinigen|13|10|1.0|\n",
       "|S02|Vervangen|8|244|24.4|\n",
       "|S03|Resetten|11|173|17.3|\n",
       "|S04|Afstellen/vastzetten|10|24|2.4|\n",
       "|S05|Bijvullen|15|2|0.2|\n",
       "|S06|Repareren|11|11|1.1|\n",
       "|S07|Smeren / bijvullen / bijwerken|10|2|0.2|\n",
       "|S08|Overige|12|166|16.6|\n"
      ],
      "text/plain": [
       "<IPython.core.display.Markdown object>"
      ]
     },
     "metadata": {},
     "output_type": "display_data"
    }
   ],
   "source": [
    "line_dict = dict()\n",
    "for code in (k for k in poo_beschrijvingen.keys() if 'S' in k or k == 'Leeg'):\n",
    "    code_counts = list()\n",
    "    for q in meta_oplossing.keys():\n",
    "        if code in meta_oplossing[q].keys():\n",
    "            code_counts.append(sa.metadata.sum_values(dictionary=meta_oplossing[q], keys=[code]))\n",
    "        else:\n",
    "            code_counts.append(0)\n",
    "\n",
    "    totaal = sum(code_counts)\n",
    "    \n",
    "    if code not in oplossing_avg_table.keys():\n",
    "        line = ''.join((newline + '|' + code + '|' + poo_beschrijvingen[code] + '|' + str(oplossing_code_count[code]) + '|' + str(totaal) + '|' + str(oplossing_avg_table[code]) + '|'))\n",
    "        line_dict[code] = line\n",
    "        continue\n",
    "        \n",
    "    line = ''.join((newline + '|' + code + '|' + poo_beschrijvingen[code] + '|' + str(oplossing_code_count[code]) + '|' + str(totaal) + '|' + str(oplossing_avg_table[code]) + '|'))\n",
    "    line_dict[code] = line\n",
    "\n",
    "tekst = f\"\"\"\n",
    "|Oplossing|Beschrijving|Aantal|Totaal|Gemiddelde|\n",
    "|---------|------------|------|------|----------|{''.join((line_dict[code] for code in line_dict.keys()))}\n",
    "\"\"\"\n",
    "display(Markdown(tekst))"
   ]
  },
  {
   "cell_type": "markdown",
   "metadata": {},
   "source": [
    "## Storingen per deelinstallatie uitgewerkt"
   ]
  },
  {
   "cell_type": "code",
   "execution_count": 27,
   "metadata": {
    "hide_input": true
   },
   "outputs": [
    {
     "data": {
      "application/vnd.jupyter.widget-view+json": {
       "model_id": "f48943804b484de68999d52308e57dd8",
       "version_major": 2,
       "version_minor": 0
      },
      "text/plain": [
       "IntSlider(value=3, continuous_update=False, description='Drempelwaarde:', max=10, min=1, style=SliderStyle(des…"
      ]
     },
     "metadata": {},
     "output_type": "display_data"
    }
   ],
   "source": [
    "df = sa.meldingen.copy()\n",
    "# unieke types vastlegen\n",
    "unique_types = list(df.loc[:, 'sbs'].unique())\n",
    "\n",
    "sbs_count = df.loc[:, 'sbs'].value_counts()\n",
    "\n",
    "input_threshhold = widgets.IntSlider(\n",
    "    value=3,\n",
    "    min=sbs_count.min(),\n",
    "    max=sbs_count.max(),\n",
    "    step=1,\n",
    "    description='Drempelwaarde:',\n",
    "    disabled=False,\n",
    "    continuous_update=False,\n",
    "    orientation='horizontal',\n",
    "    readout=True,\n",
    "    readout_format='d',\n",
    "    style=dict(description_width='initial')\n",
    ")\n",
    "\n",
    "display(input_threshhold)"
   ]
  },
  {
   "cell_type": "code",
   "execution_count": 28,
   "metadata": {
    "hide_input": true,
    "scrolled": false
   },
   "outputs": [
    {
     "data": {
      "text/markdown": [
       "\n",
       "\n",
       "    # 45\n",
       "    Hieronder is een vergelijking gemaakt van het aantal storingen van deelinstallatie 45\n",
       "    t.o.v. andere kwartalen (hetzelfde kwartaal van vorig jaar en vorig kwartaal) en t.o.v. \n",
       "    het gemiddelde vanaf **01-2016**. \n",
       "\n",
       "    Uit de grafiek valt het volgende te constateren:\n",
       "\n",
       "    • Het totaal aantal storingen in Q1 2021 : **10**\n",
       "\n",
       "    • Het gemiddelde aantal storingen per maand : **3.3333333333333335**\n",
       "\n",
       "    • Hoogste aantal storingen in de maand **Februari** : **4**\n",
       "\n",
       "    • Laagste aantal storingen in de maanden **Januari** : **3**\n",
       "\n",
       "    • Het gemiddelde aantal storingen per maand vanaf **01-2016**: **19.19047619047619**\n",
       "\n",
       "    • Het gemiddelde aantal storingen per kwartaal vanaf **01-2016**: **57.57142857142857**\n",
       "\n",
       "    \n",
       "    # 41\n",
       "    Hieronder is een vergelijking gemaakt van het aantal storingen van deelinstallatie 41\n",
       "    t.o.v. andere kwartalen (hetzelfde kwartaal van vorig jaar en vorig kwartaal) en t.o.v. \n",
       "    het gemiddelde vanaf **01-2016**. \n",
       "\n",
       "    Uit de grafiek valt het volgende te constateren:\n",
       "\n",
       "    • Het totaal aantal storingen in Q1 2021 : **7**\n",
       "\n",
       "    • Het gemiddelde aantal storingen per maand : **2.3333333333333335**\n",
       "\n",
       "    • Hoogste aantal storingen in de maand **Januari** : **4**\n",
       "\n",
       "    • Laagste aantal storingen in de maanden **Maart** : **1**\n",
       "\n",
       "    • Het gemiddelde aantal storingen per maand vanaf **01-2016**: **19.19047619047619**\n",
       "\n",
       "    • Het gemiddelde aantal storingen per kwartaal vanaf **01-2016**: **57.57142857142857**\n",
       "\n",
       "    \n",
       "    # 46A\n",
       "    Hieronder is een vergelijking gemaakt van het aantal storingen van deelinstallatie 46A\n",
       "    t.o.v. andere kwartalen (hetzelfde kwartaal van vorig jaar en vorig kwartaal) en t.o.v. \n",
       "    het gemiddelde vanaf **01-2016**. \n",
       "\n",
       "    Uit de grafiek valt het volgende te constateren:\n",
       "\n",
       "    • Het totaal aantal storingen in Q1 2021 : **5**\n",
       "\n",
       "    • Het gemiddelde aantal storingen per maand : **2.5**\n",
       "\n",
       "    • Hoogste aantal storingen in de maand **Februari** : **4**\n",
       "\n",
       "    • Laagste aantal storingen in de maanden **Maart** : **1**\n",
       "\n",
       "    • Het gemiddelde aantal storingen per maand vanaf **01-2016**: **19.19047619047619**\n",
       "\n",
       "    • Het gemiddelde aantal storingen per kwartaal vanaf **01-2016**: **57.57142857142857**\n",
       "\n",
       "    \n",
       "    # 74\n",
       "    Hieronder is een vergelijking gemaakt van het aantal storingen van deelinstallatie 74\n",
       "    t.o.v. andere kwartalen (hetzelfde kwartaal van vorig jaar en vorig kwartaal) en t.o.v. \n",
       "    het gemiddelde vanaf **01-2016**. \n",
       "\n",
       "    Uit de grafiek valt het volgende te constateren:\n",
       "\n",
       "    • Het totaal aantal storingen in Q1 2021 : **4**\n",
       "\n",
       "    • Het gemiddelde aantal storingen per maand : **2.0**\n",
       "\n",
       "    • Hoogste aantal storingen in de maand **Februari** : **3**\n",
       "\n",
       "    • Laagste aantal storingen in de maanden **Maart** : **1**\n",
       "\n",
       "    • Het gemiddelde aantal storingen per maand vanaf **01-2016**: **19.19047619047619**\n",
       "\n",
       "    • Het gemiddelde aantal storingen per kwartaal vanaf **01-2016**: **57.57142857142857**\n",
       "\n",
       "    \n"
      ],
      "text/plain": [
       "<IPython.core.display.Markdown object>"
      ]
     },
     "metadata": {},
     "output_type": "display_data"
    }
   ],
   "source": [
    "# prep\n",
    "_group_data_to_print = dict()\n",
    "\n",
    "sf_data_groupby_sbs = sf_data.groupby('sbs')\n",
    "\n",
    "for group in sf_data_groupby_sbs.groups:\n",
    "    group_data = sf_data_groupby_sbs.get_group(group).copy()\n",
    "    \n",
    "    totaal_aantal_storingen = len(group_data.index)\n",
    "    if totaal_aantal_storingen < input_threshhold.value:\n",
    "        continue\n",
    "\n",
    "    storingen_per_maand = group_data['month_number'].value_counts()\n",
    "\n",
    "    gemiddelde_per_maand = sum(storingen_per_maand) / len(storingen_per_maand)\n",
    "\n",
    "    num_maand_max_storingen = [storingen_per_maand.index[storingen_per_maand == max(storingen_per_maand)][0]]\n",
    "    maand_max = sa._month_num_to_name(month_num=num_maand_max_storingen)\n",
    "\n",
    "    num_maand_min_storingen = [storingen_per_maand.index[storingen_per_maand == min(storingen_per_maand)][0]]\n",
    "    maand_min = sa._month_num_to_name(month_num=num_maand_min_storingen)\n",
    "\n",
    "    data_2019 = [key for key in sa.metadata.storingen().keys() if '2019' in key]\n",
    "    storingen_2019 = sa.metadata.sum_values(dictionary=sa.storingen, keys=data_2019)\n",
    "\n",
    "    jaarlijks_gemiddelde = sa.metadata.avg_yearly(dictionary=sa.metadata.storingen(), exclude_year='2020')\n",
    "\n",
    "    maanden = sa.metadata.get_month_list(exclude_year='2020')\n",
    "    maandelijks_gemiddelde = sa.metadata.avg_monthly(dictionary=sa.metadata.storingen(), exclude_keys=maanden)\n",
    "\n",
    "    kwartaal_gemiddelde = sa.metadata.avg_quarterly(dictionary=sa.metadata.storingen())\n",
    "    \n",
    "    data_to_print = {\"totaal_aantal_storingen\": totaal_aantal_storingen,\n",
    "                     \"gemiddelde_per_maand\": gemiddelde_per_maand,\n",
    "                     \"maand_max\": maand_max,\n",
    "                     \"maand_min\": maand_min,\n",
    "                     \"max_storingen_per_maand\": max(storingen_per_maand),\n",
    "                     \"min_storingen_per_maand\":  min(storingen_per_maand),\n",
    "                     \"maandelijks_gemiddelde_start_project\": maandelijks_gemiddelde,\n",
    "                     \"kwartaal_gemiddelde\": kwartaal_gemiddelde,\n",
    "                     \"start_date\": sa.start_date}\n",
    "    \n",
    "    _group_data_to_print[group] = data_to_print\n",
    "\n",
    "sorted_keys = sorted(_group_data_to_print, key=lambda item: _group_data_to_print[item]['totaal_aantal_storingen'], reverse=True)\n",
    "group_data_to_print = {key: _group_data_to_print[key] for key in sorted_keys}\n",
    "\n",
    "# print\n",
    "texts2print = []\n",
    "\n",
    "for group, data in group_data_to_print.items():   \n",
    "    _tekst = f\"\"\"\n",
    "    # {str(group)}\n",
    "    Hieronder is een vergelijking gemaakt van het aantal storingen van deelinstallatie {group}\n",
    "    t.o.v. andere kwartalen (hetzelfde kwartaal van vorig jaar en vorig kwartaal) en t.o.v. \n",
    "    het gemiddelde vanaf **{data[\"start_date\"]}**. \n",
    "\n",
    "    Uit de grafiek valt het volgende te constateren:\n",
    "\n",
    "    • Het totaal aantal storingen in Q1 2021 : **{data[\"totaal_aantal_storingen\"]}**\n",
    "\n",
    "    • Het gemiddelde aantal storingen per maand : **{data[\"gemiddelde_per_maand\"]}**\n",
    "\n",
    "    • Hoogste aantal storingen in de maand **{data[\"maand_max\"]}** : **{data[\"max_storingen_per_maand\"]}**\n",
    "\n",
    "    • Laagste aantal storingen in de maanden **{data[\"maand_min\"]}** : **{data[\"min_storingen_per_maand\"]}**\n",
    "\n",
    "    • Het gemiddelde aantal storingen per maand vanaf **{data[\"start_date\"]}**: **{data[\"maandelijks_gemiddelde_start_project\"]}**\n",
    "\n",
    "    • Het gemiddelde aantal storingen per kwartaal vanaf **{data[\"start_date\"]}**: **{data[\"kwartaal_gemiddelde\"]}**{newline}\n",
    "    \"\"\"\n",
    "    texts2print.append(_tekst)\n",
    "\n",
    "tekst = f\"\"\"\n",
    "{''.join((t for t in texts2print))}\n",
    "\"\"\"\n",
    "display(Markdown(tekst))"
   ]
  },
  {
   "cell_type": "markdown",
   "metadata": {
    "hide_input": true
   },
   "source": [
    "# Assets met de meeste meldingen"
   ]
  },
  {
   "cell_type": "markdown",
   "metadata": {
    "hide_input": true
   },
   "source": [
    "## Algemeen"
   ]
  },
  {
   "cell_type": "code",
   "execution_count": 29,
   "metadata": {
    "hide_input": true
   },
   "outputs": [],
   "source": [
    "meldingen_per_asset = sf_data['asset nummer'].value_counts()\n",
    "meldingen_per_asset = meldingen_per_asset.reset_index()\n",
    "meldingen_per_asset.rename(columns={\"asset nummer\": \"count\", \"index\": \"asset nummer\"}, inplace=True)\n",
    "\n",
    "list_descriptions = {sf_data['asset nummer'][index]: sf_data['asset beschrijving'][index] for index in range(sf_data.shape[0])} \n",
    "\n",
    "\n",
    "asset_beschrijvingen = []\n",
    "for index, row in meldingen_per_asset.iterrows():\n",
    "    asset_num = row[0]\n",
    "    if asset_num in list_descriptions.keys():\n",
    "        asset_beschrijvingen.append(list_descriptions[asset_num])\n",
    "\n",
    "meldingen_per_asset.at[:, 'asset beschrijving'] = asset_beschrijvingen\n",
    "\n",
    "# ophalen van de sbs nummers van de assets\n",
    "sbs_dict = dict()\n",
    "for asset_num in meldingen_per_asset.loc[:, 'asset nummer'].to_dict().values():\n",
    "    row = sf_data[sf_data.loc[:, 'asset nummer'] == asset_num]\n",
    "    sbs_dict[asset_num] = row['sbs'].unique()[0]"
   ]
  },
  {
   "cell_type": "code",
   "execution_count": 30,
   "metadata": {
    "hide_input": true
   },
   "outputs": [
    {
     "data": {
      "application/vnd.jupyter.widget-view+json": {
       "model_id": "7ca506a2cb604a4b8a0bee216d22a204",
       "version_major": 2,
       "version_minor": 0
      },
      "text/plain": [
       "IntSlider(value=3, continuous_update=False, description='Drempelwaarde:', max=4, min=1, style=SliderStyle(desc…"
      ]
     },
     "metadata": {},
     "output_type": "display_data"
    }
   ],
   "source": [
    "input_threshhold = widgets.IntSlider(\n",
    "    value=3,  # meldingen_per_asset['count'].min()\n",
    "    min=meldingen_per_asset['count'].min(),\n",
    "    max=meldingen_per_asset['count'].max(),\n",
    "    step=1,\n",
    "    description='Drempelwaarde:',\n",
    "    disabled=False,\n",
    "    continuous_update=False,\n",
    "    orientation='horizontal',\n",
    "    readout=True,\n",
    "    readout_format='d',\n",
    "    style=dict(description_width='initial')\n",
    ")\n",
    "\n",
    "display(input_threshhold)"
   ]
  },
  {
   "cell_type": "code",
   "execution_count": 31,
   "metadata": {
    "hide_input": true,
    "scrolled": true
   },
   "outputs": [
    {
     "data": {
      "text/markdown": [
       "\n",
       "De hieronder benoemde assets, zijn de **2** assets die **3** of meer meldingen hebben \n",
       "gehad in **Q1** **2021**: \n",
       "\n",
       "|Deelinstallatie|Asset|Aantal|\n",
       "|---------------|-----|------|\n",
       "|Calamiteiten doorsteek (CaDo)|A10 CADO 29,280 BBR (CB) - CADO boom|4|\n",
       "|Verkeerssignaleringssysteem (MTM)|A10 TSG2 30,015PWn - Kast A10 TSG2 30,015PWn|4|\n"
      ],
      "text/plain": [
       "<IPython.core.display.Markdown object>"
      ]
     },
     "metadata": {},
     "output_type": "display_data"
    }
   ],
   "source": [
    "lines = list()\n",
    "lines2handle = meldingen_per_asset[meldingen_per_asset['count'] >= input_threshhold.value]\n",
    "for r in lines2handle.iterrows():\n",
    "    row = r[1]\n",
    "    line = ''.join((newline + '|' + str(sa._get_breakdown_description(sbs_dict[row[0]])) + '|' + str(row[-1]) + '|' + str(row[1]) + '|'))\n",
    "    lines.append(line)\n",
    "    \n",
    "tekst = f\"\"\"\n",
    "De hieronder benoemde assets, zijn de **{len(lines)}** assets die **{input_threshhold.value}** of meer meldingen hebben \n",
    "gehad in **{huidige_q}** **{huidig_jaar}**: \n",
    "\n",
    "|Deelinstallatie|Asset|Aantal|\n",
    "|---------------|-----|------|{''.join((line for line in lines))}\n",
    "\"\"\"\n",
    "display(Markdown(tekst))"
   ]
  },
  {
   "cell_type": "markdown",
   "metadata": {},
   "source": [
    "## Uitwerking meldingen"
   ]
  },
  {
   "cell_type": "markdown",
   "metadata": {
    "hide_input": false
   },
   "source": [
    "Hieronder wordt paragraaf 2.2.1 uitgewerkt per deelinstallatie."
   ]
  },
  {
   "cell_type": "code",
   "execution_count": 32,
   "metadata": {
    "hide_input": true,
    "scrolled": false
   },
   "outputs": [
    {
     "data": {
      "text/markdown": [
       "\n",
       "De assets met **3** of meer meldingen zijn hieronder uitgewerkt: \n",
       "\n",
       "Bij de **56** meldingen is geen asset gekoppeld aan de werkorder.\n"
      ],
      "text/plain": [
       "<IPython.core.display.Markdown object>"
      ]
     },
     "metadata": {},
     "output_type": "display_data"
    },
    {
     "data": {
      "text/markdown": [
       "De **4** meldingen van A10 CADO 29,280 BBR (CB) - CADO boom worden hieronder gepresenteerd."
      ],
      "text/plain": [
       "<IPython.core.display.Markdown object>"
      ]
     },
     "metadata": {},
     "output_type": "display_data"
    },
    {
     "data": {
      "text/html": [
       "<div>\n",
       "<style scoped>\n",
       "    .dataframe tbody tr th:only-of-type {\n",
       "        vertical-align: middle;\n",
       "    }\n",
       "\n",
       "    .dataframe tbody tr th {\n",
       "        vertical-align: top;\n",
       "    }\n",
       "\n",
       "    .dataframe thead th {\n",
       "        text-align: right;\n",
       "    }\n",
       "</style>\n",
       "<table border=\"1\" class=\"dataframe\">\n",
       "  <thead>\n",
       "    <tr style=\"text-align: right;\">\n",
       "      <th></th>\n",
       "      <th>werkorder</th>\n",
       "      <th>status</th>\n",
       "      <th>rapport datum</th>\n",
       "      <th>werkorder beschrijving</th>\n",
       "      <th>sbs</th>\n",
       "      <th>sbs omschrijving</th>\n",
       "      <th>locatie</th>\n",
       "      <th>locatie omschrijving</th>\n",
       "      <th>probleem code</th>\n",
       "      <th>beschrijving probleem</th>\n",
       "      <th>oorzaak code</th>\n",
       "      <th>beschrijving oorzaak</th>\n",
       "      <th>oplos code</th>\n",
       "      <th>oplossing beschrijving</th>\n",
       "      <th>uitgevoerde werkzaamheden</th>\n",
       "      <th>type melding (Storing/Incident/Preventief/Onterecht)</th>\n",
       "    </tr>\n",
       "  </thead>\n",
       "  <tbody>\n",
       "    <tr>\n",
       "      <th>0</th>\n",
       "      <td>1215844</td>\n",
       "      <td>SLUIT</td>\n",
       "      <td>21-02-18 19:11:00</td>\n",
       "      <td>D3831155 Oost 2, Cado niet beschikbaar.</td>\n",
       "      <td>46A</td>\n",
       "      <td>(CADO CT2-Z-01) A10 29.280 BBR</td>\n",
       "      <td>NaN</td>\n",
       "      <td>NaN</td>\n",
       "      <td>P11</td>\n",
       "      <td>Cado niet beschikbaar</td>\n",
       "      <td>C06</td>\n",
       "      <td>NaN</td>\n",
       "      <td>S05</td>\n",
       "      <td>NaN</td>\n",
       "      <td>Storing ontvangen op 21 februari 2018 om 19:11...</td>\n",
       "      <td>Preventief</td>\n",
       "    </tr>\n",
       "    <tr>\n",
       "      <th>1</th>\n",
       "      <td>1215846</td>\n",
       "      <td>SLUIT</td>\n",
       "      <td>22-02-18 02:52:00</td>\n",
       "      <td>D3831180 A10, Rechts, hm-paal 29.3. Oost2 Cado...</td>\n",
       "      <td>46A</td>\n",
       "      <td>(CADO CT2-Z-01) A10 29.280 BBR</td>\n",
       "      <td>NaN</td>\n",
       "      <td>NaN</td>\n",
       "      <td>P06</td>\n",
       "      <td>Cado noodstop bedient</td>\n",
       "      <td>C04</td>\n",
       "      <td>Vorst</td>\n",
       "      <td>S08</td>\n",
       "      <td>NaN</td>\n",
       "      <td>Storing ontvangen op 22 februari 2018 om 2:52 ...</td>\n",
       "      <td>Incident</td>\n",
       "    </tr>\n",
       "    <tr>\n",
       "      <th>2</th>\n",
       "      <td>1215849</td>\n",
       "      <td>SLUIT</td>\n",
       "      <td>22-02-18 08:13:00</td>\n",
       "      <td>D3831200 A10, , hm-paal 29,3. buitenberm recht...</td>\n",
       "      <td>46A</td>\n",
       "      <td>(CADO CT2-Z-01) A10 29.280 BBR</td>\n",
       "      <td>NaN</td>\n",
       "      <td>NaN</td>\n",
       "      <td>P03</td>\n",
       "      <td>Cado noodstop bedient</td>\n",
       "      <td>C06</td>\n",
       "      <td>vorst</td>\n",
       "      <td>S04</td>\n",
       "      <td>NaN</td>\n",
       "      <td>Storing ontvangen op 22 februari 2018 om 8:13 ...</td>\n",
       "      <td>Incident</td>\n",
       "    </tr>\n",
       "    <tr>\n",
       "      <th>3</th>\n",
       "      <td>1215857</td>\n",
       "      <td>SLUIT</td>\n",
       "      <td>22-02-18 13:21:00</td>\n",
       "      <td>D3831240 Betreft : Cado in de buitenberm gaat ...</td>\n",
       "      <td>46A</td>\n",
       "      <td>(CADO CT2-Z-01) A10 29.280 BBR</td>\n",
       "      <td>NaN</td>\n",
       "      <td>NaN</td>\n",
       "      <td>P09</td>\n",
       "      <td>Betreft : Cado in de buitenberm gaat\\nniet open</td>\n",
       "      <td>C02</td>\n",
       "      <td>NaN</td>\n",
       "      <td>S01</td>\n",
       "      <td>NaN</td>\n",
       "      <td>Op 22-2-18 13:21 de melding ontvangen genaamd ...</td>\n",
       "      <td>Incident</td>\n",
       "    </tr>\n",
       "  </tbody>\n",
       "</table>\n",
       "</div>"
      ],
      "text/plain": [
       "   werkorder status      rapport datum  \\\n",
       "0    1215844  SLUIT  21-02-18 19:11:00   \n",
       "1    1215846  SLUIT  22-02-18 02:52:00   \n",
       "2    1215849  SLUIT  22-02-18 08:13:00   \n",
       "3    1215857  SLUIT  22-02-18 13:21:00   \n",
       "\n",
       "                              werkorder beschrijving  sbs  \\\n",
       "0            D3831155 Oost 2, Cado niet beschikbaar.  46A   \n",
       "1  D3831180 A10, Rechts, hm-paal 29.3. Oost2 Cado...  46A   \n",
       "2  D3831200 A10, , hm-paal 29,3. buitenberm recht...  46A   \n",
       "3  D3831240 Betreft : Cado in de buitenberm gaat ...  46A   \n",
       "\n",
       "                 sbs omschrijving  locatie locatie omschrijving probleem code  \\\n",
       "0  (CADO CT2-Z-01) A10 29.280 BBR      NaN                  NaN           P11   \n",
       "1  (CADO CT2-Z-01) A10 29.280 BBR      NaN                  NaN           P06   \n",
       "2  (CADO CT2-Z-01) A10 29.280 BBR      NaN                  NaN           P03   \n",
       "3  (CADO CT2-Z-01) A10 29.280 BBR      NaN                  NaN           P09   \n",
       "\n",
       "                             beschrijving probleem oorzaak code  \\\n",
       "0                            Cado niet beschikbaar          C06   \n",
       "1                            Cado noodstop bedient          C04   \n",
       "2                            Cado noodstop bedient          C06   \n",
       "3  Betreft : Cado in de buitenberm gaat\\nniet open          C02   \n",
       "\n",
       "  beschrijving oorzaak oplos code  oplossing beschrijving  \\\n",
       "0                  NaN        S05                     NaN   \n",
       "1                Vorst        S08                     NaN   \n",
       "2                vorst        S04                     NaN   \n",
       "3                  NaN        S01                     NaN   \n",
       "\n",
       "                           uitgevoerde werkzaamheden  \\\n",
       "0  Storing ontvangen op 21 februari 2018 om 19:11...   \n",
       "1  Storing ontvangen op 22 februari 2018 om 2:52 ...   \n",
       "2  Storing ontvangen op 22 februari 2018 om 8:13 ...   \n",
       "3  Op 22-2-18 13:21 de melding ontvangen genaamd ...   \n",
       "\n",
       "  type melding (Storing/Incident/Preventief/Onterecht)  \n",
       "0                                         Preventief    \n",
       "1                                           Incident    \n",
       "2                                           Incident    \n",
       "3                                           Incident    "
      ]
     },
     "metadata": {},
     "output_type": "display_data"
    },
    {
     "data": {
      "text/markdown": [
       "\n"
      ],
      "text/plain": [
       "<IPython.core.display.Markdown object>"
      ]
     },
     "metadata": {},
     "output_type": "display_data"
    },
    {
     "data": {
      "text/markdown": [
       "De **4** meldingen van A10 TSG2 30,015PWn - Kast A10 TSG2 30,015PWn worden hieronder gepresenteerd."
      ],
      "text/plain": [
       "<IPython.core.display.Markdown object>"
      ]
     },
     "metadata": {},
     "output_type": "display_data"
    },
    {
     "data": {
      "text/html": [
       "<div>\n",
       "<style scoped>\n",
       "    .dataframe tbody tr th:only-of-type {\n",
       "        vertical-align: middle;\n",
       "    }\n",
       "\n",
       "    .dataframe tbody tr th {\n",
       "        vertical-align: top;\n",
       "    }\n",
       "\n",
       "    .dataframe thead th {\n",
       "        text-align: right;\n",
       "    }\n",
       "</style>\n",
       "<table border=\"1\" class=\"dataframe\">\n",
       "  <thead>\n",
       "    <tr style=\"text-align: right;\">\n",
       "      <th></th>\n",
       "      <th>werkorder</th>\n",
       "      <th>status</th>\n",
       "      <th>rapport datum</th>\n",
       "      <th>werkorder beschrijving</th>\n",
       "      <th>sbs</th>\n",
       "      <th>sbs omschrijving</th>\n",
       "      <th>locatie</th>\n",
       "      <th>locatie omschrijving</th>\n",
       "      <th>probleem code</th>\n",
       "      <th>beschrijving probleem</th>\n",
       "      <th>oorzaak code</th>\n",
       "      <th>beschrijving oorzaak</th>\n",
       "      <th>oplos code</th>\n",
       "      <th>oplossing beschrijving</th>\n",
       "      <th>uitgevoerde werkzaamheden</th>\n",
       "      <th>type melding (Storing/Incident/Preventief/Onterecht)</th>\n",
       "    </tr>\n",
       "  </thead>\n",
       "  <tbody>\n",
       "    <tr>\n",
       "      <th>0</th>\n",
       "      <td>1202192</td>\n",
       "      <td>SLUIT</td>\n",
       "      <td>19-01-18 14:08:00</td>\n",
       "      <td>D3830760 A10, Rechts, hm-paal 30.015 N-baan Ri...</td>\n",
       "      <td>41</td>\n",
       "      <td>MTM CT1-W2</td>\n",
       "      <td>NaN</td>\n",
       "      <td>NaN</td>\n",
       "      <td>P03</td>\n",
       "      <td>Fatale fout signaalgever</td>\n",
       "      <td>C05</td>\n",
       "      <td>NaN</td>\n",
       "      <td>S05</td>\n",
       "      <td>NaN</td>\n",
       "      <td>Storing geconstateerd op 19 januari 2018 om 14...</td>\n",
       "      <td>Incident</td>\n",
       "    </tr>\n",
       "    <tr>\n",
       "      <th>1</th>\n",
       "      <td>1202193</td>\n",
       "      <td>SLUIT</td>\n",
       "      <td>19-01-18 14:21:00</td>\n",
       "      <td>D3830770 A10, , hm-paal 30.015 N(ico) baan. On...</td>\n",
       "      <td>41</td>\n",
       "      <td>MTM CT1-W2</td>\n",
       "      <td>NaN</td>\n",
       "      <td>NaN</td>\n",
       "      <td>P08</td>\n",
       "      <td>Onderstation is local gevallen</td>\n",
       "      <td>C06</td>\n",
       "      <td>NaN</td>\n",
       "      <td>S06</td>\n",
       "      <td>NaN</td>\n",
       "      <td>Storing ontvangen op 19 januari 2018 om 14:21 ...</td>\n",
       "      <td>Incident</td>\n",
       "    </tr>\n",
       "    <tr>\n",
       "      <th>2</th>\n",
       "      <td>1202194</td>\n",
       "      <td>SLUIT</td>\n",
       "      <td>19-01-18 15:10:00</td>\n",
       "      <td>D3830775 A10, , hm-paal 30.015N onderzelfstati...</td>\n",
       "      <td>41</td>\n",
       "      <td>MTM CT1-W2</td>\n",
       "      <td>NaN</td>\n",
       "      <td>NaN</td>\n",
       "      <td>P10</td>\n",
       "      <td>Onderstation staat in local</td>\n",
       "      <td>C05</td>\n",
       "      <td>NaN</td>\n",
       "      <td>S03</td>\n",
       "      <td>NaN</td>\n",
       "      <td>Storing ontvangen op 19 januari 2018 om 15:10 ...</td>\n",
       "      <td>Onterecht</td>\n",
       "    </tr>\n",
       "    <tr>\n",
       "      <th>3</th>\n",
       "      <td>1202195</td>\n",
       "      <td>SLUIT</td>\n",
       "      <td>19-01-18 15:15:00</td>\n",
       "      <td>D3830780 A10, , hm-paal N30.015 Signaalgever 2...</td>\n",
       "      <td>41</td>\n",
       "      <td>MTM CT1-W2</td>\n",
       "      <td>NaN</td>\n",
       "      <td>NaN</td>\n",
       "      <td>P09</td>\n",
       "      <td>tunnelsignaalgever Fatale fout</td>\n",
       "      <td>C15</td>\n",
       "      <td>NaN</td>\n",
       "      <td>S02</td>\n",
       "      <td>NaN</td>\n",
       "      <td>Storing geconstateerd op 19 januari 2018 om 15...</td>\n",
       "      <td>Preventief</td>\n",
       "    </tr>\n",
       "  </tbody>\n",
       "</table>\n",
       "</div>"
      ],
      "text/plain": [
       "   werkorder status      rapport datum  \\\n",
       "0    1202192  SLUIT  19-01-18 14:08:00   \n",
       "1    1202193  SLUIT  19-01-18 14:21:00   \n",
       "2    1202194  SLUIT  19-01-18 15:10:00   \n",
       "3    1202195  SLUIT  19-01-18 15:15:00   \n",
       "\n",
       "                              werkorder beschrijving sbs sbs omschrijving  \\\n",
       "0  D3830760 A10, Rechts, hm-paal 30.015 N-baan Ri...  41       MTM CT1-W2   \n",
       "1  D3830770 A10, , hm-paal 30.015 N(ico) baan. On...  41       MTM CT1-W2   \n",
       "2  D3830775 A10, , hm-paal 30.015N onderzelfstati...  41       MTM CT1-W2   \n",
       "3  D3830780 A10, , hm-paal N30.015 Signaalgever 2...  41       MTM CT1-W2   \n",
       "\n",
       "   locatie locatie omschrijving probleem code           beschrijving probleem  \\\n",
       "0      NaN                  NaN           P03        Fatale fout signaalgever   \n",
       "1      NaN                  NaN           P08  Onderstation is local gevallen   \n",
       "2      NaN                  NaN           P10     Onderstation staat in local   \n",
       "3      NaN                  NaN           P09  tunnelsignaalgever Fatale fout   \n",
       "\n",
       "  oorzaak code beschrijving oorzaak oplos code  oplossing beschrijving  \\\n",
       "0          C05                  NaN        S05                     NaN   \n",
       "1          C06                  NaN        S06                     NaN   \n",
       "2          C05                  NaN        S03                     NaN   \n",
       "3          C15                  NaN        S02                     NaN   \n",
       "\n",
       "                           uitgevoerde werkzaamheden  \\\n",
       "0  Storing geconstateerd op 19 januari 2018 om 14...   \n",
       "1  Storing ontvangen op 19 januari 2018 om 14:21 ...   \n",
       "2  Storing ontvangen op 19 januari 2018 om 15:10 ...   \n",
       "3  Storing geconstateerd op 19 januari 2018 om 15...   \n",
       "\n",
       "  type melding (Storing/Incident/Preventief/Onterecht)  \n",
       "0                                           Incident    \n",
       "1                                           Incident    \n",
       "2                                          Onterecht    \n",
       "3                                         Preventief    "
      ]
     },
     "metadata": {},
     "output_type": "display_data"
    },
    {
     "data": {
      "text/markdown": [
       "\n"
      ],
      "text/plain": [
       "<IPython.core.display.Markdown object>"
      ]
     },
     "metadata": {},
     "output_type": "display_data"
    }
   ],
   "source": [
    "# onderstaande is een andere variablele dat hiervoor is gebruikt\n",
    "_meldingen_per_asset = sf_data['asset nummer'].value_counts(dropna=False)\n",
    "\n",
    "meldingen_na = _meldingen_per_asset.loc[np.nan]\n",
    "\n",
    "_meldingen_per_asset = _meldingen_per_asset[(x is not np.nan for x in list(_meldingen_per_asset.index))]\n",
    "_meldingen_per_asset = _meldingen_per_asset.loc[_meldingen_per_asset >= input_threshhold.value]\n",
    "\n",
    "\n",
    "cols2present = ['werkorder', 'status', 'rapport datum',\n",
    "                'werkorder beschrijving', 'sbs',\n",
    "                'sbs omschrijving', 'locatie', 'locatie omschrijving', 'probleem code', 'beschrijving probleem',\n",
    "                'oorzaak code', 'beschrijving oorzaak', 'oplos code',\n",
    "                'oplossing beschrijving', 'uitgevoerde werkzaamheden',\n",
    "                'type melding (Storing/Incident/Preventief/Onterecht)']\n",
    "\n",
    "tekst = f\"\"\"\n",
    "De assets met **{input_threshhold.value}** of meer meldingen zijn hieronder uitgewerkt: \n",
    "\n",
    "Bij de **{meldingen_na}** meldingen is geen asset gekoppeld aan de werkorder.\n",
    "\"\"\"\n",
    "display(Markdown(tekst))\n",
    "\n",
    "for asset in list(_meldingen_per_asset.index):\n",
    "    df = sa.meldingen[sa.meldingen[\"asset nummer\"] == asset].copy().reset_index()\n",
    "    _tekst = f\"\"\"De **{len(df)}** meldingen van {df.loc[0, 'asset beschrijving']} worden hieronder gepresenteerd.\"\"\" \n",
    "    display(Markdown(_tekst))\n",
    "    display(df.loc[:, cols2present])\n",
    "    display(Markdown(f'{newline}'))"
   ]
  },
  {
   "cell_type": "markdown",
   "metadata": {},
   "source": [
    "## Conclusie"
   ]
  },
  {
   "cell_type": "code",
   "execution_count": 33,
   "metadata": {
    "hide_input": true
   },
   "outputs": [
    {
     "data": {
      "text/markdown": [
       "\n",
       "Als wordt gekeken naar de oorzaken van de meldingen van de **2** assets welke **3** of \n",
       "meerdere meldingen hebben gehad, is bij somige assets repeterend en bij andere \n",
       "tekens verschillen.  \n",
       " \n",
       "Het falen van deze assets hoeft niet verder worden bekeken of worden onderzocht. \n",
       "Dit omdat deze al reeds zijn behandeld bij de verschillende systemen. \n"
      ],
      "text/plain": [
       "<IPython.core.display.Markdown object>"
      ]
     },
     "metadata": {},
     "output_type": "display_data"
    }
   ],
   "source": [
    "tekst = f\"\"\"\n",
    "Als wordt gekeken naar de oorzaken van de meldingen van de **{len(lines)}** assets welke **{input_threshhold.value}** of \n",
    "meerdere meldingen hebben gehad, is bij somige assets repeterend en bij andere \n",
    "tekens verschillen.  \n",
    " \n",
    "Het falen van deze assets hoeft niet verder worden bekeken of worden onderzocht. \n",
    "Dit omdat deze al reeds zijn behandeld bij de verschillende systemen. \n",
    "\"\"\"\n",
    "display(Markdown(tekst))"
   ]
  },
  {
   "cell_type": "markdown",
   "metadata": {},
   "source": [
    "# Updated van de opgeslagen data (metadata)\n",
    "\n",
    "Zoals vermeld moeten deze stappend beide naar de backend verplaatst worden. de meest algemene implementatie moet in metadata-class komen.\n",
    "In StoringsAnalyse moet deze algemene module op maat gemaakt worden voor de storingsanalyse."
   ]
  },
  {
   "cell_type": "markdown",
   "metadata": {},
   "source": [
    "## Combineren van de historische data met de staging file (moet nog naar backend verplaatst worden)"
   ]
  },
  {
   "cell_type": "code",
   "execution_count": 34,
   "metadata": {},
   "outputs": [
    {
     "name": "stdout",
     "output_type": "stream",
     "text": [
      "{'01_2021': {'41': 4, '45': 3, '86': 1, '47A': 1, '71': 1, '62': 1, '23': 1, '63': 1, '61': 1, '21': 1}, '02_2021': {'45': 4, '46A': 4, '74': 3, '41': 2, '67': 2, '46B': 1, '71': 1, '43': 1}, '03_2021': {'45': 3, '46A': 1, '84': 1, '51 EN 53': 1, '41': 1, '43': 1, '74': 1, '61': 1}}\n"
     ]
    }
   ],
   "source": [
    "# meldingen\n",
    "meldingen_from_sf = sa.meldingen.copy()\n",
    "meldingen_from_meta = sa.metadata.meldingen()\n",
    "\n",
    "# datum wordt een input veld\n",
    "input_start_date = datetime(2021, 4, 1)\n",
    "\n",
    "meldingen_from_sf = meldingen_from_sf.groupby(['month_number'])\n",
    "\n",
    "\"\"\"\n",
    "De meldnigen zonder di nummer worden door Remko nu anagepast zodat ze toch een di nummer hebben.\n",
    "\"\"\"\n",
    "new_data_for_meta = {}\n",
    "for group in meldingen_from_sf.groups:\n",
    "    dff = meldingen_from_sf.get_group(group)\n",
    "    vc = dff['sbs'].value_counts().to_dict()\n",
    "    key = f'0{group}_{input_start_date.year}' if group < 10 else f'{group}_{input_start_date.year}'\n",
    "    new_data_for_meta[key] = dff['sbs'].value_counts().to_dict()\n",
    "    \n",
    "\n",
    "# dev_case had historical data up until 03_2021, so TypeError because of overlapping keys Q1 for 2021\n",
    "print(new_data_for_meta)\n",
    "# updated_histo = dict(**meldingen_from_meta, **new_data_for_meta)\n",
    "updated_meta_meldingen = dict(**meldingen_from_meta)"
   ]
  },
  {
   "cell_type": "code",
   "execution_count": 35,
   "metadata": {},
   "outputs": [],
   "source": [
    "# storingen\n",
    "storingen_from_sf = sa.storingen.copy()\n",
    "storingen_from_meta = sa.metadata.storingen()\n",
    "\n",
    "storingen_from_sf = storingen_from_sf.groupby(['month_number'])\n",
    "\n",
    "new_data_for_meta_storingen = {}\n",
    "for group in storingen_from_sf.groups:\n",
    "    dff = storingen_from_sf.get_group(group)\n",
    "    vc = dff['sbs'].value_counts().to_dict()\n",
    "    key = f'0{group}_{input_start_date.year}' if group < 10 else f'{group}_{input_start_date.year}'\n",
    "    new_data_for_meta_storingen[key] = dff['sbs'].value_counts().to_dict()\n",
    "    \n",
    "\n",
    "# dev_case had historical data up until 03_2021, so TypeError because of overlapping keys Q1 for 2021\n",
    "# updated_histo = dict(**storingen_from_meta, **new_data_for_meta_storingen)\n",
    "updated_meta_storingen = dict(**storingen_from_meta)"
   ]
  },
  {
   "cell_type": "markdown",
   "metadata": {},
   "source": [
    "## Combineren van de POO data met de staging_file (moet nog naar backend verplaatst worden)"
   ]
  },
  {
   "cell_type": "code",
   "execution_count": 36,
   "metadata": {},
   "outputs": [
    {
     "data": {
      "text/plain": [
       "'Q2'"
      ]
     },
     "execution_count": 36,
     "metadata": {},
     "output_type": "execute_result"
    }
   ],
   "source": [
    "# met inputdate als param voor class onderstaande als manageing module toevoegen.\n",
    "q = [key for key in sa._quarters.keys() if (str(input_start_date.month) if len(str(input_start_date.month)) > 1 else '0'+str(input_start_date.month)) in sa.metadata._quarter_to_month_numbers(key)][0]\n",
    "q"
   ]
  },
  {
   "cell_type": "code",
   "execution_count": 37,
   "metadata": {
    "scrolled": true
   },
   "outputs": [],
   "source": [
    "meldingen_from_sf = sa.meldingen.copy()\n",
    "poo_from_meta = sa.metadata.poo_data()\n",
    "\n",
    "for poo in poo_from_meta.keys():\n",
    "    col = 'oplos code' if poo == 'oplossing' else poo + ' ' + 'code'\n",
    "\n",
    "    value_count = meldingen_from_sf[col].value_counts(dropna=False).to_dict()\n",
    "    value_count['Leeg'] = value_count[np.nan]\n",
    "    del value_count[np.nan]\n",
    "    \n",
    "    key = f'{q}_{input_start_date.year}'\n",
    "    new_poo_type_data = {key: value_count}\n",
    "\n",
    "    poo_from_meta[poo] = dict(**poo_from_meta[poo], **new_poo_type_data)"
   ]
  },
  {
   "cell_type": "markdown",
   "metadata": {},
   "source": [
    "# Bijlagen"
   ]
  },
  {
   "cell_type": "markdown",
   "metadata": {},
   "source": [
    "## Aantal meldingen per deelinstallatie"
   ]
  },
  {
   "cell_type": "code",
   "execution_count": 38,
   "metadata": {
    "hide_input": true
   },
   "outputs": [
    {
     "name": "stdout",
     "output_type": "stream",
     "text": [
      "01_2018 nan pop. count = 15\n",
      "02_2018 nan pop. count = 27\n",
      "03_2018 nan pop. count = 14\n"
     ]
    },
    {
     "data": {
      "image/png": "[encoded data removed]",
      "text/plain": [
       "<Figure size 4536x360 with 1 Axes>"
      ]
     },
     "metadata": {
      "needs_background": "light"
     },
     "output_type": "display_data"
    }
   ],
   "source": [
    "# prepping data\n",
    "df = sf_data.copy()\n",
    "\n",
    "input_data = (df, 'rapport datum', 'sbs')\n",
    "time_range = [min(df['rapport datum']), max(df['rapport datum'])]\n",
    "available_categories = sa.metadata.contract_info()['aanwezige_deelinstallaties']\n",
    "\n",
    "prepped_data = sa.prep(df, time_range, available_categories, time_key='rapport datum', category_key='sbs')\n",
    "\n",
    "# plotting data\n",
    "plot_type = 'stacked'\n",
    "category_labels = available_categories.copy()\n",
    "# needed to cover 'nan', else ValueError: shape mismatch: objects cannot be broadcast to a single shape\n",
    "readable_labels = [sa.prettify_time_label(label) for label in sa.last_seen_bin_names]\n",
    "\n",
    "sa.plot(input_data=prepped_data, plot_type='stacked', category_labels=category_labels, bin_labels=readable_labels)"
   ]
  },
  {
   "cell_type": "code",
   "execution_count": 39,
   "metadata": {
    "hide_input": true
   },
   "outputs": [
    {
     "name": "stdout",
     "output_type": "stream",
     "text": [
      "01_2018 nan pop. count = 15\n",
      "02_2018 nan pop. count = 27\n",
      "03_2018 nan pop. count = 14\n"
     ]
    },
    {
     "data": {
      "image/png": "[encoded data removed]",
      "text/plain": [
       "<Figure size 432x288 with 1 Axes>"
      ]
     },
     "metadata": {
      "needs_background": "light"
     },
     "output_type": "display_data"
    }
   ],
   "source": [
    "summary_data = sa.prep_summary(df, time_range, available_categories, time_key='rapport datum', category_key='sbs')\n",
    "sa.plot_summary(x_labels=[sa.prettify_time_label(label) for label in summary_data.keys()], data=summary_data.values())"
   ]
  },
  {
   "cell_type": "markdown",
   "metadata": {},
   "source": [
    "## Aantal storingen per deelinstallatie"
   ]
  },
  {
   "cell_type": "code",
   "execution_count": 40,
   "metadata": {
    "hide_input": true
   },
   "outputs": [
    {
     "name": "stdout",
     "output_type": "stream",
     "text": [
      "01_2018 nan pop. count = 2\n",
      "02_2018 nan pop. count = 5\n",
      "03_2018 nan pop. count = 2\n"
     ]
    },
    {
     "data": {
      "image/png": "[encoded data removed]",
      "text/plain": [
       "<Figure size 4536x360 with 1 Axes>"
      ]
     },
     "metadata": {
      "needs_background": "light"
     },
     "output_type": "display_data"
    }
   ],
   "source": [
    "# prepping data\n",
    "df_s = sa.storingen.copy()\n",
    "\n",
    "input_data = (df_s, 'rapport datum', 'sbs')\n",
    "time_range = [min(df['rapport datum']), max(df['rapport datum'])]\n",
    "available_categories = sa.metadata.contract_info()['aanwezige_deelinstallaties']\n",
    "\n",
    "prepped_data = sa.prep(df_s, time_range, available_categories, time_key='rapport datum', category_key='sbs')\n",
    "\n",
    "# plotting data\n",
    "plot_type = 'stacked'\n",
    "category_labels = available_categories.copy()\n",
    "# needed to cover 'nan', else ValueError: shape mismatch: objects cannot be broadcast to a single shape\n",
    "readable_labels = [sa.prettify_time_label(label) for label in sa.last_seen_bin_names]\n",
    "\n",
    "sa.plot(input_data=prepped_data, plot_type='stacked', category_labels=category_labels, bin_labels=readable_labels)"
   ]
  },
  {
   "cell_type": "code",
   "execution_count": 41,
   "metadata": {
    "hide_input": true
   },
   "outputs": [
    {
     "name": "stdout",
     "output_type": "stream",
     "text": [
      "01_2018 nan pop. count = 2\n",
      "02_2018 nan pop. count = 5\n",
      "03_2018 nan pop. count = 2\n"
     ]
    },
    {
     "data": {
      "image/png": "[encoded data removed]",
      "text/plain": [
       "<Figure size 432x288 with 1 Axes>"
      ]
     },
     "metadata": {
      "needs_background": "light"
     },
     "output_type": "display_data"
    }
   ],
   "source": [
    "summary_data = sa.prep_summary(df_s, time_range, available_categories, time_key='rapport datum', category_key='sbs')\n",
    "sa.plot_summary(x_labels=[sa.prettify_time_label(label) for label in summary_data.keys()], data=summary_data.values())"
   ]
  },
  {
   "cell_type": "markdown",
   "metadata": {},
   "source": [
    "## Aantal onterechte meldingen per deelinstallatie"
   ]
  },
  {
   "cell_type": "code",
   "execution_count": 42,
   "metadata": {
    "hide_input": true
   },
   "outputs": [
    {
     "name": "stdout",
     "output_type": "stream",
     "text": [
      "01_2018 nan pop. count = 5\n",
      "02_2018 nan pop. count = 6\n",
      "03_2018 nan pop. count = 4\n"
     ]
    },
    {
     "data": {
      "image/png": "[encoded data removed]",
      "text/plain": [
       "<Figure size 4536x360 with 1 Axes>"
      ]
     },
     "metadata": {
      "needs_background": "light"
     },
     "output_type": "display_data"
    }
   ],
   "source": [
    "# prepping data\n",
    "df_o = sa._isolate_notification_type(like_ntype='onterecht').copy()\n",
    "input_data = (df_o, 'rapport datum', 'sbs')\n",
    "time_range = [min(df['rapport datum']), max(df['rapport datum'])]\n",
    "available_categories = sa.metadata.contract_info()['aanwezige_deelinstallaties']\n",
    "\n",
    "prepped_data = sa.prep(df_o, time_range, available_categories, time_key='rapport datum', category_key='sbs')\n",
    "\n",
    "# plotting data\n",
    "plot_type = 'stacked'\n",
    "category_labels = available_categories.copy()\n",
    "# needed to cover 'nan', else ValueError: shape mismatch: objects cannot be broadcast to a single shape\n",
    "readable_labels = [sa.prettify_time_label(label) for label in sa.last_seen_bin_names]\n",
    "\n",
    "sa.plot(input_data=prepped_data, plot_type='stacked', category_labels=category_labels, bin_labels=readable_labels)"
   ]
  },
  {
   "cell_type": "code",
   "execution_count": 43,
   "metadata": {
    "hide_input": true
   },
   "outputs": [
    {
     "name": "stdout",
     "output_type": "stream",
     "text": [
      "01_2018 nan pop. count = 5\n",
      "02_2018 nan pop. count = 6\n",
      "03_2018 nan pop. count = 4\n"
     ]
    },
    {
     "data": {
      "image/png": "[encoded data removed]",
      "text/plain": [
       "<Figure size 432x288 with 1 Axes>"
      ]
     },
     "metadata": {
      "needs_background": "light"
     },
     "output_type": "display_data"
    }
   ],
   "source": [
    "summary_data = sa.prep_summary(df_o, time_range, available_categories, time_key='rapport datum', category_key='sbs')\n",
    "sa.plot_summary(x_labels=[sa.prettify_time_label(label) for label in summary_data.keys()], data=summary_data.values())"
   ]
  },
  {
   "cell_type": "markdown",
   "metadata": {},
   "source": [
    "## Totaal aantal meldingen preventief per deelinstallatie"
   ]
  },
  {
   "cell_type": "code",
   "execution_count": 44,
   "metadata": {
    "hide_input": true
   },
   "outputs": [
    {
     "name": "stdout",
     "output_type": "stream",
     "text": [
      "01_2018 nan pop. count = 4\n",
      "02_2018 nan pop. count = 6\n",
      "03_2018 nan pop. count = 4\n"
     ]
    },
    {
     "data": {
      "image/png": "[encoded data removed]",
      "text/plain": [
       "<Figure size 4536x360 with 1 Axes>"
      ]
     },
     "metadata": {
      "needs_background": "light"
     },
     "output_type": "display_data"
    }
   ],
   "source": [
    "# prepping data\n",
    "df_p = sa._isolate_notification_type(like_ntype='preventief').copy()\n",
    "input_data = (df_p, 'rapport datum', 'sbs')\n",
    "time_range = [min(df['rapport datum']), max(df['rapport datum'])]\n",
    "available_categories = sa.metadata.contract_info()['aanwezige_deelinstallaties']\n",
    "\n",
    "prepped_data = sa.prep(df_p, time_range, available_categories, time_key='rapport datum', category_key='sbs')\n",
    "\n",
    "# plotting data\n",
    "plot_type = 'stacked'\n",
    "category_labels = available_categories.copy()\n",
    "# needed to cover 'nan', else ValueError: shape mismatch: objects cannot be broadcast to a single shape\n",
    "readable_labels = [sa.prettify_time_label(label) for label in sa.last_seen_bin_names]\n",
    "\n",
    "sa.plot(input_data=prepped_data, plot_type='stacked', category_labels=category_labels, bin_labels=readable_labels)"
   ]
  },
  {
   "cell_type": "code",
   "execution_count": 45,
   "metadata": {
    "hide_input": true
   },
   "outputs": [
    {
     "name": "stdout",
     "output_type": "stream",
     "text": [
      "01_2018 nan pop. count = 4\n",
      "02_2018 nan pop. count = 6\n",
      "03_2018 nan pop. count = 4\n"
     ]
    },
    {
     "data": {
      "image/png": "[encoded data removed]",
      "text/plain": [
       "<Figure size 432x288 with 1 Axes>"
      ]
     },
     "metadata": {
      "needs_background": "light"
     },
     "output_type": "display_data"
    }
   ],
   "source": [
    "summary_data = sa.prep_summary(df_p, time_range, available_categories, time_key='rapport datum', category_key='sbs')\n",
    "sa.plot_summary(x_labels=[sa.prettify_time_label(label) for label in summary_data.keys()], data=summary_data.values())"
   ]
  },
  {
   "cell_type": "markdown",
   "metadata": {},
   "source": [
    "## Aantal incidenten per deelinstallatie"
   ]
  },
  {
   "cell_type": "code",
   "execution_count": 46,
   "metadata": {
    "hide_input": true
   },
   "outputs": [
    {
     "name": "stdout",
     "output_type": "stream",
     "text": [
      "01_2018 nan pop. count = 4\n",
      "02_2018 nan pop. count = 10\n",
      "03_2018 nan pop. count = 4\n"
     ]
    },
    {
     "data": {
      "image/png": "[encoded data removed]",
      "text/plain": [
       "<Figure size 4536x360 with 1 Axes>"
      ]
     },
     "metadata": {
      "needs_background": "light"
     },
     "output_type": "display_data"
    }
   ],
   "source": [
    "# prepping data\n",
    "df_i = sa._isolate_notification_type(like_ntype='incident').copy()\n",
    "input_data = (df_i, 'rapport datum', 'sbs')\n",
    "time_range = [min(df['rapport datum']), max(df['rapport datum'])]\n",
    "available_categories = sa.metadata.contract_info()['aanwezige_deelinstallaties']\n",
    "\n",
    "prepped_data = sa.prep(df_i, time_range, available_categories, time_key='rapport datum', category_key='sbs')\n",
    "\n",
    "# plotting data\n",
    "plot_type = 'stacked'\n",
    "category_labels = available_categories.copy()\n",
    "# needed to cover 'nan', else ValueError: shape mismatch: objects cannot be broadcast to a single shape\n",
    "readable_labels = [sa.prettify_time_label(label) for label in sa.last_seen_bin_names]\n",
    "\n",
    "sa.plot(input_data=prepped_data, plot_type='stacked', category_labels=category_labels, bin_labels=readable_labels)"
   ]
  },
  {
   "cell_type": "code",
   "execution_count": 47,
   "metadata": {
    "hide_input": true
   },
   "outputs": [
    {
     "name": "stdout",
     "output_type": "stream",
     "text": [
      "01_2018 nan pop. count = 4\n",
      "02_2018 nan pop. count = 10\n",
      "03_2018 nan pop. count = 4\n"
     ]
    },
    {
     "data": {
      "image/png": "[encoded data removed]",
      "text/plain": [
       "<Figure size 432x288 with 1 Axes>"
      ]
     },
     "metadata": {
      "needs_background": "light"
     },
     "output_type": "display_data"
    }
   ],
   "source": [
    "summary_data = sa.prep_summary(df_i, time_range, available_categories, time_key='rapport datum', category_key='sbs')\n",
    "sa.plot_summary(x_labels=[sa.prettify_time_label(label) for label in summary_data.keys()], data=summary_data.values())"
   ]
  },
  {
   "cell_type": "markdown",
   "metadata": {},
   "source": [
    "## Vergelijking voorgaande kwartaal met huidinge kwartaal"
   ]
  },
  {
   "cell_type": "markdown",
   "metadata": {},
   "source": [
    "### Meldingen"
   ]
  },
  {
   "cell_type": "code",
   "execution_count": 48,
   "metadata": {
    "hide_input": true
   },
   "outputs": [
    {
     "data": {
      "image/png": "[encoded data removed]",
      "text/plain": [
       "<Figure size 4536x360 with 1 Axes>"
      ]
     },
     "metadata": {
      "needs_background": "light"
     },
     "output_type": "display_data"
    }
   ],
   "source": [
    "prepped_data = sa.prep(updated_meta_meldingen, \n",
    "                       time_range=['10-2020', '03-2021'], \n",
    "                       available_categories=sa.metadata.contract_info()['aanwezige_deelinstallaties'], \n",
    "                       time_key='rapport datum', \n",
    "                       category_key='sbs', \n",
    "                       bin_size='quarter')\n",
    "\n",
    "sa.plot(input_data=prepped_data, \n",
    "        plot_type='side-by-side', \n",
    "        category_labels=sa.metadata.contract_info()['aanwezige_deelinstallaties'], \n",
    "        bin_labels=sa.last_seen_bin_names)"
   ]
  },
  {
   "cell_type": "code",
   "execution_count": 49,
   "metadata": {
    "hide_input": true
   },
   "outputs": [
    {
     "data": {
      "image/png": "[encoded data removed]",
      "text/plain": [
       "<Figure size 432x288 with 1 Axes>"
      ]
     },
     "metadata": {
      "needs_background": "light"
     },
     "output_type": "display_data"
    }
   ],
   "source": [
    "summary_data = sa.prep_summary(updated_meta_meldingen, \n",
    "                               time_range=['10-2020', '03-2021'], \n",
    "                               available_categories=sa.metadata.contract_info()['aanwezige_deelinstallaties'],\n",
    "                               bin_size='quarter')\n",
    "\n",
    "sa.plot_summary(x_labels=[sa.prettify_time_label(label) for label in summary_data.keys()], data=summary_data.values())"
   ]
  },
  {
   "cell_type": "markdown",
   "metadata": {},
   "source": [
    "### Storingen"
   ]
  },
  {
   "cell_type": "code",
   "execution_count": 50,
   "metadata": {
    "hide_input": true
   },
   "outputs": [
    {
     "data": {
      "image/png": "[encoded data removed]",
      "text/plain": [
       "<Figure size 4536x360 with 1 Axes>"
      ]
     },
     "metadata": {
      "needs_background": "light"
     },
     "output_type": "display_data"
    }
   ],
   "source": [
    "prepped_data = sa.prep(updated_meta_storingen, \n",
    "                       time_range=['10-2020', '03-2021'], \n",
    "                       available_categories=sa.metadata.contract_info()['aanwezige_deelinstallaties'], \n",
    "                       time_key='rapport datum', \n",
    "                       category_key='sbs', \n",
    "                       bin_size='quarter')\n",
    "\n",
    "sa.plot(input_data=prepped_data, \n",
    "        plot_type='side-by-side', \n",
    "        category_labels=sa.metadata.contract_info()['aanwezige_deelinstallaties'], \n",
    "        bin_labels=[sa.prettify_time_label(label) for label in sa.last_seen_bin_names])"
   ]
  },
  {
   "cell_type": "code",
   "execution_count": 51,
   "metadata": {
    "hide_input": true
   },
   "outputs": [
    {
     "data": {
      "image/png": "[encoded data removed]",
      "text/plain": [
       "<Figure size 432x288 with 1 Axes>"
      ]
     },
     "metadata": {
      "needs_background": "light"
     },
     "output_type": "display_data"
    }
   ],
   "source": [
    "summary_data = sa.prep_summary(updated_meta_storingen, \n",
    "                               time_range=['10-2020', '03-2021'], \n",
    "                               available_categories=sa.metadata.contract_info()['aanwezige_deelinstallaties'],\n",
    "                               bin_size='quarter')\n",
    "\n",
    "sa.plot_summary(x_labels=[sa.prettify_time_label(label) for label in summary_data.keys()], data=summary_data.values())"
   ]
  },
  {
   "cell_type": "markdown",
   "metadata": {},
   "source": [
    "## Verdeling type meldingen per deelinstallatie"
   ]
  },
  {
   "cell_type": "code",
   "execution_count": 52,
   "metadata": {
    "hide_input": true
   },
   "outputs": [],
   "source": [
    "df = sa.meldingen.copy()"
   ]
  },
  {
   "cell_type": "code",
   "execution_count": 53,
   "metadata": {
    "hide_input": true
   },
   "outputs": [
    {
     "data": {
      "application/vnd.jupyter.widget-view+json": {
       "model_id": "228dae04f7f74693b148620e54343895",
       "version_major": 2,
       "version_minor": 0
      },
      "text/plain": [
       "IntSlider(value=0, continuous_update=False, description='Drempelwaarde:', max=10, style=SliderStyle(descriptio…"
      ]
     },
     "metadata": {},
     "output_type": "display_data"
    }
   ],
   "source": [
    "input_threshhold = widgets.IntSlider(\n",
    "    value=0,\n",
    "    min=0,\n",
    "    max=sbs_count.max(),\n",
    "    step=1,\n",
    "    description='Drempelwaarde:',\n",
    "    disabled=False,\n",
    "    continuous_update=False,\n",
    "    orientation='horizontal',\n",
    "    readout=True,\n",
    "    readout_format='d',\n",
    "    style=dict(description_width='initial')\n",
    ")\n",
    "\n",
    "display(input_threshhold)"
   ]
  },
  {
   "cell_type": "code",
   "execution_count": 54,
   "metadata": {
    "hide_input": true,
    "scrolled": false
   },
   "outputs": [
    {
     "data": {
      "image/png": "[encoded data removed]",
      "text/plain": [
       "<Figure size 288x360 with 1 Axes>"
      ]
     },
     "metadata": {
      "needs_background": "light"
     },
     "output_type": "display_data"
    },
    {
     "data": {
      "image/png": "[encoded data removed]",
      "text/plain": [
       "<Figure size 432x288 with 1 Axes>"
      ]
     },
     "metadata": {
      "needs_background": "light"
     },
     "output_type": "display_data"
    },
    {
     "data": {
      "image/png": "[encoded data removed]",
      "text/plain": [
       "<Figure size 288x360 with 1 Axes>"
      ]
     },
     "metadata": {
      "needs_background": "light"
     },
     "output_type": "display_data"
    },
    {
     "data": {
      "image/png": "[encoded data removed]",
      "text/plain": [
       "<Figure size 432x288 with 1 Axes>"
      ]
     },
     "metadata": {
      "needs_background": "light"
     },
     "output_type": "display_data"
    },
    {
     "data": {
      "image/png": "[encoded data removed]",
      "text/plain": [
       "<Figure size 288x360 with 1 Axes>"
      ]
     },
     "metadata": {
      "needs_background": "light"
     },
     "output_type": "display_data"
    },
    {
     "data": {
      "image/png": "[encoded data removed]",
      "text/plain": [
       "<Figure size 432x288 with 1 Axes>"
      ]
     },
     "metadata": {
      "needs_background": "light"
     },
     "output_type": "display_data"
    },
    {
     "data": {
      "image/png": "[encoded data removed]",
      "text/plain": [
       "<Figure size 288x360 with 1 Axes>"
      ]
     },
     "metadata": {
      "needs_background": "light"
     },
     "output_type": "display_data"
    },
    {
     "data": {
      "image/png": "[encoded data removed]",
      "text/plain": [
       "<Figure size 432x288 with 1 Axes>"
      ]
     },
     "metadata": {
      "needs_background": "light"
     },
     "output_type": "display_data"
    },
    {
     "data": {
      "image/png": "[encoded data removed]",
      "text/plain": [
       "<Figure size 288x360 with 1 Axes>"
      ]
     },
     "metadata": {
      "needs_background": "light"
     },
     "output_type": "display_data"
    },
    {
     "data": {
      "image/png": "[encoded data removed]",
      "text/plain": [
       "<Figure size 432x288 with 1 Axes>"
      ]
     },
     "metadata": {
      "needs_background": "light"
     },
     "output_type": "display_data"
    },
    {
     "data": {
      "image/png": "[encoded data removed]",
      "text/plain": [
       "<Figure size 288x360 with 1 Axes>"
      ]
     },
     "metadata": {
      "needs_background": "light"
     },
     "output_type": "display_data"
    },
    {
     "data": {
      "image/png": "[encoded data removed]",
      "text/plain": [
       "<Figure size 432x288 with 1 Axes>"
      ]
     },
     "metadata": {
      "needs_background": "light"
     },
     "output_type": "display_data"
    },
    {
     "data": {
      "image/png": "[encoded data removed]",
      "text/plain": [
       "<Figure size 288x360 with 1 Axes>"
      ]
     },
     "metadata": {
      "needs_background": "light"
     },
     "output_type": "display_data"
    },
    {
     "data": {
      "image/png": "[encoded data removed]",
      "text/plain": [
       "<Figure size 432x288 with 1 Axes>"
      ]
     },
     "metadata": {
      "needs_background": "light"
     },
     "output_type": "display_data"
    },
    {
     "data": {
      "image/png": "[encoded data removed]",
      "text/plain": [
       "<Figure size 288x360 with 1 Axes>"
      ]
     },
     "metadata": {
      "needs_background": "light"
     },
     "output_type": "display_data"
    },
    {
     "data": {
      "image/png": "[encoded data removed]",
      "text/plain": [
       "<Figure size 432x288 with 1 Axes>"
      ]
     },
     "metadata": {
      "needs_background": "light"
     },
     "output_type": "display_data"
    },
    {
     "data": {
      "image/png": "[encoded data removed]",
      "text/plain": [
       "<Figure size 288x360 with 1 Axes>"
      ]
     },
     "metadata": {
      "needs_background": "light"
     },
     "output_type": "display_data"
    },
    {
     "data": {
      "image/png": "[encoded data removed]",
      "text/plain": [
       "<Figure size 432x288 with 1 Axes>"
      ]
     },
     "metadata": {
      "needs_background": "light"
     },
     "output_type": "display_data"
    },
    {
     "data": {
      "image/png": "[encoded data removed]",
      "text/plain": [
       "<Figure size 288x360 with 1 Axes>"
      ]
     },
     "metadata": {
      "needs_background": "light"
     },
     "output_type": "display_data"
    },
    {
     "data": {
      "image/png": "[encoded data removed]",
      "text/plain": [
       "<Figure size 432x288 with 1 Axes>"
      ]
     },
     "metadata": {
      "needs_background": "light"
     },
     "output_type": "display_data"
    },
    {
     "data": {
      "image/png": "[encoded data removed]",
      "text/plain": [
       "<Figure size 288x360 with 1 Axes>"
      ]
     },
     "metadata": {
      "needs_background": "light"
     },
     "output_type": "display_data"
    },
    {
     "data": {
      "image/png": "[encoded data removed]",
      "text/plain": [
       "<Figure size 432x288 with 1 Axes>"
      ]
     },
     "metadata": {
      "needs_background": "light"
     },
     "output_type": "display_data"
    },
    {
     "data": {
      "image/png": "[encoded data removed]",
      "text/plain": [
       "<Figure size 288x360 with 1 Axes>"
      ]
     },
     "metadata": {
      "needs_background": "light"
     },
     "output_type": "display_data"
    },
    {
     "data": {
      "image/png": "[encoded data removed]",
      "text/plain": [
       "<Figure size 432x288 with 1 Axes>"
      ]
     },
     "metadata": {
      "needs_background": "light"
     },
     "output_type": "display_data"
    },
    {
     "data": {
      "image/png": "[encoded data removed]",
      "text/plain": [
       "<Figure size 288x360 with 1 Axes>"
      ]
     },
     "metadata": {
      "needs_background": "light"
     },
     "output_type": "display_data"
    },
    {
     "data": {
      "image/png": "[encoded data removed]",
      "text/plain": [
       "<Figure size 432x288 with 1 Axes>"
      ]
     },
     "metadata": {
      "needs_background": "light"
     },
     "output_type": "display_data"
    },
    {
     "data": {
      "image/png": "[encoded data removed]",
      "text/plain": [
       "<Figure size 288x360 with 1 Axes>"
      ]
     },
     "metadata": {
      "needs_background": "light"
     },
     "output_type": "display_data"
    },
    {
     "data": {
      "image/png": "[encoded data removed]",
      "text/plain": [
       "<Figure size 432x288 with 1 Axes>"
      ]
     },
     "metadata": {
      "needs_background": "light"
     },
     "output_type": "display_data"
    },
    {
     "data": {
      "image/png": "[encoded data removed]",
      "text/plain": [
       "<Figure size 288x360 with 1 Axes>"
      ]
     },
     "metadata": {
      "needs_background": "light"
     },
     "output_type": "display_data"
    },
    {
     "data": {
      "image/png": "[encoded data removed]",
      "text/plain": [
       "<Figure size 432x288 with 1 Axes>"
      ]
     },
     "metadata": {
      "needs_background": "light"
     },
     "output_type": "display_data"
    },
    {
     "data": {
      "image/png": "[encoded data removed]",
      "text/plain": [
       "<Figure size 288x360 with 1 Axes>"
      ]
     },
     "metadata": {
      "needs_background": "light"
     },
     "output_type": "display_data"
    },
    {
     "data": {
      "image/png": "[encoded data removed]",
      "text/plain": [
       "<Figure size 432x288 with 1 Axes>"
      ]
     },
     "metadata": {
      "needs_background": "light"
     },
     "output_type": "display_data"
    },
    {
     "data": {
      "image/png": "[encoded data removed]",
      "text/plain": [
       "<Figure size 288x360 with 1 Axes>"
      ]
     },
     "metadata": {
      "needs_background": "light"
     },
     "output_type": "display_data"
    },
    {
     "data": {
      "image/png": "[encoded data removed]",
      "text/plain": [
       "<Figure size 432x288 with 1 Axes>"
      ]
     },
     "metadata": {
      "needs_background": "light"
     },
     "output_type": "display_data"
    }
   ],
   "source": [
    "sbs_count = df.loc[:, 'sbs'].value_counts()\n",
    "to_process = [x for x in sbs_count.index if sbs_count.at[x] >= input_threshhold.value]\n",
    "\n",
    "df_groupby_sbs = df.groupby(['sbs'])\n",
    "\n",
    "# unieke types vastlegen\n",
    "unique_types = df.loc[:, 'type melding (Storing/Incident/Preventief/Onterecht)'].unique()\n",
    "\n",
    "# cols kan voor een sandbox tool variabel gemaakt worden.\n",
    "cols = ['type melding (Storing/Incident/Preventief/Onterecht)', 'month_number']\n",
    "\n",
    "for di_num in to_process:\n",
    "    prepped_data = sa.prep(df_groupby_sbs.get_group(di_num), \n",
    "                           time_range=['10-2020', '03-2021'], \n",
    "                           available_categories=unique_types, \n",
    "                           time_key='rapport datum', \n",
    "                           category_key='type melding (Storing/Incident/Preventief/Onterecht)')\n",
    "    \n",
    "    sa.plot(input_data=prepped_data, \n",
    "            plot_type='stacked', \n",
    "            category_labels=unique_types, \n",
    "            bin_labels=[sa.prettify_time_label(label) for label in sa.last_seen_bin_names])\n",
    "    \n",
    "    summary_data = sa.prep_summary(df_groupby_sbs.get_group(di_num), \n",
    "                                   time_range=['10-2020', '03-2021'], \n",
    "                                   available_categories=unique_types, \n",
    "                                   time_key='rapport datum', \n",
    "                                   category_key='type melding (Storing/Incident/Preventief/Onterecht)')\n",
    "\n",
    "    sa.plot_summary(x_labels=[sa.prettify_time_label(label) for label in summary_data.keys()], \n",
    "                    data=summary_data.values())"
   ]
  },
  {
   "cell_type": "markdown",
   "metadata": {},
   "source": [
    "# Afronding\n",
    "In de afronding worden de laatste handelingen van de automatisering uitgevoerd, zoals het opslaan van de geüpdatette historische data en het exporteren van de inhoud van dit Notebook naar een [pdf, docx] bestand."
   ]
  },
  {
   "cell_type": "code",
   "execution_count": 55,
   "metadata": {
    "scrolled": true
   },
   "outputs": [
    {
     "data": {
      "text/plain": [
       "({'01_2016': {'45': 6,\n",
       "   '61': 5,\n",
       "   '23': 1,\n",
       "   '43': 4,\n",
       "   '41': 3,\n",
       "   '46B': 3,\n",
       "   '46A': 1,\n",
       "   '44': 2,\n",
       "   '97': 1,\n",
       "   '21': 1,\n",
       "   '48': 1,\n",
       "   '15': 6,\n",
       "   '74': 2,\n",
       "   '36': 2,\n",
       "   '59': 1,\n",
       "   '50': 5,\n",
       "   '67': 1,\n",
       "   '40': 1,\n",
       "   '90': 1,\n",
       "   '92': 1},\n",
       "  '02_2016': {'45': 19,\n",
       "   '61': 4,\n",
       "   '23': 13,\n",
       "   '63': 4,\n",
       "   '43': 1,\n",
       "   '41': 7,\n",
       "   '0': 3,\n",
       "   '46B': 1,\n",
       "   '46A': 1,\n",
       "   '44': 7,\n",
       "   '24': 1,\n",
       "   '97': 1,\n",
       "   '71': 8,\n",
       "   '15': 6,\n",
       "   '64': 1,\n",
       "   '50': 2,\n",
       "   '75': 1,\n",
       "   '12': 1},\n",
       "  '03_2016': {'45': 10,\n",
       "   '61': 8,\n",
       "   '63': 2,\n",
       "   '43': 12,\n",
       "   '41': 1,\n",
       "   '0': 4,\n",
       "   '46B': 1,\n",
       "   '46A': 7,\n",
       "   '24': 2,\n",
       "   '21': 1,\n",
       "   '71': 1,\n",
       "   '86': 1,\n",
       "   '64': 2,\n",
       "   '59': 1,\n",
       "   '67': 1,\n",
       "   '80': 1},\n",
       "  '04_2016': {'45': 6,\n",
       "   '61': 4,\n",
       "   '63': 3,\n",
       "   '43': 12,\n",
       "   '41': 3,\n",
       "   '46B': 1,\n",
       "   '46A': 2,\n",
       "   '44': 2,\n",
       "   '24': 4,\n",
       "   '97': 4,\n",
       "   '15': 1,\n",
       "   '74': 1,\n",
       "   '84': 1,\n",
       "   '88': 1,\n",
       "   '36': 1},\n",
       "  '05_2016': {'45': 9,\n",
       "   '61': 18,\n",
       "   '63': 5,\n",
       "   '43': 7,\n",
       "   '41': 8,\n",
       "   '0': 4,\n",
       "   '46A': 1,\n",
       "   '44': 1,\n",
       "   '24': 1,\n",
       "   '97': 3,\n",
       "   '21': 1,\n",
       "   '71': 1,\n",
       "   '86': 1,\n",
       "   '62': 3,\n",
       "   '88': 2,\n",
       "   '59': 1},\n",
       "  '06_2016': {'45': 12,\n",
       "   '61': 4,\n",
       "   '23': 4,\n",
       "   '63': 5,\n",
       "   '43': 2,\n",
       "   '41': 6,\n",
       "   '46A': 1,\n",
       "   '97': 2,\n",
       "   '21': 1,\n",
       "   '71': 1,\n",
       "   '48': 1,\n",
       "   '59': 2,\n",
       "   '67': 1},\n",
       "  '07_2016': {'45': 17,\n",
       "   '61': 7,\n",
       "   '23': 15,\n",
       "   '63': 1,\n",
       "   '43': 4,\n",
       "   '41': 6,\n",
       "   '0': 1,\n",
       "   '46B': 1,\n",
       "   '46A': 3,\n",
       "   '44': 3,\n",
       "   '24': 6,\n",
       "   '97': 2,\n",
       "   '15': 2,\n",
       "   '64': 1,\n",
       "   '52': 3,\n",
       "   '59': 2,\n",
       "   '80': 1},\n",
       "  '08_2016': {'45': 10,\n",
       "   '61': 3,\n",
       "   '23': 14,\n",
       "   '43': 3,\n",
       "   '41': 4,\n",
       "   '0': 2,\n",
       "   '46A': 4,\n",
       "   '21': 1,\n",
       "   '71': 1,\n",
       "   '48': 3,\n",
       "   '47A': 1,\n",
       "   '74': 1,\n",
       "   '84': 1,\n",
       "   '51 EN 53': 3,\n",
       "   '91': 1},\n",
       "  '09_2016': {'45': 4,\n",
       "   '61': 2,\n",
       "   '23': 1,\n",
       "   '63': 2,\n",
       "   '43': 1,\n",
       "   '0': 3,\n",
       "   '46B': 2,\n",
       "   '46A': 3,\n",
       "   '44': 3,\n",
       "   '24': 3,\n",
       "   '97': 2,\n",
       "   '48': 1,\n",
       "   '47A': 1,\n",
       "   '67': 1},\n",
       "  '10_2016': {'61': 4,\n",
       "   '23': 7,\n",
       "   '63': 4,\n",
       "   '43': 5,\n",
       "   '41': 3,\n",
       "   '0': 5,\n",
       "   '44': 1,\n",
       "   '24': 3,\n",
       "   '21': 4,\n",
       "   '48': 3,\n",
       "   '15': 1,\n",
       "   '62': 1,\n",
       "   '74': 1,\n",
       "   '88': 1,\n",
       "   '51 EN 53': 1,\n",
       "   '52': 1},\n",
       "  '11_2016': {'45': 12,\n",
       "   '61': 2,\n",
       "   '63': 1,\n",
       "   '43': 6,\n",
       "   '41': 5,\n",
       "   '0': 3,\n",
       "   '46B': 14,\n",
       "   '46A': 1,\n",
       "   '44': 2,\n",
       "   '47A': 1,\n",
       "   '86': 3,\n",
       "   '62': 2,\n",
       "   '74': 1,\n",
       "   '88': 2,\n",
       "   '59': 1},\n",
       "  '12_2016': {'45': 6,\n",
       "   '61': 6,\n",
       "   '63': 4,\n",
       "   '43': 2,\n",
       "   '41': 4,\n",
       "   '0': 3,\n",
       "   '46B': 1,\n",
       "   '46A': 1,\n",
       "   '24': 2,\n",
       "   '21': 1,\n",
       "   '25 EN 26': 2,\n",
       "   '13': 1},\n",
       "  '01_2017': {'45': 15,\n",
       "   '61': 14,\n",
       "   '63': 3,\n",
       "   '43': 2,\n",
       "   '0': 3,\n",
       "   '24': 1,\n",
       "   '71': 1,\n",
       "   '48': 3,\n",
       "   '62': 1,\n",
       "   '74': 1,\n",
       "   '59': 1,\n",
       "   '72': 1,\n",
       "   '73': 1,\n",
       "   '75': 2,\n",
       "   '47B': 2,\n",
       "   '11': 1},\n",
       "  '02_2017': {'45': 4,\n",
       "   '61': 8,\n",
       "   '63': 2,\n",
       "   '41': 3,\n",
       "   '0': 1,\n",
       "   '46B': 3,\n",
       "   '44': 1,\n",
       "   '48': 1,\n",
       "   '47A': 1,\n",
       "   '15': 1,\n",
       "   '30': 1,\n",
       "   '74': 1,\n",
       "   '88': 2},\n",
       "  '03_2017': {'45': 6,\n",
       "   '61': 6,\n",
       "   '63': 3,\n",
       "   '43': 5,\n",
       "   '41': 5,\n",
       "   '0': 4,\n",
       "   '86': 4,\n",
       "   '62': 1,\n",
       "   '64': 2,\n",
       "   '84': 2,\n",
       "   '88': 1,\n",
       "   '38': 1,\n",
       "   '39': 1},\n",
       "  '04_2017': {'45': 3,\n",
       "   '61': 7,\n",
       "   '23': 1,\n",
       "   '43': 3,\n",
       "   '41': 2,\n",
       "   '0': 1,\n",
       "   '46A': 1,\n",
       "   '24': 1,\n",
       "   '97': 1,\n",
       "   '21': 1,\n",
       "   '48': 1,\n",
       "   '15': 1,\n",
       "   '51 EN 53': 1,\n",
       "   '59': 1},\n",
       "  '05_2017': {'45': 6,\n",
       "   '61': 5,\n",
       "   '63': 3,\n",
       "   '43': 3,\n",
       "   '41': 4,\n",
       "   '0': 1,\n",
       "   '46A': 1,\n",
       "   '44': 1,\n",
       "   '24': 1,\n",
       "   '97': 2,\n",
       "   '21': 1,\n",
       "   '47A': 3,\n",
       "   '86': 4,\n",
       "   '72': 1},\n",
       "  '06_2017': {'45': 5,\n",
       "   '61': 3,\n",
       "   '63': 4,\n",
       "   '43': 4,\n",
       "   '41': 2,\n",
       "   '0': 3,\n",
       "   '46B': 1,\n",
       "   '46A': 4,\n",
       "   '47A': 1,\n",
       "   '86': 2,\n",
       "   '62': 1,\n",
       "   '64': 1,\n",
       "   '88': 1,\n",
       "   '37': 1,\n",
       "   '72': 1,\n",
       "   '42': 1,\n",
       "   '10': 1,\n",
       "   '96': 1},\n",
       "  '07_2017': {'45': 6,\n",
       "   '61': 3,\n",
       "   '63': 2,\n",
       "   '43': 3,\n",
       "   '41': 1,\n",
       "   '46B': 1,\n",
       "   '97': 2,\n",
       "   '21': 2,\n",
       "   '48': 2,\n",
       "   '47A': 2,\n",
       "   '86': 1,\n",
       "   '84': 1},\n",
       "  '08_2017': {'45': 4,\n",
       "   '61': 7,\n",
       "   '63': 10,\n",
       "   '43': 1,\n",
       "   '41': 4,\n",
       "   '0': 1,\n",
       "   '46B': 1,\n",
       "   '24': 1,\n",
       "   '97': 1,\n",
       "   '47A': 2,\n",
       "   '86': 1,\n",
       "   '88': 2,\n",
       "   '52': 2},\n",
       "  '09_2017': {'45': 8,\n",
       "   '61': 4,\n",
       "   '23': 89,\n",
       "   '63': 6,\n",
       "   '43': 4,\n",
       "   '41': 5,\n",
       "   '46B': 1,\n",
       "   '44': 5,\n",
       "   '24': 1,\n",
       "   '21': 1,\n",
       "   '48': 1,\n",
       "   '47A': 1,\n",
       "   '62': 1,\n",
       "   '64': 2,\n",
       "   '74': 1,\n",
       "   '84': 2,\n",
       "   '88': 1,\n",
       "   '51 EN 53': 2,\n",
       "   '25 EN 26': 2,\n",
       "   '72': 1,\n",
       "   '13': 1},\n",
       "  '10_2017': {'45': 8,\n",
       "   '61': 4,\n",
       "   '23': 1,\n",
       "   '63': 8,\n",
       "   '43': 2,\n",
       "   '41': 3,\n",
       "   '0': 1,\n",
       "   '24': 2,\n",
       "   '64': 1,\n",
       "   '37': 1},\n",
       "  '11_2017': {'45': 2,\n",
       "   '61': 5,\n",
       "   '23': 1,\n",
       "   '63': 3,\n",
       "   '43': 2,\n",
       "   '41': 2,\n",
       "   '0': 2,\n",
       "   '97': 1,\n",
       "   '21': 2,\n",
       "   '47A': 2,\n",
       "   '62': 1,\n",
       "   '64': 1,\n",
       "   '74': 2,\n",
       "   '84': 1,\n",
       "   '37': 1,\n",
       "   '42': 1,\n",
       "   '13': 1,\n",
       "   '47B': 1},\n",
       "  '12_2017': {'45': 7,\n",
       "   '61': 2,\n",
       "   '23': 1,\n",
       "   '63': 5,\n",
       "   '43': 1,\n",
       "   '0': 2,\n",
       "   '46B': 5,\n",
       "   '46A': 2,\n",
       "   '24': 1,\n",
       "   '21': 1,\n",
       "   '47A': 1,\n",
       "   '38': 2},\n",
       "  '01_2018': {'45': 3,\n",
       "   '61': 3,\n",
       "   '23': 1,\n",
       "   '63': 6,\n",
       "   '43': 2,\n",
       "   '41': 4,\n",
       "   '0': 1,\n",
       "   '21': 1,\n",
       "   '71': 1,\n",
       "   '47A': 1,\n",
       "   '86': 1,\n",
       "   '62': 2,\n",
       "   '88': 1,\n",
       "   '38': 3},\n",
       "  '02_2018': {'45': 4,\n",
       "   '61': 5,\n",
       "   '23': 7,\n",
       "   '63': 1,\n",
       "   '43': 2,\n",
       "   '41': 3,\n",
       "   '0': 6,\n",
       "   '46B': 1,\n",
       "   '46A': 4,\n",
       "   '71': 1,\n",
       "   '86': 2,\n",
       "   '62': 1,\n",
       "   '74': 3,\n",
       "   '38': 1,\n",
       "   '67': 2},\n",
       "  '03_2018': {'45': 4,\n",
       "   '61': 2,\n",
       "   '63': 1,\n",
       "   '43': 6,\n",
       "   '41': 1,\n",
       "   '0': 5,\n",
       "   '46A': 1,\n",
       "   '48': 1,\n",
       "   '62': 1,\n",
       "   '64': 1,\n",
       "   '74': 1,\n",
       "   '84': 1,\n",
       "   '51 EN 53': 1,\n",
       "   '38': 1},\n",
       "  '04_2018': {'45': 3,\n",
       "   '61': 4,\n",
       "   '23': 1,\n",
       "   '63': 4,\n",
       "   '43': 5,\n",
       "   '41': 2,\n",
       "   '0': 1,\n",
       "   '71': 1,\n",
       "   '64': 1,\n",
       "   '30': 1,\n",
       "   '51 EN 53': 1,\n",
       "   '38': 1,\n",
       "   '75': 1},\n",
       "  '05_2018': {'45': 8,\n",
       "   '61': 7,\n",
       "   '23': 1,\n",
       "   '63': 5,\n",
       "   '43': 4,\n",
       "   '41': 1,\n",
       "   '0': 1,\n",
       "   '46B': 2,\n",
       "   '46A': 4,\n",
       "   '44': 1,\n",
       "   '48': 2,\n",
       "   '64': 1,\n",
       "   '30': 1,\n",
       "   '74': 1,\n",
       "   '51 EN 53': 1,\n",
       "   '25 EN 26': 1,\n",
       "   '42': 1},\n",
       "  '06_2018': {'45': 11,\n",
       "   '61': 8,\n",
       "   '63': 4,\n",
       "   '43': 4,\n",
       "   '41': 2,\n",
       "   '0': 2,\n",
       "   '46B': 1,\n",
       "   '44': 4,\n",
       "   '24': 1,\n",
       "   '21': 1,\n",
       "   '71': 1,\n",
       "   '86': 2,\n",
       "   '15': 1,\n",
       "   '62': 1,\n",
       "   '74': 1,\n",
       "   '84': 1,\n",
       "   '38': 1,\n",
       "   '72': 1},\n",
       "  '07_2018': {'45': 4,\n",
       "   '61': 3,\n",
       "   '63': 9,\n",
       "   '43': 1,\n",
       "   '0': 1,\n",
       "   '44': 1,\n",
       "   '24': 1,\n",
       "   '97': 1,\n",
       "   '21': 1,\n",
       "   '71': 2,\n",
       "   '47A': 4,\n",
       "   '25 EN 26': 1,\n",
       "   '52': 3},\n",
       "  '08_2018': {'45': 9,\n",
       "   '61': 4,\n",
       "   '63': 3,\n",
       "   '41': 1,\n",
       "   '0': 3,\n",
       "   '46A': 1,\n",
       "   '44': 1,\n",
       "   '24': 2,\n",
       "   '97': 1,\n",
       "   '71': 1,\n",
       "   '86': 1,\n",
       "   '64': 2,\n",
       "   '30': 1,\n",
       "   '25 EN 26': 4,\n",
       "   '36': 2,\n",
       "   '37': 2},\n",
       "  '09_2018': {'45': 9,\n",
       "   '61': 3,\n",
       "   '63': 5,\n",
       "   '43': 10,\n",
       "   '41': 1,\n",
       "   '0': 1,\n",
       "   '46B': 3,\n",
       "   '46A': 2,\n",
       "   '44': 2,\n",
       "   '47A': 3,\n",
       "   '64': 1,\n",
       "   '88': 2,\n",
       "   '25 EN 26': 2,\n",
       "   '13': 1},\n",
       "  '10_2018': {'45': 6,\n",
       "   '61': 13,\n",
       "   '63': 3,\n",
       "   '43': 1,\n",
       "   '41': 1,\n",
       "   '46A': 1,\n",
       "   '84': 1,\n",
       "   '73': 1},\n",
       "  '11_2018': {'45': 3,\n",
       "   '61': 1,\n",
       "   '63': 2,\n",
       "   '43': 1,\n",
       "   '41': 4,\n",
       "   '46B': 1,\n",
       "   '46A': 1,\n",
       "   '24': 1,\n",
       "   '97': 1,\n",
       "   '15': 1,\n",
       "   '62': 1,\n",
       "   '84': 2,\n",
       "   '51 EN 53': 1,\n",
       "   '36': 1},\n",
       "  '12_2018': {'45': 2, '61': 2, '41': 2, '0': 3, '46B': 1, '52': 1, '42': 1},\n",
       "  '01_2019': {'45': 2,\n",
       "   '61': 3,\n",
       "   '63': 1,\n",
       "   '43': 1,\n",
       "   '41': 2,\n",
       "   '46B': 2,\n",
       "   '46A': 2,\n",
       "   '24': 1,\n",
       "   '15': 2,\n",
       "   '30': 1,\n",
       "   '84': 1,\n",
       "   '72': 1,\n",
       "   '73': 3},\n",
       "  '02_2019': {'61': 5,\n",
       "   '63': 5,\n",
       "   '43': 4,\n",
       "   '41': 3,\n",
       "   '0': 2,\n",
       "   '46A': 2,\n",
       "   '71': 1,\n",
       "   '48': 1,\n",
       "   '30': 1,\n",
       "   '51 EN 53': 1,\n",
       "   '25 EN 26': 2},\n",
       "  '03_2019': {'45': 5,\n",
       "   '61': 4,\n",
       "   '23': 2,\n",
       "   '63': 1,\n",
       "   '43': 1,\n",
       "   '0': 1,\n",
       "   '46B': 1,\n",
       "   '44': 2,\n",
       "   '30': 4,\n",
       "   '37': 1},\n",
       "  '04_2019': {'45': 4,\n",
       "   '61': 2,\n",
       "   '63': 1,\n",
       "   '41': 2,\n",
       "   '0': 1,\n",
       "   '46A': 1,\n",
       "   '44': 1,\n",
       "   '15': 1,\n",
       "   '64': 1,\n",
       "   '30': 1,\n",
       "   '36': 2,\n",
       "   '37': 1,\n",
       "   '67': 1},\n",
       "  '05_2019': {'45': 1,\n",
       "   '61': 5,\n",
       "   '63': 4,\n",
       "   '43': 1,\n",
       "   '41': 1,\n",
       "   '46B': 2,\n",
       "   '46A': 1,\n",
       "   '21': 1,\n",
       "   '62': 1,\n",
       "   '30': 2,\n",
       "   '91': 1},\n",
       "  '06_2019': {'45': 4,\n",
       "   '61': 3,\n",
       "   '63': 3,\n",
       "   '43': 2,\n",
       "   '0': 4,\n",
       "   '46B': 1,\n",
       "   '46A': 1,\n",
       "   '97': 2,\n",
       "   '84': 1,\n",
       "   '37': 1},\n",
       "  '07_2019': {'45': 7,\n",
       "   '61': 7,\n",
       "   '63': 1,\n",
       "   '43': 2,\n",
       "   '41': 1,\n",
       "   '46B': 2,\n",
       "   '21': 2,\n",
       "   '62': 1,\n",
       "   '51 EN 53': 1,\n",
       "   '37': 2},\n",
       "  '08_2019': {'45': 2,\n",
       "   '61': 3,\n",
       "   '63': 1,\n",
       "   '43': 2,\n",
       "   '41': 4,\n",
       "   '0': 1,\n",
       "   '46B': 2,\n",
       "   '46A': 2,\n",
       "   '24': 1,\n",
       "   '21': 1,\n",
       "   '48': 1,\n",
       "   '30': 1,\n",
       "   '84': 1,\n",
       "   '38': 1,\n",
       "   '36': 2},\n",
       "  '09_2019': {'45': 7,\n",
       "   '61': 1,\n",
       "   '41': 2,\n",
       "   '0': 1,\n",
       "   '46B': 12,\n",
       "   '48': 2,\n",
       "   '86': 1,\n",
       "   '84': 1,\n",
       "   '51 EN 53': 2},\n",
       "  '10_2019': {'45': 1,\n",
       "   '61': 11,\n",
       "   '63': 1,\n",
       "   '43': 1,\n",
       "   '41': 2,\n",
       "   '0': 1,\n",
       "   '46A': 1,\n",
       "   '21': 1,\n",
       "   '71': 3,\n",
       "   '48': 1,\n",
       "   '30': 4,\n",
       "   '38': 2,\n",
       "   '36': 1,\n",
       "   '39': 1,\n",
       "   '17': 1},\n",
       "  '11_2019': {'45': 6,\n",
       "   '61': 3,\n",
       "   '41': 1,\n",
       "   '46B': 1,\n",
       "   '24': 1,\n",
       "   '21': 1,\n",
       "   '71': 3,\n",
       "   '48': 1,\n",
       "   '47A': 1,\n",
       "   '38': 1,\n",
       "   '36': 1,\n",
       "   '42': 1},\n",
       "  '12_2019': {'45': 1,\n",
       "   '61': 2,\n",
       "   '43': 1,\n",
       "   '24': 1,\n",
       "   '64': 1,\n",
       "   '30': 1,\n",
       "   '73': 1,\n",
       "   '91': 1},\n",
       "  '01_2020': {'45': 3,\n",
       "   '63': 1,\n",
       "   '43': 1,\n",
       "   '46B': 3,\n",
       "   '46A': 1,\n",
       "   '71': 2,\n",
       "   '62': 2,\n",
       "   '30': 3,\n",
       "   '74': 1,\n",
       "   '39': 1},\n",
       "  '02_2020': {'45': 2,\n",
       "   '61': 2,\n",
       "   '0': 8,\n",
       "   '46B': 2,\n",
       "   '47A': 2,\n",
       "   '84': 1,\n",
       "   '38': 1,\n",
       "   '52': 1,\n",
       "   '73': 1,\n",
       "   '42': 1,\n",
       "   '80': 2,\n",
       "   '17': 1},\n",
       "  '03_2020': {'45': 2,\n",
       "   '61': 2,\n",
       "   '43': 2,\n",
       "   '41': 1,\n",
       "   '21': 1,\n",
       "   '71': 4,\n",
       "   '48': 2,\n",
       "   '74': 1,\n",
       "   '38': 1,\n",
       "   '39': 1,\n",
       "   '17': 1},\n",
       "  '04_2020': {'45': 2,\n",
       "   '61': 2,\n",
       "   '63': 1,\n",
       "   '43': 1,\n",
       "   '41': 1,\n",
       "   '0': 4,\n",
       "   '46B': 1,\n",
       "   '46A': 3,\n",
       "   '97': 1,\n",
       "   '71': 1,\n",
       "   '74': 1,\n",
       "   '88': 2,\n",
       "   '36': 1,\n",
       "   '17': 1,\n",
       "   '70': 1},\n",
       "  '05_2020': {'61': 4,\n",
       "   '63': 1,\n",
       "   '43': 2,\n",
       "   '0': 3,\n",
       "   '46A': 2,\n",
       "   '21': 2,\n",
       "   '62': 1,\n",
       "   '74': 1,\n",
       "   '51 EN 53': 2,\n",
       "   '36': 2},\n",
       "  '06_2020': {'45': 1,\n",
       "   '61': 5,\n",
       "   '23': 7,\n",
       "   '43': 1,\n",
       "   '41': 10,\n",
       "   '0': 2,\n",
       "   '46B': 3,\n",
       "   '46A': 2,\n",
       "   '24': 1,\n",
       "   '86': 1,\n",
       "   '15': 3,\n",
       "   '62': 1,\n",
       "   '74': 1,\n",
       "   '36': 4,\n",
       "   '52': 1,\n",
       "   '72': 1,\n",
       "   '73': 1,\n",
       "   '80': 1},\n",
       "  '07_2020': {'45': 2,\n",
       "   '61': 1,\n",
       "   '63': 3,\n",
       "   '43': 1,\n",
       "   '41': 9,\n",
       "   '0': 3,\n",
       "   '44': 2,\n",
       "   '62': 5,\n",
       "   '42': 1},\n",
       "  '08_2020': {'45': 4,\n",
       "   '61': 2,\n",
       "   '63': 1,\n",
       "   '43': 2,\n",
       "   '41': 1,\n",
       "   '46A': 3,\n",
       "   '48': 1,\n",
       "   '62': 4,\n",
       "   '30': 1,\n",
       "   '42': 1},\n",
       "  '09_2020': {'45': 3,\n",
       "   '61': 1,\n",
       "   '23': 4,\n",
       "   '63': 1,\n",
       "   '43': 3,\n",
       "   '0': 1,\n",
       "   '46B': 2,\n",
       "   '44': 3,\n",
       "   '21': 2,\n",
       "   '47A': 3,\n",
       "   '64': 1,\n",
       "   '74': 1,\n",
       "   '38': 1,\n",
       "   '17': 2},\n",
       "  '10_2020': {'45': 2,\n",
       "   '61': 1,\n",
       "   '23': 1,\n",
       "   '63': 4,\n",
       "   '43': 2,\n",
       "   '41': 2,\n",
       "   '46B': 2,\n",
       "   '46A': 1,\n",
       "   '24': 1,\n",
       "   '71': 3,\n",
       "   '48': 1,\n",
       "   '86': 4,\n",
       "   '62': 1,\n",
       "   '74': 2,\n",
       "   '51 EN 53': 2,\n",
       "   '25 EN 26': 2,\n",
       "   '42': 3,\n",
       "   '47B': 2},\n",
       "  '11_2020': {'45': 3,\n",
       "   '61': 3,\n",
       "   '23': 2,\n",
       "   '63': 1,\n",
       "   '43': 1,\n",
       "   '41': 2,\n",
       "   '46B': 3,\n",
       "   '71': 1,\n",
       "   '48': 1,\n",
       "   '47A': 1,\n",
       "   '47B': 2,\n",
       "   '60': 1},\n",
       "  '12_2020': {'45': 5,\n",
       "   '23': 3,\n",
       "   '43': 1,\n",
       "   '41': 1,\n",
       "   '0': 1,\n",
       "   '46B': 2,\n",
       "   '48': 1,\n",
       "   '15': 1,\n",
       "   '73': 1,\n",
       "   '91': 4,\n",
       "   '17': 2},\n",
       "  '01_2021': {'45': 3,\n",
       "   '61': 3,\n",
       "   '23': 2,\n",
       "   '43': 5,\n",
       "   '41': 1,\n",
       "   '0': 10,\n",
       "   '46B': 3,\n",
       "   '24': 3,\n",
       "   '71': 5,\n",
       "   '15': 2,\n",
       "   '88': 1,\n",
       "   '51 EN 53': 1,\n",
       "   '25 EN 26': 2,\n",
       "   '10': 1,\n",
       "   '28': 3},\n",
       "  '02_2021': {'45': 3,\n",
       "   '61': 7,\n",
       "   '23': 2,\n",
       "   '43': 1,\n",
       "   '41': 3,\n",
       "   '0': 13,\n",
       "   '46B': 5,\n",
       "   '46A': 1,\n",
       "   '71': 9,\n",
       "   '47A': 3,\n",
       "   '86': 1,\n",
       "   '15': 2,\n",
       "   '30': 1,\n",
       "   '84': 1,\n",
       "   '51 EN 53': 1,\n",
       "   '36': 1,\n",
       "   '10': 1,\n",
       "   '17': 2,\n",
       "   '16': 1},\n",
       "  '03_2021': {'45': 4,\n",
       "   '61': 2,\n",
       "   '23': 25,\n",
       "   '63': 1,\n",
       "   '43': 2,\n",
       "   '0': 2,\n",
       "   '21': 3,\n",
       "   '71': 3,\n",
       "   '86': 2,\n",
       "   '15': 1,\n",
       "   '62': 1,\n",
       "   '30': 2,\n",
       "   '51 EN 53': 1,\n",
       "   '38': 1,\n",
       "   '36': 1,\n",
       "   '91': 1,\n",
       "   '17': 2,\n",
       "   '20': 1}},\n",
       " {'01_2016': {'61': 3,\n",
       "   '43': 2,\n",
       "   '45': 3,\n",
       "   '41': 3,\n",
       "   '23': 1,\n",
       "   '46B': 1,\n",
       "   '44': 1,\n",
       "   '74': 2,\n",
       "   '21': 1,\n",
       "   '15': 2,\n",
       "   '36': 2,\n",
       "   '67': 1,\n",
       "   '92': 1},\n",
       "  '02_2016': {'61': 2,\n",
       "   '45': 2,\n",
       "   '41': 4,\n",
       "   '63': 2,\n",
       "   '23': 13,\n",
       "   '44': 7,\n",
       "   '71': 5,\n",
       "   '15': 1,\n",
       "   '75': 1},\n",
       "  '03_2016': {'61': 4,\n",
       "   '43': 7,\n",
       "   '45': 3,\n",
       "   '41': 1,\n",
       "   '63': 1,\n",
       "   '24': 2,\n",
       "   '46A': 1,\n",
       "   '71': 1,\n",
       "   '86': 1,\n",
       "   '67': 1,\n",
       "   '64': 1,\n",
       "   '80': 1},\n",
       "  '04_2016': {'61': 2,\n",
       "   '43': 12,\n",
       "   '45': 3,\n",
       "   '41': 1,\n",
       "   '63': 1,\n",
       "   '46B': 1,\n",
       "   '24': 2,\n",
       "   '44': 1,\n",
       "   '74': 1,\n",
       "   '15': 1,\n",
       "   '84': 1,\n",
       "   '36': 1},\n",
       "  '05_2016': {'61': 17,\n",
       "   '43': 6,\n",
       "   '45': 5,\n",
       "   '41': 2,\n",
       "   '24': 1,\n",
       "   '46A': 1,\n",
       "   '44': 1,\n",
       "   '71': 1,\n",
       "   '86': 1,\n",
       "   '88': 2,\n",
       "   '62': 2,\n",
       "   '59': 1},\n",
       "  '06_2016': {'61': 4,\n",
       "   '43': 1,\n",
       "   '45': 7,\n",
       "   '41': 5,\n",
       "   '63': 1,\n",
       "   '23': 4,\n",
       "   '46A': 1,\n",
       "   '71': 1,\n",
       "   '48': 1,\n",
       "   '67': 1,\n",
       "   '59': 2},\n",
       "  '07_2016': {'61': 4,\n",
       "   '43': 3,\n",
       "   '45': 2,\n",
       "   '41': 5,\n",
       "   '23': 11,\n",
       "   '24': 6,\n",
       "   '46A': 2,\n",
       "   '44': 2,\n",
       "   '15': 2,\n",
       "   '52': 2,\n",
       "   '80': 1},\n",
       "  '08_2016': {'61': 3,\n",
       "   '43': 3,\n",
       "   '45': 3,\n",
       "   '41': 1,\n",
       "   '23': 14,\n",
       "   '46A': 3,\n",
       "   '71': 1,\n",
       "   '74': 1,\n",
       "   '47A': 1,\n",
       "   '21': 1,\n",
       "   '84': 1,\n",
       "   '51 EN 53': 3,\n",
       "   '48': 2,\n",
       "   '91': 1},\n",
       "  '09_2016': {'61': 2,\n",
       "   '43': 1,\n",
       "   '63': 1,\n",
       "   '23': 1,\n",
       "   '46B': 2,\n",
       "   '24': 3,\n",
       "   '46A': 2,\n",
       "   '44': 1,\n",
       "   '47A': 1,\n",
       "   '67': 1},\n",
       "  '10_2016': {'61': 2,\n",
       "   '43': 5,\n",
       "   '41': 3,\n",
       "   '63': 1,\n",
       "   '24': 3,\n",
       "   '74': 1,\n",
       "   '88': 1,\n",
       "   '21': 4,\n",
       "   '15': 1},\n",
       "  '11_2016': {'43': 6,\n",
       "   '45': 4,\n",
       "   '41': 2,\n",
       "   '46B': 14,\n",
       "   '46A': 1,\n",
       "   '44': 2,\n",
       "   '74': 1,\n",
       "   '86': 3,\n",
       "   '47A': 1,\n",
       "   '88': 2,\n",
       "   '62': 1},\n",
       "  '12_2016': {'61': 1, '43': 2, '45': 2, '41': 1, '63': 1, '24': 2, '13': 1},\n",
       "  '01_2017': {'61': 11,\n",
       "   '43': 2,\n",
       "   '45': 10,\n",
       "   '24': 1,\n",
       "   '71': 1,\n",
       "   '74': 1,\n",
       "   '62': 1,\n",
       "   '73': 1,\n",
       "   '72': 1,\n",
       "   '75': 1,\n",
       "   '47B': 1},\n",
       "  '02_2017': {'61': 5,\n",
       "   '45': 3,\n",
       "   '41': 3,\n",
       "   '63': 1,\n",
       "   '46B': 3,\n",
       "   '44': 1,\n",
       "   '74': 1,\n",
       "   '88': 2,\n",
       "   '15': 1,\n",
       "   '30': 1,\n",
       "   '48': 1},\n",
       "  '03_2017': {'61': 1,\n",
       "   '43': 5,\n",
       "   '45': 2,\n",
       "   '41': 2,\n",
       "   '86': 2,\n",
       "   '88': 1,\n",
       "   '62': 1,\n",
       "   '84': 1,\n",
       "   '64': 2},\n",
       "  '04_2017': {'61': 3,\n",
       "   '43': 3,\n",
       "   '41': 1,\n",
       "   '23': 1,\n",
       "   '46A': 1,\n",
       "   '15': 1,\n",
       "   '51 EN 53': 1,\n",
       "   '59': 1},\n",
       "  '05_2017': {'61': 4,\n",
       "   '43': 3,\n",
       "   '45': 3,\n",
       "   '41': 3,\n",
       "   '24': 1,\n",
       "   '46A': 1,\n",
       "   '44': 1,\n",
       "   '86': 2,\n",
       "   '47A': 2},\n",
       "  '06_2017': {'61': 2,\n",
       "   '43': 3,\n",
       "   '45': 4,\n",
       "   '41': 2,\n",
       "   '63': 1,\n",
       "   '46B': 1,\n",
       "   '46A': 3,\n",
       "   '86': 1,\n",
       "   '47A': 1,\n",
       "   '88': 1,\n",
       "   '62': 1,\n",
       "   '37': 1,\n",
       "   '42': 1},\n",
       "  '07_2017': {'61': 2,\n",
       "   '43': 3,\n",
       "   '41': 1,\n",
       "   '63': 2,\n",
       "   '46B': 1,\n",
       "   '86': 1,\n",
       "   '47A': 1,\n",
       "   '21': 2,\n",
       "   '84': 1,\n",
       "   '48': 1},\n",
       "  '08_2017': {'61': 5,\n",
       "   '43': 1,\n",
       "   '41': 2,\n",
       "   '63': 2,\n",
       "   '46B': 1,\n",
       "   '24': 1,\n",
       "   '86': 1,\n",
       "   '47A': 1,\n",
       "   '88': 2,\n",
       "   '52': 2},\n",
       "  '09_2017': {'43': 3,\n",
       "   '45': 3,\n",
       "   '41': 4,\n",
       "   '63': 2,\n",
       "   '23': 3,\n",
       "   '46B': 1,\n",
       "   '24': 1,\n",
       "   '44': 3,\n",
       "   '74': 1,\n",
       "   '47A': 1,\n",
       "   '88': 1,\n",
       "   '21': 1,\n",
       "   '62': 1,\n",
       "   '84': 1,\n",
       "   '51 EN 53': 2,\n",
       "   '25 EN 26': 2,\n",
       "   '64': 1,\n",
       "   '72': 1,\n",
       "   '13': 1},\n",
       "  '10_2017': {'61': 1, '43': 2, '45': 1, '41': 1, '63': 6, '24': 1, '37': 1},\n",
       "  '11_2017': {'61': 2,\n",
       "   '43': 1,\n",
       "   '45': 2,\n",
       "   '41': 1,\n",
       "   '63': 1,\n",
       "   '74': 2,\n",
       "   '47A': 1,\n",
       "   '21': 2,\n",
       "   '62': 1,\n",
       "   '84': 1,\n",
       "   '37': 1,\n",
       "   '42': 1},\n",
       "  '12_2017': {'61': 1,\n",
       "   '43': 1,\n",
       "   '45': 2,\n",
       "   '63': 2,\n",
       "   '46B': 2,\n",
       "   '24': 1,\n",
       "   '47A': 1,\n",
       "   '21': 1,\n",
       "   '38': 1},\n",
       "  '01_2018': {'61': 3,\n",
       "   '43': 2,\n",
       "   '45': 1,\n",
       "   '41': 1,\n",
       "   '63': 4,\n",
       "   '23': 1,\n",
       "   '71': 1,\n",
       "   '86': 1,\n",
       "   '47A': 1,\n",
       "   '88': 1,\n",
       "   '21': 1,\n",
       "   '62': 1,\n",
       "   '38': 2},\n",
       "  '02_2018': {'43': 2,\n",
       "   '45': 1,\n",
       "   '41': 2,\n",
       "   '63': 1,\n",
       "   '23': 7,\n",
       "   '46B': 1,\n",
       "   '46A': 3,\n",
       "   '71': 1,\n",
       "   '74': 3,\n",
       "   '62': 1,\n",
       "   '38': 1,\n",
       "   '67': 2},\n",
       "  '03_2018': {'61': 1,\n",
       "   '43': 6,\n",
       "   '45': 1,\n",
       "   '41': 1,\n",
       "   '63': 1,\n",
       "   '74': 1,\n",
       "   '62': 1,\n",
       "   '84': 1,\n",
       "   '51 EN 53': 1,\n",
       "   '48': 1},\n",
       "  '04_2018': {'61': 4, '43': 2, '41': 2, '63': 4, '71': 1, '64': 1, '75': 1},\n",
       "  '05_2018': {'61': 2,\n",
       "   '43': 3,\n",
       "   '45': 3,\n",
       "   '41': 1,\n",
       "   '63': 5,\n",
       "   '46B': 2,\n",
       "   '46A': 2,\n",
       "   '44': 1,\n",
       "   '74': 1,\n",
       "   '51 EN 53': 1,\n",
       "   '48': 2,\n",
       "   '25 EN 26': 1,\n",
       "   '42': 1},\n",
       "  '06_2018': {'61': 4,\n",
       "   '43': 4,\n",
       "   '45': 1,\n",
       "   '41': 1,\n",
       "   '63': 3,\n",
       "   '46B': 1,\n",
       "   '24': 1,\n",
       "   '44': 2,\n",
       "   '71': 1,\n",
       "   '74': 1,\n",
       "   '86': 2,\n",
       "   '15': 1,\n",
       "   '84': 1,\n",
       "   '72': 1},\n",
       "  '07_2018': {'61': 1,\n",
       "   '43': 1,\n",
       "   '45': 4,\n",
       "   '63': 1,\n",
       "   '24': 1,\n",
       "   '44': 1,\n",
       "   '71': 2,\n",
       "   '47A': 4,\n",
       "   '21': 1,\n",
       "   '52': 3,\n",
       "   '0': 1},\n",
       "  '08_2018': {'61': 2,\n",
       "   '45': 3,\n",
       "   '41': 1,\n",
       "   '24': 1,\n",
       "   '46A': 1,\n",
       "   '44': 1,\n",
       "   '71': 1,\n",
       "   '86': 1,\n",
       "   '30': 1,\n",
       "   '36': 1,\n",
       "   '37': 1,\n",
       "   '25 EN 26': 2},\n",
       "  '09_2018': {'61': 1,\n",
       "   '43': 6,\n",
       "   '45': 2,\n",
       "   '63': 2,\n",
       "   '46B': 2,\n",
       "   '46A': 2,\n",
       "   '44': 1,\n",
       "   '88': 2,\n",
       "   '25 EN 26': 1},\n",
       "  '10_2018': {'61': 4, '45': 1, '41': 1, '63': 3, '84': 1, '73': 1},\n",
       "  '11_2018': {'61': 1,\n",
       "   '45': 1,\n",
       "   '41': 1,\n",
       "   '63': 1,\n",
       "   '46B': 1,\n",
       "   '24': 1,\n",
       "   '46A': 1,\n",
       "   '15': 1,\n",
       "   '62': 1,\n",
       "   '84': 1,\n",
       "   '51 EN 53': 1,\n",
       "   '36': 1,\n",
       "   '97': 1},\n",
       "  '12_2018': {'45': 1, '41': 2, '46B': 1, '52': 1},\n",
       "  '01_2019': {'61': 3,\n",
       "   '43': 1,\n",
       "   '45': 1,\n",
       "   '41': 2,\n",
       "   '63': 1,\n",
       "   '46B': 1,\n",
       "   '24': 1,\n",
       "   '46A': 1,\n",
       "   '15': 2,\n",
       "   '84': 1,\n",
       "   '73': 3},\n",
       "  '02_2019': {'61': 5,\n",
       "   '43': 1,\n",
       "   '41': 2,\n",
       "   '63': 3,\n",
       "   '71': 1,\n",
       "   '51 EN 53': 1,\n",
       "   '48': 1,\n",
       "   '25 EN 26': 1},\n",
       "  '03_2019': {'61': 2, '43': 1, '45': 3, '46B': 1, '30': 3, '37': 1},\n",
       "  '04_2019': {'61': 1,\n",
       "   '45': 1,\n",
       "   '41': 2,\n",
       "   '63': 1,\n",
       "   '46A': 1,\n",
       "   '44': 1,\n",
       "   '15': 1,\n",
       "   '30': 1,\n",
       "   '36': 2,\n",
       "   '37': 1,\n",
       "   '67': 1},\n",
       "  '05_2019': {'61': 3,\n",
       "   '43': 1,\n",
       "   '41': 1,\n",
       "   '63': 3,\n",
       "   '46B': 2,\n",
       "   '46A': 1,\n",
       "   '62': 1,\n",
       "   '30': 2},\n",
       "  '06_2019': {'61': 2, '43': 2, '45': 2, '63': 3, '46B': 1, '46A': 1, '37': 1},\n",
       "  '07_2019': {'61': 4,\n",
       "   '43': 2,\n",
       "   '45': 2,\n",
       "   '41': 1,\n",
       "   '46B': 2,\n",
       "   '62': 1,\n",
       "   '51 EN 53': 1,\n",
       "   '37': 1},\n",
       "  '08_2019': {'61': 2,\n",
       "   '43': 1,\n",
       "   '41': 3,\n",
       "   '63': 1,\n",
       "   '46B': 2,\n",
       "   '24': 1,\n",
       "   '46A': 1,\n",
       "   '30': 1,\n",
       "   '84': 1,\n",
       "   '36': 2,\n",
       "   '38': 1},\n",
       "  '09_2019': {'45': 1, '41': 2, '46B': 10, '86': 1, '84': 1, '51 EN 53': 1},\n",
       "  '10_2019': {'61': 3,\n",
       "   '43': 1,\n",
       "   '45': 1,\n",
       "   '63': 1,\n",
       "   '46A': 1,\n",
       "   '71': 3,\n",
       "   '30': 4,\n",
       "   '36': 1,\n",
       "   '38': 2,\n",
       "   '17': 1},\n",
       "  '11_2019': {'45': 2,\n",
       "   '46B': 1,\n",
       "   '24': 1,\n",
       "   '71': 3,\n",
       "   '47A': 1,\n",
       "   '21': 1,\n",
       "   '36': 1,\n",
       "   '48': 1,\n",
       "   '38': 1,\n",
       "   '42': 1},\n",
       "  '12_2019': {'61': 1, '43': 1, '24': 1, '30': 1, '64': 1, '73': 1, '91': 1},\n",
       "  '01_2020': {'43': 1, '45': 1, '63': 1, '71': 2, '74': 1, '30': 3, '39': 1},\n",
       "  '02_2020': {'61': 1, '46B': 2, '47A': 2, '84': 1, '52': 1, '73': 1, '17': 1},\n",
       "  '03_2020': {'61': 1,\n",
       "   '43': 2,\n",
       "   '41': 1,\n",
       "   '71': 4,\n",
       "   '74': 1,\n",
       "   '48': 1,\n",
       "   '38': 1,\n",
       "   '17': 1},\n",
       "  '04_2020': {'61': 1,\n",
       "   '43': 1,\n",
       "   '45': 2,\n",
       "   '41': 1,\n",
       "   '46B': 1,\n",
       "   '46A': 2,\n",
       "   '71': 1,\n",
       "   '74': 1,\n",
       "   '88': 2,\n",
       "   '36': 1,\n",
       "   '97': 1,\n",
       "   '17': 1,\n",
       "   '70': 1},\n",
       "  '05_2020': {'61': 2, '46A': 2, '74': 1, '21': 2, '62': 1, '36': 1},\n",
       "  '06_2020': {'61': 1,\n",
       "   '45': 1,\n",
       "   '41': 3,\n",
       "   '23': 6,\n",
       "   '46B': 3,\n",
       "   '24': 1,\n",
       "   '46A': 2,\n",
       "   '74': 1,\n",
       "   '86': 1,\n",
       "   '15': 3,\n",
       "   '62': 1,\n",
       "   '36': 4},\n",
       "  '07_2020': {'43': 1, '45': 1, '41': 8, '63': 2, '62': 3, '42': 1},\n",
       "  '08_2020': {'61': 2, '43': 2, '45': 1, '46A': 3, '62': 2, '48': 1, '42': 1},\n",
       "  '09_2020': {'61': 1,\n",
       "   '43': 3,\n",
       "   '23': 3,\n",
       "   '46B': 2,\n",
       "   '44': 2,\n",
       "   '74': 1,\n",
       "   '47A': 2,\n",
       "   '17': 2},\n",
       "  '10_2020': {'61': 1,\n",
       "   '41': 1,\n",
       "   '63': 1,\n",
       "   '23': 1,\n",
       "   '46A': 1,\n",
       "   '71': 3,\n",
       "   '74': 1,\n",
       "   '51 EN 53': 2,\n",
       "   '25 EN 26': 2,\n",
       "   '42': 1,\n",
       "   '47B': 1},\n",
       "  '11_2020': {'61': 1,\n",
       "   '43': 1,\n",
       "   '63': 1,\n",
       "   '23': 2,\n",
       "   '46B': 1,\n",
       "   '71': 1,\n",
       "   '47A': 1,\n",
       "   '60': 1},\n",
       "  '12_2020': {'43': 1,\n",
       "   '45': 2,\n",
       "   '41': 1,\n",
       "   '23': 2,\n",
       "   '46B': 2,\n",
       "   '73': 1,\n",
       "   '91': 4,\n",
       "   '17': 2},\n",
       "  '01_2021': {'61': 2,\n",
       "   '43': 3,\n",
       "   '45': 3,\n",
       "   '23': 2,\n",
       "   '46B': 3,\n",
       "   '71': 4,\n",
       "   '88': 1,\n",
       "   '15': 2,\n",
       "   '25 EN 26': 2,\n",
       "   '0': 2,\n",
       "   '28': 1},\n",
       "  '02_2021': {'61': 5,\n",
       "   '43': 1,\n",
       "   '45': 2,\n",
       "   '41': 3,\n",
       "   '23': 2,\n",
       "   '71': 7,\n",
       "   '86': 1,\n",
       "   '47A': 3,\n",
       "   '15': 1,\n",
       "   '30': 1,\n",
       "   '84': 1,\n",
       "   '51 EN 53': 1,\n",
       "   '0': 2,\n",
       "   '17': 2},\n",
       "  '03_2021': {'43': 2,\n",
       "   '23': 25,\n",
       "   '71': 3,\n",
       "   '86': 2,\n",
       "   '21': 1,\n",
       "   '15': 1,\n",
       "   '62': 1,\n",
       "   '30': 2,\n",
       "   '36': 1,\n",
       "   '38': 1,\n",
       "   '17': 2}},\n",
       " {'probleem': {'Q4_2018': {'P01': 12,\n",
       "    'P02': 8,\n",
       "    'P03': 6,\n",
       "    'P04': 5,\n",
       "    'P05': 5,\n",
       "    'P06': 2,\n",
       "    'P08': 2,\n",
       "    'P10': 4,\n",
       "    'P11': 16,\n",
       "    'Leeg': 20},\n",
       "   'Q1_2019': {'P01': 9,\n",
       "    'P02': 8,\n",
       "    'P03': 2,\n",
       "    'P04': 13,\n",
       "    'P05': 3,\n",
       "    'P06': 3,\n",
       "    'P07': 2,\n",
       "    'P08': 2,\n",
       "    'P09': 1,\n",
       "    'P10': 1,\n",
       "    'P11': 21,\n",
       "    'Leeg': 6},\n",
       "   'Q2_2019': {'P01': 11,\n",
       "    'P02': 4,\n",
       "    'P03': 5,\n",
       "    'P04': 12,\n",
       "    'P05': 6,\n",
       "    'P06': 1,\n",
       "    'P07': 2,\n",
       "    'P08': 1,\n",
       "    'P10': 2,\n",
       "    'P11': 6,\n",
       "    'Leeg': 11},\n",
       "   'Q3_2019': {'P01': 11,\n",
       "    'P02': 7,\n",
       "    'P03': 11,\n",
       "    'P04': 17,\n",
       "    'P05': 5,\n",
       "    'P06': 4,\n",
       "    'P08': 1,\n",
       "    'P10': 2,\n",
       "    'P11': 9,\n",
       "    'Leeg': 13},\n",
       "   'Q4_2019': {'P01': 12,\n",
       "    'P02': 3,\n",
       "    'P03': 4,\n",
       "    'P04': 9,\n",
       "    'P05': 3,\n",
       "    'P06': 2,\n",
       "    'P10': 1,\n",
       "    'P11': 14,\n",
       "    'Leeg': 14},\n",
       "   'Q1_2020': {'P01': 5,\n",
       "    'P02': 2,\n",
       "    'P03': 4,\n",
       "    'P04': 6,\n",
       "    'P05': 1,\n",
       "    'P06': 3,\n",
       "    'P10': 3,\n",
       "    'P11': 26,\n",
       "    'Leeg': 10},\n",
       "   'Q2_2020': {'P01': 14,\n",
       "    'P02': 11,\n",
       "    'P03': 1,\n",
       "    'P04': 12,\n",
       "    'P05': 2,\n",
       "    'P06': 2,\n",
       "    'P07': 1,\n",
       "    'P08': 1,\n",
       "    'P10': 1,\n",
       "    'P11': 26,\n",
       "    'Leeg': 18},\n",
       "   'Q3_2020': {'P01': 15,\n",
       "    'P02': 3,\n",
       "    'P03': 3,\n",
       "    'P04': 13,\n",
       "    'P05': 3,\n",
       "    'P06': 7,\n",
       "    'P07': 3,\n",
       "    'P11': 22,\n",
       "    'Leeg': 6},\n",
       "   'Q4_2020': {'P01': 2,\n",
       "    'P02': 2,\n",
       "    'P03': 7,\n",
       "    'P04': 15,\n",
       "    'P08': 1,\n",
       "    'P09': 2,\n",
       "    'P11': 29,\n",
       "    'Leeg': 21},\n",
       "   'Q1_2021': {'P01': 16,\n",
       "    'P02': 6,\n",
       "    'P03': 1,\n",
       "    'P04': 16,\n",
       "    'P05': 5,\n",
       "    'P06': 1,\n",
       "    'P07': 1,\n",
       "    'P08': 2,\n",
       "    'P10': 3,\n",
       "    'P11': 64,\n",
       "    'Leeg': 43},\n",
       "   'Q2_2021': {'P01': 11,\n",
       "    'P08': 11,\n",
       "    'P05': 10,\n",
       "    'P09': 10,\n",
       "    'P11': 9,\n",
       "    'P06': 9,\n",
       "    'P02': 9,\n",
       "    'P10': 7,\n",
       "    'P04': 6,\n",
       "    'P03': 5,\n",
       "    'P07': 4,\n",
       "    'Leeg': 8}},\n",
       "  'oorzaak': {'Q4_2018': {'C01': 2,\n",
       "    'C02': 2,\n",
       "    'C05': 2,\n",
       "    'C08': 11,\n",
       "    'C11': 9,\n",
       "    'C13': 32,\n",
       "    'C14': 2,\n",
       "    'Leeg': 20},\n",
       "   'Q1_2019': {'C02': 4,\n",
       "    'C03': 1,\n",
       "    'C05': 2,\n",
       "    'C08': 6,\n",
       "    'C09': 2,\n",
       "    'C10': 4,\n",
       "    'C11': 5,\n",
       "    'C12': 1,\n",
       "    'C13': 32,\n",
       "    'C14': 6,\n",
       "    'Leeg': 8},\n",
       "   'Q2_2019': {'C05': 2,\n",
       "    'C06': 1,\n",
       "    'C08': 8,\n",
       "    'C09': 1,\n",
       "    'C10': 1,\n",
       "    'C11': 9,\n",
       "    'C13': 25,\n",
       "    'C14': 3,\n",
       "    'Leeg': 11},\n",
       "   'Q3_2019': {'C01': 1,\n",
       "    'C02': 2,\n",
       "    'C05': 2,\n",
       "    'C06': 3,\n",
       "    'C08': 9,\n",
       "    'C09': 1,\n",
       "    'C10': 2,\n",
       "    'C11': 3,\n",
       "    'C13': 35,\n",
       "    'C14': 2,\n",
       "    'C16': 6,\n",
       "    'Leeg': 14},\n",
       "   'Q4_2019': {'C01': 1,\n",
       "    'C02': 2,\n",
       "    'C06': 3,\n",
       "    'C08': 4,\n",
       "    'C10': 5,\n",
       "    'C11': 2,\n",
       "    'C13': 25,\n",
       "    'C15': 1,\n",
       "    'C16': 4,\n",
       "    'Leeg': 15},\n",
       "   'Q1_2020': {'C03': 1,\n",
       "    'C08': 1,\n",
       "    'C09': 2,\n",
       "    'C10': 4,\n",
       "    'C11': 3,\n",
       "    'C13': 25,\n",
       "    'C14': 2,\n",
       "    'C16': 8,\n",
       "    'Leeg': 14},\n",
       "   'Q2_2020': {'C02': 1,\n",
       "    'C05': 1,\n",
       "    'C06': 2,\n",
       "    'C08': 10,\n",
       "    'C10': 2,\n",
       "    'C11': 3,\n",
       "    'C13': 46,\n",
       "    'C14': 1,\n",
       "    'C15': 2,\n",
       "    'C16': 3,\n",
       "    'Leeg': 18},\n",
       "   'Q3_2020': {'C02': 1,\n",
       "    'C05': 1,\n",
       "    'C06': 11,\n",
       "    'C08': 5,\n",
       "    'C10': 2,\n",
       "    'C11': 1,\n",
       "    'C13': 40,\n",
       "    'C16': 5,\n",
       "    'Leeg': 6},\n",
       "   'Q4_2020': {'C02': 2,\n",
       "    'C03': 1,\n",
       "    'C05': 2,\n",
       "    'C06': 6,\n",
       "    'C08': 11,\n",
       "    'C11': 6,\n",
       "    'C13': 20,\n",
       "    'C14': 1,\n",
       "    'C16': 8,\n",
       "    'Leeg': 22},\n",
       "   'Q1_2021': {'C06': 15,\n",
       "    'C07': 2,\n",
       "    'C08': 34,\n",
       "    'C09': 1,\n",
       "    'C10': 18,\n",
       "    'C11': 1,\n",
       "    'C12': 2,\n",
       "    'C13': 29,\n",
       "    'C14': 3,\n",
       "    'C16': 1,\n",
       "    'Leeg': 52},\n",
       "   'Q2_2021': {'C08': 9,\n",
       "    'C11': 9,\n",
       "    'C16': 8,\n",
       "    'C14': 7,\n",
       "    'C10': 7,\n",
       "    'C04': 7,\n",
       "    'C06': 6,\n",
       "    'C07': 5,\n",
       "    'C02': 5,\n",
       "    'C05': 5,\n",
       "    'C15': 5,\n",
       "    'C13': 4,\n",
       "    'C03': 4,\n",
       "    'C09': 4,\n",
       "    'C12': 4,\n",
       "    'C01': 2,\n",
       "    'Leeg': 8}},\n",
       "  'oplossing': {'Q4_2018': {'S01': 1,\n",
       "    'S02': 27,\n",
       "    'S03': 12,\n",
       "    'S04': 1,\n",
       "    'S08': 19,\n",
       "    'Leeg': 20},\n",
       "   'Q1_2019': {'S01': 5,\n",
       "    'S02': 17,\n",
       "    'S03': 16,\n",
       "    'S04': 3,\n",
       "    'S06': 2,\n",
       "    'S07': 1,\n",
       "    'S08': 19,\n",
       "    'Leeg': 8},\n",
       "   'Q2_2019': {'S01': 1,\n",
       "    'S02': 18,\n",
       "    'S03': 16,\n",
       "    'S04': 3,\n",
       "    'S08': 12,\n",
       "    'Leeg': 11},\n",
       "   'Q3_2019': {'S02': 38,\n",
       "    'S03': 11,\n",
       "    'S04': 1,\n",
       "    'S06': 5,\n",
       "    'S07': 1,\n",
       "    'S08': 10,\n",
       "    'Leeg': 14},\n",
       "   'Q4_2019': {'S02': 14, 'S03': 17, 'S04': 1, 'S08': 15, 'Leeg': 15},\n",
       "   'Q1_2020': {'S02': 18, 'S03': 14, 'S04': 1, 'S08': 13, 'Leeg': 14},\n",
       "   'Q2_2020': {'S02': 27,\n",
       "    'S03': 22,\n",
       "    'S04': 4,\n",
       "    'S05': 2,\n",
       "    'S08': 16,\n",
       "    'Leeg': 18},\n",
       "   'Q3_2020': {'S02': 20, 'S03': 22, 'S04': 3, 'S06': 1, 'S08': 20, 'Leeg': 6},\n",
       "   'Q4_2020': {'S02': 26, 'S03': 17, 'S06': 2, 'S08': 12, 'Leeg': 22},\n",
       "   'Q1_2021': {'S01': 3,\n",
       "    'S02': 39,\n",
       "    'S03': 26,\n",
       "    'S04': 7,\n",
       "    'S06': 1,\n",
       "    'S08': 30,\n",
       "    'Leeg': 52},\n",
       "   'Q2_2021': {'S05': 15,\n",
       "    'S01': 13,\n",
       "    'S08': 12,\n",
       "    'S06': 11,\n",
       "    'S03': 11,\n",
       "    'S04': 10,\n",
       "    'S07': 10,\n",
       "    'S02': 8,\n",
       "    'Leeg': 9}}})"
      ]
     },
     "execution_count": 55,
     "metadata": {},
     "output_type": "execute_result"
    }
   ],
   "source": [
    "updated_meta_meldingen, updated_meta_storingen, poo_from_meta"
   ]
  },
  {
   "cell_type": "code",
   "execution_count": 56,
   "metadata": {},
   "outputs": [],
   "source": [
    "sa.export_graphs(filename='THIS IS THE TEST EXPORT OF THE REAL DEAL.pdf')"
   ]
  }
 ],
 "metadata": {
  "kernelspec": {
   "display_name": "Python 3",
   "language": "python",
   "name": "python3"
  },
  "language_info": {
   "codemirror_mode": {
    "name": "ipython",
    "version": 3
   },
   "file_extension": ".py",
   "mimetype": "text/x-python",
   "name": "python",
   "nbconvert_exporter": "python",
   "pygments_lexer": "ipython3",
   "version": "3.8.3"
  },
  "toc": {
   "base_numbering": 1,
   "nav_menu": {},
   "number_sections": true,
   "sideBar": true,
   "skip_h1_title": false,
   "title_cell": "Table of Contents",
   "title_sidebar": "Contents",
   "toc_cell": false,
   "toc_position": {
    "height": "calc(100% - 180px)",
    "left": "10px",
    "top": "150px",
    "width": "222px"
   },
   "toc_section_display": true,
   "toc_window_display": true
  }
 },
 "nbformat": 4,
 "nbformat_minor": 4
}
