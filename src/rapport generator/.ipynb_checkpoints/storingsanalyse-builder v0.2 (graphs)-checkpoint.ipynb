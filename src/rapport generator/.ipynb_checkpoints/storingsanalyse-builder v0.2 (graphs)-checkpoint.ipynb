{
 "cells": [
  {
   "cell_type": "markdown",
   "metadata": {},
   "source": [
    "![INF_AM_LOGO.jpg](data:image/jpeg;base64,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)"
   ]
  },
  {
   "cell_type": "markdown",
   "metadata": {},
   "source": [
    "Deze notebook word gebruikt voor het opbouwen an de verschillende grafieken die geëxporteerd moeten worden als PDF om deze bij te voegen als bijlage aan de storingsanalse."
   ]
  },
  {
   "cell_type": "markdown",
   "metadata": {},
   "source": [
    "# Importeren van de benodigdheden"
   ]
  },
  {
   "cell_type": "markdown",
   "metadata": {},
   "source": [
    "## Python packages "
   ]
  },
  {
   "cell_type": "code",
   "execution_count": 1,
   "metadata": {},
   "outputs": [],
   "source": [
    "import os\n",
    "import json\n",
    "import asyncio\n",
    "\n",
    "import pandas as pd\n",
    "\n",
    "import ipywidgets as widgets \n",
    "from ipywidgets import interact, interact_manual, Layout\n",
    "\n",
    "import time\n",
    "from datetime import datetime\n",
    "\n",
    "from storingsanalyse import StoringsAnalyse\n",
    "\n",
    "import numpy as np\n",
    "import matplotlib.pyplot as plt\n",
    "from matplotlib.figure import Figure"
   ]
  },
  {
   "cell_type": "code",
   "execution_count": 2,
   "metadata": {},
   "outputs": [],
   "source": [
    "# Class zorgt ervoor dat een waarde meegegeven kan worden aan een Button\n",
    "import traitlets\n",
    "class LoadedButton(widgets.Button):\n",
    "    \"\"\"A button that can holds a value as a attribute.\"\"\"\n",
    "\n",
    "    def __init__(self, value=None, *args, **kwargs):\n",
    "        super(LoadedButton, self).__init__(*args, **kwargs)\n",
    "        # Create the value attribute.\n",
    "        self.add_traits(value=traitlets.Any(value))\n",
    "\n",
    "\n",
    "# Aparte functie voor het wachten op verandering (aka input van de ME)\n",
    "def wait_for_change(widget):\n",
    "    future = asyncio.Future()\n",
    "    def getvalue(change):\n",
    "        future.set_result(change.description)\n",
    "        widget.on_click(getvalue, remove=True) \n",
    "        # we need to free up the binding to getvalue to avoid an InvalidState error\n",
    "        # buttons don't support unobserve\n",
    "        # so use `remove=True` \n",
    "    widget.on_click(getvalue)\n",
    "    return future"
   ]
  },
  {
   "cell_type": "code",
   "execution_count": 3,
   "metadata": {},
   "outputs": [],
   "source": [
    "\"\"\" In the line bellow fill in your API key without < and > \"\"\" \n",
    "api_key = 'bWF4YWRtaW46R21iQ1dlbkQyMDE5' # provided to you by a Maximo Consultant\n",
    "\n",
    "\"\"\" In the line bellow fill in the desired object structure \"\"\"\n",
    "obj_struct = 'MXWO_SND' # name of the Maximo object structure\n",
    "\n",
    "\"\"\" In the line bellow fill in the PO number and the SITEID without the < and > \"\"\"\n",
    "query = 'siteid=\"CT1EN2\" and worktype=\"COR\" and reportdate>=\"2018-01-01T00:00:00-00:00\" and reportdate<=\"2018-03-30T00:00:00-00:00\"'"
   ]
  },
  {
   "cell_type": "code",
   "execution_count": 4,
   "metadata": {},
   "outputs": [],
   "source": [
    "sa = StoringsAnalyse(\"coentunnel\", api_key, obj_struct)"
   ]
  },
  {
   "cell_type": "code",
   "execution_count": 5,
   "metadata": {
    "hide_input": true,
    "scrolled": true
   },
   "outputs": [
    {
     "data": {
      "text/html": [
       "<div>\n",
       "<style scoped>\n",
       "    .dataframe tbody tr th:only-of-type {\n",
       "        vertical-align: middle;\n",
       "    }\n",
       "\n",
       "    .dataframe tbody tr th {\n",
       "        vertical-align: top;\n",
       "    }\n",
       "\n",
       "    .dataframe thead th {\n",
       "        text-align: right;\n",
       "    }\n",
       "</style>\n",
       "<table border=\"1\" class=\"dataframe\">\n",
       "  <thead>\n",
       "    <tr style=\"text-align: right;\">\n",
       "      <th></th>\n",
       "      <th>project</th>\n",
       "      <th>start_datum</th>\n",
       "      <th>contract_info</th>\n",
       "      <th>meldingen</th>\n",
       "      <th>storingen</th>\n",
       "    </tr>\n",
       "  </thead>\n",
       "  <tbody>\n",
       "    <tr>\n",
       "      <th>0</th>\n",
       "      <td>Coentunnel-tracé</td>\n",
       "      <td>01_2016</td>\n",
       "      <td>{'tijdsregistratie': 'True', 'minimale_beschik...</td>\n",
       "      <td>{'01_2016': {'45': 6, '61': 5, '23': 1, '43': ...</td>\n",
       "      <td>{'01_2016': {'61': 3, '43': 2, '45': 3, '41': ...</td>\n",
       "    </tr>\n",
       "  </tbody>\n",
       "</table>\n",
       "</div>"
      ],
      "text/plain": [
       "            project start_datum  \\\n",
       "0  Coentunnel-tracé     01_2016   \n",
       "\n",
       "                                       contract_info  \\\n",
       "0  {'tijdsregistratie': 'True', 'minimale_beschik...   \n",
       "\n",
       "                                           meldingen  \\\n",
       "0  {'01_2016': {'45': 6, '61': 5, '23': 1, '43': ...   \n",
       "\n",
       "                                           storingen  \n",
       "0  {'01_2016': {'61': 3, '43': 2, '45': 3, '41': ...  "
      ]
     },
     "execution_count": 5,
     "metadata": {},
     "output_type": "execute_result"
    }
   ],
   "source": [
    "sa.metadata.get_all_data()"
   ]
  },
  {
   "cell_type": "markdown",
   "metadata": {},
   "source": [
    "## Importeren van de staging_file"
   ]
  },
  {
   "cell_type": "markdown",
   "metadata": {},
   "source": [
    "De staging file geeft ruimte aan de maintenance engineers om de verschillende meldingen te categoriseren als 'Onterecht', 'Preventief', 'Storing' of 'Incident'."
   ]
  },
  {
   "cell_type": "code",
   "execution_count": 6,
   "metadata": {},
   "outputs": [],
   "source": [
    "sa.read_staging_file('staging_file.xlsx')"
   ]
  },
  {
   "cell_type": "code",
   "execution_count": 7,
   "metadata": {},
   "outputs": [],
   "source": [
    "sf_data = sa.staging_file_data"
   ]
  },
  {
   "cell_type": "markdown",
   "metadata": {},
   "source": [
    "### Aanpassen van de staging_file -- DEZE STAP WORDT VERWIJDERD IN DE TOEKOMST\n",
    "Het opbouwen van deze automatische storingsanalyse vraagt om een ingevulde kolom 'type melding'. Om het process van opbouwen niet te laten stagneren op dit aspect, wordt er hieronder fictive data gegenereerd. Met behulp van de fictieve data wordt het genereren van de verschillende tabellen en grafieken gebouwd."
   ]
  },
  {
   "cell_type": "code",
   "execution_count": 8,
   "metadata": {
    "hide_input": true
   },
   "outputs": [
    {
     "name": "stdout",
     "output_type": "stream",
     "text": [
      "True\n"
     ]
    },
    {
     "data": {
      "text/plain": [
       "['Incident',\n",
       " 'Storing',\n",
       " 'Storing',\n",
       " 'Incident',\n",
       " 'Storing',\n",
       " 'Storing',\n",
       " 'Storing',\n",
       " 'Incident',\n",
       " 'Preventief',\n",
       " 'Preventief']"
      ]
     },
     "execution_count": 8,
     "metadata": {},
     "output_type": "execute_result"
    }
   ],
   "source": [
    "from random import randrange\n",
    "\n",
    "lijst_opties = ['Storing', 'Incident', 'Preventief', 'Onterecht']\n",
    "\n",
    "random_ranges = [lijst_opties[randrange(0, 4, 1)] for _ in range(len(sf_data['type melding (Storing/Incident/Preventief/Onterecht)']))]\n",
    "\n",
    "print(len(random_ranges) == len(sf_data['type melding (Storing/Incident/Preventief/Onterecht)']))\n",
    "\n",
    "sf_data.loc[:, 'type melding (Storing/Incident/Preventief/Onterecht)'] = random_ranges\n",
    "\n",
    "random_ranges[:10]"
   ]
  },
  {
   "cell_type": "code",
   "execution_count": 9,
   "metadata": {
    "hide_input": true
   },
   "outputs": [
    {
     "name": "stdout",
     "output_type": "stream",
     "text": [
      "True\n"
     ]
    },
    {
     "data": {
      "text/plain": [
       "['P09', 'P08', 'P04', 'P03', 'P08', 'P08', 'P02', 'P08', 'P08', 'P07']"
      ]
     },
     "execution_count": 9,
     "metadata": {},
     "output_type": "execute_result"
    }
   ],
   "source": [
    "import numpy as np\n",
    "lijst_opties = ['P01', 'P02', 'P03', 'P04', 'P05', 'P06', 'P07', 'P08', 'P09', 'P10', 'P11', np.nan]\n",
    "\n",
    "random_ranges = [lijst_opties[randrange(0, len(lijst_opties), 1)] for _ in range(len(sf_data['probleem code']))]\n",
    "\n",
    "print(len(random_ranges) == len(sf_data['probleem code']))\n",
    "\n",
    "sf_data.loc[:, 'probleem code'] = random_ranges\n",
    "\n",
    "random_ranges[:10]"
   ]
  },
  {
   "cell_type": "code",
   "execution_count": 10,
   "metadata": {
    "hide_input": true
   },
   "outputs": [
    {
     "name": "stdout",
     "output_type": "stream",
     "text": [
      "True\n"
     ]
    },
    {
     "data": {
      "text/plain": [
       "['C02', 'C10', 'C10', 'C02', 'C11', 'C13', 'C15', 'C06', 'C12', 'C12']"
      ]
     },
     "execution_count": 10,
     "metadata": {},
     "output_type": "execute_result"
    }
   ],
   "source": [
    "lijst_opties = ['C01', 'C02', 'C03', 'C04', 'C05', 'C06', 'C07', 'C08', 'C09', \n",
    "                'C10', 'C11', 'C12', 'C13', 'C14', 'C15', 'C16', np.nan]\n",
    "\n",
    "random_ranges = [lijst_opties[randrange(0, len(lijst_opties), 1)] for _ in range(len(sf_data['oorzaak code']))]\n",
    "\n",
    "print(len(random_ranges) == len(sf_data['oorzaak code']))\n",
    "\n",
    "sf_data.loc[:, 'oorzaak code'] = random_ranges\n",
    "\n",
    "random_ranges[:10]"
   ]
  },
  {
   "cell_type": "code",
   "execution_count": 11,
   "metadata": {
    "hide_input": true
   },
   "outputs": [
    {
     "name": "stdout",
     "output_type": "stream",
     "text": [
      "True\n"
     ]
    },
    {
     "data": {
      "text/plain": [
       "['S03', 'S02', 'S04', 'S05', 'S01', nan, 'S05', 'S03', 'S04', nan]"
      ]
     },
     "execution_count": 11,
     "metadata": {},
     "output_type": "execute_result"
    }
   ],
   "source": [
    "lijst_opties = ['S01', 'S02', 'S03', 'S04', 'S05', 'S06', 'S07', 'S08', np.nan]\n",
    "\n",
    "random_ranges = [lijst_opties[randrange(0, len(lijst_opties), 1)] for _ in range(len(sf_data['oplos code']))]\n",
    "\n",
    "print(len(random_ranges) == len(sf_data['oplos code']))\n",
    "\n",
    "sf_data.loc[:, 'oplos code'] = random_ranges\n",
    "\n",
    "random_ranges[:10]"
   ]
  },
  {
   "cell_type": "code",
   "execution_count": 12,
   "metadata": {
    "hide_input": true,
    "scrolled": true
   },
   "outputs": [
    {
     "data": {
      "text/html": [
       "<div>\n",
       "<style scoped>\n",
       "    .dataframe tbody tr th:only-of-type {\n",
       "        vertical-align: middle;\n",
       "    }\n",
       "\n",
       "    .dataframe tbody tr th {\n",
       "        vertical-align: top;\n",
       "    }\n",
       "\n",
       "    .dataframe thead th {\n",
       "        text-align: right;\n",
       "    }\n",
       "</style>\n",
       "<table border=\"1\" class=\"dataframe\">\n",
       "  <thead>\n",
       "    <tr style=\"text-align: right;\">\n",
       "      <th></th>\n",
       "      <th>locatie 2</th>\n",
       "      <th>locatie 2 omschrijving</th>\n",
       "      <th>probleem code</th>\n",
       "      <th>beschrijving probleem</th>\n",
       "      <th>oorzaak code</th>\n",
       "      <th>beschrijving oorzaak</th>\n",
       "      <th>oplos code</th>\n",
       "      <th>oplossing beschrijving</th>\n",
       "      <th>uitgevoerde werkzaamheden</th>\n",
       "      <th>type melding (Storing/Incident/Preventief/Onterecht)</th>\n",
       "    </tr>\n",
       "  </thead>\n",
       "  <tbody>\n",
       "    <tr>\n",
       "      <th>0</th>\n",
       "      <td>NaN</td>\n",
       "      <td>NaN</td>\n",
       "      <td>P09</td>\n",
       "      <td>Lussen vermoedelijk vekeerd om aangesloten</td>\n",
       "      <td>C02</td>\n",
       "      <td>Davinci</td>\n",
       "      <td>S03</td>\n",
       "      <td>NaN</td>\n",
       "      <td>Storing ontvangen op 4 januari 2018 om 15:28 g...</td>\n",
       "      <td>Incident</td>\n",
       "    </tr>\n",
       "    <tr>\n",
       "      <th>1</th>\n",
       "      <td>NaN</td>\n",
       "      <td>NaN</td>\n",
       "      <td>P08</td>\n",
       "      <td>Intercom installatie niet beschikbaar</td>\n",
       "      <td>C10</td>\n",
       "      <td>NaN</td>\n",
       "      <td>S02</td>\n",
       "      <td>NaN</td>\n",
       "      <td>Storing ontvangen op 6 januari 2018 om 0:23 ge...</td>\n",
       "      <td>Storing</td>\n",
       "    </tr>\n",
       "    <tr>\n",
       "      <th>2</th>\n",
       "      <td>NaN</td>\n",
       "      <td>NaN</td>\n",
       "      <td>P04</td>\n",
       "      <td>Overdruk ruimte pompkelder niet aanwezig</td>\n",
       "      <td>C10</td>\n",
       "      <td>Vorst bewaking</td>\n",
       "      <td>S04</td>\n",
       "      <td>NaN</td>\n",
       "      <td>Storing ontvangen op 6 juniari 2018 om 20:18 g...</td>\n",
       "      <td>Storing</td>\n",
       "    </tr>\n",
       "    <tr>\n",
       "      <th>3</th>\n",
       "      <td>NaN</td>\n",
       "      <td>NaN</td>\n",
       "      <td>P03</td>\n",
       "      <td>Geen overdruk aanwezig pompkelders CT1</td>\n",
       "      <td>C02</td>\n",
       "      <td>NaN</td>\n",
       "      <td>S05</td>\n",
       "      <td>NaN</td>\n",
       "      <td>Storing ontvangen op 7 januari 2018 om 7:50 ge...</td>\n",
       "      <td>Incident</td>\n",
       "    </tr>\n",
       "    <tr>\n",
       "      <th>4</th>\n",
       "      <td>NaN</td>\n",
       "      <td>NaN</td>\n",
       "      <td>P08</td>\n",
       "      <td>Afsluitboom Noord W2 rechts melding niet besch...</td>\n",
       "      <td>C11</td>\n",
       "      <td>NaN</td>\n",
       "      <td>S01</td>\n",
       "      <td>NaN</td>\n",
       "      <td>Storing ontvangen op 8 januari 2018 om 17:10 g...</td>\n",
       "      <td>Storing</td>\n",
       "    </tr>\n",
       "  </tbody>\n",
       "</table>\n",
       "</div>"
      ],
      "text/plain": [
       "   locatie 2  locatie 2 omschrijving probleem code  \\\n",
       "0        NaN                     NaN           P09   \n",
       "1        NaN                     NaN           P08   \n",
       "2        NaN                     NaN           P04   \n",
       "3        NaN                     NaN           P03   \n",
       "4        NaN                     NaN           P08   \n",
       "\n",
       "                               beschrijving probleem oorzaak code  \\\n",
       "0         Lussen vermoedelijk vekeerd om aangesloten          C02   \n",
       "1              Intercom installatie niet beschikbaar          C10   \n",
       "2           Overdruk ruimte pompkelder niet aanwezig          C10   \n",
       "3             Geen overdruk aanwezig pompkelders CT1          C02   \n",
       "4  Afsluitboom Noord W2 rechts melding niet besch...          C11   \n",
       "\n",
       "  beschrijving oorzaak oplos code  oplossing beschrijving  \\\n",
       "0              Davinci        S03                     NaN   \n",
       "1                  NaN        S02                     NaN   \n",
       "2       Vorst bewaking        S04                     NaN   \n",
       "3                  NaN        S05                     NaN   \n",
       "4                  NaN        S01                     NaN   \n",
       "\n",
       "                           uitgevoerde werkzaamheden  \\\n",
       "0  Storing ontvangen op 4 januari 2018 om 15:28 g...   \n",
       "1  Storing ontvangen op 6 januari 2018 om 0:23 ge...   \n",
       "2  Storing ontvangen op 6 juniari 2018 om 20:18 g...   \n",
       "3  Storing ontvangen op 7 januari 2018 om 7:50 ge...   \n",
       "4  Storing ontvangen op 8 januari 2018 om 17:10 g...   \n",
       "\n",
       "  type melding (Storing/Incident/Preventief/Onterecht)  \n",
       "0                                           Incident    \n",
       "1                                            Storing    \n",
       "2                                            Storing    \n",
       "3                                           Incident    \n",
       "4                                            Storing    "
      ]
     },
     "execution_count": 12,
     "metadata": {},
     "output_type": "execute_result"
    }
   ],
   "source": [
    "sf_data.iloc[:5, 15:25]"
   ]
  },
  {
   "cell_type": "code",
   "execution_count": 13,
   "metadata": {},
   "outputs": [
    {
     "data": {
      "text/plain": [
       "{'01_2018': {'Incident': 4, 'Storing': 13, 'Preventief': 6, 'Onterecht': 7},\n",
       " '02_2018': {'Onterecht': 14, 'Preventief': 12, 'Storing': 12, 'Incident': 7},\n",
       " '03_2018': {'Storing': 7, 'Onterecht': 6, 'Preventief': 7, 'Incident': 4}}"
      ]
     },
     "execution_count": 13,
     "metadata": {},
     "output_type": "execute_result"
    }
   ],
   "source": [
    "from prepnplot import PrepNPlot\n",
    "\n",
    "pp = PrepNPlot()\n",
    "\n",
    "x = [datetime.strptime(t, '%d-%m-%y %H:%M:%S') for t in sf_data.loc[:, 'rapport datum']]\n",
    "\n",
    "pp._transform_to_meta_structure(input_object=sf_data,time_key='rapport datum', categorical_key='type melding (Storing/Incident/Preventief/Onterecht)')"
   ]
  },
  {
   "cell_type": "code",
   "execution_count": 14,
   "metadata": {
    "hide_input": false,
    "scrolled": true
   },
   "outputs": [
    {
     "name": "stdout",
     "output_type": "stream",
     "text": [
      "result 1 = {'01_2018': {'Incident': 4, 'Storing': 13, 'Preventief': 6, 'Onterecht': 7}, '02_2018': {'Onterecht': 14, 'Preventief': 12, 'Storing': 12, 'Incident': 7}, '03_2018': {'Storing': 7, 'Onterecht': 6, 'Preventief': 7, 'Incident': 4}}\n"
     ]
    }
   ],
   "source": [
    "from prepnplot import PrepNPlot\n",
    "\n",
    "pp = PrepNPlot()\n",
    "\n",
    "x = [datetime.strptime(t, '%d-%m-%y %H:%M:%S') for t in sf_data.loc[:, 'rapport datum']]\n",
    "\n",
    "input_object = (sf_data, 'rapport datum', 'type melding (Storing/Incident/Preventief/Onterecht)')\n",
    "\n",
    "test_step_one = pp._prep_first_step(input_object=input_object,\n",
    "                                    time_range=[min(x), max(x)],\n",
    "                                    available_categories=[\"Storing\", \"Incident\", \"Preventief\", \"Onterecht\"]\n",
    "                                    )\n",
    "\n",
    "print(f\"result 1 = {test_step_one}\")\n",
    "\n",
    "# test_step_two = pp._prep_end_step(input_dict=test_step_one, unique_values=[_ for _ in test_step_one.keys()])\n",
    "# print(f\"result 2 = {test_step_two}\")\n",
    "\n",
    "# tr = [min(x), max(x)]\n",
    "\n",
    "# test_prep = pp.prep(input_object=sf_data,\n",
    "#                     categorical_key='type melding (Storing/Incident/Preventief/Onterecht)',\n",
    "#                     time_key='rapport datum',\n",
    "#                     time_range=tr,\n",
    "#                     bin_size='year')\n",
    "\n",
    "# print(f\"result last = {test_prep}\")"
   ]
  },
  {
   "cell_type": "markdown",
   "metadata": {},
   "source": [
    "# PDF export voorbereiden\n",
    "\n",
    "De voorbereiding van de export naar PDF bestaat uit het definieren van een object waarin de verschillende figures toegevoegd kunnen worden."
   ]
  },
  {
   "cell_type": "code",
   "execution_count": 15,
   "metadata": {},
   "outputs": [],
   "source": [
    "graphs = []\n",
    "def add_graph_for_export(figure: Figure):\n",
    "    global graphs\n",
    "    graphs.append(figure)"
   ]
  },
  {
   "cell_type": "markdown",
   "metadata": {},
   "source": [
    "# Grafieken\n",
    "het opbouwen van de vershcillende grafiek wordt gedaan in twee codeblokken; een prep blok en een plot blok. prep doelt hier op het voorberijden van de data en plot zegt het al."
   ]
  },
  {
   "cell_type": "code",
   "execution_count": 16,
   "metadata": {},
   "outputs": [
    {
     "data": {
      "text/plain": [
       "'Data available through the use of StoringsAnalyse.meldingen and StoringsAnalyse.storingen'"
      ]
     },
     "execution_count": 16,
     "metadata": {},
     "output_type": "execute_result"
    }
   ],
   "source": [
    "sa.split_staging_file()"
   ]
  },
  {
   "cell_type": "markdown",
   "metadata": {},
   "source": [
    "## Aantal meldingen per deelinstallatie"
   ]
  },
  {
   "cell_type": "code",
   "execution_count": 17,
   "metadata": {
    "hide_input": false
   },
   "outputs": [],
   "source": [
    "df = sf_data.copy()\n",
    "# changing the di_numbers from '45-10' to '45'\n",
    "new_num = []\n",
    "for num in df['sbs']:\n",
    "    if num is np.nan:\n",
    "        new_num.append(num)\n",
    "    else:\n",
    "        new_num.append(sa._isolate_di_number(num))\n",
    "\n",
    "df.loc[:, 'sbs'] = new_num"
   ]
  },
  {
   "cell_type": "code",
   "execution_count": 18,
   "metadata": {
    "hide_input": false
   },
   "outputs": [],
   "source": [
    "# prep\n",
    "sbs_grouped_df = df.copy().groupby(['sbs'])\n",
    "\n",
    "\"\"\"\n",
    "dictionary structure\n",
    "{'23': {1: 1},\n",
    " '41': {1: 1},\n",
    " '43': {2: 1},\n",
    " '45': {2: 2, 1: 2},\n",
    " '46A': {2: 2},\n",
    " '61': {3: 1},\n",
    " '62': {1: 1},\n",
    " '63': {1: 1},\n",
    " '67': {2: 1},\n",
    " '74': {2: 1}}\n",
    "\"\"\"\n",
    "dictionary = {}\n",
    "for group in sbs_grouped_df.groups.keys():\n",
    "    df_group = sbs_grouped_df.get_group(group)\n",
    "    month_counts = df_group['month_number'].value_counts().to_dict()\n",
    "    if group in dictionary:\n",
    "        for key in group.keys():\n",
    "            if key in dictionary[group]:\n",
    "                dictionary[group][key] += group[key]\n",
    "            else:\n",
    "                dictionary[group] = group[key]\n",
    "    else:\n",
    "        dictionary[group] = month_counts\n",
    "\n",
    "\"\"\"\n",
    "new_dictionary structure\n",
    "{'23': [1, 0, 0],\n",
    " '41': [1, 0, 0],\n",
    " '43': [0, 1, 0],\n",
    " '45': [2, 2, 0],\n",
    " '46A': [0, 2, 0],\n",
    " '61': [0, 0, 1],\n",
    " '62': [1, 0, 0],\n",
    " '63': [1, 0, 0],\n",
    " '67': [0, 1, 0],\n",
    " '74': [0, 1, 0]}\n",
    "\"\"\"\n",
    "new_dictionary = {}\n",
    "for di_num in dictionary:\n",
    "    list_of_lists = []\n",
    "    for i in range(3):\n",
    "        month_num = i + 1\n",
    "        if month_num in dictionary[di_num].keys():\n",
    "            list_of_lists.append(dictionary[di_num][month_num])\n",
    "        else:\n",
    "            list_of_lists.append(0)\n",
    "    new_dictionary[di_num] = list_of_lists\n",
    "\n",
    "\"\"\"\n",
    "lol structure\n",
    "[[1, 1, 0, 2, 0, 0, 1, 1, 0, 0],\n",
    " [0, 0, 1, 2, 2, 0, 0, 0, 1, 1],\n",
    " [0, 0, 0, 0, 0, 1, 0, 0, 0, 0]]\n",
    "\"\"\"\n",
    "lol = []  # list of lists but name was already used\n",
    "for index in range(3):\n",
    "    l = []\n",
    "    for di_num in new_dictionary:\n",
    "        l.append(new_dictionary[di_num][index])\n",
    "    lol.append(l)  "
   ]
  },
  {
   "cell_type": "code",
   "execution_count": 19,
   "metadata": {
    "cell_style": "split",
    "hide_input": false
   },
   "outputs": [
    {
     "data": {
      "image/png": "[encoded data removed]",
      "text/plain": [
       "<Figure size 432x288 with 1 Axes>"
      ]
     },
     "metadata": {
      "needs_background": "light"
     },
     "output_type": "display_data"
    }
   ],
   "source": [
    "# plot\n",
    "labels = list(new_dictionary.keys())\n",
    "width = 0.3\n",
    "\n",
    "fig, axis = plt.subplots()\n",
    "\n",
    "prev = []\n",
    "for l in range(len(lol)):\n",
    "    month = sa._month_num_to_name([l+1])\n",
    "\n",
    "    # added case for loop l = 0 after if\n",
    "    axis.bar(labels, lol[l], width, label=month, bottom=prev) if l > 0 else \\\n",
    "    axis.bar(labels, lol[l], width, label=month)\n",
    "    \n",
    "    # prev sets the height of the newly added values like above\n",
    "    # the added list needs to be added to prev to get the correct height\n",
    "    prev = [prev[idx] + lol[l][idx] for idx in range(len(lol[l]))] if l > 0 else lol[l]\n",
    "\n",
    "axis.set_xlabel('Deelinstallatie nummers')\n",
    "axis.set_ylabel('Aantal')\n",
    "axis.set_title(\"Aantal meldingen per deelinstallatie\")\n",
    "axis.legend()\n",
    "\n",
    "axis.margins(x=0.01, y=0.1)\n",
    "\n",
    "axis.set_axisbelow(True)\n",
    "axis.grid(axis='y', linestyle='--')\n",
    "\n",
    "plt.show()\n",
    "add_graph_for_export(fig)"
   ]
  },
  {
   "cell_type": "code",
   "execution_count": 20,
   "metadata": {
    "cell_style": "split",
    "hide_input": false,
    "scrolled": true
   },
   "outputs": [
    {
     "name": "stdout",
     "output_type": "stream",
     "text": [
      "{'Januari': 30, 'Februari': 45, 'Maart': 24}\n"
     ]
    },
    {
     "data": {
      "image/png": "[encoded data removed]",
      "text/plain": [
       "<Figure size 432x288 with 1 Axes>"
      ]
     },
     "metadata": {
      "needs_background": "light"
     },
     "output_type": "display_data"
    }
   ],
   "source": [
    "# prep\n",
    "val_counts_months = df['month_number'].value_counts()\n",
    "\n",
    "ordered_dict = {key: val_counts_months[key] for key in sorted(val_counts_months.to_dict())}\n",
    "\n",
    "for key in ordered_dict.keys():\n",
    "    new_key = sa._month_num_to_name([key])\n",
    "    ordered_dict[new_key] = ordered_dict.pop(key)\n",
    "\n",
    "print(ordered_dict)\n",
    "\n",
    "# plot\n",
    "fig, axis = plt.subplots()\n",
    "axis.bar(ordered_dict.keys(), ordered_dict.values(), width = 0.3)\n",
    "axis.set_ylabel('Aantal')\n",
    "axis.set_title(\"Aantal meldingen per maand\")\n",
    "axis.margins(x=.2, y=.2)\n",
    "\n",
    "axis.set_axisbelow(True)\n",
    "axis.grid(axis='y', linestyle='--')\n",
    "\n",
    "plt.show()\n",
    "add_graph_for_export(fig)"
   ]
  },
  {
   "cell_type": "code",
   "execution_count": 24,
   "metadata": {},
   "outputs": [
    {
     "name": "stdout",
     "output_type": "stream",
     "text": [
      "[[15, 3, 1, 1, 1, 1, 4, 1, 1, 1, 1], [2, 27, 4, 1, 1, 2, 3, 1, 4], [1, 1, 14, 3, 1, 1, 1, 1, 1]] [11, 9, 9]\n"
     ]
    },
    {
     "ename": "ValueError",
     "evalue": "shape mismatch: objects cannot be broadcast to a single shape",
     "output_type": "error",
     "traceback": [
      "\u001b[1;31m---------------------------------------------------------------------------\u001b[0m",
      "\u001b[1;31mValueError\u001b[0m                                Traceback (most recent call last)",
      "\u001b[1;32m<ipython-input-24-6757eadadd0f>\u001b[0m in \u001b[0;36m<module>\u001b[1;34m\u001b[0m\n\u001b[0;32m      9\u001b[0m \u001b[0mcategory_labels\u001b[0m \u001b[1;33m=\u001b[0m \u001b[0mavailable_categories\u001b[0m\u001b[1;33m\u001b[0m\u001b[1;33m\u001b[0m\u001b[0m\n\u001b[0;32m     10\u001b[0m \u001b[1;33m\u001b[0m\u001b[0m\n\u001b[1;32m---> 11\u001b[1;33m \u001b[0mpp\u001b[0m\u001b[1;33m.\u001b[0m\u001b[0mplot\u001b[0m\u001b[1;33m(\u001b[0m\u001b[0minput_data\u001b[0m\u001b[1;33m=\u001b[0m\u001b[0mprepped_data\u001b[0m\u001b[1;33m,\u001b[0m \u001b[0mplot_type\u001b[0m\u001b[1;33m=\u001b[0m\u001b[1;34m'stacked'\u001b[0m\u001b[1;33m,\u001b[0m \u001b[0mcategory_labels\u001b[0m\u001b[1;33m=\u001b[0m\u001b[0mcategory_labels\u001b[0m\u001b[1;33m,\u001b[0m \u001b[0mbin_labels\u001b[0m\u001b[1;33m=\u001b[0m\u001b[0mpp\u001b[0m\u001b[1;33m.\u001b[0m\u001b[0mlast_seen_bin_names\u001b[0m\u001b[1;33m)\u001b[0m\u001b[1;33m\u001b[0m\u001b[1;33m\u001b[0m\u001b[0m\n\u001b[0m",
      "\u001b[1;32m~\\OneDrive - TBI Holding\\Documenten\\GitHub\\storingsanalyse-generator\\src\\rapport generator\\prepnplot.py\u001b[0m in \u001b[0;36mplot\u001b[1;34m(self, input_data, plot_type, category_labels, bin_labels)\u001b[0m\n\u001b[0;32m    382\u001b[0m                 \u001b[1;31m# added case for loop l = 0 after if\u001b[0m\u001b[1;33m\u001b[0m\u001b[1;33m\u001b[0m\u001b[1;33m\u001b[0m\u001b[0m\n\u001b[0;32m    383\u001b[0m                 \u001b[0maxis\u001b[0m\u001b[1;33m.\u001b[0m\u001b[0mbar\u001b[0m\u001b[1;33m(\u001b[0m\u001b[0mx_labels\u001b[0m\u001b[1;33m,\u001b[0m \u001b[0minput_data\u001b[0m\u001b[1;33m[\u001b[0m\u001b[0mi\u001b[0m\u001b[1;33m]\u001b[0m\u001b[1;33m,\u001b[0m \u001b[0mbar_width\u001b[0m\u001b[1;33m,\u001b[0m \u001b[0mlabel\u001b[0m\u001b[1;33m=\u001b[0m\u001b[0mlegend_names\u001b[0m\u001b[1;33m[\u001b[0m\u001b[0mi\u001b[0m\u001b[1;33m]\u001b[0m\u001b[1;33m,\u001b[0m \u001b[0mbottom\u001b[0m\u001b[1;33m=\u001b[0m\u001b[0mprev\u001b[0m\u001b[1;33m)\u001b[0m \u001b[1;32mif\u001b[0m \u001b[0mi\u001b[0m \u001b[1;33m>\u001b[0m \u001b[1;36m0\u001b[0m \u001b[1;32melse\u001b[0m\u001b[0;31m \u001b[0m\u001b[0;31m\\\u001b[0m\u001b[1;33m\u001b[0m\u001b[1;33m\u001b[0m\u001b[0m\n\u001b[1;32m--> 384\u001b[1;33m                     \u001b[0maxis\u001b[0m\u001b[1;33m.\u001b[0m\u001b[0mbar\u001b[0m\u001b[1;33m(\u001b[0m\u001b[0mx_labels\u001b[0m\u001b[1;33m,\u001b[0m \u001b[0minput_data\u001b[0m\u001b[1;33m[\u001b[0m\u001b[0mi\u001b[0m\u001b[1;33m]\u001b[0m\u001b[1;33m,\u001b[0m \u001b[0mbar_width\u001b[0m\u001b[1;33m,\u001b[0m \u001b[0mlabel\u001b[0m\u001b[1;33m=\u001b[0m\u001b[0mlegend_names\u001b[0m\u001b[1;33m[\u001b[0m\u001b[0mi\u001b[0m\u001b[1;33m]\u001b[0m\u001b[1;33m)\u001b[0m\u001b[1;33m\u001b[0m\u001b[1;33m\u001b[0m\u001b[0m\n\u001b[0m\u001b[0;32m    385\u001b[0m \u001b[1;33m\u001b[0m\u001b[0m\n\u001b[0;32m    386\u001b[0m                 \u001b[1;31m# prev sets the height of the newly added values like above\u001b[0m\u001b[1;33m\u001b[0m\u001b[1;33m\u001b[0m\u001b[1;33m\u001b[0m\u001b[0m\n",
      "\u001b[1;32m~\\Anaconda3\\lib\\site-packages\\matplotlib\\__init__.py\u001b[0m in \u001b[0;36minner\u001b[1;34m(ax, data, *args, **kwargs)\u001b[0m\n\u001b[0;32m   1563\u001b[0m     \u001b[1;32mdef\u001b[0m \u001b[0minner\u001b[0m\u001b[1;33m(\u001b[0m\u001b[0max\u001b[0m\u001b[1;33m,\u001b[0m \u001b[1;33m*\u001b[0m\u001b[0margs\u001b[0m\u001b[1;33m,\u001b[0m \u001b[0mdata\u001b[0m\u001b[1;33m=\u001b[0m\u001b[1;32mNone\u001b[0m\u001b[1;33m,\u001b[0m \u001b[1;33m**\u001b[0m\u001b[0mkwargs\u001b[0m\u001b[1;33m)\u001b[0m\u001b[1;33m:\u001b[0m\u001b[1;33m\u001b[0m\u001b[1;33m\u001b[0m\u001b[0m\n\u001b[0;32m   1564\u001b[0m         \u001b[1;32mif\u001b[0m \u001b[0mdata\u001b[0m \u001b[1;32mis\u001b[0m \u001b[1;32mNone\u001b[0m\u001b[1;33m:\u001b[0m\u001b[1;33m\u001b[0m\u001b[1;33m\u001b[0m\u001b[0m\n\u001b[1;32m-> 1565\u001b[1;33m             \u001b[1;32mreturn\u001b[0m \u001b[0mfunc\u001b[0m\u001b[1;33m(\u001b[0m\u001b[0max\u001b[0m\u001b[1;33m,\u001b[0m \u001b[1;33m*\u001b[0m\u001b[0mmap\u001b[0m\u001b[1;33m(\u001b[0m\u001b[0msanitize_sequence\u001b[0m\u001b[1;33m,\u001b[0m \u001b[0margs\u001b[0m\u001b[1;33m)\u001b[0m\u001b[1;33m,\u001b[0m \u001b[1;33m**\u001b[0m\u001b[0mkwargs\u001b[0m\u001b[1;33m)\u001b[0m\u001b[1;33m\u001b[0m\u001b[1;33m\u001b[0m\u001b[0m\n\u001b[0m\u001b[0;32m   1566\u001b[0m \u001b[1;33m\u001b[0m\u001b[0m\n\u001b[0;32m   1567\u001b[0m         \u001b[0mbound\u001b[0m \u001b[1;33m=\u001b[0m \u001b[0mnew_sig\u001b[0m\u001b[1;33m.\u001b[0m\u001b[0mbind\u001b[0m\u001b[1;33m(\u001b[0m\u001b[0max\u001b[0m\u001b[1;33m,\u001b[0m \u001b[1;33m*\u001b[0m\u001b[0margs\u001b[0m\u001b[1;33m,\u001b[0m \u001b[1;33m**\u001b[0m\u001b[0mkwargs\u001b[0m\u001b[1;33m)\u001b[0m\u001b[1;33m\u001b[0m\u001b[1;33m\u001b[0m\u001b[0m\n",
      "\u001b[1;32m~\\Anaconda3\\lib\\site-packages\\matplotlib\\axes\\_axes.py\u001b[0m in \u001b[0;36mbar\u001b[1;34m(self, x, height, width, bottom, align, **kwargs)\u001b[0m\n\u001b[0;32m   2338\u001b[0m                 \u001b[0myerr\u001b[0m \u001b[1;33m=\u001b[0m \u001b[0mself\u001b[0m\u001b[1;33m.\u001b[0m\u001b[0m_convert_dx\u001b[0m\u001b[1;33m(\u001b[0m\u001b[0myerr\u001b[0m\u001b[1;33m,\u001b[0m \u001b[0my0\u001b[0m\u001b[1;33m,\u001b[0m \u001b[0my\u001b[0m\u001b[1;33m,\u001b[0m \u001b[0mself\u001b[0m\u001b[1;33m.\u001b[0m\u001b[0mconvert_yunits\u001b[0m\u001b[1;33m)\u001b[0m\u001b[1;33m\u001b[0m\u001b[1;33m\u001b[0m\u001b[0m\n\u001b[0;32m   2339\u001b[0m \u001b[1;33m\u001b[0m\u001b[0m\n\u001b[1;32m-> 2340\u001b[1;33m         x, height, width, y, linewidth = np.broadcast_arrays(\n\u001b[0m\u001b[0;32m   2341\u001b[0m             \u001b[1;31m# Make args iterable too.\u001b[0m\u001b[1;33m\u001b[0m\u001b[1;33m\u001b[0m\u001b[1;33m\u001b[0m\u001b[0m\n\u001b[0;32m   2342\u001b[0m             np.atleast_1d(x), height, width, y, linewidth)\n",
      "\u001b[1;32m<__array_function__ internals>\u001b[0m in \u001b[0;36mbroadcast_arrays\u001b[1;34m(*args, **kwargs)\u001b[0m\n",
      "\u001b[1;32m~\\Anaconda3\\lib\\site-packages\\numpy\\lib\\stride_tricks.py\u001b[0m in \u001b[0;36mbroadcast_arrays\u001b[1;34m(*args, **kwargs)\u001b[0m\n\u001b[0;32m    262\u001b[0m     \u001b[0margs\u001b[0m \u001b[1;33m=\u001b[0m \u001b[1;33m[\u001b[0m\u001b[0mnp\u001b[0m\u001b[1;33m.\u001b[0m\u001b[0marray\u001b[0m\u001b[1;33m(\u001b[0m\u001b[0m_m\u001b[0m\u001b[1;33m,\u001b[0m \u001b[0mcopy\u001b[0m\u001b[1;33m=\u001b[0m\u001b[1;32mFalse\u001b[0m\u001b[1;33m,\u001b[0m \u001b[0msubok\u001b[0m\u001b[1;33m=\u001b[0m\u001b[0msubok\u001b[0m\u001b[1;33m)\u001b[0m \u001b[1;32mfor\u001b[0m \u001b[0m_m\u001b[0m \u001b[1;32min\u001b[0m \u001b[0margs\u001b[0m\u001b[1;33m]\u001b[0m\u001b[1;33m\u001b[0m\u001b[1;33m\u001b[0m\u001b[0m\n\u001b[0;32m    263\u001b[0m \u001b[1;33m\u001b[0m\u001b[0m\n\u001b[1;32m--> 264\u001b[1;33m     \u001b[0mshape\u001b[0m \u001b[1;33m=\u001b[0m \u001b[0m_broadcast_shape\u001b[0m\u001b[1;33m(\u001b[0m\u001b[1;33m*\u001b[0m\u001b[0margs\u001b[0m\u001b[1;33m)\u001b[0m\u001b[1;33m\u001b[0m\u001b[1;33m\u001b[0m\u001b[0m\n\u001b[0m\u001b[0;32m    265\u001b[0m \u001b[1;33m\u001b[0m\u001b[0m\n\u001b[0;32m    266\u001b[0m     \u001b[1;32mif\u001b[0m \u001b[0mall\u001b[0m\u001b[1;33m(\u001b[0m\u001b[0marray\u001b[0m\u001b[1;33m.\u001b[0m\u001b[0mshape\u001b[0m \u001b[1;33m==\u001b[0m \u001b[0mshape\u001b[0m \u001b[1;32mfor\u001b[0m \u001b[0marray\u001b[0m \u001b[1;32min\u001b[0m \u001b[0margs\u001b[0m\u001b[1;33m)\u001b[0m\u001b[1;33m:\u001b[0m\u001b[1;33m\u001b[0m\u001b[1;33m\u001b[0m\u001b[0m\n",
      "\u001b[1;32m~\\Anaconda3\\lib\\site-packages\\numpy\\lib\\stride_tricks.py\u001b[0m in \u001b[0;36m_broadcast_shape\u001b[1;34m(*args)\u001b[0m\n\u001b[0;32m    189\u001b[0m     \u001b[1;31m# use the old-iterator because np.nditer does not handle size 0 arrays\u001b[0m\u001b[1;33m\u001b[0m\u001b[1;33m\u001b[0m\u001b[1;33m\u001b[0m\u001b[0m\n\u001b[0;32m    190\u001b[0m     \u001b[1;31m# consistently\u001b[0m\u001b[1;33m\u001b[0m\u001b[1;33m\u001b[0m\u001b[1;33m\u001b[0m\u001b[0m\n\u001b[1;32m--> 191\u001b[1;33m     \u001b[0mb\u001b[0m \u001b[1;33m=\u001b[0m \u001b[0mnp\u001b[0m\u001b[1;33m.\u001b[0m\u001b[0mbroadcast\u001b[0m\u001b[1;33m(\u001b[0m\u001b[1;33m*\u001b[0m\u001b[0margs\u001b[0m\u001b[1;33m[\u001b[0m\u001b[1;33m:\u001b[0m\u001b[1;36m32\u001b[0m\u001b[1;33m]\u001b[0m\u001b[1;33m)\u001b[0m\u001b[1;33m\u001b[0m\u001b[1;33m\u001b[0m\u001b[0m\n\u001b[0m\u001b[0;32m    192\u001b[0m     \u001b[1;31m# unfortunately, it cannot handle 32 or more arguments directly\u001b[0m\u001b[1;33m\u001b[0m\u001b[1;33m\u001b[0m\u001b[1;33m\u001b[0m\u001b[0m\n\u001b[0;32m    193\u001b[0m     \u001b[1;32mfor\u001b[0m \u001b[0mpos\u001b[0m \u001b[1;32min\u001b[0m \u001b[0mrange\u001b[0m\u001b[1;33m(\u001b[0m\u001b[1;36m32\u001b[0m\u001b[1;33m,\u001b[0m \u001b[0mlen\u001b[0m\u001b[1;33m(\u001b[0m\u001b[0margs\u001b[0m\u001b[1;33m)\u001b[0m\u001b[1;33m,\u001b[0m \u001b[1;36m31\u001b[0m\u001b[1;33m)\u001b[0m\u001b[1;33m:\u001b[0m\u001b[1;33m\u001b[0m\u001b[1;33m\u001b[0m\u001b[0m\n",
      "\u001b[1;31mValueError\u001b[0m: shape mismatch: objects cannot be broadcast to a single shape"
     ]
    },
    {
     "data": {
      "image/png": "[encoded data removed]",
      "text/plain": [
       "<Figure size 4536x360 with 1 Axes>"
      ]
     },
     "metadata": {
      "needs_background": "light"
     },
     "output_type": "display_data"
    }
   ],
   "source": [
    "input_data = (df, 'rapport datum', 'sbs')\n",
    "time_range = [min(df['rapport datum']), max(df['rapport datum'])]\n",
    "available_categories = sa.metadata.contract_info()['aanwezige_deelinstallaties']\n",
    "\n",
    "prepped_data = pp.prep(df, time_range, available_categories, time_key='rapport datum', category_key='sbs')\n",
    "print(prepped_data, [len(l) for l in prepped_data])\n",
    "\n",
    "plot_type = 'stacked'\n",
    "category_labels = available_categories\n",
    "\n",
    "pp.plot(input_data=prepped_data, plot_type='stacked', category_labels=category_labels, bin_labels=pp.last_seen_bin_names)\n",
    "# Huidige error weg werken."
   ]
  },
  {
   "cell_type": "code",
   "execution_count": null,
   "metadata": {},
   "outputs": [],
   "source": []
  },
  {
   "cell_type": "markdown",
   "metadata": {
    "hide_input": true
   },
   "source": [
    "## Aantal storingen per deelinstallatie"
   ]
  },
  {
   "cell_type": "code",
   "execution_count": null,
   "metadata": {
    "hide_input": true
   },
   "outputs": [],
   "source": [
    "df_s = sa.storingen.copy()\n",
    "# changing the di_numbers from '45-10' to '45'\n",
    "new_num = []\n",
    "for num in df_s['sbs']:\n",
    "    if num is np.nan:\n",
    "        new_num.append(num)\n",
    "    else:\n",
    "        new_num.append(sa._isolate_di_number(num))\n",
    "\n",
    "df_s.loc[:, 'sbs'] = new_num"
   ]
  },
  {
   "cell_type": "code",
   "execution_count": null,
   "metadata": {
    "hide_input": true
   },
   "outputs": [],
   "source": [
    "# prep\n",
    "sbs_grouped_df = df_s.copy().groupby(['sbs'])\n",
    "\n",
    "\"\"\"\n",
    "dictionary structure\n",
    "{'23': {1: 1},\n",
    " '41': {1: 1},\n",
    " '43': {2: 1},\n",
    " '45': {2: 2, 1: 2},\n",
    " '46A': {2: 2},\n",
    " '61': {3: 1},\n",
    " '62': {1: 1},\n",
    " '63': {1: 1},\n",
    " '67': {2: 1},\n",
    " '74': {2: 1}}\n",
    "\"\"\"\n",
    "dictionary = {}\n",
    "for group in sbs_grouped_df.groups.keys():\n",
    "    df_group = sbs_grouped_df.get_group(group)\n",
    "    month_counts = df_group['month_number'].value_counts().to_dict()\n",
    "    if group in dictionary:\n",
    "        for key in group.keys():\n",
    "            if key in dictionary[group]:\n",
    "                dictionary[group][key] += group[key]\n",
    "            else:\n",
    "                dictionary[group] = group[key]\n",
    "    else:\n",
    "        dictionary[group] = month_counts\n",
    "\n",
    "\"\"\"\n",
    "new_dictionary structure\n",
    "{'23': [1, 0, 0],\n",
    " '41': [1, 0, 0],\n",
    " '43': [0, 1, 0],\n",
    " '45': [2, 2, 0],\n",
    " '46A': [0, 2, 0],\n",
    " '61': [0, 0, 1],\n",
    " '62': [1, 0, 0],\n",
    " '63': [1, 0, 0],\n",
    " '67': [0, 1, 0],\n",
    " '74': [0, 1, 0]}\n",
    "\"\"\"\n",
    "new_dictionary = {}\n",
    "for di_num in dictionary:\n",
    "    list_of_lists = []\n",
    "    for i in range(3):\n",
    "        month_num = i + 1\n",
    "        if month_num in dictionary[di_num].keys():\n",
    "            list_of_lists.append(dictionary[di_num][month_num])\n",
    "        else:\n",
    "            list_of_lists.append(0)\n",
    "    new_dictionary[di_num] = list_of_lists\n",
    "\n",
    "\"\"\"\n",
    "lol structure\n",
    "[[1, 1, 0, 2, 0, 0, 1, 1, 0, 0],\n",
    " [0, 0, 1, 2, 2, 0, 0, 0, 1, 1],\n",
    " [0, 0, 0, 0, 0, 1, 0, 0, 0, 0]]\n",
    "\"\"\"\n",
    "lol = []  # list of lists but name was already used\n",
    "for index in range(3):\n",
    "    l = []\n",
    "    for di_num in new_dictionary:\n",
    "        l.append(new_dictionary[di_num][index])\n",
    "    lol.append(l)"
   ]
  },
  {
   "cell_type": "code",
   "execution_count": null,
   "metadata": {
    "cell_style": "split",
    "hide_input": true,
    "scrolled": true
   },
   "outputs": [],
   "source": [
    "# plot\n",
    "labels = list(new_dictionary.keys())\n",
    "width = 0.3\n",
    "\n",
    "fig, axis = plt.subplots()\n",
    "\n",
    "prev = []\n",
    "for l in range(len(lol)):\n",
    "    month = sa._month_num_to_name([l+1])\n",
    "\n",
    "    # added case for loop l = 0 after if\n",
    "    axis.bar(labels, lol[l], width, label=month, bottom=prev) if l > 0 else \\\n",
    "    axis.bar(labels, lol[l], width, label=month)\n",
    "    \n",
    "    # prev sets the height of the newly added values like above\n",
    "    # the added list needs to be added to prev to get the correct height\n",
    "    prev = [prev[idx] + lol[l][idx] for idx in range(len(lol[l]))] if l > 0 else lol[l]\n",
    "\n",
    "axis.set_xlabel('Deelinstallatie nummers')\n",
    "axis.set_ylabel('Aantal')\n",
    "axis.set_title(\"Aantal storingen per deelinstallatie\")\n",
    "axis.legend()\n",
    "\n",
    "axis.margins(x=0.05, y=0.1)\n",
    "\n",
    "axis.set_axisbelow(True)\n",
    "axis.grid(axis='y', linestyle='--')\n",
    "\n",
    "plt.show()\n",
    "add_graph_for_export(fig)"
   ]
  },
  {
   "cell_type": "code",
   "execution_count": null,
   "metadata": {
    "cell_style": "split",
    "hide_input": true
   },
   "outputs": [],
   "source": [
    "# prep\n",
    "val_counts_months = df_s['month_number'].value_counts()\n",
    "\n",
    "ordered_dict = {key: val_counts_months[key] for key in sorted(val_counts_months.to_dict())}\n",
    "\n",
    "for key in ordered_dict.keys():\n",
    "    new_key = sa._month_num_to_name([key])\n",
    "    ordered_dict[new_key] = ordered_dict.pop(key)\n",
    "\n",
    "print(ordered_dict)    \n",
    "    \n",
    "# plot\n",
    "fig, axis = plt.subplots()\n",
    "axis.bar(ordered_dict.keys(), ordered_dict.values(), width = 0.3)\n",
    "axis.set_ylabel('Aantal')\n",
    "axis.set_title(\"Aantal storingen per maand\")\n",
    "axis.margins(x=.2, y=.2)\n",
    "\n",
    "axis.set_axisbelow(True)\n",
    "axis.grid(axis='y', linestyle='--')\n",
    "\n",
    "plt.show()\n",
    "add_graph_for_export(fig)"
   ]
  },
  {
   "cell_type": "markdown",
   "metadata": {},
   "source": [
    "## Aantal onterechte meldingen per deelinstallatie"
   ]
  },
  {
   "cell_type": "code",
   "execution_count": null,
   "metadata": {
    "hide_input": true,
    "scrolled": false
   },
   "outputs": [],
   "source": [
    "df_o = sa._isolate_notification_type(like_ntype='onterecht').copy()\n",
    "# changing the di_numbers from '45-10' to '45'\n",
    "new_num = []\n",
    "for num in df_o['sbs']:\n",
    "    if num is np.nan:\n",
    "        new_num.append(num)\n",
    "    else:\n",
    "        new_num.append(sa._isolate_di_number(num))\n",
    "\n",
    "df_o.loc[:, 'sbs'] = new_num"
   ]
  },
  {
   "cell_type": "code",
   "execution_count": null,
   "metadata": {
    "hide_input": true
   },
   "outputs": [],
   "source": [
    "# prep\n",
    "sbs_grouped_df = df_o.copy().groupby(['sbs'])\n",
    "\n",
    "\"\"\"\n",
    "dictionary structure\n",
    "{'23': {1: 1},\n",
    " '41': {1: 1},\n",
    " '43': {2: 1},\n",
    " '45': {2: 2, 1: 2},\n",
    " '46A': {2: 2},\n",
    " '61': {3: 1},\n",
    " '62': {1: 1},\n",
    " '63': {1: 1},\n",
    " '67': {2: 1},\n",
    " '74': {2: 1}}\n",
    "\"\"\"\n",
    "dictionary = {}\n",
    "for group in sbs_grouped_df.groups.keys():\n",
    "    df_group = sbs_grouped_df.get_group(group)\n",
    "    month_counts = df_group['month_number'].value_counts().to_dict()\n",
    "    if group in dictionary:\n",
    "        for key in group.keys():\n",
    "            if key in dictionary[group]:\n",
    "                dictionary[group][key] += group[key]\n",
    "            else:\n",
    "                dictionary[group] = group[key]\n",
    "    else:\n",
    "        dictionary[group] = month_counts\n",
    "\n",
    "\"\"\"\n",
    "new_dictionary structure\n",
    "{'23': [1, 0, 0],\n",
    " '41': [1, 0, 0],\n",
    " '43': [0, 1, 0],\n",
    " '45': [2, 2, 0],\n",
    " '46A': [0, 2, 0],\n",
    " '61': [0, 0, 1],\n",
    " '62': [1, 0, 0],\n",
    " '63': [1, 0, 0],\n",
    " '67': [0, 1, 0],\n",
    " '74': [0, 1, 0]}\n",
    "\"\"\"\n",
    "new_dictionary = {}\n",
    "for di_num in dictionary:\n",
    "    list_of_lists = []\n",
    "    for i in range(3):\n",
    "        month_num = i + 1\n",
    "        if month_num in dictionary[di_num].keys():\n",
    "            list_of_lists.append(dictionary[di_num][month_num])\n",
    "        else:\n",
    "            list_of_lists.append(0)\n",
    "    new_dictionary[di_num] = list_of_lists\n",
    "\n",
    "\"\"\"\n",
    "lol structure\n",
    "[[1, 1, 0, 2, 0, 0, 1, 1, 0, 0],\n",
    " [0, 0, 1, 2, 2, 0, 0, 0, 1, 1],\n",
    " [0, 0, 0, 0, 0, 1, 0, 0, 0, 0]]\n",
    "\"\"\"\n",
    "lol = []  # list of lists but name was already used\n",
    "for index in range(3):\n",
    "    l = []\n",
    "    for di_num in new_dictionary:\n",
    "        l.append(new_dictionary[di_num][index])\n",
    "    lol.append(l)"
   ]
  },
  {
   "cell_type": "code",
   "execution_count": null,
   "metadata": {
    "cell_style": "split",
    "hide_input": true,
    "scrolled": true
   },
   "outputs": [],
   "source": [
    "# plot\n",
    "labels = list(new_dictionary.keys())\n",
    "width = 0.3\n",
    "\n",
    "fig, axis = plt.subplots()\n",
    "\n",
    "prev = []\n",
    "for l in range(len(lol)):\n",
    "    month = sa._month_num_to_name([l+1])\n",
    "\n",
    "    # added case for loop l = 0 after if\n",
    "    axis.bar(labels, lol[l], width, label=month, bottom=prev) if l > 0 else \\\n",
    "    axis.bar(labels, lol[l], width, label=month)\n",
    "    \n",
    "    # prev sets the height of the newly added values like above\n",
    "    # the added list needs to be added to prev to get the correct height\n",
    "    prev = [prev[idx] + lol[l][idx] for idx in range(len(lol[l]))] if l > 0 else lol[l]\n",
    "\n",
    "axis.set_xlabel('Deelinstallatie nummers')\n",
    "axis.set_ylabel('Aantal')\n",
    "axis.set_title(\"Aantal onterechte meldingen per deelinstallatie\")\n",
    "axis.legend()\n",
    "\n",
    "axis.margins(x=0.05, y=0.1)\n",
    "\n",
    "axis.set_axisbelow(True)\n",
    "axis.grid(axis='y', linestyle='--')\n",
    "\n",
    "plt.show()\n",
    "add_graph_for_export(fig)"
   ]
  },
  {
   "cell_type": "code",
   "execution_count": null,
   "metadata": {
    "cell_style": "split",
    "hide_input": true,
    "scrolled": true
   },
   "outputs": [],
   "source": [
    "# prep\n",
    "val_counts_months = df_o['month_number'].value_counts()\n",
    "\n",
    "ordered_dict = {key: val_counts_months[key] for key in sorted(val_counts_months.to_dict())}\n",
    "\n",
    "for key in ordered_dict.keys():\n",
    "    new_key = sa._month_num_to_name([key])\n",
    "    ordered_dict[new_key] = ordered_dict.pop(key)\n",
    "\n",
    "print(ordered_dict)\n",
    "    \n",
    "# plot\n",
    "fig, axis = plt.subplots()\n",
    "axis.bar(ordered_dict.keys(), ordered_dict.values(), width = 0.3)\n",
    "axis.set_ylabel('Aantal')\n",
    "axis.set_title(\"Aantal onterechte meldingen per maand\")\n",
    "axis.margins(x=.2, y=.2)\n",
    "\n",
    "axis.set_axisbelow(True)\n",
    "axis.grid(axis='y', linestyle='--')\n",
    "\n",
    "plt.show()\n",
    "add_graph_for_export(fig)"
   ]
  },
  {
   "cell_type": "markdown",
   "metadata": {},
   "source": [
    "## Totaal aantal meldingen preventief per deelinstallatie"
   ]
  },
  {
   "cell_type": "code",
   "execution_count": null,
   "metadata": {
    "hide_input": true
   },
   "outputs": [],
   "source": [
    "df_p = sa._isolate_notification_type(like_ntype='preventief').copy()\n",
    "# changing the di_numbers from '45-10' to '45'\n",
    "new_num = []\n",
    "for num in df_p['sbs']:\n",
    "    if num is np.nan:\n",
    "        new_num.append(num)\n",
    "    else:\n",
    "        new_num.append(sa._isolate_di_number(num))\n",
    "\n",
    "df_p.loc[:, 'sbs'] = new_num"
   ]
  },
  {
   "cell_type": "code",
   "execution_count": null,
   "metadata": {
    "hide_input": true
   },
   "outputs": [],
   "source": [
    "# prep\n",
    "sbs_grouped_df = df_p.copy().groupby(['sbs'])\n",
    "\n",
    "\"\"\"\n",
    "dictionary structure\n",
    "{'23': {1: 1},\n",
    " '41': {1: 1},\n",
    " '43': {2: 1},\n",
    " '45': {2: 2, 1: 2},\n",
    " '46A': {2: 2},\n",
    " '61': {3: 1},\n",
    " '62': {1: 1},\n",
    " '63': {1: 1},\n",
    " '67': {2: 1},\n",
    " '74': {2: 1}}\n",
    "\"\"\"\n",
    "dictionary = {}\n",
    "for group in sbs_grouped_df.groups.keys():\n",
    "    df_group = sbs_grouped_df.get_group(group)\n",
    "    month_counts = df_group['month_number'].value_counts().to_dict()\n",
    "    if group in dictionary:\n",
    "        for key in group.keys():\n",
    "            if key in dictionary[group]:\n",
    "                dictionary[group][key] += group[key]\n",
    "            else:\n",
    "                dictionary[group] = group[key]\n",
    "    else:\n",
    "        dictionary[group] = month_counts\n",
    "\n",
    "\"\"\"\n",
    "new_dictionary structure\n",
    "{'23': [1, 0, 0],\n",
    " '41': [1, 0, 0],\n",
    " '43': [0, 1, 0],\n",
    " '45': [2, 2, 0],\n",
    " '46A': [0, 2, 0],\n",
    " '61': [0, 0, 1],\n",
    " '62': [1, 0, 0],\n",
    " '63': [1, 0, 0],\n",
    " '67': [0, 1, 0],\n",
    " '74': [0, 1, 0]}\n",
    "\"\"\"\n",
    "new_dictionary = {}\n",
    "for di_num in dictionary:\n",
    "    list_of_lists = []\n",
    "    for i in range(3):\n",
    "        month_num = i + 1\n",
    "        if month_num in dictionary[di_num].keys():\n",
    "            list_of_lists.append(dictionary[di_num][month_num])\n",
    "        else:\n",
    "            list_of_lists.append(0)\n",
    "    new_dictionary[di_num] = list_of_lists\n",
    "\n",
    "\"\"\"\n",
    "lol structure\n",
    "[[1, 1, 0, 2, 0, 0, 1, 1, 0, 0],\n",
    " [0, 0, 1, 2, 2, 0, 0, 0, 1, 1],\n",
    " [0, 0, 0, 0, 0, 1, 0, 0, 0, 0]]\n",
    "\"\"\"\n",
    "lol = []  # list of lists but name was already used\n",
    "for index in range(3):\n",
    "    l = []\n",
    "    for di_num in new_dictionary:\n",
    "        l.append(new_dictionary[di_num][index])\n",
    "    lol.append(l)"
   ]
  },
  {
   "cell_type": "code",
   "execution_count": null,
   "metadata": {
    "cell_style": "split",
    "hide_input": true,
    "scrolled": true
   },
   "outputs": [],
   "source": [
    "# plot\n",
    "labels = list(new_dictionary.keys())\n",
    "width = 0.3\n",
    "\n",
    "fig, axis = plt.subplots()\n",
    "\n",
    "prev = []\n",
    "for l in range(len(lol)):\n",
    "    month = sa._month_num_to_name([l+1])\n",
    "\n",
    "    # added case for loop l = 0 after if\n",
    "    axis.bar(labels, lol[l], width, label=month, bottom=prev) if l > 0 else \\\n",
    "    axis.bar(labels, lol[l], width, label=month)\n",
    "    \n",
    "    # prev sets the height of the newly added values like above\n",
    "    # the added list needs to be added to prev to get the correct height\n",
    "    prev = [prev[idx] + lol[l][idx] for idx in range(len(lol[l]))] if l > 0 else lol[l]\n",
    "\n",
    "\n",
    "axis.set_xlabel('Deelinstallatie nummers')\n",
    "axis.set_ylabel('Aantal')\n",
    "axis.set_title(\"Aantal meldingen preventief per deelinstallatie\")\n",
    "axis.legend()\n",
    "\n",
    "axis.margins(x=0.05, y=0.1)\n",
    "\n",
    "axis.set_axisbelow(True)\n",
    "axis.grid(axis='y', linestyle='--')\n",
    "\n",
    "plt.show()\n",
    "add_graph_for_export(fig)"
   ]
  },
  {
   "cell_type": "code",
   "execution_count": null,
   "metadata": {
    "cell_style": "split",
    "hide_input": true
   },
   "outputs": [],
   "source": [
    "# prep\n",
    "val_counts_months = df_p['month_number'].value_counts()\n",
    "\n",
    "ordered_dict = {key: val_counts_months[key] for key in sorted(val_counts_months.to_dict())}\n",
    "\n",
    "for key in ordered_dict.keys():\n",
    "    new_key = sa._month_num_to_name([key])\n",
    "    ordered_dict[new_key] = ordered_dict.pop(key)\n",
    "\n",
    "print(ordered_dict)\n",
    "    \n",
    "# plot\n",
    "fig, axis = plt.subplots()\n",
    "axis.bar(ordered_dict.keys(), ordered_dict.values(), width = 0.3)\n",
    "axis.set_ylabel('Aantal')\n",
    "axis.set_title(\"Aantal meldingen preventief per maand\")\n",
    "axis.margins(x=.2, y=.2)\n",
    "\n",
    "axis.set_axisbelow(True)\n",
    "axis.grid(axis='y', linestyle='--')\n",
    "\n",
    "plt.show()\n",
    "add_graph_for_export(fig)"
   ]
  },
  {
   "cell_type": "markdown",
   "metadata": {},
   "source": [
    "## Aantal incidenten per deelinstallatie"
   ]
  },
  {
   "cell_type": "code",
   "execution_count": null,
   "metadata": {
    "hide_input": true
   },
   "outputs": [],
   "source": [
    "df_i = sa._isolate_notification_type(like_ntype='incident').copy()\n",
    "# changing the di_numbers from '45-10' to '45'\n",
    "new_num = []\n",
    "for num in df_i['sbs']:\n",
    "    if num is np.nan:\n",
    "        new_num.append(num)\n",
    "    else:\n",
    "        new_num.append(sa._isolate_di_number(num))\n",
    "\n",
    "df_i.loc[:, 'sbs'] = new_num"
   ]
  },
  {
   "cell_type": "code",
   "execution_count": null,
   "metadata": {
    "cell_style": "center",
    "hide_input": true
   },
   "outputs": [],
   "source": [
    "# prep\n",
    "sbs_grouped_df = df_i.copy().groupby(['sbs'])\n",
    "\n",
    "\"\"\"\n",
    "dictionary structure (result of code below)\n",
    "{'23': {1: 1},  # {month_num: notifications}\n",
    " '41': {1: 1},\n",
    " '43': {2: 1},\n",
    " '45': {2: 2, 1: 2},\n",
    " '46A': {2: 2},\n",
    " '61': {3: 1},\n",
    " '62': {1: 1},\n",
    " '63': {1: 1},\n",
    " '67': {2: 1},\n",
    " '74': {2: 1}}\n",
    "\"\"\"\n",
    "dictionary = {}\n",
    "for group in sbs_grouped_df.groups.keys():\n",
    "    df_group = sbs_grouped_df.get_group(group)\n",
    "    month_counts = df_group['month_number'].value_counts().to_dict()\n",
    "    if group in dictionary:\n",
    "        for key in group.keys():\n",
    "            if key in dictionary[group]:\n",
    "                dictionary[group][key] += group[key]\n",
    "            else:\n",
    "                dictionary[group] = group[key]\n",
    "    else:\n",
    "        dictionary[group] = month_counts\n",
    "\n",
    "\"\"\"\n",
    "new_dictionary structure (result of code below)\n",
    "{'23': [1, 0, 0],\n",
    " '41': [1, 0, 0],\n",
    " '43': [0, 1, 0],\n",
    " '45': [2, 2, 0],\n",
    " '46A': [0, 2, 0],\n",
    " '61': [0, 0, 1],\n",
    " '62': [1, 0, 0],\n",
    " '63': [1, 0, 0],\n",
    " '67': [0, 1, 0],\n",
    " '74': [0, 1, 0]}\n",
    "\"\"\"\n",
    "new_dictionary = {}\n",
    "for di_num in dictionary:\n",
    "    list_of_lists = []\n",
    "    for i in range(3):\n",
    "        month_num = i + 1\n",
    "        if month_num in dictionary[di_num].keys():\n",
    "            list_of_lists.append(dictionary[di_num][month_num])\n",
    "        else:\n",
    "            list_of_lists.append(0)\n",
    "    new_dictionary[di_num] = list_of_lists\n",
    "\n",
    "\"\"\"\n",
    "lol structure (result of code below)\n",
    "[[1, 1, 0, 2, 0, 0, 1, 1, 0, 0],\n",
    " [0, 0, 1, 2, 2, 0, 0, 0, 1, 1],\n",
    " [0, 0, 0, 0, 0, 1, 0, 0, 0, 0]]\n",
    "\"\"\"\n",
    "lol = []  # list of lists but name was already used\n",
    "for index in range(3):\n",
    "    l = []\n",
    "    for di_num in new_dictionary:\n",
    "        l.append(new_dictionary[di_num][index])\n",
    "    lol.append(l)"
   ]
  },
  {
   "cell_type": "code",
   "execution_count": null,
   "metadata": {
    "cell_style": "split",
    "hide_input": true,
    "scrolled": true
   },
   "outputs": [],
   "source": [
    "# plot\n",
    "labels = list(new_dictionary.keys())\n",
    "width = 0.3\n",
    "\n",
    "fig, axis = plt.subplots()\n",
    "\n",
    "prev = []\n",
    "for l in range(len(lol)):\n",
    "    month = sa._month_num_to_name([l+1])\n",
    "\n",
    "    # added case for loop l = 0 after if\n",
    "    axis.bar(labels, lol[l], width, label=month, bottom=prev) if l > 0 else \\\n",
    "    axis.bar(labels, lol[l], width, label=month)\n",
    "    \n",
    "    # prev sets the height of the newly added values like above\n",
    "    # the added list needs to be added to prev to get the correct height\n",
    "    prev = [prev[idx] + lol[l][idx] for idx in range(len(lol[l]))] if l > 0 else lol[l]\n",
    "\n",
    "\n",
    "axis.set_xlabel('Deelinstallatie nummers')\n",
    "axis.set_ylabel('Aantal')\n",
    "axis.set_title(\"Aantal incidenten per deelinstallatie\")\n",
    "axis.legend()\n",
    "\n",
    "axis.margins(x=0.05, y=0.1)\n",
    "\n",
    "axis.set_axisbelow(True)\n",
    "axis.grid(axis='y', linestyle=':')\n",
    "\n",
    "plt.show()\n",
    "add_graph_for_export(fig)"
   ]
  },
  {
   "cell_type": "code",
   "execution_count": null,
   "metadata": {
    "cell_style": "split",
    "hide_input": true
   },
   "outputs": [],
   "source": [
    "# prep\n",
    "val_counts_months = df_i['month_number'].value_counts()\n",
    "\n",
    "ordered_dict = {key: val_counts_months[key] for key in sorted(val_counts_months.to_dict())}\n",
    "\n",
    "for key in ordered_dict.keys():\n",
    "    new_key = sa._month_num_to_name([key])\n",
    "    ordered_dict[new_key] = ordered_dict.pop(key)\n",
    "\n",
    "print(ordered_dict)    \n",
    "    \n",
    "# plot\n",
    "fig, axis = plt.subplots()\n",
    "axis.bar(ordered_dict.keys(), ordered_dict.values(), width = 0.3)\n",
    "axis.set_ylabel('Aantal')\n",
    "axis.set_title(\"Aantal incidenten per maand\")\n",
    "axis.margins(x=.2, y=.2)\n",
    "\n",
    "axis.set_axisbelow(True)\n",
    "axis.grid(axis='y', linestyle='-.')\n",
    "\n",
    "plt.show()\n",
    "add_graph_for_export(fig)"
   ]
  },
  {
   "cell_type": "markdown",
   "metadata": {},
   "source": [
    "# Combineren van de historische data met de staging file."
   ]
  },
  {
   "cell_type": "code",
   "execution_count": null,
   "metadata": {},
   "outputs": [],
   "source": [
    "# meldingen\n",
    "x = sa.meldingen.copy()\n",
    "histo_meldingen = sa.metadata.meldingen()\n",
    "\n",
    "# datum wordt een input veld\n",
    "input_start_date = datetime(2021, 4, 1)\n",
    "\n",
    "new_num = []\n",
    "for num in x['sbs']:\n",
    "    if num is np.nan:\n",
    "        new_num.append(num)\n",
    "    else:\n",
    "        new_num.append(sa._isolate_di_number(num))\n",
    "\n",
    "x.loc[:, 'sbs'] = new_num\n",
    "\n",
    "x = x.groupby(['month_number'])\n",
    "\n",
    "\"\"\"\n",
    "De meldnigen zonder di nummer worden door Remko nu anagepast zodat ze toch een di nummer hebben.\n",
    "\"\"\"\n",
    "new_hist = {}\n",
    "for group in x.groups:\n",
    "    dff = x.get_group(group)\n",
    "    vc = dff['sbs'].value_counts().to_dict()\n",
    "    key = f'0{group}_{input_start_date.year}' if group < 10 else f'{group}_{input_start_date.year}'\n",
    "    new_hist[key] = dff['sbs'].value_counts().to_dict()\n",
    "    \n",
    "\n",
    "# dev_case had historical data up until 03_2021, so TypeError because of overlapping keys Q1 for 2021\n",
    "# updated_histo = dict(**histo_meldingen, **new_hist)\n",
    "updated_histo = dict(**histo_meldingen)"
   ]
  },
  {
   "cell_type": "code",
   "execution_count": null,
   "metadata": {},
   "outputs": [],
   "source": [
    "# storingen\n",
    "x = sa.storingen.copy()\n",
    "histo_storingen = sa.metadata.storingen()\n",
    "\n",
    "new_num = []\n",
    "for num in x['sbs']:\n",
    "    if num is np.nan:\n",
    "        new_num.append(num)\n",
    "    else:\n",
    "        new_num.append(sa._isolate_di_number(num))\n",
    "\n",
    "x.loc[:, 'sbs'] = new_num\n",
    "\n",
    "x = x.groupby(['month_number'])\n",
    "\n",
    "new_hist = {}\n",
    "for group in x.groups:\n",
    "    dff = x.get_group(group)\n",
    "    vc = dff['sbs'].value_counts().to_dict()\n",
    "    key = f'0{group}_{input_start_date.year}' if group < 10 else f'{group}_{input_start_date.year}'\n",
    "    new_hist[key] = dff['sbs'].value_counts().to_dict()\n",
    "    \n",
    "\n",
    "# dev_case had historical data up until 03_2021, so TypeError because of overlapping keys Q1 for 2021\n",
    "# updated_histo = dict(**histo_storingen, **new_hist)\n",
    "updated_histo_storingen = dict(**histo_storingen)"
   ]
  },
  {
   "cell_type": "markdown",
   "metadata": {},
   "source": [
    "# Vervolg grafieken"
   ]
  },
  {
   "cell_type": "markdown",
   "metadata": {},
   "source": [
    "## Vergelijking meldingen Qx met alle voorgaande Qx"
   ]
  },
  {
   "cell_type": "code",
   "execution_count": null,
   "metadata": {},
   "outputs": [],
   "source": [
    "months_to_exclude = [sa.metadata._quarters[q][i] for q in sa.metadata._quarters.keys() if q != 'Q1' for i in range(len(sa.metadata._quarters[q]))]\n",
    "print(f'Months to exclude in function get_month_list: {months_to_exclude}\\n')\n",
    "\n",
    "month_list = sa.metadata.get_month_list(exclude_month=months_to_exclude)\n",
    "print(f'month list = {month_list}')\n",
    "\n",
    "ordered_month_list = sa.metadata.order_month_list_by_year(month_list=month_list)\n",
    "ordered_month_list\n"
   ]
  },
  {
   "cell_type": "markdown",
   "metadata": {},
   "source": [
    "Neem de ordered dict en verzamel de som van de meldingen per maand en som die per jaar op. result is een dict met structuur\n",
    "```\n",
    "{q1_jaar1: aantal meldingen,\n",
    " ... : ... ,\n",
    " q1_jaarn: aantal meldingen}\n",
    "```"
   ]
  },
  {
   "cell_type": "code",
   "execution_count": null,
   "metadata": {},
   "outputs": [],
   "source": [
    "notifications_per_quarter = {}\n",
    "for key in ordered_month_list.keys():\n",
    "    summed_vals = sa.metadata.sum_values(dictionary=updated_histo, keys=ordered_month_list[key])\n",
    "    notifications_per_quarter[key] = summed_vals\n",
    "\n",
    "notifications_per_quarter"
   ]
  },
  {
   "cell_type": "markdown",
   "metadata": {},
   "source": [
    "### Alternatieve werkwijze\n",
    "Met het toepassen van de module self.filter_dictionary_keys().\n",
    "\n",
    "werkwijze van hiervoor verzameld eerst het aantal meldingen per kwartaal en dan meldingen per deelinstallatie per kwartaal.\n",
    "\n",
    "onderstaande werkwijze verzameld eerst het aantal meldingen per di per kwartaal en dan het aantal meldingen per kwartaal."
   ]
  },
  {
   "cell_type": "code",
   "execution_count": null,
   "metadata": {
    "scrolled": true
   },
   "outputs": [],
   "source": [
    "filtered_meldingen_dict = {}\n",
    "for key in ordered_month_list.keys():\n",
    "    filtered_meldingen = sa.metadata.filter_dictionary_keys(dictionary=updated_histo, keys=ordered_month_list[key])\n",
    "    filtered_meldingen_dict[key] = filtered_meldingen\n",
    "    \n",
    "filtered_meldingen_dict"
   ]
  },
  {
   "cell_type": "markdown",
   "metadata": {},
   "source": [
    "## Vervolg Vergelijking Qx met alle voorgaande Qx"
   ]
  },
  {
   "cell_type": "code",
   "execution_count": null,
   "metadata": {
    "scrolled": true
   },
   "outputs": [],
   "source": [
    "melding_per_q_dict = {}\n",
    "for year in filtered_meldingen_dict:  # keys als '2016', '2021'\n",
    "    if year not in melding_per_q_dict.keys():  # add key to new dict\n",
    "        melding_per_q_dict[year] = {}\n",
    "    \n",
    "    for d in filtered_meldingen_dict[year]:  # keys als '01_2016', '02_2016'\n",
    "        for di in filtered_meldingen_dict[year][d]:  # keys als di_nummers '45', '61'\n",
    "            if di not in melding_per_q_dict[year].keys():\n",
    "                melding_per_q_dict[year][di] = filtered_meldingen_dict[year][d][di]\n",
    "            else:\n",
    "                melding_per_q_dict[year][di] += filtered_meldingen_dict[year][d][di]\n",
    "                \n",
    "melding_per_q_dict  # wordt gebruikt om bars van bar plot naast elkaar te plotten"
   ]
  },
  {
   "cell_type": "code",
   "execution_count": null,
   "metadata": {},
   "outputs": [],
   "source": [
    "# switching level 1 and level 2 keys\n",
    "present_di_numbers = sa.metadata.contract_info()['aanwezige_deelinstallaties']\n",
    "\n",
    "new_dict = {x: {} for x in sorted(present_di_numbers)}\n",
    "\n",
    "for lvl1_key in melding_per_q_dict.keys():\n",
    "    \n",
    "    for lvl2_key in melding_per_q_dict[lvl1_key].keys():\n",
    "\n",
    "        val = melding_per_q_dict[lvl1_key][lvl2_key]\n",
    "        new_dict[lvl2_key][lvl1_key] = val\n",
    "\n",
    "new_dict"
   ]
  },
  {
   "cell_type": "code",
   "execution_count": null,
   "metadata": {
    "scrolled": true
   },
   "outputs": [],
   "source": [
    "\"\"\"\n",
    "new_dictionary structure (result of code below)\n",
    "{'23': [1, 0, 0],\n",
    " '41': [1, 0, 0],\n",
    " '43': [0, 1, 0],\n",
    " '45': [2, 2, 0],\n",
    " '46A': [0, 2, 0],\n",
    " '61': [0, 0, 1],\n",
    " '62': [1, 0, 0],\n",
    " '63': [1, 0, 0],\n",
    " '67': [0, 1, 0],\n",
    " '74': [0, 1, 0]}\n",
    "\"\"\"\n",
    "new_dictionary = {}\n",
    "for di_num in new_dict:  # new_dict is van vorig coce block\n",
    "    list_of_lists = []\n",
    "    for jaar in melding_per_q_dict.keys():\n",
    "\n",
    "        if jaar in new_dict[di_num].keys():\n",
    "            list_of_lists.append(new_dict[di_num][jaar])\n",
    "            \n",
    "        else:\n",
    "            list_of_lists.append(0)\n",
    "            \n",
    "    new_dictionary[di_num] = list_of_lists\n",
    "\n",
    "\"\"\"\n",
    "lol structure (result of code below)\n",
    "[[1, 1, 0, 2, 0, 0, 1, 1, 0, 0],\n",
    " [0, 0, 1, 2, 2, 0, 0, 0, 1, 1],\n",
    " [0, 0, 0, 0, 0, 1, 0, 0, 0, 0]]\n",
    "\"\"\"\n",
    "lol = []  # list of lists but name was already used\n",
    "for index in range(len(melding_per_q_dict.keys())):\n",
    "    l = []\n",
    "    for di_num in new_dictionary:\n",
    "        l.append(new_dictionary[di_num][index])\n",
    "    lol.append(l)  "
   ]
  },
  {
   "cell_type": "code",
   "execution_count": null,
   "metadata": {
    "scrolled": true
   },
   "outputs": [],
   "source": [
    "# plot\n",
    "labels = list(new_dictionary.keys())\n",
    "width = 0.3\n",
    "\n",
    "fig, axis = plt.subplots(figsize=(16, 6))\n",
    "\n",
    "color_label = [f'Q1_{x}' for x in list(melding_per_q_dict.keys())]\n",
    "\n",
    "# De waarden worden hier wss nog over elkaar heen gepresenteerd. Zoek naar een manier om dit naar elkaar te doen \n",
    "# of bouw dit blok om naar de opstapeling. \n",
    "for l in range(len(lol)):\n",
    "    axis.bar(labels, lol[l], width, label=color_label[l])\n",
    "\n",
    "axis.set_xlabel('Deelinstallatie nummers')\n",
    "axis.set_ylabel('Aantal')\n",
    "axis.set_title(\"Aantal incidenten per deelinstallatie\")\n",
    "axis.legend()\n",
    "\n",
    "axis.margins(x=0.05, y=0.1)\n",
    "\n",
    "plt.show()"
   ]
  },
  {
   "cell_type": "markdown",
   "metadata": {},
   "source": [
    "Onderstaand stuk richt zich op een andere presentatie dan bovenstaande grafiek. In de volgende grafiek is het de bedoeling dat de data van elke di naast elkaar gepresenteerd worden. \n",
    "\n",
    "melding_per_q_dict heeft voor het grootste deel de juiste structuur. Moet wel nog omgevormd worden naar een lijst van lijsten, waarbij elke lijst een jaar representeerd. (van dict of dicts naar list of lists)"
   ]
  },
  {
   "cell_type": "code",
   "execution_count": null,
   "metadata": {},
   "outputs": [],
   "source": [
    "source = new_dict.copy()\n",
    "source = {key: source[key] for key in source.keys() if len(source[key]) > 0}\n",
    "source"
   ]
  },
  {
   "cell_type": "code",
   "execution_count": null,
   "metadata": {},
   "outputs": [],
   "source": [
    "\"\"\"\n",
    "new_dictionary structure (result of code below)\n",
    "{'23': [1, 0, 0],\n",
    " '41': [1, 0, 0],\n",
    " '43': [0, 1, 0],\n",
    " '45': [2, 2, 0],\n",
    " '46A': [0, 2, 0],\n",
    " '61': [0, 0, 1],\n",
    " '62': [1, 0, 0],\n",
    " '63': [1, 0, 0],\n",
    " '67': [0, 1, 0],\n",
    " '74': [0, 1, 0]}\n",
    "\"\"\"\n",
    "jaren = list(melding_per_q_dict.keys())\n",
    "\n",
    "new_dictionary = {}\n",
    "\n",
    "for di_num in new_dict:\n",
    "    list_of_lists = []\n",
    "    for i in range(len(jaren)):  \n",
    "        jaar = jaren[i]\n",
    "        if jaar in new_dict[di_num].keys():\n",
    "            list_of_lists.append(new_dict[di_num][jaar])\n",
    "        else:\n",
    "            list_of_lists.append(0)\n",
    "    new_dictionary[di_num] = list_of_lists\n",
    "\n",
    "\"\"\"\n",
    "lol structure (result of code below)\n",
    "[[1, 1, 0, 2, 0, 0, 1, 1, 0, 0],\n",
    " [0, 0, 1, 2, 2, 0, 0, 0, 1, 1],\n",
    " [0, 0, 0, 0, 0, 1, 0, 0, 0, 0]]\n",
    "\"\"\"\n",
    "lol = []  # list of lists but name was already used\n",
    "for index in range(len(jaren)):\n",
    "    l = []\n",
    "    for di_num in new_dictionary:\n",
    "        l.append(new_dictionary[di_num][index])\n",
    "    lol.append(l)"
   ]
  },
  {
   "cell_type": "code",
   "execution_count": null,
   "metadata": {
    "scrolled": false
   },
   "outputs": [],
   "source": [
    "# plot\n",
    "labels = list(new_dictionary.keys())\n",
    "x = np.arange(len(labels))  # the x locations of the labels\n",
    "\n",
    "data = lol.copy()\n",
    "\n",
    "width = 0.1  # of the bars\n",
    "\n",
    "fig, axis = plt.subplots(figsize=(len(labels), 5))\n",
    "\n",
    "color_labels = [f'Q1_{x}' for x in list(melding_per_q_dict.keys())]\n",
    "\n",
    "# voor het bepalen van de afstand vanaf x zodat de bars niet overlappen\n",
    "x_generator = (x + (y * (width)) for y in range(-3, 4))  \n",
    "\n",
    "for _ in range(len(data)):\n",
    "    bar = axis.bar(x=next(x_generator), height=data[_], width=width, label=color_labels[_])\n",
    "    \n",
    "#     for b in bar:\n",
    "#         height = b.get_height()\n",
    "#         axis.text(b.get_x() + b.get_width()/2, height, height)\n",
    "        \n",
    "\n",
    "# # De waarden worden hier wss nog over elkaar heen gepresenteerd. Zoek naar een manier om dit naar elkaar te doen \n",
    "# # of bouw dit blok om naar de opstapeling. \n",
    "# for l in range(len(lol)):\n",
    "#     axis.bar(labels, lol[l], width, label=color_label[l])\n",
    "\n",
    "axis.set_xlabel('Deelinstallatie nummers')\n",
    "axis.set_ylabel('Aantal')\n",
    "axis.set_title(\"Aantal meldingen per deelinstallatie\")\n",
    "\n",
    "axis.set_xticks(x)\n",
    "axis.set_xticklabels(labels)\n",
    "\n",
    "axis.legend()\n",
    "\n",
    "axis.margins(x=0.01, y=0.1)\n",
    "\n",
    "axis.set_axisbelow(True)\n",
    "axis.grid(axis='y', linestyle='--')\n",
    "\n",
    "plt.show()\n",
    "add_graph_for_export(fig)"
   ]
  },
  {
   "cell_type": "markdown",
   "metadata": {},
   "source": [
    "Onderstaande is voor het presenteren van het totale aantal meldingen per kwartaal"
   ]
  },
  {
   "cell_type": "code",
   "execution_count": null,
   "metadata": {},
   "outputs": [],
   "source": [
    "notifications_per_quarter = {}\n",
    "for key in ordered_month_list.keys():\n",
    "    summed_vals = sa.metadata.sum_values(dictionary=filtered_meldingen_dict[key])\n",
    "    notifications_per_quarter[key] = summed_vals\n",
    "    \n",
    "notifications_per_quarter"
   ]
  },
  {
   "cell_type": "code",
   "execution_count": null,
   "metadata": {
    "scrolled": false
   },
   "outputs": [],
   "source": [
    "# prep\n",
    "val_counts_quarter = notifications_per_quarter\n",
    "\n",
    "ordered_dict = {}\n",
    "for key in val_counts_quarter.keys():\n",
    "    new_key = f'Q1_{key}'\n",
    "    ordered_dict[new_key] = val_counts_quarter[key]\n",
    "\n",
    "print(ordered_dict) \n",
    "\n",
    "# plot\n",
    "fig, axis = plt.subplots(figsize=(15,6))\n",
    "\n",
    "axis.bar(ordered_dict.keys(), ordered_dict.values(), width = 0.3)\n",
    "\n",
    "axis.set_ylabel('Aantal')\n",
    "axis.set_title(\"Aantal meldingen per kwartaal\")\n",
    "\n",
    "axis.margins(x=.2, y=.2)\n",
    "\n",
    "axis.set_axisbelow(True)\n",
    "axis.grid(axis='y', linestyle='--')\n",
    "\n",
    "plt.show()\n",
    "add_graph_for_export(fig)"
   ]
  },
  {
   "cell_type": "markdown",
   "metadata": {},
   "source": [
    "## Vergelijking storingen Qx met alle voorgaande Qx"
   ]
  },
  {
   "cell_type": "code",
   "execution_count": null,
   "metadata": {},
   "outputs": [],
   "source": [
    "months_to_exclude = [sa.metadata._quarters[q][i] for q in sa.metadata._quarters.keys() if q != 'Q1' for i in range(len(sa.metadata._quarters[q]))]\n",
    "print(f'Months to exclude in function get_month_list: {months_to_exclude}\\n')\n",
    "\n",
    "month_list = sa.metadata.get_month_list(exclude_month=months_to_exclude)\n",
    "print(f'month list = {month_list}')\n",
    "\n",
    "ordered_month_list = sa.metadata.order_month_list_by_year(month_list=month_list)\n",
    "ordered_month_list"
   ]
  },
  {
   "cell_type": "code",
   "execution_count": null,
   "metadata": {},
   "outputs": [],
   "source": [
    "filtered_storingen_dict = {}\n",
    "for key in ordered_month_list.keys():\n",
    "    filtered_storingen = sa.metadata.filter_dictionary_keys(dictionary=updated_histo_storingen, keys=ordered_month_list[key])\n",
    "    filtered_storingen_dict[key] = filtered_storingen\n",
    "    \n",
    "filtered_storingen_dict"
   ]
  },
  {
   "cell_type": "code",
   "execution_count": null,
   "metadata": {},
   "outputs": [],
   "source": [
    "storing_per_q_dict = {}\n",
    "for year in filtered_storingen_dict:  # keys als '2016', '2021'\n",
    "    if year not in storing_per_q_dict.keys():  # add key to new dict\n",
    "        storing_per_q_dict[year] = {}\n",
    "    \n",
    "    for d in filtered_storingen_dict[year]:  # keys als '01_2016', '02_2016'\n",
    "        for di in filtered_storingen_dict[year][d]:  # keys als di_nummers '45', '61'\n",
    "            if di not in storing_per_q_dict[year].keys():\n",
    "                storing_per_q_dict[year][di] = filtered_storingen_dict[year][d][di]\n",
    "            else:\n",
    "                storing_per_q_dict[year][di] += filtered_storingen_dict[year][d][di]\n",
    "                \n",
    "storing_per_q_dict  # wordt gebruikt om bars van bar plot naast elkaar te plotten"
   ]
  },
  {
   "cell_type": "code",
   "execution_count": null,
   "metadata": {},
   "outputs": [],
   "source": [
    "# switching level 1 and level 2 keys\n",
    "present_di_numbers = sa.metadata.contract_info()['aanwezige_deelinstallaties']\n",
    "\n",
    "new_dict = {x: {} for x in sorted(present_di_numbers)}\n",
    "\n",
    "for lvl1_key in melding_per_q_dict.keys():\n",
    "    \n",
    "    for lvl2_key in melding_per_q_dict[lvl1_key].keys():\n",
    "\n",
    "        val = melding_per_q_dict[lvl1_key][lvl2_key]\n",
    "        new_dict[lvl2_key][lvl1_key] = val\n",
    "\n",
    "new_dict"
   ]
  },
  {
   "cell_type": "code",
   "execution_count": null,
   "metadata": {},
   "outputs": [],
   "source": [
    "source = new_dict.copy()\n",
    "source = {key: source[key] for key in source.keys() if len(source[key]) > 0}\n",
    "source"
   ]
  },
  {
   "cell_type": "code",
   "execution_count": null,
   "metadata": {},
   "outputs": [],
   "source": [
    "\"\"\"\n",
    "new_dictionary structure (result of code below)\n",
    "{'23': [1, 0, 0],\n",
    " '41': [1, 0, 0],\n",
    " '43': [0, 1, 0],\n",
    " '45': [2, 2, 0],\n",
    " '46A': [0, 2, 0],\n",
    " '61': [0, 0, 1],\n",
    " '62': [1, 0, 0],\n",
    " '63': [1, 0, 0],\n",
    " '67': [0, 1, 0],\n",
    " '74': [0, 1, 0]}\n",
    "\"\"\"\n",
    "jaren = list(storing_per_q_dict.keys())\n",
    "\n",
    "new_dictionary = {}\n",
    "\n",
    "for di_num in new_dict:\n",
    "    list_of_lists = []\n",
    "    for i in range(len(jaren)):  \n",
    "        jaar = jaren[i]\n",
    "        if jaar in new_dict[di_num].keys():\n",
    "            list_of_lists.append(new_dict[di_num][jaar])\n",
    "        else:\n",
    "            list_of_lists.append(0)\n",
    "    new_dictionary[di_num] = list_of_lists\n",
    "\n",
    "\"\"\"\n",
    "lol structure (result of code below)\n",
    "[[1, 1, 0, 2, 0, 0, 1, 1, 0, 0],\n",
    " [0, 0, 1, 2, 2, 0, 0, 0, 1, 1],\n",
    " [0, 0, 0, 0, 0, 1, 0, 0, 0, 0]]\n",
    "\"\"\"\n",
    "lol = []  # list of lists but name was already used\n",
    "for index in range(len(jaren)):\n",
    "    l = []\n",
    "    for di_num in new_dictionary:\n",
    "        l.append(new_dictionary[di_num][index])\n",
    "    lol.append(l)"
   ]
  },
  {
   "cell_type": "code",
   "execution_count": null,
   "metadata": {},
   "outputs": [],
   "source": [
    "# plot\n",
    "labels = list(new_dictionary.keys())\n",
    "x = np.arange(len(labels))  # the x locations of the labels\n",
    "\n",
    "data = lol.copy()\n",
    "\n",
    "width = 0.1  # of the bars\n",
    "\n",
    "fig, axis = plt.subplots(figsize=(len(labels), 5))\n",
    "\n",
    "color_labels = [f'Q1_{x}' for x in list(melding_per_q_dict.keys())]\n",
    "\n",
    "# voor het bepalen van de afstand vanaf x zodat de bars niet overlappen\n",
    "x_generator = (x + (y * (width)) for y in range(-3, 4))  \n",
    "\n",
    "for _ in range(len(data)):\n",
    "    bar = axis.bar(x=next(x_generator), height=data[_], width=width, label=color_labels[_])\n",
    "    \n",
    "#     for b in bar:\n",
    "#         height = b.get_height()\n",
    "#         axis.text(b.get_x() + b.get_width()/2, height, height)\n",
    "        \n",
    "\n",
    "# # De waarden worden hier wss nog over elkaar heen gepresenteerd. Zoek naar een manier om dit naar elkaar te doen \n",
    "# # of bouw dit blok om naar de opstapeling. \n",
    "# for l in range(len(lol)):\n",
    "#     axis.bar(labels, lol[l], width, label=color_label[l])\n",
    "\n",
    "axis.set_xlabel('Deelinstallatie nummers')\n",
    "axis.set_ylabel('Aantal')\n",
    "axis.set_title(\"Aantal storingen per deelinstallatie\")\n",
    "\n",
    "axis.set_xticks(x)\n",
    "axis.set_xticklabels(labels)\n",
    "\n",
    "axis.legend()\n",
    "\n",
    "axis.margins(x=0.01, y=0.1)\n",
    "\n",
    "axis.set_axisbelow(True)\n",
    "axis.grid(axis='y', linestyle='--')\n",
    "\n",
    "plt.show()\n",
    "add_graph_for_export(fig)"
   ]
  },
  {
   "cell_type": "code",
   "execution_count": null,
   "metadata": {},
   "outputs": [],
   "source": [
    "storingen_per_quarter = {}\n",
    "for key in ordered_month_list.keys():\n",
    "    summed_vals = sa.metadata.sum_values(dictionary=filtered_storingen_dict[key])\n",
    "    storingen_per_quarter[key] = summed_vals\n",
    "\n",
    "storingen_per_quarter"
   ]
  },
  {
   "cell_type": "code",
   "execution_count": null,
   "metadata": {},
   "outputs": [],
   "source": [
    "# prep\n",
    "val_counts_quarter = storingen_per_quarter\n",
    "\n",
    "# Changing key names 'year' => 'Qx_year'\n",
    "ordered_dict = {}\n",
    "for key in val_counts_quarter.keys():\n",
    "    new_key = f'Q1_{key}'  \n",
    "    ordered_dict[new_key] = val_counts_quarter[key]\n",
    "\n",
    "print(ordered_dict) \n",
    "\n",
    "# plot\n",
    "fig, axis = plt.subplots(figsize=(15,6))\n",
    "\n",
    "axis.bar(ordered_dict.keys(), ordered_dict.values(), width = 0.3)\n",
    "\n",
    "axis.set_ylabel('Aantal')\n",
    "axis.set_title(\"Aantal storingen per kwartaal\")\n",
    "\n",
    "axis.margins(x=.2, y=.2)\n",
    "\n",
    "axis.set_axisbelow(True)\n",
    "axis.grid(axis='y', linestyle='--')\n",
    "\n",
    "plt.show()\n",
    "add_graph_for_export(fig)"
   ]
  },
  {
   "cell_type": "markdown",
   "metadata": {},
   "source": [
    "## Vergelijking voorgaande kwartaal met huidinge kwartaal"
   ]
  },
  {
   "cell_type": "markdown",
   "metadata": {},
   "source": [
    "### Meldingen"
   ]
  },
  {
   "cell_type": "code",
   "execution_count": null,
   "metadata": {},
   "outputs": [],
   "source": [
    "source = {'Q4_2020': [f'{x}_2020' for x in sa.metadata._quarters['Q4'].copy()],\n",
    "          'Q1_2021': [f'{x}_2021' for x in sa.metadata._quarters['Q1'].copy()]}\n",
    "source"
   ]
  },
  {
   "cell_type": "code",
   "execution_count": null,
   "metadata": {
    "scrolled": true
   },
   "outputs": [],
   "source": [
    "# fetching notifications per di number for each month from each quarter in source\n",
    "source_stage_2 = {}\n",
    "for key in source.keys():\n",
    "    filtered_data = sa.metadata.filter_dictionary_keys(dictionary=updated_histo, keys=source[key])\n",
    "    source_stage_2[key] = filtered_data\n",
    "    \n",
    "source_stage_2"
   ]
  },
  {
   "cell_type": "code",
   "execution_count": null,
   "metadata": {
    "scrolled": true
   },
   "outputs": [],
   "source": [
    "# eliminating the month key, by making a frequency table for eacht quarter\n",
    "source_stage_3 = {quarter_key: {} for quarter_key in source_stage_2.keys()}\n",
    "\n",
    "for quarter_key in source_stage_2.keys():\n",
    "    \n",
    "    for month_key in source_stage_2[quarter_key].keys():\n",
    "        \n",
    "        for di_key, value in source_stage_2[quarter_key][month_key].items():\n",
    "            \n",
    "            if di_key not in source_stage_3[quarter_key]:\n",
    "                source_stage_3[quarter_key][di_key] = value\n",
    "            else:\n",
    "                source_stage_3[quarter_key][di_key] += value\n",
    "\n",
    "source_stage_3               "
   ]
  },
  {
   "cell_type": "code",
   "execution_count": null,
   "metadata": {
    "scrolled": true
   },
   "outputs": [],
   "source": [
    "# switching level 1 and level 2 keys from source_stage_3\n",
    "present_di_numbers = sa.metadata.contract_info()['aanwezige_deelinstallaties']\n",
    "\n",
    "source_stage_4 = {x: {} for x in sorted(present_di_numbers)}\n",
    "\n",
    "for lvl1_key in source_stage_3.keys():\n",
    "    \n",
    "    for lvl2_key, value in source_stage_3[lvl1_key].items():\n",
    "        source_stage_4[lvl2_key][lvl1_key] = value\n",
    "\n",
    "source_stage_4"
   ]
  },
  {
   "cell_type": "code",
   "execution_count": null,
   "metadata": {
    "scrolled": true
   },
   "outputs": [],
   "source": [
    "# transforming source_stage_4 data to be a list_of_lists where each list represents a quarter\n",
    "\n",
    "\"\"\"\n",
    "_data structure (result of code below)\n",
    "{'23': [1, 0, 0],\n",
    " '41': [1, 0, 0],\n",
    " '43': [0, 1, 0],\n",
    " '45': [2, 2, 0],\n",
    " '46A': [0, 2, 0],\n",
    " '61': [0, 0, 1],\n",
    " '62': [1, 0, 0],\n",
    " '63': [1, 0, 0],\n",
    " '67': [0, 1, 0],\n",
    " '74': [0, 1, 0]}\n",
    "\"\"\"\n",
    "lists_in_lol = list(source_stage_3.keys())\n",
    "num_lists = len(lists_in_lol)\n",
    "\n",
    "\n",
    "_data = {}\n",
    "\n",
    "for di_num in source_stage_4:\n",
    "    _list = []\n",
    "    for i in range(num_lists):  \n",
    "        l = lists_in_lol[i]  # variable representing the time period in source_stage_4 or the keys of source_stage_3\n",
    "        if l in source_stage_4[di_num].keys():\n",
    "            _list.append(source_stage_4[di_num][l])\n",
    "        else:\n",
    "            _list.append(0)\n",
    "    _data[di_num] = _list  \n",
    "\n",
    "_data"
   ]
  },
  {
   "cell_type": "code",
   "execution_count": null,
   "metadata": {
    "scrolled": true
   },
   "outputs": [],
   "source": [
    "\"\"\"\n",
    "data structure (result of code below)\n",
    "[[1, 1, 0, 2, 0, 0, 1, 1, 0, 0],\n",
    " [0, 0, 1, 2, 2, 0, 0, 0, 1, 1],\n",
    " [0, 0, 0, 0, 0, 1, 0, 0, 0, 0]]\n",
    "\"\"\"\n",
    "data = []  # list of lists \n",
    "for index in range(num_lists):\n",
    "    _list = []\n",
    "    for di_num in _data:\n",
    "        _list.append(_data[di_num][index])\n",
    "    data.append(_list)\n",
    "    \n",
    "data"
   ]
  },
  {
   "cell_type": "code",
   "execution_count": null,
   "metadata": {
    "scrolled": true
   },
   "outputs": [],
   "source": [
    "# plot\n",
    "labels = list(_data.keys())\n",
    "x = np.arange(len(labels))  # the x locations of the labels\n",
    "\n",
    "bar_width = 0.2\n",
    "\n",
    "fig, axis = plt.subplots(figsize=(len(labels), 5))\n",
    "\n",
    "color_labels = list(source_stage_3.keys())  # names for in legend\n",
    "\n",
    "# voor het bepalen van de afstand vanaf x zodat de bars niet overlappen\n",
    "x_generator = (x + (y * (bar_width)) for y in (0, 1))  \n",
    "\n",
    "# Toevoegen van de bars\n",
    "for _ in range(len(data)):\n",
    "    bar = axis.bar(x=next(x_generator), height=data[_], width=bar_width, label=color_labels[_])\n",
    "\n",
    "# titel en namen van de assen\n",
    "axis.set_xlabel('Deelinstallatie nummers')\n",
    "axis.set_ylabel('Aantal')\n",
    "axis.set_title(\"Aantal meldingen per deelinstallatie\")\n",
    "\n",
    "# namen langs de assen\n",
    "axis.set_xticks(x + bar_width / len(data))\n",
    "axis.set_xticklabels(labels)\n",
    "\n",
    "axis.margins(x=0.01, y=0.1)\n",
    "\n",
    "axis.set_axisbelow(True)\n",
    "axis.grid(axis='y', linestyle='--')\n",
    "\n",
    "axis.legend()\n",
    "\n",
    "# fig.autofmt_xdate(rotation=45)\n",
    "\n",
    "plt.show()\n",
    "add_graph_for_export(fig)"
   ]
  },
  {
   "cell_type": "code",
   "execution_count": null,
   "metadata": {},
   "outputs": [],
   "source": [
    "# prep\n",
    "data = {}\n",
    "\n",
    "for key in source_stage_2.keys():\n",
    "    summed_vals = sa.metadata.sum_values(dictionary=source_stage_2[key])\n",
    "    data[key] = summed_vals\n",
    "\n",
    "print(data)\n",
    "    \n",
    "# plot\n",
    "fig, axis = plt.subplots(figsize=(15,6))\n",
    "\n",
    "axis.bar(data.keys(), data.values(), width = 0.3)\n",
    "\n",
    "axis.set_ylabel('Aantal')\n",
    "axis.set_title(\"Aantal meldingen per kwartaal\")\n",
    "\n",
    "axis.margins(x=.2, y=.2)\n",
    "\n",
    "axis.set_axisbelow(True)\n",
    "axis.grid(axis='y', linestyle='--')\n",
    "\n",
    "plt.show()\n",
    "add_graph_for_export(fig)"
   ]
  },
  {
   "cell_type": "code",
   "execution_count": null,
   "metadata": {},
   "outputs": [],
   "source": [
    "# Proof of work for the preperation actions in PrepNPlot\n",
    "from prepnplot import PrepNPlot\n",
    "pp = PrepNPlot()\n",
    "\n",
    "x = [datetime.strptime(t, '%d-%m-%y %H:%M:%S') for t in sf_data.loc[:, 'rapport datum']]\n",
    "tr = [min(x), max(x)]\n",
    "\n",
    "test_step_one = pp._prep_first_step(input_object=updated_histo_storingen,\n",
    "                                    time_range=['10-2020', '3-2021'],\n",
    "                                    available_categories=sa.metadata.contract_info()['aanwezige_deelinstallaties'],\n",
    "                                    bin_size='quarter'\n",
    "                                    )\n",
    "\n",
    "# input_object = (sf_data, 'rapport datum', 'type melding (Storing/Incident/Preventief/Onterecht)')\n",
    "# test_step_one = pp._prep_first_step(input_object=input_object,\n",
    "#                                     time_range=tr, bin_size='quarter')\n",
    "\n",
    "print(f\"result 1 = {test_step_one}\")\n",
    "\n",
    "test_step_two = pp._prep_second_step(input_dict=test_step_one)\n",
    "# test_step_two = test_step_one\n",
    "\n",
    "print(f\"result 2 = {test_step_two}\")\n",
    "\n",
    "test_step_three = pp._prep_end_step(input_dict=test_step_two, bin_names=[_ for _ in test_step_two.keys()])\n",
    "\n",
    "print(f\"result 3 = {test_step_three}\")\n",
    "\n",
    "# test_prep = pp.prep(input_object=sf_data,\n",
    "#                     categorical_key='type melding (Storing/Incident/Preventief/Onterecht)',\n",
    "#                     time_key='rapport datum',\n",
    "#                     time_range=tr,\n",
    "#                     bin_size='quarter')\n",
    "\n",
    "# print(f\"result last = {test_prep}\")\n",
    "\"\"\"\n",
    "test to handle list instead of dict \n",
    "This happens in the case were no bin_size is specified. one of the first tasks returns a list of the month numbers. The\n",
    "problem is the difference between the behavior of a dict and a list.\n",
    "\"\"\"\n",
    "test_prep = pp.prep(input_object=updated_histo_storingen,\n",
    "                    time_range=['10-2020', '3-2021'],\n",
    "                    available_categories=sa.metadata.contract_info()['aanwezige_deelinstallaties'],\n",
    "                    bin_size='quarter'\n",
    "                    )\n",
    "\n",
    "print(f\"result last = {test_prep}\")\n",
    "print(f\"length of lists in result are equal: {len(test_prep[0]) == len(test_prep[-1])}\")"
   ]
  },
  {
   "cell_type": "markdown",
   "metadata": {},
   "source": [
    "### Storingen"
   ]
  },
  {
   "cell_type": "code",
   "execution_count": null,
   "metadata": {},
   "outputs": [],
   "source": [
    "source = {'Q4_2020': [f'{x}_2020' for x in sa.metadata._quarters['Q4'].copy()],\n",
    "          'Q1_2021': [f'{x}_2021' for x in sa.metadata._quarters['Q1'].copy()]}\n",
    "source"
   ]
  },
  {
   "cell_type": "code",
   "execution_count": null,
   "metadata": {
    "scrolled": true
   },
   "outputs": [],
   "source": [
    "# fetching notifications per di number for each month from each quarter in source\n",
    "source_stage_2 = {}\n",
    "for key in source.keys():\n",
    "    filtered_data = sa.metadata.filter_dictionary_keys(dictionary=updated_histo_storingen, keys=source[key])\n",
    "    source_stage_2[key] = filtered_data\n",
    "    \n",
    "source_stage_2"
   ]
  },
  {
   "cell_type": "code",
   "execution_count": null,
   "metadata": {
    "scrolled": true
   },
   "outputs": [],
   "source": [
    "# eliminating the month key, by making a frequency table for eacht quarter\n",
    "source_stage_3 = {quarter_key: {} for quarter_key in source_stage_2.keys()}\n",
    "\n",
    "for quarter_key in source_stage_2.keys():\n",
    "    \n",
    "    for month_key in source_stage_2[quarter_key].keys():\n",
    "        \n",
    "        for di_key, value in source_stage_2[quarter_key][month_key].items():\n",
    "            \n",
    "            if di_key not in source_stage_3[quarter_key]:\n",
    "                source_stage_3[quarter_key][di_key] = value\n",
    "            else:\n",
    "                source_stage_3[quarter_key][di_key] += value\n",
    "\n",
    "source_stage_3"
   ]
  },
  {
   "cell_type": "code",
   "execution_count": null,
   "metadata": {
    "scrolled": true
   },
   "outputs": [],
   "source": [
    "# switching level 1 and level 2 keys from source_stage_3\n",
    "present_di_numbers = sa.metadata.contract_info()['aanwezige_deelinstallaties']\n",
    "\n",
    "source_stage_4 = {x: {} for x in sorted(present_di_numbers)}\n",
    "\n",
    "for lvl1_key in source_stage_3.keys():\n",
    "    \n",
    "    for lvl2_key, value in source_stage_3[lvl1_key].items():\n",
    "        source_stage_4[lvl2_key][lvl1_key] = value\n",
    "\n",
    "source_stage_4"
   ]
  },
  {
   "cell_type": "code",
   "execution_count": null,
   "metadata": {
    "scrolled": true
   },
   "outputs": [],
   "source": [
    "# transforming source_stage_4 data to be a list_of_lists where each list represents a quarter\n",
    "\n",
    "\"\"\"\n",
    "_data structure (result of code below)\n",
    "{'23': [1, 0, 0],\n",
    " '41': [1, 0, 0],\n",
    " '43': [0, 1, 0],\n",
    " '45': [2, 2, 0],\n",
    " '46A': [0, 2, 0],\n",
    " '61': [0, 0, 1],\n",
    " '62': [1, 0, 0],\n",
    " '63': [1, 0, 0],\n",
    " '67': [0, 1, 0],\n",
    " '74': [0, 1, 0]}\n",
    "\"\"\"\n",
    "lists_in_lol = list(source_stage_3.keys())\n",
    "num_lists = len(lists_in_lol)\n",
    "\n",
    "\n",
    "_data = {}\n",
    "\n",
    "for di_num in source_stage_4:\n",
    "    _list = []\n",
    "    for i in range(num_lists):  \n",
    "        l = lists_in_lol[i]  # variable representing the time period in source_stage_4 or the keys of source_stage_3\n",
    "        if l in source_stage_4[di_num].keys():\n",
    "            _list.append(source_stage_4[di_num][l])\n",
    "        else:\n",
    "            _list.append(0)\n",
    "    _data[di_num] = _list  \n",
    "\n",
    "_data"
   ]
  },
  {
   "cell_type": "code",
   "execution_count": null,
   "metadata": {
    "scrolled": true
   },
   "outputs": [],
   "source": [
    "\"\"\"\n",
    "data structure (result of code below)\n",
    "[[1, 1, 0, 2, 0, 0, 1, 1, 0, 0],\n",
    " [0, 0, 1, 2, 2, 0, 0, 0, 1, 1],\n",
    " [0, 0, 0, 0, 0, 1, 0, 0, 0, 0]]\n",
    "\"\"\"\n",
    "data = []  # list of lists \n",
    "for index in range(num_lists):\n",
    "    _list = []\n",
    "    for di_num in _data:\n",
    "        _list.append(_data[di_num][index])\n",
    "    data.append(_list)\n",
    "    \n",
    "data"
   ]
  },
  {
   "cell_type": "code",
   "execution_count": null,
   "metadata": {},
   "outputs": [],
   "source": [
    "ppdata = pp.prep(updated_histo_storingen, \n",
    "                 time_range=['10-2020', '3-2021'], \n",
    "                 available_categories=sa.metadata.contract_info()['aanwezige_deelinstallaties'],\n",
    "                 bin_size='quarter')\n",
    "ppdata"
   ]
  },
  {
   "cell_type": "code",
   "execution_count": null,
   "metadata": {},
   "outputs": [],
   "source": [
    "# plot\n",
    "labels = list(_data.keys())\n",
    "x = np.arange(len(labels))  # the x locations of the labels\n",
    "\n",
    "bar_width = 0.2\n",
    "\n",
    "fig, axis = plt.subplots(figsize=(len(labels), 5))\n",
    "\n",
    "color_labels = list(source_stage_3.keys())  # names for in legend\n",
    "\n",
    "# voor het bepalen van de afstand vanaf x zodat de bars niet overlappen\n",
    "x_generator = (x + (y * (bar_width)) for y in (0, 1))  \n",
    "\n",
    "# Toevoegen van de bars\n",
    "for _ in range(len(data)):\n",
    "    bar = axis.bar(x=next(x_generator), height=data[_], width=bar_width, label=color_labels[_])\n",
    "\n",
    "# titel en namen van de assen\n",
    "axis.set_xlabel('Deelinstallatie nummers')\n",
    "axis.set_ylabel('Aantal')\n",
    "axis.set_title(\"Aantal storingen per deelinstallatie\")\n",
    "\n",
    "# namen langs de assen\n",
    "axis.set_xticks(x + bar_width / len(data))\n",
    "axis.set_xticklabels(labels)\n",
    "\n",
    "axis.margins(x=0.01, y=0.1)\n",
    "\n",
    "axis.set_axisbelow(True)\n",
    "axis.grid(axis='y', linestyle='--')\n",
    "\n",
    "axis.legend()\n",
    "\n",
    "# fig.autofmt_xdate(rotation=45)\n",
    "\n",
    "plt.show()\n",
    "add_graph_for_export(fig)"
   ]
  },
  {
   "cell_type": "code",
   "execution_count": null,
   "metadata": {},
   "outputs": [],
   "source": [
    "# prep\n",
    "data = {}\n",
    "\n",
    "for key in source_stage_2.keys():\n",
    "    summed_vals = sa.metadata.sum_values(dictionary=source_stage_2[key])\n",
    "    data[key] = summed_vals\n",
    "\n",
    "print(data)\n",
    "    \n",
    "# plot\n",
    "fig, axis = plt.subplots(figsize=(15,6))\n",
    "\n",
    "axis.bar(data.keys(), data.values(), width = 0.3)\n",
    "\n",
    "axis.set_ylabel('Aantal')\n",
    "axis.set_title(\"Aantal storingen per kwartaal\")\n",
    "\n",
    "axis.margins(x=.2, y=.2)\n",
    "\n",
    "axis.set_axisbelow(True)\n",
    "axis.grid(axis='y', linestyle='--')\n",
    "\n",
    "plt.show()\n",
    "add_graph_for_export(fig)"
   ]
  },
  {
   "cell_type": "markdown",
   "metadata": {},
   "source": [
    "# Verdeling type meldingen per deelinstallatie\n",
    "Hier wordt er dieper in gegaan op de verschillende typen meldingen van een DI. Welke di wordt meegenomen in deze, wordt bepaalt door een drempelwaarde te specificeren.\n",
    "\n",
    "NOTE:\n",
    "\n",
    "Kijk naar de handelingen in het script en of het van belang is om een functie/module te maken voor het samenvoegen van meldingen per di van verschillende maanden. (zodat source_stage_3 of source_stage_4 bereikt wordt)\n",
    "staging file moet worden gebruikt voor het verder uitwerken van deze grafieken.\n"
   ]
  },
  {
   "cell_type": "code",
   "execution_count": null,
   "metadata": {},
   "outputs": [],
   "source": [
    "df = sa.meldingen.copy()"
   ]
  },
  {
   "cell_type": "code",
   "execution_count": null,
   "metadata": {},
   "outputs": [],
   "source": [
    "# unieke types vastlegen\n",
    "unique_types = df.loc[:, 'type melding (Storing/Incident/Preventief/Onterecht)'].unique()\n",
    "list(unique_types)"
   ]
  },
  {
   "cell_type": "code",
   "execution_count": null,
   "metadata": {},
   "outputs": [],
   "source": [
    "# changing the di_numbers from '45-10' to '45'\n",
    "new_num = []\n",
    "for num in df['sbs']:\n",
    "    if num is np.nan:\n",
    "        new_num.append(num)\n",
    "    else:\n",
    "        new_num.append(sa._isolate_di_number(num))\n",
    "\n",
    "df.loc[:, 'sbs'] = new_num"
   ]
  },
  {
   "cell_type": "code",
   "execution_count": null,
   "metadata": {},
   "outputs": [],
   "source": [
    "sbs_count = df.loc[:, 'sbs'].value_counts()\n",
    "sbs_count"
   ]
  },
  {
   "cell_type": "code",
   "execution_count": null,
   "metadata": {},
   "outputs": [],
   "source": [
    "input_threshhold = widgets.IntSlider(\n",
    "    value=0,\n",
    "    min=0,\n",
    "    max=sbs_count.max(),\n",
    "    step=1,\n",
    "    description='Drempelwaarde:',\n",
    "    disabled=False,\n",
    "    continuous_update=False,\n",
    "    orientation='horizontal',\n",
    "    readout=True,\n",
    "    readout_format='d',\n",
    "    style=dict(description_width='initial')\n",
    ")\n",
    "\n",
    "display(input_threshhold)"
   ]
  },
  {
   "cell_type": "code",
   "execution_count": null,
   "metadata": {},
   "outputs": [],
   "source": [
    "to_process = [x for x in sbs_count.index if sbs_count.at[x] >= input_threshhold.value]\n",
    "to_process"
   ]
  },
  {
   "cell_type": "code",
   "execution_count": null,
   "metadata": {},
   "outputs": [],
   "source": [
    "test_grouped = df.copy().groupby(['sbs'])\n",
    "for group in test_grouped.groups:\n",
    "    x = test_grouped.get_group(group).to_dict()\n",
    "print(x.keys())\n",
    "print(x)"
   ]
  },
  {
   "cell_type": "code",
   "execution_count": null,
   "metadata": {
    "scrolled": true
   },
   "outputs": [],
   "source": [
    "df_group_sbs = df.groupby(['sbs'])\n",
    "\n",
    "# cols kan voor een sandbox tool variabel gemaakt worden.\n",
    "cols = ['type melding (Storing/Incident/Preventief/Onterecht)', 'month_number']\n",
    "\n",
    "\n",
    "for i in to_process:\n",
    "    ft = {}\n",
    "    \n",
    "    current_di_num = i\n",
    "    \n",
    "    group = df_group_sbs.get_group(i)[cols]\n",
    "    \n",
    "    lvl2_group = group.groupby(['month_number'])\n",
    "    \n",
    "    for g in lvl2_group.groups:\n",
    "        ft[g] = {key: 0 for key in unique_types}\n",
    "\n",
    "        subgroup = dict(lvl2_group.get_group(g)['type melding (Storing/Incident/Preventief/Onterecht)'].value_counts())\n",
    "        \n",
    "        print(f'subgroup = {subgroup}')\n",
    "        \n",
    "        for key, value in subgroup.items():\n",
    "            ft[g][key] += value\n",
    "        \n",
    "    print(f'ft = {ft}')\n",
    "    \n",
    "    #\n",
    "    # prep data for first grash (stacked bar)\n",
    "    data = []\n",
    "\n",
    "    for i in range(3):\n",
    "        n = i + 1\n",
    "        if n in ft.keys():\n",
    "            data.append(list(ft[n].values()))\n",
    "        else:\n",
    "            data.append([0 for _ in range(len(unique_types))])\n",
    "\n",
    "    print(f'data = {data}')\n",
    "    \n",
    "    #\n",
    "    # plotting stacked bar\n",
    "    labels = list(unique_types)\n",
    "    print(labels)\n",
    "    \n",
    "    x = np.arange(len(labels))  # the x locations of the labels\n",
    "\n",
    "    bar_width = 0.2\n",
    "\n",
    "    fig, axis = plt.subplots(figsize=(len(labels), 5))\n",
    "\n",
    "    color_labels = list(ft.keys())  # names for in legend\n",
    "\n",
    "    # voor het bepalen van de afstand vanaf x zodat de bars niet overlappen\n",
    "    x_generator = (x + (y * (bar_width)) for y in (0, 1))  \n",
    "\n",
    "    # Toevoegen van de bars  \n",
    "    prev = []\n",
    "    for line in range(len(data)):\n",
    "        month = sa._month_num_to_name([line+1])  # index (line) = 0  =>  month = 1, and so on\n",
    "\n",
    "        # added case for loop l = 0 after if\n",
    "        axis.bar(labels, data[line], width, label=month, bottom=prev) if line > 0 else \\\n",
    "        axis.bar(labels, data[line], width, label=month)\n",
    "\n",
    "        # prev sets the height of the newly added values like above\n",
    "        # the added list needs to be added to prev to get the correct height\n",
    "        prev = [prev[idx] + data[line][idx] for idx in range(len(data[line]))] if line > 0 else data[line]\n",
    "\n",
    "    # titel en namen van de assen\n",
    "    axis.set_xlabel('melding type')\n",
    "    axis.set_ylabel('Aantal')\n",
    "    axis.set_title(f\"Aantal meldingen per type. di nummer = {current_di_num}\")\n",
    "\n",
    "    # namen langs de assen\n",
    "    axis.set_xticks(x + bar_width / len(data))\n",
    "    axis.set_xticklabels(labels)\n",
    "\n",
    "    axis.margins(x=0.01, y=0.01)\n",
    "\n",
    "    axis.set_axisbelow(True)\n",
    "    axis.grid(axis='y', linestyle='--')\n",
    "\n",
    "    axis.legend()\n",
    "\n",
    "    # fig.autofmt_xdate(rotation=45)\n",
    "\n",
    "    plt.show()\n",
    "    add_graph_for_export(fig)\n",
    "    \n",
    "    #\n",
    "    # prepping summary graph\n",
    "    summary_data = group['month_number'].value_counts()\n",
    "    \n",
    "    print(f'summary_data = {summary_data}')\n",
    "\n",
    "    ordered_dict = {key: summary_data[key] for key in sorted(summary_data.to_dict())}\n",
    "    \n",
    "    # onderstaande werkt niet meer na een aantal iteraties\n",
    "#     for key in ordered_dict.keys():\n",
    "#         new_key = sa._month_num_to_name([key])\n",
    "#         ordered_dict[new_key] = ordered_dict.pop(key)\n",
    "    \n",
    "    _ordered_dict = {}\n",
    "    for key in ordered_dict.keys():\n",
    "        new_key = sa._month_num_to_name([key])\n",
    "        _ordered_dict[new_key] = ordered_dict[key]\n",
    "    \n",
    "    del ordered_dict\n",
    "    ordered_dict = _ordered_dict\n",
    "    del _ordered_dict\n",
    "    \n",
    "    print(f'ordered_dict = {ordered_dict}')\n",
    "    \n",
    "    #\n",
    "    # plotting summary graph\n",
    "    fig, axis = plt.subplots(figsize=(15,6))\n",
    "\n",
    "    axis.bar(ordered_dict.keys(), ordered_dict.values(), width = 0.3)\n",
    "\n",
    "    axis.set_ylabel('Aantal')\n",
    "    axis.set_title(f\"Aantal meldingen per maand. di nummer = {current_di_num}\")\n",
    "\n",
    "    axis.margins(x=.2, y=.2)\n",
    "\n",
    "    axis.set_axisbelow(True)\n",
    "    axis.grid(axis='y', linestyle='--')\n",
    "\n",
    "    plt.show()\n",
    "    add_graph_for_export(fig)"
   ]
  },
  {
   "cell_type": "markdown",
   "metadata": {},
   "source": [
    "# PDF export\n",
    "file wordt geopend\n",
    "\n",
    "per grafiek die gemaakt wordt moet het volgende toegevoegd worden aan de code cell.\n",
    "```\n",
    "plt.savefig(pp, format='pdf')\n",
    "```\n",
    "\n",
    "of \n",
    "\n",
    "```\n",
    "pp.savefig()\n",
    "```\n",
    "\n",
    "Om aan het eind van dit notebook de pdf te sluiten met:\n",
    "```\n",
    "pp.close()\n",
    "```"
   ]
  },
  {
   "cell_type": "code",
   "execution_count": null,
   "metadata": {},
   "outputs": [],
   "source": [
    "from matplotlib.backends.backend_pdf import PdfPages\n",
    "pdfp= PdfPages('test_graph_export.pdf')\n",
    "for graph in graphs:\n",
    "    pdfp.savefig(graph)\n",
    "pdfp.close()"
   ]
  }
 ],
 "metadata": {
  "kernelspec": {
   "display_name": "Python 3",
   "language": "python",
   "name": "python3"
  },
  "language_info": {
   "codemirror_mode": {
    "name": "ipython",
    "version": 3
   },
   "file_extension": ".py",
   "mimetype": "text/x-python",
   "name": "python",
   "nbconvert_exporter": "python",
   "pygments_lexer": "ipython3",
   "version": "3.8.3"
  },
  "toc": {
   "base_numbering": 1,
   "nav_menu": {},
   "number_sections": true,
   "sideBar": true,
   "skip_h1_title": false,
   "title_cell": "Table of Contents",
   "title_sidebar": "Contents",
   "toc_cell": false,
   "toc_position": {
    "height": "calc(100% - 180px)",
    "left": "10px",
    "top": "150px",
    "width": "165px"
   },
   "toc_section_display": true,
   "toc_window_display": true
  }
 },
 "nbformat": 4,
 "nbformat_minor": 4
}
