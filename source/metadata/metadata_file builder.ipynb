{
 "cells": [
  {
   "cell_type": "markdown",
   "metadata": {},
   "source": [
    "# Bouwen van de metadata\n",
    "De metadata is nodig voor het berekeken van de gemiddelde aantal meldingen/storingen per maand en de TOV-tabellen.\n",
    "\n",
    "De opbouw van de metadata is (vooralsnog) als volgt:\n",
    "```\n",
    "{\n",
    "    project: projectnaam,\n",
    "    start_datum: dd-mm-yyy,\n",
    "    contract_info: {\n",
    "        tijdsregistratie: True,\n",
    "        minimale_beschikbaarheid: xx,\n",
    "        minimale_responsetijd: 04:00:00,\n",
    "    },\n",
    "    meldingen: {\n",
    "        f\"{maand}_{jaar}\": {\n",
    "            DI_num: aantal meldingen,\n",
    "            DI_num: aantal meldingen\n",
    "        }\n",
    "        f\"{maand}_{jaar}\": {\n",
    "            DI_num: aantal meldingen,\n",
    "            DI_num: aantal meldingen\n",
    "        }\n",
    "    },\n",
    "    storingen: {\n",
    "        f\"{maand}_{jaar}\": {\n",
    "            DI_num: aantal storingen,\n",
    "            DI_num: aantal storingen\n",
    "        }\n",
    "        f\"{maand}_{jaar}\": {\n",
    "            DI_num: aantal storingen,\n",
    "            DI_num: aantal storingen\n",
    "        }\n",
    "    }\n",
    "}\n",
    "```\n",
    "In deze opbouw worden enkel de deelinstallaties meegenomen met meldingen > 0. Dit geldt ook voor de storingen.\n",
    "Om DI_num om te zetten naar een omschrijving kan de functie **get_breakdown_description()** gebruikt worden.\n",
    "\n",
    "Voor het opslaan van de metadata wordt (voor nu) gekozen voor een .json-type"
   ]
  },
  {
   "cell_type": "markdown",
   "metadata": {},
   "source": [
    "# Input"
   ]
  },
  {
   "cell_type": "markdown",
   "metadata": {},
   "source": [
    "## Definieren van het project"
   ]
  },
  {
   "cell_type": "code",
   "execution_count": 3,
   "metadata": {},
   "outputs": [],
   "source": [
    "project = 'Coentunnel-tracé'"
   ]
  },
  {
   "cell_type": "markdown",
   "metadata": {},
   "source": [
    "## Specificeren van het brondocument"
   ]
  },
  {
   "cell_type": "code",
   "execution_count": null,
   "metadata": {},
   "outputs": [],
   "source": [
    "file_input = 'metadata//20210505 Storingsdatabase Q1 2021.xlsx'"
   ]
  },
  {
   "cell_type": "markdown",
   "metadata": {},
   "source": [
    "## Specificeren van overige variabelen"
   ]
  },
  {
   "cell_type": "code",
   "execution_count": null,
   "metadata": {},
   "outputs": [],
   "source": [
    "tijdsregistratie = \"False\""
   ]
  },
  {
   "cell_type": "markdown",
   "metadata": {},
   "source": [
    "# Importeren van de benodigdheden"
   ]
  },
  {
   "cell_type": "code",
   "execution_count": 2,
   "metadata": {},
   "outputs": [],
   "source": [
    "import json\n",
    "import pandas as pd\n",
    "import os\n",
    "import numpy as np\n",
    "from datetime import datetime\n",
    "\n",
    "from pandas import DataFrame\n",
    "\n"
   ]
  },
  {
   "cell_type": "markdown",
   "metadata": {},
   "source": [
    "# Definieren van de functies"
   ]
  },
  {
   "cell_type": "code",
   "execution_count": null,
   "metadata": {},
   "outputs": [],
   "source": [
    "def get_first_key(dictionary: dict) -> dict:\n",
    "    return list(dictionary.keys())[0]\n",
    "\n",
    "\n",
    "def del_empty_keys(dictionary: dict) -> dict:\n",
    "    \"\"\"\n",
    "    The tabs that are read have a pre-defined table. This results in some empty dicts with key names that represent\n",
    "    future months\n",
    "    :param dictionary:\n",
    "    :return: Dict without\n",
    "    \"\"\"\n",
    "    return {key: dictionary[key] for key in dictionary.keys() if dictionary[key] != {}}\n",
    "\n",
    "\n",
    "def clean_dt_string_month(dt_string: str) -> str:\n",
    "    month_notation = ['Jan', 'Feb', 'Mrt', 'Apr', 'Mei', 'Jun', 'Jul', 'Aug', 'Sept', 'Okt', 'Nov', 'Dec']\n",
    "    month_notation = {month_notation[idx]: str(idx + 1) for idx in range(len(month_notation))}\n",
    "\n",
    "    dt_month, dt_year = month_notation[dt_string.split(' - ')[0]], datetime.strptime(dt_string.split(' - ')[1], '%y')\n",
    "\n",
    "    dt_string = '0' + dt_month + '_' + datetime.strftime(dt_year, '%Y') if len(dt_month) == 1 \\\n",
    "        else dt_month + '_' + datetime.strftime(dt_year, '%Y')\n",
    "\n",
    "    return dt_string\n",
    "\n",
    "\n",
    "def clean_dt_string_q(dt_string: str) -> str:\n",
    "    return dt_string.replace('-', '_').replace(' ', '')\n",
    "\n",
    "\n",
    "def clean_inputdata(inputdata: DataFrame, index_first_col_maanden: int, category_column_name: str, time_bin: str = 'month') -> dict:\n",
    "    \"\"\"\n",
    "    Gestandaardiseerde aanpak voor het schoonmaken van de input dataframes uit het rekendocument (excel) van\n",
    "    Remko van Gorkum.\n",
    "    :param inputdata:\n",
    "    :param index_first_col_maanden:\n",
    "    :param category_column_name:\n",
    "    :return:\n",
    "    \"\"\"\n",
    "    _inputdata = inputdata.iloc[:-3, :]  # onderste 3 rijen zijn overbodig  EDIT (??is dit altijd zo??)\n",
    "    dictionary = {}\n",
    "    for col in _inputdata.iloc[:, index_first_col_maanden:]:\n",
    "        if _inputdata[col][0].lower() == 'totaal':\n",
    "            break\n",
    "\n",
    "        datetime_obj = clean_dt_string_month(_inputdata[col][0]) if time_bin == 'month' else clean_dt_string_q(_inputdata[col][0])\n",
    "        # initialize empty dict for month\n",
    "        if datetime_obj not in dictionary:\n",
    "            dictionary[datetime_obj] = {}  # Creates an empty dict w/ month as key in the dict\n",
    "\n",
    "        for index, row in _inputdata.iterrows():\n",
    "            if row[col] is np.nan:\n",
    "                break\n",
    "            elif index > 0 and int(row[col]) > 0:\n",
    "                dictionary[datetime_obj][row[category_column_name]] = row[col]\n",
    "\n",
    "    # dictionary = del_empty_keys(dictionary)\n",
    "\n",
    "    return dictionary"
   ]
  },
  {
   "cell_type": "markdown",
   "metadata": {},
   "source": [
    "# Uitlezen van het brondocument"
   ]
  },
  {
   "cell_type": "code",
   "execution_count": null,
   "metadata": {},
   "outputs": [],
   "source": [
    "excel_file = pd.ExcelFile(file_input)\n",
    "\n",
    "inputdata_subsystems = pd.read_excel(excel_file, list(filter(lambda x: x.lower() == 'onterechte meldingen totaal', excel_file.sheet_names))[0])\n",
    "inputdata_poo_codes = pd.read_excel(excel_file, list(filter(lambda x: x.lower() == 'probleem oorzaak oplossing', excel_file.sheet_names))[0])\n",
    "\n",
    "inputdata_meldingen = pd.read_excel(excel_file, list(filter(lambda x: x.lower() == 'trend maand meldingen', excel_file.sheet_names))[0])\n",
    "inputdata_storingen = pd.read_excel(excel_file, list(filter(lambda x: x.lower() == 'trend maand storingen', excel_file.sheet_names))[0])\n",
    "\n",
    "inputdata_poo_probleem = pd.read_excel(excel_file, list(filter(lambda x: x.lower() == 'overzicht probleem', excel_file.sheet_names))[0])\n",
    "inputdata_poo_oorzaak = pd.read_excel(excel_file, list(filter(lambda x: x.lower() == 'overzicht oorzaak', excel_file.sheet_names))[0])\n",
    "inputdata_poo_oplossing = pd.read_excel(excel_file, list(filter(lambda x: x.lower() == 'overzicht oplossing', excel_file.sheet_names))[0])\n"
   ]
  },
  {
   "cell_type": "markdown",
   "metadata": {},
   "source": [
    "# Transformeren van de brondata"
   ]
  },
  {
   "cell_type": "code",
   "execution_count": null,
   "metadata": {},
   "outputs": [],
   "source": [
    "\"\"\"\n",
    "Possible subsystem numbers\n",
    "\"\"\"\n",
    "possible_subsystems = set()\n",
    "\n",
    "# Sluis Eefde gebruikt 'SBS subsysteem code'  -  ipv 'SBS sub-systeem code'\n",
    "column = 'SBS subsysteem code' if project == 'Sluis Eefde' else 'SBS sub-systeem code'\n",
    "for x in inputdata_subsystems[column][inputdata_subsystems[column].notnull()]:\n",
    "    possible_subsystems.add(str(x))"
   ]
  },
  {
   "cell_type": "code",
   "execution_count": null,
   "metadata": {},
   "outputs": [],
   "source": [
    "\"\"\"\n",
    "meldingen per di_num\n",
    "di_num = SBS sub-systeem code\n",
    "\"\"\"\n",
    "meldingen = clean_inputdata(inputdata_meldingen,\n",
    "                            index_first_col_maanden=4,\n",
    "                            category_column_name='SBS sub-systeem code',\n",
    "                            time_bin='month')"
   ]
  },
  {
   "cell_type": "code",
   "execution_count": null,
   "metadata": {},
   "outputs": [],
   "source": [
    "\"\"\"\n",
    "storingen per di_num\n",
    "di_num = SBS sub-systeem code\n",
    "\"\"\"\n",
    "storingen = clean_inputdata(inputdata_storingen,\n",
    "                            index_first_col_maanden=4,\n",
    "                            category_column_name='SBS sub-systeem code',\n",
    "                            time_bin='month')"
   ]
  },
  {
   "cell_type": "code",
   "execution_count": null,
   "metadata": {},
   "outputs": [],
   "source": [
    "\"\"\"\n",
    "POO-codes (Probleem/Oorzaak/Oplossing codes)\n",
    "\"\"\"\n",
    "poo_probleem = clean_inputdata(inputdata_poo_probleem,\n",
    "                               index_first_col_maanden=2,\n",
    "                               category_column_name='Probleem code',\n",
    "                               time_bin='q')\n",
    "\n",
    "poo_oorzaak = clean_inputdata(inputdata_poo_oorzaak,\n",
    "                              index_first_col_maanden=2,\n",
    "                              category_column_name='Oorzaak code',\n",
    "                              time_bin='q')\n",
    "\n",
    "poo_oplossing = clean_inputdata(inputdata_poo_oplossing,\n",
    "                                index_first_col_maanden=2,\n",
    "                                category_column_name='Oplossing code',\n",
    "                                time_bin='q')\n",
    "\n",
    "poo_codes = {\"probleem\": poo_probleem,\n",
    "             \"oorzaak\": poo_oorzaak,\n",
    "             \"oplossing\": poo_oplossing}\n",
    "\n",
    "poo_code_overzicht = dict()\n",
    "col_names = ['Probleem', 'Oorzaak', 'Oplossing']\n",
    "for name in col_names:\n",
    "    i = inputdata_poo_codes.columns.get_loc(name)\n",
    "    col_data = inputdata_poo_codes.iloc[:, i].to_dict()\n",
    "    beschrijving_data = inputdata_poo_codes.iloc[:, i+1].to_dict()\n",
    "\n",
    "    dict2add = {}\n",
    "    for idx in range(len(col_data)):\n",
    "        if col_data[idx] is np.nan:\n",
    "            break\n",
    "\n",
    "        if list(col_data.keys())[idx] not in poo_code_overzicht:\n",
    "            dict2add[col_data[idx]] = beschrijving_data[idx]\n",
    "\n",
    "    poo_code_overzicht = {**poo_code_overzicht, **dict2add}"
   ]
  },
  {
   "cell_type": "markdown",
   "metadata": {},
   "source": [
    "# Gereed maken van het JSON object"
   ]
  },
  {
   "cell_type": "code",
   "execution_count": null,
   "metadata": {},
   "outputs": [],
   "source": [
    "\"\"\"\n",
    "Set-up van het JSON-Object\n",
    "\"\"\"\n",
    "contract_info = {\"tijdsregistratie\": tijdsregistratie,\n",
    "                 \"minimale_beschikbaarheid\": \"xx\",\n",
    "                 \"minimale_responsetijd\": \"04:00:00\",\n",
    "                 \"aanwezige_deelinstallaties\": tuple(possible_subsystems),\n",
    "                 \"POO_codes\": poo_code_overzicht}\n",
    "\n",
    "start_datum = get_first_key(meldingen)\n",
    "\n",
    "json_dict = {\"project\": project,\n",
    "             \"start_datum\": start_datum,\n",
    "             \"contract_info\": contract_info,\n",
    "             \"poo_codes\": poo_codes,\n",
    "             \"meldingen\": meldingen,\n",
    "             \"storingen\": storingen}"
   ]
  },
  {
   "cell_type": "markdown",
   "metadata": {},
   "source": [
    "# Exporteren van het JSON object"
   ]
  },
  {
   "cell_type": "code",
   "execution_count": null,
   "metadata": {},
   "outputs": [],
   "source": [
    "with open(f\"metadata//metadata_file_{project.lower().replace(' ', '_')}.json\", 'w') as output_file:\n",
    "    json.dump(json_dict, output_file)"
   ]
  }
 ],
 "metadata": {
  "kernelspec": {
   "display_name": "Python 3",
   "language": "python",
   "name": "python3"
  },
  "language_info": {
   "codemirror_mode": {
    "name": "ipython",
    "version": 3
   },
   "file_extension": ".py",
   "mimetype": "text/x-python",
   "name": "python",
   "nbconvert_exporter": "python",
   "pygments_lexer": "ipython3",
   "version": "3.8.3"
  },
  "toc": {
   "base_numbering": 1,
   "nav_menu": {},
   "number_sections": true,
   "sideBar": true,
   "skip_h1_title": false,
   "title_cell": "Table of Contents",
   "title_sidebar": "Contents",
   "toc_cell": false,
   "toc_position": {},
   "toc_section_display": true,
   "toc_window_display": false
  }
 },
 "nbformat": 4,
 "nbformat_minor": 4
}
