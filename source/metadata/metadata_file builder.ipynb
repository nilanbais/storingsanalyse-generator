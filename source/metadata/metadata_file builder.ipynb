{
 "cells": [
  {
   "cell_type": "markdown",
   "metadata": {},
   "source": [
    "# Bouwen van de metadata\n",
    "De metadata is nodig voor het berekeken van de gemiddelde aantal meldingen/storingen per maand en de TOV-tabellen.\n",
    "\n",
    "De opbouw van de metadata is (vooralsnog) als volgt:\n",
    "```\n",
    "{\n",
    "    project: projectnaam,\n",
    "    start_datum: dd-mm-yyy,\n",
    "    contract_info: {\n",
    "        tijdsregistratie: True,\n",
    "        minimale_beschikbaarheid: xx,\n",
    "        minimale_responsetijd: 04:00:00,\n",
    "    },\n",
    "    meldingen: {\n",
    "        f\"{maand}_{jaar}\": {\n",
    "            DI_num: aantal meldingen,\n",
    "            DI_num: aantal meldingen\n",
    "        }\n",
    "        f\"{maand}_{jaar}\": {\n",
    "            DI_num: aantal meldingen,\n",
    "            DI_num: aantal meldingen\n",
    "        }\n",
    "    },\n",
    "    storingen: {\n",
    "        f\"{maand}_{jaar}\": {\n",
    "            DI_num: aantal storingen,\n",
    "            DI_num: aantal storingen\n",
    "        }\n",
    "        f\"{maand}_{jaar}\": {\n",
    "            DI_num: aantal storingen,\n",
    "            DI_num: aantal storingen\n",
    "        }\n",
    "    }\n",
    "}\n",
    "```\n",
    "In deze opbouw worden enkel de deelinstallaties meegenomen met meldingen > 0. Dit geldt ook voor de storingen.\n",
    "Om DI_num om te zetten naar een omschrijving kan de functie **get_breakdown_description()** gebruikt worden.\n",
    "\n",
    "Voor het opslaan van de metadata wordt (voor nu) gekozen voor een .json-type"
   ]
  },
  {
   "cell_type": "markdown",
   "metadata": {},
   "source": []
  }
 ],
 "metadata": {
  "kernelspec": {
   "display_name": "Python 3",
   "language": "python",
   "name": "python3"
  },
  "language_info": {
   "codemirror_mode": {
    "name": "ipython",
    "version": 3
   },
   "file_extension": ".py",
   "mimetype": "text/x-python",
   "name": "python",
   "nbconvert_exporter": "python",
   "pygments_lexer": "ipython3",
   "version": "3.8.3"
  },
  "toc": {
   "base_numbering": 1,
   "nav_menu": {},
   "number_sections": true,
   "sideBar": true,
   "skip_h1_title": false,
   "title_cell": "Table of Contents",
   "title_sidebar": "Contents",
   "toc_cell": false,
   "toc_position": {},
   "toc_section_display": true,
   "toc_window_display": false
  }
 },
 "nbformat": 4,
 "nbformat_minor": 4
}
