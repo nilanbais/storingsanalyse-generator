{
 "cells": [
  {
   "cell_type": "code",
   "execution_count": null,
   "metadata": {
    "collapsed": true
   },
   "outputs": [],
   "source": []
  },
  {
   "cell_type": "markdown",
   "metadata": {},
   "source": [
    "# Voorbereiding"
   ]
  },
  {
   "cell_type": "code",
   "execution_count": 1,
   "metadata": {
    "hide_input": false
   },
   "outputs": [
    {
     "ename": "ModuleNotFoundError",
     "evalue": "No module named 'python_packages'",
     "output_type": "error",
     "traceback": [
      "\u001b[1;31m---------------------------------------------------------------------------\u001b[0m",
      "\u001b[1;31mModuleNotFoundError\u001b[0m                       Traceback (most recent call last)",
      "\u001b[1;32m<ipython-input-1-8137e23cb52e>\u001b[0m in \u001b[0;36m<module>\u001b[1;34m\u001b[0m\n\u001b[0;32m     14\u001b[0m \u001b[1;32mfrom\u001b[0m \u001b[0mdatetime\u001b[0m \u001b[1;32mimport\u001b[0m \u001b[0mdatetime\u001b[0m\u001b[1;33m,\u001b[0m \u001b[0mtimedelta\u001b[0m\u001b[1;33m\u001b[0m\u001b[1;33m\u001b[0m\u001b[0m\n\u001b[0;32m     15\u001b[0m \u001b[1;33m\u001b[0m\u001b[0m\n\u001b[1;32m---> 16\u001b[1;33m \u001b[1;32mfrom\u001b[0m \u001b[0msource\u001b[0m\u001b[1;33m.\u001b[0m\u001b[0mstoringsanalyse\u001b[0m \u001b[1;32mimport\u001b[0m \u001b[0mStoringsAnalyse\u001b[0m\u001b[1;33m\u001b[0m\u001b[1;33m\u001b[0m\u001b[0m\n\u001b[0m\u001b[0;32m     17\u001b[0m \u001b[1;32mfrom\u001b[0m \u001b[0mstoringsanalyse_v2\u001b[0m \u001b[1;32mimport\u001b[0m \u001b[0mStoringsAnalyse\u001b[0m \u001b[1;32mas\u001b[0m \u001b[0mStoringsAnalyseV2\u001b[0m\u001b[1;33m\u001b[0m\u001b[1;33m\u001b[0m\u001b[0m\n\u001b[0;32m     18\u001b[0m \u001b[1;33m\u001b[0m\u001b[0m\n",
      "\u001b[1;32m~\\OneDrive - TBI Holding\\Bureaublad\\storingsanalyse-generator\\Coentunnel-tracé\\source\\storingsanalyse.py\u001b[0m in \u001b[0;36m<module>\u001b[1;34m\u001b[0m\n\u001b[0;32m     23\u001b[0m \u001b[1;32mfrom\u001b[0m \u001b[0mmatplotlib\u001b[0m\u001b[1;33m.\u001b[0m\u001b[0mbackends\u001b[0m\u001b[1;33m.\u001b[0m\u001b[0mbackend_pdf\u001b[0m \u001b[1;32mimport\u001b[0m \u001b[0mPdfPages\u001b[0m\u001b[1;33m\u001b[0m\u001b[1;33m\u001b[0m\u001b[0m\n\u001b[0;32m     24\u001b[0m \u001b[1;33m\u001b[0m\u001b[0m\n\u001b[1;32m---> 25\u001b[1;33m \u001b[1;32mfrom\u001b[0m \u001b[0mpython_packages\u001b[0m\u001b[1;33m.\u001b[0m\u001b[0mstaging_file_class\u001b[0m \u001b[1;32mimport\u001b[0m \u001b[0mStagingFileBuilder\u001b[0m\u001b[1;33m\u001b[0m\u001b[1;33m\u001b[0m\u001b[0m\n\u001b[0m\u001b[0;32m     26\u001b[0m \u001b[1;32mfrom\u001b[0m \u001b[0mpython_packages\u001b[0m\u001b[1;33m.\u001b[0m\u001b[0mmetadata_storingsanalyse\u001b[0m \u001b[1;32mimport\u001b[0m \u001b[0mMetadataStoringsAnalyse\u001b[0m\u001b[1;33m\u001b[0m\u001b[1;33m\u001b[0m\u001b[0m\n\u001b[0;32m     27\u001b[0m \u001b[1;32mfrom\u001b[0m \u001b[0mpython_packages\u001b[0m\u001b[1;33m.\u001b[0m\u001b[0mquery_maximo_database\u001b[0m \u001b[1;32mimport\u001b[0m \u001b[0mQueryMaximoDatabase\u001b[0m\u001b[1;33m\u001b[0m\u001b[1;33m\u001b[0m\u001b[0m\n",
      "\u001b[1;31mModuleNotFoundError\u001b[0m: No module named 'python_packages'"
     ]
    }
   ],
   "source": [
    "import os\n",
    "import json\n",
    "import asyncio\n",
    "\n",
    "import traitlets\n",
    "\n",
    "import numpy as np\n",
    "import pandas as pd\n",
    "\n",
    "import ipywidgets as widgets \n",
    "from ipywidgets import interact, interact_manual, Layout\n",
    "\n",
    "import time\n",
    "from datetime import datetime, timedelta\n",
    "\n",
    "from source.storingsanalyse import StoringsAnalyse\n",
    "\n",
    "import numpy as np\n",
    "import matplotlib.pyplot as plt\n",
    "from matplotlib.figure import Figure\n",
    "\n",
    "from IPython.display import Markdown, Latex\n",
    "\n",
    "from document_generator import DocumentGenerator"
   ]
  },
  {
   "cell_type": "code",
   "execution_count": null,
   "metadata": {
    "hide_input": false
   },
   "outputs": [],
   "source": [
    "class LoadedButton(widgets.Button):\n",
    "    \"\"\"A button that can holds a value as a attribute.\"\"\"\n",
    "\n",
    "    def __init__(self, value=None, *args, **kwargs):\n",
    "        super(LoadedButton, self).__init__(*args, **kwargs)\n",
    "        # Create the value attribute.\n",
    "        self.add_traits(value=traitlets.Any(value))\n",
    "\n",
    "\n",
    "# Aparte functie voor het wachten op verandering (aka input van de ME)\n",
    "def wait_for_change(widget):\n",
    "    future = asyncio.Future()\n",
    "    def getvalue(change):\n",
    "        future.set_result(change.description)\n",
    "        widget.on_click(getvalue, remove=True) \n",
    "        # we need to free up the binding to getvalue to avoid an InvalidState error\n",
    "        # buttons don't support unobserve\n",
    "        # so use `remove=True` \n",
    "    widget.on_click(getvalue)\n",
    "    return future"
   ]
  },
  {
   "cell_type": "code",
   "execution_count": null,
   "metadata": {
    "hide_input": false
   },
   "outputs": [],
   "source": [
    "\"\"\" In the line bellow fill in your API key without < and > \"\"\" \n",
    "api_key = 'bWF4YWRtaW46R21iQ1dlbkQyMDE5' # provided to you by a Maximo Consultant\n",
    "\n",
    "\"\"\" In the line bellow fill in the desired object structure \"\"\"\n",
    "obj_struct = 'MXWO_SND' # name of the Maximo object structure\n",
    "\n",
    "\"\"\" In the line bellow fill in the PO number and the SITEID without the < and > \"\"\"\n",
    "query = 'siteid=\"CT1EN2\" and worktype=\"COR\" and reportdate>=\"2018-01-01T00:00:00-00:00\" and reportdate<=\"2018-03-30T00:00:00-00:00\"'"
   ]
  },
  {
   "cell_type": "code",
   "execution_count": null,
   "metadata": {},
   "outputs": [],
   "source": [
    "input_project = widgets.Dropdown(\n",
    "    options=[\"Coentunnel-tracé\", \"Sluis Eefde\"],\n",
    "    value=\"Coentunnel-tracé\",\n",
    "    description='Project:',\n",
    "    disabled=False)\n",
    "\n",
    "input_rapport_type = widgets.Dropdown(\n",
    "    options=[\"Kwartaalrapportage\", \"Jaarrapportage\"],\n",
    "    description='Rapport type:',\n",
    "    disabled=False)\n",
    "\n",
    "input_quarter = widgets.Dropdown(\n",
    "    options=[\"n.v.t.\", \"Q1\", \"Q2\", \"Q3\", \"Q4\"],\n",
    "    value='Q2',\n",
    "    description='Kwartaal:',\n",
    "    disabled=False)\n",
    "\n",
    "input_api_key = widgets.Text(\n",
    "    value='bWF4YWRtaW46R21iQ1dlbkQyMDE5',\n",
    "    placeholder='Type something',\n",
    "    description='API key:',\n",
    "    disabled=False,\n",
    "    layout=Layout(width='50%'))\n",
    "\n",
    "input_path_staging_file = widgets.Text(\n",
    "    placeholder='Path to the Staging File',\n",
    "    value='..\\\\staging file\\\\validating_input_data.xlsx',\n",
    "    description='Pad naar Staging File:',\n",
    "    disabled=False,\n",
    "    layout=Layout(width='50%'))\n",
    "\n",
    "display(input_project, input_rapport_type, input_quarter, input_api_key, input_path_staging_file)"
   ]
  },
  {
   "cell_type": "code",
   "execution_count": null,
   "metadata": {
    "scrolled": false
   },
   "outputs": [],
   "source": [
    "sa = StoringsAnalyseV2(project=input_project.value, \n",
    "                       rapport_type=input_rapport_type.value, \n",
    "                       quarter=input_quarter.value,\n",
    "                       year=datetime.now().year,\n",
    "                       api_key=input_api_key.value, \n",
    "                       path_to_staging_file=input_path_staging_file.value)\n",
    "\n",
    "# DocumentGenerator instance\n",
    "dg = DocumentGenerator(project=input_project.value, \n",
    "                       rapport_type=input_rapport_type.value, \n",
    "                       quarter=input_quarter.value,\n",
    "                       year=datetime.now().year,\n",
    "                       api_key=input_api_key.value, \n",
    "                       path_to_staging_file=input_path_staging_file.value)"
   ]
  },
  {
   "cell_type": "code",
   "execution_count": null,
   "metadata": {},
   "outputs": [],
   "source": [
    "sf_data = sa.staging_file_data"
   ]
  },
  {
   "cell_type": "markdown",
   "metadata": {
    "hide_input": true
   },
   "source": [
    "### Aanpassen van de staging_file -- DEZE STAP WORDT VERWIJDERD IN DE TOEKOMST\n",
    "Het opbouwen van deze automatische storingsanalyse vraagt om een ingevulde kolom 'type melding'. Om het process van opbouwen niet te laten stagneren op dit aspect, wordt er hieronder fictive data gegenereerd. Met behulp van de fictieve data wordt het genereren van de verschillende tabellen en grafieken gebouwd."
   ]
  },
  {
   "cell_type": "markdown",
   "metadata": {},
   "source": [
    "#### Dataset opvullen met fictieve data"
   ]
  },
  {
   "cell_type": "code",
   "execution_count": null,
   "metadata": {
    "hide_input": false
   },
   "outputs": [],
   "source": [
    "# from random import randrange\n",
    "\n",
    "# lijst_opties = ['Storing', 'Incident', 'Preventief', 'Onterecht']\n",
    "# random_ranges = [lijst_opties[randrange(0, 4, 1)] for _ in range(len(sf_data['type melding (Storing/Incident/Preventief/Onterecht)']))]\n",
    "# sf_data.loc[:, 'type melding (Storing/Incident/Preventief/Onterecht)'] = random_ranges"
   ]
  },
  {
   "cell_type": "code",
   "execution_count": null,
   "metadata": {
    "hide_input": false
   },
   "outputs": [],
   "source": [
    "# lijst_opties = ['P01', 'P02', 'P03', 'P04', 'P05', 'P06', 'P07', 'P08', 'P09', 'P10', 'P11', np.nan]\n",
    "# random_ranges = [lijst_opties[randrange(0, len(lijst_opties), 1)] for _ in range(len(sf_data['probleem code']))]\n",
    "# sf_data.loc[:, 'probleem code'] = random_ranges"
   ]
  },
  {
   "cell_type": "code",
   "execution_count": null,
   "metadata": {
    "hide_input": false
   },
   "outputs": [],
   "source": [
    "# lijst_opties = ['C01', 'C02', 'C03', 'C04', 'C05', 'C06', 'C07', 'C08', 'C09', 'C10', 'C11', 'C12', 'C13', 'C14', 'C15', 'C16', np.nan]\n",
    "# random_ranges = [lijst_opties[randrange(0, len(lijst_opties), 1)] for _ in range(len(sf_data['oorzaak code']))]\n",
    "# sf_data.loc[:, 'oorzaak code'] = random_ranges"
   ]
  },
  {
   "cell_type": "code",
   "execution_count": null,
   "metadata": {
    "hide_input": false
   },
   "outputs": [],
   "source": [
    "# lijst_opties = ['S01', 'S02', 'S03', 'S04', 'S05', 'S06', 'S07', 'S08', np.nan]\n",
    "# random_ranges = [lijst_opties[randrange(0, len(lijst_opties), 1)] for _ in range(len(sf_data['oplos code']))]\n",
    "# sf_data.loc[:, 'oplos code'] = random_ranges"
   ]
  },
  {
   "cell_type": "code",
   "execution_count": null,
   "metadata": {
    "hide_input": false,
    "scrolled": true
   },
   "outputs": [],
   "source": [
    "# sf_data.iloc[:5, 15:25]"
   ]
  },
  {
   "cell_type": "code",
   "execution_count": null,
   "metadata": {
    "hide_input": false
   },
   "outputs": [],
   "source": [
    "# # changing the di_numbers from '45-10' to '45'\n",
    "# new_num = []\n",
    "# for num in sf_data['sbs']:\n",
    "#     if num is np.nan:\n",
    "#         new_num.append(num)\n",
    "#     else:\n",
    "#         new_num.append(sa._isolate_di_number(str(num)))\n",
    "\n",
    "# sf_data.loc[:, 'sbs'] = new_num"
   ]
  },
  {
   "cell_type": "markdown",
   "metadata": {},
   "source": [
    "#### Aanpassing van afwijkende variabelen\n",
    "- Terecht = Storing gerealiseerd in het document zelf\n",
    "- '00' = '0' "
   ]
  },
  {
   "cell_type": "code",
   "execution_count": null,
   "metadata": {},
   "outputs": [],
   "source": [
    "# sf_data.replace(to_replace='00', value='0', inplace=True)"
   ]
  },
  {
   "cell_type": "code",
   "execution_count": null,
   "metadata": {},
   "outputs": [],
   "source": [
    "# sa.split_staging_file()"
   ]
  },
  {
   "cell_type": "markdown",
   "metadata": {
    "hide_input": false
   },
   "source": [
    "# Analyse"
   ]
  },
  {
   "cell_type": "markdown",
   "metadata": {},
   "source": [
    "## Aantallen meldingen"
   ]
  },
  {
   "cell_type": "markdown",
   "metadata": {},
   "source": [
    "### Aantal meldingen per maand"
   ]
  },
  {
   "cell_type": "code",
   "execution_count": null,
   "metadata": {},
   "outputs": [],
   "source": [
    "# Data voor in tekst ophalen\n",
    "totaal_aantal_meldingen = len(sf_data.index)\n",
    "\n",
    "meldingen_per_maand = sf_data['month_number'].value_counts()\n",
    "\n",
    "gemiddelde_per_maand = sum(meldingen_per_maand) / len(meldingen_per_maand)\n",
    "\n",
    "max_meldingen_maand = sa.get_min_max_months(meldingen_per_maand.to_dict(), min_max='max')\n",
    "min_meldingen_maand = sa.get_min_max_months(meldingen_per_maand.to_dict(), min_max='min')\n",
    "\n",
    "# data_2019 = [key for key in sa.metadata.meldingen().keys() if '2019' in key]\n",
    "# meldingen_2019 = sa.metadata.sum_values(dictionary=sa.meldingen, keys=data_2019)\n",
    "\n",
    "# jaarlijks_gemiddelde = sa.metadata.avg_yearly(dictionary=sa.metadata.meldingen(), exclude_year='2020')\n",
    "\n",
    "maanden = sa.metadata.get_month_list(exclude_year='2020')\n",
    "maandelijks_gemiddelde = sa.metadata.avg_monthly(dictionary=sa.metadata.meldingen(), exclude_keys=maanden)\n",
    "\n",
    "kwartaal_gemiddelde = sa.metadata.avg_quarterly(dictionary=sa.metadata.meldingen())\n",
    "\n",
    "# tekst opbouwen + afbeelden \n",
    "tekst = f\"\"\"\n",
    "Om te kunnen bepalen of een trend waarneembaar is in het aantal meldingen per \n",
    "maand, wordt als onderdeel van deze rapportage een grafiek toegevoegd. Zie \n",
    "bijlage 1: “Aantal meldingen per maand”.\n",
    "\n",
    "Uit de grafiek valt het volgende te constateren:\n",
    "\n",
    "• Het totaal aantal meldingen in Q1 2021 : **{totaal_aantal_meldingen}** \n",
    "\n",
    "• Het gemiddelde aantal meldingen per maand : **{gemiddelde_per_maand}** \n",
    "\n",
    "• Hoogste aantal meldingen in de maand{'en' if len(max_meldingen_maand) > 1 else ''} **{', '.join(max_meldingen_maand)}** : **{max(meldingen_per_maand)}**\n",
    "\n",
    "• Laagste aantal meldingen in de maand{'en' if len(min_meldingen_maand) > 1 else ''} **{', '.join(min_meldingen_maand)}** : **{min(meldingen_per_maand)}**\n",
    "\n",
    "• Het gemiddelde aantal meldingen per maand vanaf **{sa.project_start_date}**: **{maandelijks_gemiddelde}**\n",
    "\n",
    "• Het gemiddelde aantal meldingen per kwartaal vanaf **{sa.project_start_date}**: **{kwartaal_gemiddelde}**\n",
    "\"\"\"\n",
    "display(Markdown(tekst))"
   ]
  },
  {
   "cell_type": "code",
   "execution_count": null,
   "metadata": {
    "hide_input": false
   },
   "outputs": [],
   "source": [
    "# Aantal meldingen in voorgaande q\n",
    "voorgaande_q = sa.quarter_sequence.get_prev_val(sa.quarter)\n",
    "voorgaand_jaar = str(int(sa.year) - 1)\n",
    "mlist = sa.metadata.get_keys(dictionary=sa.metadata.meldingen(), containing_quarter=[voorgaande_q], containing_year=[voorgaand_jaar])\n",
    "meldingen_gefilterd = sa.metadata.filter_dictionary_keys(dictionary=sa.metadata.meldingen(), keys=mlist)\n",
    "totaal_meldingen_voorgaand_kwartaal = sa.metadata.sum_values(meldingen_gefilterd)\n",
    "\n",
    "# Aantal meldingen in zelfde q voorgaand jaar\n",
    "mlist = sa.metadata.get_keys(dictionary=sa.metadata.meldingen(),containing_quarter=[sa.quarter], containing_year=[voorgaand_jaar])\n",
    "meldingen_gefilterd = sa.metadata.filter_dictionary_keys(dictionary=sa.metadata.meldingen(), keys=mlist)\n",
    "totaal_meldingen_zelfde_kwartaal = sa.metadata.sum_values(meldingen_gefilterd)\n",
    "\n",
    "tekst = f\"\"\"\n",
    "In **{sa.quarter}** **{voorgaand_jaar}** waren in totaal **{totaal_meldingen_zelfde_kwartaal}** meldingen gemaakt. In **{sa.quarter}** **{sa.year}** zijn er **{totaal_aantal_meldingen-totaal_meldingen_zelfde_kwartaal}** meldingen \n",
    "meer t.o.v. **{sa.quarter}** **{voorgaand_jaar}**. \n",
    " \n",
    "In **{voorgaande_q}** **{sa.year}** waren in totaal **{totaal_meldingen_voorgaand_kwartaal}** meldingen gemaakt. In **{sa.quarter}** **{sa.year}** zijn er **{totaal_aantal_meldingen-totaal_meldingen_voorgaand_kwartaal}** meldingen \n",
    "meer t.o.v. **{voorgaande_q}** **{sa.year}**. \n",
    "\"\"\"\n",
    "display(Markdown(tekst))"
   ]
  },
  {
   "cell_type": "markdown",
   "metadata": {},
   "source": [
    "### Aantal meldingen per subsysteem "
   ]
  },
  {
   "cell_type": "code",
   "execution_count": null,
   "metadata": {
    "hide_input": false,
    "scrolled": true
   },
   "outputs": [],
   "source": [
    "df = sa.meldingen.copy()\n",
    "# unieke types vastlegen\n",
    "unique_types = list(df.loc[:, 'sbs'].unique())\n",
    "\n",
    "sbs_count = df.loc[:, 'sbs'].value_counts()\n",
    "\n",
    "input_threshhold = widgets.IntSlider(\n",
    "    value=3,\n",
    "    min=sbs_count.min(),\n",
    "    max=sbs_count.max(),\n",
    "    step=1,\n",
    "    description='Drempelwaarde:',\n",
    "    disabled=False,\n",
    "    continuous_update=False,\n",
    "    orientation='horizontal',\n",
    "    readout=True,\n",
    "    readout_format='d',\n",
    "    style=dict(description_width='initial')\n",
    ")\n",
    "\n",
    "display(input_threshhold)"
   ]
  },
  {
   "cell_type": "code",
   "execution_count": null,
   "metadata": {
    "hide_input": false,
    "scrolled": false
   },
   "outputs": [],
   "source": [
    "# sbs nummers die verwerkt moeten worden\n",
    "sbs_to_process = [x for x in sbs_count.index if sbs_count.at[x] >= input_threshhold.value]\n",
    "\n",
    "# lijst met rijen die verwerkt moeten worden\n",
    "rows2process = list()\n",
    "for sbs in sbs_to_process:\n",
    "    meldingen_per_sbs = sbs_count[sbs]\n",
    "    percentage_storing = round((meldingen_per_sbs / sum(sbs_count)) * 100, 2)\n",
    "    line = f\"{sa._get_breakdown_description(sbs)}\\t- {meldingen_per_sbs} meldingen ({percentage_storing}% van het totale aantal meldingen)\"\n",
    "    rows2process.append(line)\n",
    "\n",
    "# notification type\n",
    "ntypes = list(df.loc[:, 'type melding (Storing/Incident/Preventief/Onterecht)'].unique())\n",
    "print(ntypes)\n",
    "\n",
    "ntype_count = df.loc[:, 'type melding (Storing/Incident/Preventief/Onterecht)'].value_counts()\n",
    "print(ntype_count)\n",
    "\n",
    "n2p = list()\n",
    "for n in ntypes:\n",
    "    line = f\"{ntype_count[n]} meldingen zijn gecategoriseerd als {n}.\"\n",
    "    n2p.append(line)\n",
    "\n",
    "# '\\' is not allowed as character in a f-string like bellow. reason for newline and tab\n",
    "newline = '\\n'\n",
    "tab = '\\t'\n",
    "\n",
    "tekst=f\"\"\"\n",
    "Er wordt en Pareto analyse gemaakt van het totaal aantal meldingen per subsysteem. Deze is toegevoegd als bijlage 1. \n",
    " \n",
    "Uit de pareto blijkt dat in **{sa.quarter}** **{voorgaand_jaar}** een totaal van **{totaal_aantal_meldingen}** meldingen zijn gemeld, intern \n",
    "dan wel extern. Voor het overzicht zijn de meldingen bekeken met **{input_threshhold.value}** of meer \n",
    "meldingen. Dit is de top **{len(sbs_to_process)}** en heeft een totaal van **{sum(sbs_count[sbs_to_process])}** meldingen van de in totaal \n",
    "**{totaal_aantal_meldingen}** (dit is **{round((sum(sbs_count[sbs_to_process])/totaal_aantal_meldingen) * 100, 2)}**% van het totaal). \n",
    "Hieronder staan de deelinstallatie**{'s' if len(sbs_to_process) > 1 else ''}**:\n",
    "\n",
    "\n",
    "{''.join((newline + '**-' + tab + line + '**' + newline for line in rows2process))}\n",
    "\n",
    "\n",
    "De **{totaal_aantal_meldingen}** van **{sa.quarter}** **{sa.year}** zijn als volgt onder te verdelen:\n",
    "\n",
    "{''.join((newline + '**-' + tab + ntype_line + '**' + newline for ntype_line in n2p))}\n",
    "\n",
    "\"\"\"\n",
    "display(Markdown(tekst))"
   ]
  },
  {
   "cell_type": "markdown",
   "metadata": {},
   "source": [
    "## Aantallen storingen"
   ]
  },
  {
   "cell_type": "markdown",
   "metadata": {},
   "source": [
    "### Aantal storingen per maand"
   ]
  },
  {
   "cell_type": "code",
   "execution_count": null,
   "metadata": {
    "hide_input": false
   },
   "outputs": [],
   "source": [
    "totaal_aantal_storingen = len(sa.storingen.index)\n",
    "\n",
    "storingen_per_maand = sa.storingen['month_number'].value_counts()\n",
    "\n",
    "gemiddelde_per_maand = sum(storingen_per_maand) / len(storingen_per_maand) if len(storingen_per_maand) != 0 else 0\n",
    "\n",
    "max_storingen_maand = sa.get_min_max_months(storingen_per_maand.to_dict(), min_max='max')\n",
    "min_storingen_maand = sa.get_min_max_months(storingen_per_maand.to_dict(), min_max='min')\n",
    "\n",
    "data_2019 = [key for key in sa.metadata.storingen().keys() if '2019' in key]\n",
    "storingen_2019 = sa.metadata.sum_values(dictionary=sa.storingen, keys=data_2019)\n",
    "\n",
    "jaarlijks_gemiddelde = sa.metadata.avg_yearly(dictionary=sa.metadata.storingen(), exclude_year='2020')\n",
    "\n",
    "maanden = sa.metadata.get_month_list(exclude_year='2020')\n",
    "maandelijks_gemiddelde = sa.metadata.avg_monthly(dictionary=sa.metadata.storingen(), exclude_keys=maanden)\n",
    "\n",
    "kwartaal_gemiddelde = sa.metadata.avg_quarterly(dictionary=sa.metadata.storingen())\n",
    "\n",
    "# Tekst opbouwen + afbeelden\n",
    "tekst = f\"\"\"\n",
    "Om te kunnen bepalen of een trend waarneembaar is in het aantal storingen per \n",
    "maand, wordt als onderdeel van deze rapportage een grafiek toegevoegd. Zie \n",
    "bijlage 1: “Aantal storingen per maand”.\n",
    "\n",
    "Uit de grafiek valt het volgende te constateren:\n",
    "\n",
    "• Het totaal aantal storingen in Q1 2021 : **{totaal_aantal_storingen}**\n",
    "\n",
    "• Het gemiddelde aantal storingen per maand : **{gemiddelde_per_maand}**\n",
    "\n",
    "• Hoogste aantal storingen in de maand{'en' if len(max_storingen_maand) > 1 else ''} **{', '.join(max_storingen_maand)}** : **{max(storingen_per_maand)}**\n",
    "\n",
    "• Laagste aantal storingen in de maand{'en' if len(min_storingen_maand) > 1 else ''} **{', '.join(min_storingen_maand)}** : **{min(storingen_per_maand)}**\n",
    "\n",
    "• Het gemiddelde aantal storingen per maand vanaf **{sa.project_start_date}**: **{maandelijks_gemiddelde}**\n",
    "\n",
    "• Het gemiddelde aantal storingen per kwartaal vanaf **{sa.project_start_date}**: **{kwartaal_gemiddelde}**\n",
    "\"\"\"\n",
    "display(Markdown(tekst))"
   ]
  },
  {
   "cell_type": "code",
   "execution_count": null,
   "metadata": {
    "hide_input": false
   },
   "outputs": [],
   "source": [
    "# Aantal storingen in voorgaande q\n",
    "voorgaande_q = sa.quarter_sequence.get_prev_val(sa.quarter)\n",
    "voorgaand_jaar = str(int(sa.year) - 1)\n",
    "mlist = sa.metadata.get_keys(dictionary=sa.metadata.storingen(), containing_quarter=[voorgaande_q], containing_year=[voorgaand_jaar])\n",
    "storingen_gefilterd = sa.metadata.filter_dictionary_keys(dictionary=sa.metadata.storingen(), keys=mlist)\n",
    "totaal_storingen_voorgaand_kwartaal = sa.metadata.sum_values(storingen_gefilterd)\n",
    "\n",
    "# Aantal storingen in zelfde q voorgaand jaar\n",
    "mlist = sa.metadata.get_keys(dictionary=sa.metadata.storingen(),containing_quarter=[sa.quarter], containing_year=[voorgaand_jaar])\n",
    "storingen_gefilterd = sa.metadata.filter_dictionary_keys(dictionary=sa.metadata.storingen(), keys=mlist)\n",
    "totaal_storingen_zelfde_kwartaal = sa.metadata.sum_values(storingen_gefilterd)\n",
    "\n",
    "tekst = f\"\"\"\n",
    "In **{sa.quarter}** **{voorgaand_jaar}** waren in totaal **{totaal_storingen_zelfde_kwartaal}** storingen gemaakt. In **{sa.quarter}** **{sa.year}** zijn er **{totaal_aantal_storingen - totaal_storingen_zelfde_kwartaal}** storingen \n",
    "meer t.o.v. **{sa.quarter}** **{voorgaand_jaar}**. \n",
    "\n",
    "In **{voorgaande_q}** **{sa.year}** waren in totaal **{totaal_storingen_voorgaand_kwartaal}** storingen gemaakt. In **{sa.quarter}** **{sa.year}** zijn er **{totaal_aantal_storingen - totaal_storingen_voorgaand_kwartaal}** storingen \n",
    "meer t.o.v. **{voorgaande_q}** **{sa.year}**. \n",
    "\"\"\"\n",
    "display(Markdown(tekst))"
   ]
  },
  {
   "cell_type": "markdown",
   "metadata": {},
   "source": [
    "### Aantal storingen per subsysteem"
   ]
  },
  {
   "cell_type": "code",
   "execution_count": null,
   "metadata": {
    "hide_input": false,
    "scrolled": true
   },
   "outputs": [],
   "source": [
    "df = sa.storingen.copy()\n",
    "\n",
    "# unieke types vastlegen\n",
    "unique_types = list(df.loc[:, 'sbs'].unique())\n",
    "\n",
    "sbs_count = df.loc[:, 'sbs'].value_counts(dropna=False)\n",
    "\n",
    "sbs_to_process = [x for x in sbs_count.index if sbs_count.at[x] >= input_threshhold.value]\n",
    "\n",
    "r2p = list()\n",
    "for sbs in sbs_to_process:\n",
    "    storingen_per_sbs = sbs_count[sbs]\n",
    "    percentage_storing = round((storingen_per_sbs / sum(sbs_count)) * 100, 2)\n",
    "    line = f\"{sa._get_breakdown_description(sbs)}\\t- {storingen_per_sbs} storingen ({percentage_storing}% van het totale aantal storingen)\"\n",
    "    r2p.append(line)\n",
    "\n",
    "# '\\' is not allowed as character in a f-string like bellow. reason for newline and tab\n",
    "newline = '\\n'\n",
    "tab = '\\t'\n",
    "\n",
    "tekst = f\"\"\"\n",
    "Er wordt en Pareto analyse gemaakt van het totaal aantal storingen per subsysteem. Deze is toegevoegd als bijlage. \n",
    "\n",
    "Uit de pareto blijkt dat in **{sa.quarter}** **{sa.year}** een totaal van **{totaal_aantal_storingen}** storingen zijn gemeld, intern \n",
    "dan wel extern. Voor het overzicht zijn de storingen bekeken met **{input_threshhold.value}** of meer \n",
    "storingen. Dit is de top **{len(sbs_to_process)}** en heeft een totaal van **{sum(sbs_count[sbs_to_process])}** storingen van de in totaal \n",
    "**{totaal_aantal_storingen}** (dit is **{round((sum(sbs_count[sbs_to_process]) / totaal_aantal_storingen) * 100, 2)}**% van het totaal). \n",
    "Hieronder staan de deelinstallatie**{'s' if len(sbs_to_process) > 1 else ''}**:\n",
    "\n",
    "{''.join((newline + '**-' + tab + line + '**' + newline for line in r2p))}\n",
    "\n",
    "In totaal hebben **{len(sbs_count)}** deelsystemen **{min(sbs_count)}** of meerdere storingen gehad in **{sa.quarter}** **{sa.year}**.\n",
    "\n",
    "\"\"\"\n",
    "display(Markdown(tekst))"
   ]
  },
  {
   "cell_type": "markdown",
   "metadata": {},
   "source": [
    "# Conclusie / aanbeveling"
   ]
  },
  {
   "cell_type": "markdown",
   "metadata": {},
   "source": [
    "## Combineren van de POO data met de staging_file (moet nog naar backend verplaatst worden)"
   ]
  },
  {
   "cell_type": "code",
   "execution_count": null,
   "metadata": {},
   "outputs": [],
   "source": [
    "poo_data_meta = sa.metadata.poo_data().copy()\n",
    "staging_file_data = sa.meldingen\n",
    "for poo in poo_data_meta.keys():\n",
    "    # Exception in workflow for oplos code -> an definitive solution is needed when generating the staging file\n",
    "    col2read = sa.metadata.return_poo_type_string(poo)\n",
    "    value_count = staging_file_data[col2read].value_counts(dropna=False).to_dict()\n",
    "    if np.nan in value_count:\n",
    "        value_count[\"Leeg\"] = value_count[np.nan]\n",
    "        del value_count[np.nan]\n",
    "    else:\n",
    "        value_count[\"Leeg\"] = 0\n",
    "\n",
    "    key = str(sa.quarter) + '_' + str(sa.year)\n",
    "    new_poo_type_data = {key: value_count}\n",
    "\n",
    "    poo_data_meta[poo] = dict(**poo_data_meta[poo], **new_poo_type_data)\n",
    "\n",
    "poo_from_meta = poo_data_meta"
   ]
  },
  {
   "cell_type": "markdown",
   "metadata": {},
   "source": [
    "## Algemeen"
   ]
  },
  {
   "cell_type": "code",
   "execution_count": null,
   "metadata": {
    "hide_input": false
   },
   "outputs": [],
   "source": [
    "sbs_count = df.loc[:, 'sbs'].value_counts(dropna=False)\n",
    "\n",
    "tekst = f\"\"\"\n",
    "Er heeft een analyse van de storingen plaatsgevonden. Uit deze analyse is niet \n",
    "naar voren gekomen dat verbeteren aan het onderhoudsplan en/of procedures en/of \n",
    "hardware noodzakelijk zijn om het faalgedrag te verbeteren. \n",
    " \n",
    "Alle meldingen moeten aan een asset / sub niveau van een DI worden gekoppeld. \n",
    "Zodat altijd is te herleiden wat precies is gefaald. Aan alle meldingen is een DI \n",
    "gekoppeld. Aan **{max(sbs_count[sbs_count.index.isnull()].values) if len(sbs_count[sbs_count.index.isnull()]) != 0 else 0}** werkorders zit geen sbs nummer gekoppeld. (zie besluit 5). \n",
    " \n",
    "De meldingen zijn gekoppeld aan een probleem, oorzaak en oplossing. \n",
    " \n",
    "Vanaf 1 september 2018 heeft een update plaats gevonden van het \n",
    "onderhoudsmanagementsysteem. Bij deze update is het invullen van probleem, \n",
    "oorzaak en oplossing toegevoegd in het systeem. Vanaf Q4 2018 zal dit ook \n",
    "worden meegenomen in de analyse. In de volgende paragrafen staat de uitwerking \n",
    "hiervan. Daarbij zie je het aantal van het huidige jaar, het totaal aantal en het \n",
    "gemiddelde per Q vanaf Q4 2018.\n",
    "\"\"\"\n",
    "display(Markdown(tekst))"
   ]
  },
  {
   "cell_type": "markdown",
   "metadata": {
    "hide_input": true
   },
   "source": [
    "### Probleem"
   ]
  },
  {
   "cell_type": "code",
   "execution_count": null,
   "metadata": {
    "hide_input": false
   },
   "outputs": [],
   "source": [
    "probleem_code_count = sf_data['probleem code'].value_counts(dropna=False).to_dict()\n",
    "oorzaak_code_count = sf_data['oorzaak code'].value_counts(dropna=False).to_dict()\n",
    "oplossing_code_count = sf_data['oplossing code'].value_counts(dropna=False).to_dict()\n",
    "\n",
    "meta_probleem = sa.metadata.poo_data()['probleem']\n",
    "meta_oorzaak = sa.metadata.poo_data()['oorzaak']\n",
    "meta_oplossing = sa.metadata.poo_data()['oplossing']\n",
    "\n",
    "poo_beschrijvingen = sa.metadata.contract_info()['POO_codes']\n",
    "\n",
    "for poo_type in [probleem_code_count, oorzaak_code_count, oplossing_code_count]:\n",
    "    if np.nan in poo_type.keys():\n",
    "        poo_type['Leeg'] = poo_type.pop(np.nan)\n",
    "\n",
    "probleem_avg_table = sa.metadata.poo_avg_table(meta_probleem, poo_type='probleem')\n",
    "oorzaak_avg_table = sa.metadata.poo_avg_table(meta_oorzaak, poo_type='oorzaak')\n",
    "oplossing_avg_table = sa.metadata.poo_avg_table(meta_oplossing, poo_type='oplossing')"
   ]
  },
  {
   "cell_type": "code",
   "execution_count": null,
   "metadata": {
    "hide_input": false
   },
   "outputs": [],
   "source": [
    "probleem_code_count = sf_data['probleem code'].value_counts(dropna=False).to_dict()\n",
    "oorzaak_code_count = sf_data['oorzaak code'].value_counts(dropna=False).to_dict()\n",
    "oplossing_code_count = sf_data['oplossing code'].value_counts(dropna=False).to_dict()\n",
    "\n",
    "probleem_avg_table = sa.metadata.poo_avg_table(meta_probleem, poo_type='probleem')\n",
    "oorzaak_avg_table = sa.metadata.poo_avg_table(meta_oorzaak, poo_type='oorzaak')\n",
    "oplossing_avg_table = sa.metadata.poo_avg_table(meta_oplossing, poo_type='oplossing')\n",
    "\n",
    "poo_beschrijvingen = sa.metadata.contract_info()['POO_codes']"
   ]
  },
  {
   "cell_type": "code",
   "execution_count": null,
   "metadata": {
    "hide_input": false,
    "scrolled": false
   },
   "outputs": [],
   "source": [
    "line_dict = dict()\n",
    "for code in (k for k in poo_beschrijvingen.keys() if 'P' in k or k == 'Leeg'):    \n",
    "    code_counts = list()\n",
    "    for q in meta_probleem.keys():\n",
    "        if code in meta_probleem[q].keys():\n",
    "            code_counts.append(sa.metadata.sum_values(dictionary=meta_probleem[q], keys=[code]))\n",
    "        else:\n",
    "            code_counts.append(0)\n",
    "    \n",
    "    totaal = sum(code_counts)\n",
    "    if code not in probleem_code_count.keys():\n",
    "        line = ''.join((newline + '|' + code + '|' + poo_beschrijvingen[code] + '|' + str(0) + '|' + str(totaal) + '|' + str(probleem_avg_table[code]) + '|'))\n",
    "        line_dict[code] = line\n",
    "        continue\n",
    "    \n",
    "    line = ''.join((newline + '|' + code + '|' + poo_beschrijvingen[code] + '|' + str(probleem_code_count[code]) + '|' + str(totaal + probleem_code_count[code]) + '|' + str(probleem_avg_table[code]) + '|'))\n",
    "    line_dict[code] = line\n",
    "    \n",
    "tekst = f\"\"\"\n",
    "|Probleem|Beschrijving|Aantal|Totaal|Gemiddelde|\n",
    "|--------|------------|------|------|----------|{''.join((line_dict[code] for code in line_dict.keys()))}\n",
    "\"\"\"\n",
    "display(Markdown(tekst))"
   ]
  },
  {
   "cell_type": "code",
   "execution_count": null,
   "metadata": {},
   "outputs": [],
   "source": [
    "display(Markdown(dg.build_poo_table(dg.get_poo_table_data(poo_type='probleem'))))"
   ]
  },
  {
   "cell_type": "markdown",
   "metadata": {},
   "source": [
    "### Oorzaak"
   ]
  },
  {
   "cell_type": "code",
   "execution_count": null,
   "metadata": {
    "hide_input": true,
    "scrolled": false
   },
   "outputs": [],
   "source": [
    "line_dict = dict()\n",
    "for code in (k for k in poo_beschrijvingen.keys() if 'C' in k or k == 'Leeg'):   \n",
    "    code_counts = list()\n",
    "    for q in meta_oorzaak.keys():\n",
    "        if code in meta_oorzaak[q].keys():\n",
    "            code_counts.append(sa.metadata.sum_values(dictionary=meta_oorzaak[q], keys=[code]))\n",
    "        else:\n",
    "            code_counts.append(0)\n",
    "    \n",
    "    totaal = sum(code_counts)\n",
    "    \n",
    "    if code not in oorzaak_code_count.keys():\n",
    "        line = ''.join((newline + '|' + code + '|' + poo_beschrijvingen[code] + '|' + str(0) + '|' + str(totaal) + '|' + str(oorzaak_avg_table[code]) + '|'))\n",
    "        line_dict[code] = line\n",
    "        continue\n",
    "    \n",
    "    line = ''.join((newline + '|' + code + '|' + poo_beschrijvingen[code] + '|' + str(oorzaak_code_count[code]) + '|' + str(totaal + oorzaak_code_count[code]) + '|' + str(oorzaak_avg_table[code]) + '|'))\n",
    "    line_dict[code] = line\n",
    "\n",
    "tekst = f\"\"\"\n",
    "|Oorzaak|Beschrijving|Aantal|Totaal|Gemiddelde|\n",
    "|-------|------------|------|------|----------|{''.join((line_dict[code] for code in line_dict.keys()))}\n",
    "\"\"\"\n",
    "display(Markdown(tekst))"
   ]
  },
  {
   "cell_type": "code",
   "execution_count": null,
   "metadata": {
    "hide_input": false
   },
   "outputs": [],
   "source": [
    "display(Markdown(dg.build_poo_table(dg.get_poo_table_data(poo_type='oorzaak'))))"
   ]
  },
  {
   "cell_type": "markdown",
   "metadata": {
    "hide_input": true
   },
   "source": [
    "### Oplossing"
   ]
  },
  {
   "cell_type": "code",
   "execution_count": null,
   "metadata": {
    "hide_input": false,
    "scrolled": true
   },
   "outputs": [],
   "source": [
    "line_dict = dict()\n",
    "for code in (k for k in poo_beschrijvingen.keys() if 'S' in k or k == 'Leeg'):\n",
    "    code_counts = list()\n",
    "    for q in meta_oplossing.keys():\n",
    "        if code in meta_oplossing[q].keys():\n",
    "            code_counts.append(sa.metadata.sum_values(dictionary=meta_oplossing[q], keys=[code]))\n",
    "        else:\n",
    "            code_counts.append(0)\n",
    "\n",
    "    totaal = sum(code_counts)\n",
    "    \n",
    "    if code not in oplossing_code_count.keys():\n",
    "        line = ''.join((newline + '|' + code + '|' + poo_beschrijvingen[code] + '|' + str(0) + '|' + str(totaal) + '|' + str(oplossing_avg_table[code]) + '|'))\n",
    "        line_dict[code] = line\n",
    "        continue\n",
    "        \n",
    "    line = ''.join((newline + '|' + code + '|' + poo_beschrijvingen[code] + '|' + str(oplossing_code_count[code]) + '|' + str(totaal + oplossing_code_count[code]) + '|' + str(oplossing_avg_table[code]) + '|'))\n",
    "    line_dict[code] = line\n",
    "\n",
    "tekst = f\"\"\"\n",
    "|Oplossing|Beschrijving|Aantal|Totaal|Gemiddelde|\n",
    "|---------|------------|------|------|----------|{''.join((line_dict[code] for code in line_dict.keys()))}\n",
    "\"\"\"\n",
    "display(Markdown(tekst))"
   ]
  },
  {
   "cell_type": "code",
   "execution_count": null,
   "metadata": {},
   "outputs": [],
   "source": [
    "display(Markdown(dg.build_poo_table(dg.get_poo_table_data(poo_type='oplossing'))))"
   ]
  },
  {
   "cell_type": "markdown",
   "metadata": {
    "hide_input": true
   },
   "source": [
    "## Storingen per deelinstallatie uitgewerkt"
   ]
  },
  {
   "cell_type": "code",
   "execution_count": null,
   "metadata": {
    "hide_input": true
   },
   "outputs": [],
   "source": [
    "df = sa.meldingen.copy()\n",
    "# unieke types vastlegen\n",
    "unique_types = list(df.loc[:, 'sbs'].unique())\n",
    "\n",
    "sbs_count = df.loc[:, 'sbs'].value_counts()\n",
    "\n",
    "input_threshhold = widgets.IntSlider(\n",
    "    value=3,\n",
    "    min=sbs_count.min(),\n",
    "    max=sbs_count.max(),\n",
    "    step=1,\n",
    "    description='Drempelwaarde:',\n",
    "    disabled=False,\n",
    "    continuous_update=False,\n",
    "    orientation='horizontal',\n",
    "    readout=True,\n",
    "    readout_format='d',\n",
    "    style=dict(description_width='initial')\n",
    ")\n",
    "\n",
    "display(input_threshhold)"
   ]
  },
  {
   "cell_type": "code",
   "execution_count": null,
   "metadata": {
    "hide_input": false,
    "scrolled": true
   },
   "outputs": [],
   "source": [
    "# prep\n",
    "_group_data_to_print = dict()\n",
    "\n",
    "sf_data_groupby_sbs = sa.storingen.copy().groupby('sbs')\n",
    "\n",
    "for group in sf_data_groupby_sbs.groups:\n",
    "    group_data = sf_data_groupby_sbs.get_group(group).copy()\n",
    "    \n",
    "    totaal_aantal_storingen = len(group_data.index)\n",
    "    if totaal_aantal_storingen < input_threshhold.value:\n",
    "        continue\n",
    "\n",
    "    storingen_per_maand = group_data['month_number'].value_counts()\n",
    "\n",
    "    gemiddelde_per_maand = sum(storingen_per_maand) / len(storingen_per_maand)\n",
    "\n",
    "    max_storingen_maand = sa.get_min_max_months(storingen_per_maand.to_dict(), min_max='max')\n",
    "    min_storingen_maand = sa.get_min_max_months(storingen_per_maand.to_dict(), min_max='min')\n",
    "\n",
    "#     data_2019 = [key for key in sa.metadata.storingen().keys() if '2019' in key]\n",
    "#     storingen_2019 = sa.metadata.sum_values(dictionary=sa.storingen, keys=data_2019)\n",
    "\n",
    "#     jaarlijks_gemiddelde = sa.metadata.avg_yearly(dictionary=sa.metadata.storingen(), exclude_year='2020')\n",
    "\n",
    "    maanden = sa.metadata.get_month_list(exclude_year='2020')\n",
    "    maandelijks_gemiddelde = sa.metadata.avg_monthly(dictionary=sa.metadata.storingen(), exclude_keys=maanden)\n",
    "\n",
    "    kwartaal_gemiddelde = sa.metadata.avg_quarterly(dictionary=sa.metadata.storingen())\n",
    "    \n",
    "    data_to_print = {\"totaal_aantal_storingen\": totaal_aantal_storingen,\n",
    "                     \"gemiddelde_per_maand\": gemiddelde_per_maand,\n",
    "                     \"max_storingen_maand\": max_storingen_maand,\n",
    "                     \"min_storingen_maand\": min_storingen_maand,\n",
    "                     \"max_storingen_per_maand\": max(storingen_per_maand),\n",
    "                     \"min_storingen_per_maand\":  min(storingen_per_maand),\n",
    "                     \"maandelijks_gemiddelde_start_project\": maandelijks_gemiddelde,\n",
    "                     \"kwartaal_gemiddelde\": kwartaal_gemiddelde,\n",
    "                     \"start_date\": sa.project_start_date}\n",
    "    \n",
    "    _group_data_to_print[group] = data_to_print\n",
    "\n",
    "sorted_keys = sorted(_group_data_to_print, key=lambda item: _group_data_to_print[item]['totaal_aantal_storingen'], reverse=True)\n",
    "group_data_to_print = {key: _group_data_to_print[key] for key in sorted_keys}\n",
    "\n",
    "# print\n",
    "texts2print = []\n",
    "\n",
    "for group, data in group_data_to_print.items():\n",
    "    print(f'\\nsubsystem {group}\\n{data}\\n')\n",
    "    _tekst = f\"\"\"\n",
    "    # {str(group)}\n",
    "    Hieronder is een vergelijking gemaakt van het aantal storingen van deelinstallatie {group}\n",
    "    t.o.v. andere kwartalen (hetzelfde kwartaal van vorig jaar en vorig kwartaal) en t.o.v. \n",
    "    het gemiddelde vanaf **{data[\"start_date\"]}**. \n",
    "\n",
    "    Uit de grafiek valt het volgende te constateren:\n",
    "\n",
    "    • Het totaal aantal storingen in **{sa.quarter}** **{sa.year}** : **{data[\"totaal_aantal_storingen\"]}**\n",
    "\n",
    "    • Het gemiddelde aantal storingen per maand : **{data[\"gemiddelde_per_maand\"]}**\n",
    "\n",
    "    • Hoogste aantal storingen in de maand{'en' if len(data[\"max_storingen_maand\"]) > 1 else ''} **{', '.join(data[\"max_storingen_maand\"])}** : **{data[\"max_storingen_per_maand\"]}**\n",
    "\n",
    "    • Laagste aantal storingen in de maand{'en' if len(data[\"min_storingen_maand\"]) > 1 else ''} **{', '.join(data[\"min_storingen_maand\"])}** : **{data[\"min_storingen_per_maand\"]}**\n",
    "\n",
    "    • Het gemiddelde aantal storingen per maand vanaf **{data[\"start_date\"]}**: **{data[\"maandelijks_gemiddelde_start_project\"]}**\n",
    "\n",
    "    • Het gemiddelde aantal storingen per kwartaal vanaf **{data[\"start_date\"]}**: **{data[\"kwartaal_gemiddelde\"]}**{newline}\n",
    "    \"\"\"\n",
    "    texts2print.append(_tekst)\n",
    "\n",
    "tekst = f\"\"\"\n",
    "{''.join((t for t in texts2print))}\n",
    "\"\"\"\n",
    "display(Markdown(tekst))"
   ]
  },
  {
   "cell_type": "markdown",
   "metadata": {},
   "source": [
    "### -Note- Aanpassen\n",
    "De sbs nummers worden niet aangepast omdat de staging file nu automatisch word ingelezen. Los dit op met een module aan te orepen in `__init__()` van StoringsAnalyse. Kijk ook hoe je in de toekomst om wilt gaan met de "
   ]
  },
  {
   "cell_type": "code",
   "execution_count": null,
   "metadata": {
    "scrolled": false
   },
   "outputs": [],
   "source": [
    "text = dg.build_aantal_per_subsysteem_per_maand(dg.get_aantal_per_subsysteem_per_maand(threshold=input_threshhold.value))\n",
    "display(Markdown(text))"
   ]
  },
  {
   "cell_type": "markdown",
   "metadata": {
    "hide_input": false
   },
   "source": [
    "# Assets met de meeste meldingen"
   ]
  },
  {
   "cell_type": "markdown",
   "metadata": {
    "hide_input": false
   },
   "source": [
    "## Algemeen"
   ]
  },
  {
   "cell_type": "code",
   "execution_count": null,
   "metadata": {
    "hide_input": false
   },
   "outputs": [],
   "source": [
    "meldingen_per_asset = sf_data['asset nummer'].value_counts()\n",
    "meldingen_per_asset = meldingen_per_asset.reset_index()\n",
    "meldingen_per_asset.rename(columns={\"asset nummer\": \"count\", \"index\": \"asset nummer\"}, inplace=True)\n",
    "\n",
    "list_descriptions = {sf_data['asset nummer'][index]: sf_data['asset beschrijving'][index] for index in range(sf_data.shape[0])} \n",
    "\n",
    "\n",
    "asset_beschrijvingen = []\n",
    "for index, row in meldingen_per_asset.iterrows():\n",
    "    asset_num = row[0]\n",
    "    if asset_num in list_descriptions.keys():\n",
    "        asset_beschrijvingen.append(list_descriptions[asset_num])\n",
    "\n",
    "meldingen_per_asset.at[:, 'asset beschrijving'] = asset_beschrijvingen\n",
    "\n",
    "# ophalen van de sbs nummers van de assets\n",
    "sbs_dict = dict()\n",
    "for asset_num in meldingen_per_asset.loc[:, 'asset nummer'].to_dict().values():\n",
    "    row = sf_data[sf_data.loc[:, 'asset nummer'] == asset_num]\n",
    "    sbs_dict[asset_num] = row['sbs'].unique()[0]"
   ]
  },
  {
   "cell_type": "code",
   "execution_count": null,
   "metadata": {
    "hide_input": false
   },
   "outputs": [],
   "source": [
    "input_threshhold = widgets.IntSlider(\n",
    "    value=3,  # meldingen_per_asset['count'].min()\n",
    "    min=meldingen_per_asset['count'].min(),\n",
    "    max=meldingen_per_asset['count'].max(),\n",
    "    step=1,\n",
    "    description='Drempelwaarde:',\n",
    "    disabled=False,\n",
    "    continuous_update=False,\n",
    "    orientation='horizontal',\n",
    "    readout=True,\n",
    "    readout_format='d',\n",
    "    style=dict(description_width='initial')\n",
    ")\n",
    "\n",
    "display(input_threshhold)"
   ]
  },
  {
   "cell_type": "code",
   "execution_count": null,
   "metadata": {
    "hide_input": false,
    "scrolled": true
   },
   "outputs": [],
   "source": [
    "lines = list()\n",
    "lines2handle = meldingen_per_asset[meldingen_per_asset['count'] >= input_threshhold.value]\n",
    "for r in lines2handle.iterrows():\n",
    "    row = r[1]\n",
    "    line = ''.join((newline + '|' + str(sa._get_breakdown_description(sbs_dict[row[0]])) + '|' + str(row[-1]) + '|' + str(row[1]) + '|'))\n",
    "    lines.append(line)\n",
    "    \n",
    "tekst = f\"\"\"\n",
    "De hieronder benoemde assets, zijn de **{len(lines)}** assets die **{input_threshhold.value}** of meer meldingen hebben \n",
    "gehad in **{sa.quarter}** **{sa.year}**: \n",
    "\n",
    "|Deelinstallatie|Asset|Aantal|\n",
    "|---------------|-----|------|{''.join((line for line in lines))}\n",
    "\"\"\"\n",
    "display(Markdown(tekst))"
   ]
  },
  {
   "cell_type": "code",
   "execution_count": null,
   "metadata": {},
   "outputs": [],
   "source": [
    "text = dg.build_asset_meeste_ntype_algemeen(dg.get_asset_meeste_ntype_algemeen(threshold=input_threshhold.value))\n",
    "display(Markdown(text))"
   ]
  },
  {
   "cell_type": "markdown",
   "metadata": {
    "hide_input": true
   },
   "source": [
    "## Uitwerking meldingen"
   ]
  },
  {
   "cell_type": "markdown",
   "metadata": {
    "hide_input": false
   },
   "source": [
    "Hieronder wordt paragraaf 2.2.1 uitgewerkt per deelinstallatie."
   ]
  },
  {
   "cell_type": "code",
   "execution_count": null,
   "metadata": {
    "hide_input": false,
    "scrolled": false
   },
   "outputs": [],
   "source": [
    "# onderstaande is een andere variablele dat hiervoor is gebruikt\n",
    "_meldingen_per_asset = sf_data['asset nummer'].value_counts(dropna=False)\n",
    "\n",
    "meldingen_na = _meldingen_per_asset.loc[np.nan] if np.nan in _meldingen_per_asset else 0\n",
    "\n",
    "_meldingen_per_asset = _meldingen_per_asset[(x is not np.nan for x in list(_meldingen_per_asset.index))]\n",
    "_meldingen_per_asset = _meldingen_per_asset.loc[_meldingen_per_asset >= input_threshhold.value]\n",
    "\n",
    "\n",
    "cols2present = ['werkorder', 'status', 'rapport datum',\n",
    "                'werkorder beschrijving', 'sbs',\n",
    "                'sbs omschrijving', 'locatie', 'locatie omschrijving', 'probleem code', 'beschrijving probleem',\n",
    "                'oorzaak code', 'beschrijving oorzaak', 'oplossing code',\n",
    "                'beschrijving oplossing', 'uitgevoerde werkzaamheden',\n",
    "                'type melding (Storing/Incident/Preventief/Onterecht)']\n",
    "\n",
    "tekst = f\"\"\"\n",
    "De assets met **{input_threshhold.value}** of meer meldingen zijn hieronder uitgewerkt: \n",
    "\n",
    "Bij de **{meldingen_na}** meldingen is geen asset gekoppeld aan de werkorder.\n",
    "\"\"\"\n",
    "display(Markdown(tekst))\n",
    "\n",
    "for asset in list(_meldingen_per_asset.index):\n",
    "    df = sa.meldingen[sa.meldingen[\"asset nummer\"] == asset].copy().reset_index()\n",
    "    _tekst = f\"\"\"De **{len(df)}** meldingen van {df.loc[0, 'asset beschrijving']} worden hieronder gepresenteerd.\"\"\" \n",
    "    display(Markdown(_tekst))\n",
    "    display(df.loc[:, cols2present])\n",
    "    display(Markdown(f'{newline}'))"
   ]
  },
  {
   "cell_type": "code",
   "execution_count": null,
   "metadata": {},
   "outputs": [],
   "source": [
    "text = dg.build_asset_uitwerking_ntypes(dg.get_asset_uitwerking_ntypes(threshold=input_threshhold.value))\n",
    "display(Markdown(text))"
   ]
  },
  {
   "cell_type": "markdown",
   "metadata": {
    "hide_input": true
   },
   "source": [
    "## Conclusie"
   ]
  },
  {
   "cell_type": "code",
   "execution_count": null,
   "metadata": {
    "hide_input": false
   },
   "outputs": [],
   "source": [
    "tekst = f\"\"\"\n",
    "Als wordt gekeken naar de oorzaken van de meldingen van de **{len(lines)}** assets welke **{input_threshhold.value}** of \n",
    "meerdere meldingen hebben gehad, is bij somige assets repeterend en bij andere \n",
    "tekens verschillen.  \n",
    " \n",
    "Het falen van deze assets hoeft niet verder worden bekeken of worden onderzocht. \n",
    "Dit omdat deze al reeds zijn behandeld bij de verschillende systemen. \n",
    "\"\"\"\n",
    "display(Markdown(tekst))"
   ]
  },
  {
   "cell_type": "code",
   "execution_count": null,
   "metadata": {},
   "outputs": [],
   "source": [
    "text = dg.build_asset_conclusie(dg.get_asset_meeste_ntype_algemeen(threshold=input_threshhold.value))\n",
    "display(Markdown(text))"
   ]
  },
  {
   "cell_type": "markdown",
   "metadata": {
    "hide_input": true
   },
   "source": [
    "# Updated van de opgeslagen data (metadata)\n",
    "\n",
    "Zoals vermeld moeten deze stappend beide naar de backend verplaatst worden. de meest algemene implementatie moet in metadata-class komen.\n",
    "In StoringsAnalyse moet deze algemene module op maat gemaakt worden voor de storingsanalyse."
   ]
  },
  {
   "cell_type": "markdown",
   "metadata": {
    "hide_input": true
   },
   "source": [
    "## Combineren van de historische data met de staging file (moet nog naar backend verplaatst worden)"
   ]
  },
  {
   "cell_type": "code",
   "execution_count": null,
   "metadata": {
    "hide_input": false,
    "scrolled": true
   },
   "outputs": [],
   "source": [
    "# meldingen\n",
    "meldingen_from_sf = sa.meldingen.copy()\n",
    "meldingen_from_meta = sa.metadata.meldingen()\n",
    "\n",
    "meldingen_from_sf = meldingen_from_sf.groupby(['month_number'])\n",
    "\n",
    "\"\"\"\n",
    "De meldnigen zonder di nummer worden door Remko nu anagepast zodat ze toch een di nummer hebben.\n",
    "\"\"\"\n",
    "new_data_for_meta = {}\n",
    "for group in meldingen_from_sf.groups:\n",
    "    dff = meldingen_from_sf.get_group(group)\n",
    "    vc = dff['sbs'].value_counts().to_dict()\n",
    "    key = f'0{group}_{sa.year}' if group < 10 else f'{group}_{sa.year}'\n",
    "    new_data_for_meta[key] = dff['sbs'].value_counts().to_dict()\n",
    "    \n",
    "\n",
    "# dev_case had historical data up until 03_2021, so TypeError because of overlapping keys Q1 for 2021\n",
    "updated_meta_meldingen = dict(**meldingen_from_meta, **new_data_for_meta)\n",
    "# updated_meta_meldingen = dict(**meldingen_from_meta)\n"
   ]
  },
  {
   "cell_type": "code",
   "execution_count": null,
   "metadata": {
    "hide_input": false
   },
   "outputs": [],
   "source": [
    "# storingen\n",
    "storingen_from_sf = sa.storingen.copy()\n",
    "storingen_from_meta = sa.metadata.storingen()\n",
    "\n",
    "storingen_from_sf = storingen_from_sf.groupby(['month_number'])\n",
    "\n",
    "new_data_for_meta_storingen = {}\n",
    "for group in storingen_from_sf.groups:\n",
    "    dff = storingen_from_sf.get_group(group)\n",
    "    vc = dff['sbs'].value_counts().to_dict()\n",
    "    key = f'0{group}_{sa.year}' if group < 10 else f'{group}_{sa.year}'\n",
    "    new_data_for_meta_storingen[key] = dff['sbs'].value_counts().to_dict()\n",
    "    \n",
    "\n",
    "# dev_case had historical data up until 03_2021, so TypeError because of overlapping keys Q1 for 2021\n",
    "updated_meta_storingen = dict(**storingen_from_meta, **new_data_for_meta_storingen)\n",
    "# updated_meta_storingen = dict(**storingen_from_meta)"
   ]
  },
  {
   "cell_type": "markdown",
   "metadata": {},
   "source": [
    "# Bijlagen"
   ]
  },
  {
   "cell_type": "markdown",
   "metadata": {},
   "source": [
    "## Aantal meldingen per deelinstallatie"
   ]
  },
  {
   "cell_type": "code",
   "execution_count": null,
   "metadata": {
    "hide_input": false,
    "scrolled": false
   },
   "outputs": [],
   "source": [
    "# prepping data\n",
    "df = sf_data.copy()\n",
    "\n",
    "input_data = (df, 'rapport datum', 'sbs')\n",
    "time_range = [min(df['rapport datum']), max(df['rapport datum'])]\n",
    "available_categories = sa.metadata.contract_info()['aanwezige_deelinstallaties']\n",
    "\n",
    "# prepped_data = sa.prep(df, time_range, available_categories, time_key='rapport datum', category_key='sbs')\n",
    "categories, prepped_data = sa.test_prep(df, time_range, available_categories, time_key='rapport datum', category_key='sbs')\n",
    "\n",
    "# plotting data\n",
    "plot_type = 'stacked'\n",
    "category_labels = available_categories.copy()\n",
    "# needed to cover 'nan', else ValueError: shape mismatch: objects cannot be broadcast to a single shape\n",
    "readable_labels = [sa.prettify_time_label(label) for label in sa.last_seen_bin_names]\n",
    "title = 'title'\n",
    "\n",
    "sa.plot(input_data=prepped_data, plot_type='stacked', category_labels=categories, bin_labels=readable_labels, title=title)"
   ]
  },
  {
   "cell_type": "code",
   "execution_count": null,
   "metadata": {
    "hide_input": false
   },
   "outputs": [],
   "source": [
    "summary_data = sa.prep_summary(df, time_range, available_categories, time_key='rapport datum', category_key='sbs')\n",
    "sa.plot_summary(x_labels=[sa.prettify_time_label(label) for label in summary_data.keys()], data=summary_data.values(), title='title')"
   ]
  },
  {
   "cell_type": "markdown",
   "metadata": {
    "hide_input": true
   },
   "source": [
    "## Aantal storingen per deelinstallatie"
   ]
  },
  {
   "cell_type": "code",
   "execution_count": null,
   "metadata": {
    "hide_input": false
   },
   "outputs": [],
   "source": [
    "# prepping data\n",
    "df_s = sa.storingen.copy()\n",
    "\n",
    "input_data = (df_s, 'rapport datum', 'sbs')\n",
    "time_range = [min(df['rapport datum']), max(df['rapport datum'])]\n",
    "available_categories = sa.metadata.contract_info()['aanwezige_deelinstallaties']\n",
    "\n",
    "categories, prepped_data = sa.prep(df_s, time_range, available_categories, time_key='rapport datum', category_key='sbs')\n",
    "\n",
    "# plotting data\n",
    "plot_type = 'stacked'\n",
    "category_labels = available_categories.copy()\n",
    "# needed to cover 'nan', else ValueError: shape mismatch: objects cannot be broadcast to a single shape\n",
    "readable_labels = [sa.prettify_time_label(label) for label in sa.last_seen_bin_names]\n",
    "title = 'title'\n",
    "\n",
    "sa.plot(input_data=prepped_data, plot_type='stacked', category_labels=categories, bin_labels=readable_labels, title=title)"
   ]
  },
  {
   "cell_type": "code",
   "execution_count": null,
   "metadata": {
    "hide_input": false
   },
   "outputs": [],
   "source": [
    "summary_data = sa.prep_summary(df_s, time_range, available_categories, time_key='rapport datum', category_key='sbs')\n",
    "sa.plot_summary(x_labels=[sa.prettify_time_label(label) for label in summary_data.keys()], data=summary_data.values(), title='title')"
   ]
  },
  {
   "cell_type": "markdown",
   "metadata": {
    "hide_input": true
   },
   "source": [
    "## Aantal onterechte meldingen per deelinstallatie"
   ]
  },
  {
   "cell_type": "code",
   "execution_count": null,
   "metadata": {
    "hide_input": false
   },
   "outputs": [],
   "source": [
    "# prepping data\n",
    "df_o = sa._isolate_notification_type(like_ntype='onterecht').copy()\n",
    "input_data = (df_o, 'rapport datum', 'sbs')\n",
    "time_range = [min(df['rapport datum']), max(df['rapport datum'])]\n",
    "available_categories = sa.metadata.contract_info()['aanwezige_deelinstallaties']\n",
    "\n",
    "categories, prepped_data = sa.prep(df_o, time_range, available_categories, time_key='rapport datum', category_key='sbs')\n",
    "\n",
    "# plotting data\n",
    "plot_type = 'stacked'\n",
    "category_labels = available_categories.copy()\n",
    "# needed to cover 'nan', else ValueError: shape mismatch: objects cannot be broadcast to a single shape\n",
    "readable_labels = [sa.prettify_time_label(label) for label in sa.last_seen_bin_names]\n",
    "title = 'title'\n",
    "\n",
    "sa.plot(input_data=prepped_data, plot_type='stacked', category_labels=categories, bin_labels=readable_labels, title=title)"
   ]
  },
  {
   "cell_type": "code",
   "execution_count": null,
   "metadata": {
    "hide_input": false
   },
   "outputs": [],
   "source": [
    "summary_data = sa.prep_summary(df_o, time_range, available_categories, time_key='rapport datum', category_key='sbs')\n",
    "sa.plot_summary(x_labels=[sa.prettify_time_label(label) for label in summary_data.keys()], data=summary_data.values(), title='title')"
   ]
  },
  {
   "cell_type": "markdown",
   "metadata": {
    "hide_input": true
   },
   "source": [
    "## Totaal aantal meldingen preventief per deelinstallatie"
   ]
  },
  {
   "cell_type": "code",
   "execution_count": null,
   "metadata": {
    "hide_input": false
   },
   "outputs": [],
   "source": [
    "# prepping data\n",
    "df_p = sa._isolate_notification_type(like_ntype='preventief').copy()\n",
    "input_data = (df_p, 'rapport datum', 'sbs')\n",
    "time_range = [min(df['rapport datum']), max(df['rapport datum'])]\n",
    "available_categories = sa.metadata.contract_info()['aanwezige_deelinstallaties']\n",
    "\n",
    "categories, prepped_data = sa.prep(df_p, time_range, available_categories, time_key='rapport datum', category_key='sbs')\n",
    "\n",
    "# plotting data\n",
    "plot_type = 'stacked'\n",
    "category_labels = available_categories.copy()\n",
    "# needed to cover 'nan', else ValueError: shape mismatch: objects cannot be broadcast to a single shape\n",
    "readable_labels = [sa.prettify_time_label(label) for label in sa.last_seen_bin_names]\n",
    "title='title'\n",
    "\n",
    "sa.plot(input_data=prepped_data, plot_type='stacked', category_labels=categories, bin_labels=readable_labels, title=title)"
   ]
  },
  {
   "cell_type": "code",
   "execution_count": null,
   "metadata": {
    "hide_input": false
   },
   "outputs": [],
   "source": [
    "summary_data = sa.prep_summary(df_p, time_range, available_categories, time_key='rapport datum', category_key='sbs')\n",
    "sa.plot_summary(x_labels=[sa.prettify_time_label(label) for label in summary_data.keys()], data=summary_data.values(), title='title')"
   ]
  },
  {
   "cell_type": "markdown",
   "metadata": {
    "hide_input": true
   },
   "source": [
    "## Aantal incidenten per deelinstallatie"
   ]
  },
  {
   "cell_type": "code",
   "execution_count": null,
   "metadata": {
    "hide_input": false
   },
   "outputs": [],
   "source": [
    "# prepping data\n",
    "df_i = sa._isolate_notification_type(like_ntype='incident').copy()\n",
    "input_data = (df_i, 'rapport datum', 'sbs')\n",
    "time_range = [min(df['rapport datum']), max(df['rapport datum'])]\n",
    "available_categories = sa.metadata.contract_info()['aanwezige_deelinstallaties']\n",
    "\n",
    "categories, prepped_data = sa.prep(df_i, time_range, available_categories, time_key='rapport datum', category_key='sbs')\n",
    "\n",
    "# plotting data\n",
    "plot_type = 'stacked'\n",
    "category_labels = available_categories.copy()\n",
    "# needed to cover 'nan', else ValueError: shape mismatch: objects cannot be broadcast to a single shape\n",
    "readable_labels = [sa.prettify_time_label(label) for label in sa.last_seen_bin_names]\n",
    "title = 'title'\n",
    "\n",
    "sa.plot(input_data=prepped_data, plot_type='stacked', category_labels=categories, bin_labels=readable_labels, title=title)"
   ]
  },
  {
   "cell_type": "code",
   "execution_count": null,
   "metadata": {
    "hide_input": false
   },
   "outputs": [],
   "source": [
    "summary_data = sa.prep_summary(df_i, time_range, available_categories, time_key='rapport datum', category_key='sbs')\n",
    "sa.plot_summary(x_labels=[sa.prettify_time_label(label) for label in summary_data.keys()], data=summary_data.values(), title='title')"
   ]
  },
  {
   "cell_type": "markdown",
   "metadata": {
    "hide_input": true
   },
   "source": [
    "## Vergelijking voorgaande kwartaal met huidinge kwartaal"
   ]
  },
  {
   "cell_type": "markdown",
   "metadata": {
    "hide_input": true
   },
   "source": [
    "### Meldingen"
   ]
  },
  {
   "cell_type": "code",
   "execution_count": null,
   "metadata": {
    "hide_input": false
   },
   "outputs": [],
   "source": [
    "categories, prepped_data = sa.prep(updated_meta_meldingen, \n",
    "                       time_range=['10-2020', '03-2021'], \n",
    "                       available_categories=sa.metadata.contract_info()['aanwezige_deelinstallaties'], \n",
    "                       time_key='rapport datum', \n",
    "                       category_key='sbs', \n",
    "                       bin_size='quarter')\n",
    "\n",
    "sa.plot(input_data=prepped_data, \n",
    "        plot_type='side-by-side', \n",
    "        category_labels=categories, \n",
    "        bin_labels=sa.last_seen_bin_names,\n",
    "        title='title')"
   ]
  },
  {
   "cell_type": "code",
   "execution_count": null,
   "metadata": {
    "hide_input": false
   },
   "outputs": [],
   "source": [
    "summary_data = sa.prep_summary(updated_meta_meldingen, \n",
    "                               time_range=['10-2020', '03-2021'], \n",
    "                               available_categories=sa.metadata.contract_info()['aanwezige_deelinstallaties'],\n",
    "                               bin_size='quarter')\n",
    "\n",
    "sa.plot_summary(x_labels=[sa.prettify_time_label(label) for label in summary_data.keys()], data=summary_data.values(), title='title')"
   ]
  },
  {
   "cell_type": "markdown",
   "metadata": {
    "hide_input": true
   },
   "source": [
    "### Storingen"
   ]
  },
  {
   "cell_type": "code",
   "execution_count": null,
   "metadata": {
    "hide_input": false
   },
   "outputs": [],
   "source": [
    "categories, prepped_data = sa.prep(updated_meta_storingen, \n",
    "                       time_range=['10-2020', '03-2021'], \n",
    "                       available_categories=sa.metadata.contract_info()['aanwezige_deelinstallaties'], \n",
    "                       time_key='rapport datum', \n",
    "                       category_key='sbs', \n",
    "                       bin_size='quarter')\n",
    "\n",
    "sa.plot(input_data=prepped_data, \n",
    "        plot_type='side-by-side', \n",
    "        category_labels=categories, \n",
    "        bin_labels=[sa.prettify_time_label(label) for label in sa.last_seen_bin_names],\n",
    "        title='title')"
   ]
  },
  {
   "cell_type": "code",
   "execution_count": null,
   "metadata": {
    "hide_input": false
   },
   "outputs": [],
   "source": [
    "summary_data = sa.prep_summary(updated_meta_storingen, \n",
    "                               time_range=['10-2020', '03-2021'], \n",
    "                               available_categories=sa.metadata.contract_info()['aanwezige_deelinstallaties'],\n",
    "                               bin_size='quarter')\n",
    "\n",
    "sa.plot_summary(x_labels=[sa.prettify_time_label(label) for label in summary_data.keys()], data=summary_data.values(), title='title')"
   ]
  },
  {
   "cell_type": "markdown",
   "metadata": {
    "hide_input": true
   },
   "source": [
    "## Verdeling type meldingen per deelinstallatie"
   ]
  },
  {
   "cell_type": "code",
   "execution_count": null,
   "metadata": {
    "hide_input": true
   },
   "outputs": [],
   "source": [
    "df = sa.meldingen.copy()"
   ]
  },
  {
   "cell_type": "code",
   "execution_count": null,
   "metadata": {
    "hide_input": true
   },
   "outputs": [],
   "source": [
    "input_threshhold = widgets.IntSlider(\n",
    "    value=0,\n",
    "    min=0,\n",
    "    max=sbs_count.max(),\n",
    "    step=1,\n",
    "    description='Drempelwaarde:',\n",
    "    disabled=False,\n",
    "    continuous_update=False,\n",
    "    orientation='horizontal',\n",
    "    readout=True,\n",
    "    readout_format='d',\n",
    "    style=dict(description_width='initial')\n",
    ")\n",
    "\n",
    "display(input_threshhold)"
   ]
  },
  {
   "cell_type": "code",
   "execution_count": null,
   "metadata": {
    "hide_input": false,
    "scrolled": false
   },
   "outputs": [],
   "source": [
    "sbs_count = df.loc[:, 'sbs'].value_counts()\n",
    "to_process = [x for x in sbs_count.index if sbs_count.at[x] >= input_threshhold.value]\n",
    "\n",
    "df_groupby_sbs = df.groupby(['sbs'])\n",
    "\n",
    "# unieke types vastlegen\n",
    "unique_types = df.loc[:, 'type melding (Storing/Incident/Preventief/Onterecht)'].unique()\n",
    "\n",
    "# cols kan voor een sandbox tool variabel gemaakt worden.\n",
    "cols = ['type melding (Storing/Incident/Preventief/Onterecht)', 'month_number']\n",
    "\n",
    "for di_num in to_process:\n",
    "    categories, prepped_data = sa.prep(df_groupby_sbs.get_group(di_num), \n",
    "                                       time_range=['10-2020', '03-2021'], \n",
    "                                       available_categories=unique_types, \n",
    "                                       time_key='rapport datum', \n",
    "                                       category_key='type melding (Storing/Incident/Preventief/Onterecht)')\n",
    "    \n",
    "    sa.plot(input_data=prepped_data, \n",
    "            plot_type='stacked', \n",
    "            category_labels=categories, \n",
    "            bin_labels=[sa.prettify_time_label(label) for label in sa.last_seen_bin_names],\n",
    "            title='title '+str(di_num))\n",
    "    \n",
    "    summary_data = sa.prep_summary(df_groupby_sbs.get_group(di_num), \n",
    "                                   time_range=['10-2020', '03-2021'], \n",
    "                                   available_categories=unique_types, \n",
    "                                   time_key='rapport datum', \n",
    "                                   category_key='type melding (Storing/Incident/Preventief/Onterecht)')\n",
    "\n",
    "    sa.plot_summary(x_labels=[sa.prettify_time_label(label) for label in summary_data.keys()], \n",
    "                    data=summary_data.values(), \n",
    "                    title='title')"
   ]
  },
  {
   "cell_type": "markdown",
   "metadata": {},
   "source": [
    "# Afronding\n",
    "In de afronding worden de laatste handelingen van de automatisering uitgevoerd, zoals het opslaan van de geüpdatette historische data en het exporteren van de inhoud van dit Notebook naar een [pdf, docx] bestand."
   ]
  },
  {
   "cell_type": "code",
   "execution_count": null,
   "metadata": {
    "scrolled": true
   },
   "outputs": [],
   "source": [
    "updated_meta_meldingen, updated_meta_storingen, poo_from_meta"
   ]
  },
  {
   "cell_type": "code",
   "execution_count": null,
   "metadata": {},
   "outputs": [],
   "source": [
    "sa.export_graphs(filename='THIS IS THE TEST EXPORT OF THE REAL DEAL.pdf')"
   ]
  }
 ],
 "metadata": {
  "kernelspec": {
   "display_name": "Python 3",
   "language": "python",
   "name": "python3"
  },
  "language_info": {
   "codemirror_mode": {
    "name": "ipython",
    "version": 3
   },
   "file_extension": ".py",
   "mimetype": "text/x-python",
   "name": "python",
   "nbconvert_exporter": "python",
   "pygments_lexer": "ipython3",
   "version": "3.8.3"
  },
  "toc": {
   "base_numbering": 1,
   "nav_menu": {},
   "number_sections": true,
   "sideBar": true,
   "skip_h1_title": false,
   "title_cell": "Table of Contents",
   "title_sidebar": "Contents",
   "toc_cell": false,
   "toc_position": {
    "height": "calc(100% - 180px)",
    "left": "10px",
    "top": "150px",
    "width": "290.75px"
   },
   "toc_section_display": true,
   "toc_window_display": true
  }
 },
 "nbformat": 4,
 "nbformat_minor": 4
}
