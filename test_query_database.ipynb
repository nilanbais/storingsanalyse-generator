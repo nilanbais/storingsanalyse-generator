{
 "cells": [
  {
   "cell_type": "code",
   "execution_count": 1,
   "metadata": {},
   "outputs": [
    {
     "name": "stdout",
     "output_type": "stream",
     "text": [
      "C:\\Users\\NBais\\OneDrive - TBI Holding\\Documenten\\GitHub\\storingsanalyse-generator\n"
     ]
    }
   ],
   "source": [
    "import os\n",
    "import sys\n",
    "import json\n",
    "import asyncio\n",
    "import time\n",
    "\n",
    "print(os.getcwd())\n",
    "sys.path.append(os.path.join(os.getcwd(), \"source\"))  # adding source to the system path to find the python_packages\n",
    "\n",
    "import numpy as np\n",
    "import pandas as pd\n",
    "import matplotlib.pyplot as plt\n",
    "import ipywidgets as widgets \n",
    "\n",
    "from ipywidgets import interact, interact_manual, Layout\n",
    "from datetime import datetime, timedelta\n",
    "\n",
    "from matplotlib.figure import Figure\n",
    "from IPython.display import Markdown, Latex\n",
    "\n",
    "from storingsanalyse import StoringsAnalyse\n",
    "from document_generator import DocumentGeneratorCoentunnel"
   ]
  },
  {
   "cell_type": "code",
   "execution_count": 2,
   "metadata": {},
   "outputs": [
    {
     "data": {
      "application/vnd.jupyter.widget-view+json": {
       "model_id": "01a64fea8fe54c8fb08a3bb03ae9a2a2",
       "version_major": 2,
       "version_minor": 0
      },
      "text/plain": [
       "Dropdown(description='Project:', options=('Coentunnel-tracé', 'Sluis Eefde'), value='Coentunnel-tracé')"
      ]
     },
     "metadata": {},
     "output_type": "display_data"
    },
    {
     "data": {
      "application/vnd.jupyter.widget-view+json": {
       "model_id": "c552cc3b6c9c498d967e70d69f8eafc5",
       "version_major": 2,
       "version_minor": 0
      },
      "text/plain": [
       "Dropdown(description='Rapport type:', options=('Kwartaalrapportage', 'Jaarrapportage'), value='Kwartaalrapport…"
      ]
     },
     "metadata": {},
     "output_type": "display_data"
    },
    {
     "data": {
      "application/vnd.jupyter.widget-view+json": {
       "model_id": "01d2865b6c0c4ea6bd10525f13015aff",
       "version_major": 2,
       "version_minor": 0
      },
      "text/plain": [
       "Dropdown(description='Kwartaal:', options=('Q1', 'Q2', 'Q3', 'Q4'), value='Q1')"
      ]
     },
     "metadata": {},
     "output_type": "display_data"
    },
    {
     "data": {
      "application/vnd.jupyter.widget-view+json": {
       "model_id": "075b6913911f429ba543d6698610d665",
       "version_major": 2,
       "version_minor": 0
      },
      "text/plain": [
       "Text(value='bWF4YWRtaW46R21iQ1dlbkQyMDE5', description='API key:', layout=Layout(width='50%'), placeholder='Ty…"
      ]
     },
     "metadata": {},
     "output_type": "display_data"
    },
    {
     "data": {
      "application/vnd.jupyter.widget-view+json": {
       "model_id": "8bfe49d98078480b819e732863dfa073",
       "version_major": 2,
       "version_minor": 0
      },
      "text/plain": [
       "Text(value='validating_input_data.xlsx', description='Pad naar Staging File:', layout=Layout(width='50%'), pla…"
      ]
     },
     "metadata": {},
     "output_type": "display_data"
    }
   ],
   "source": [
    "input_project = widgets.Dropdown(\n",
    "    options=[\"Coentunnel-tracé\", \"Sluis Eefde\"],\n",
    "    value=\"Coentunnel-tracé\",\n",
    "    description='Project:',\n",
    "    disabled=False)\n",
    "\n",
    "input_rapport_type = widgets.Dropdown(\n",
    "    options=[\"Kwartaalrapportage\", \"Jaarrapportage\"],\n",
    "    description='Rapport type:',\n",
    "    disabled=False)\n",
    "\n",
    "input_quarter = widgets.Dropdown(\n",
    "    options=[\"Q1\", \"Q2\", \"Q3\", \"Q4\"],\n",
    "    description='Kwartaal:',\n",
    "    disabled=False)\n",
    "\n",
    "input_api_key = widgets.Text(\n",
    "    value='bWF4YWRtaW46R21iQ1dlbkQyMDE5',\n",
    "    placeholder='Type something',\n",
    "    description='API key:',\n",
    "    disabled=False,\n",
    "    layout=Layout(width='50%'))\n",
    "\n",
    "input_path_staging_file = widgets.Text(\n",
    "    placeholder='Path to the Staging File',\n",
    "    value='validating_input_data.xlsx',\n",
    "    description='Pad naar Staging File:',\n",
    "    disabled=False,\n",
    "    layout=Layout(width='50%'))\n",
    "\n",
    "display(input_project, input_rapport_type, input_quarter, input_api_key, input_path_staging_file)"
   ]
  },
  {
   "cell_type": "code",
   "execution_count": 3,
   "metadata": {},
   "outputs": [
    {
     "name": "stdout",
     "output_type": "stream",
     "text": [
      "No staging file data found. Can't update meta\n"
     ]
    }
   ],
   "source": [
    "dg = DocumentGeneratorCoentunnel(project=input_project.value, \n",
    "                                 rapport_type=input_rapport_type.value, \n",
    "                                 quarter=\"Q2\",  #input_quarter.value,\n",
    "                                 year=datetime.now().year,\n",
    "                                 api_key=input_api_key.value)"
   ]
  },
  {
   "cell_type": "code",
   "execution_count": 4,
   "metadata": {},
   "outputs": [
    {
     "name": "stdout",
     "output_type": "stream",
     "text": [
      "MXWO_SND\n"
     ]
    }
   ],
   "source": [
    "print(dg.sa._maximo.object_structure)"
   ]
  },
  {
   "cell_type": "code",
   "execution_count": 5,
   "metadata": {},
   "outputs": [
    {
     "data": {
      "text/plain": [
       "[datetime.datetime(2021, 4, 1, 0, 0), datetime.datetime(2021, 6, 30, 0, 0)]"
      ]
     },
     "execution_count": 5,
     "metadata": {},
     "output_type": "execute_result"
    }
   ],
   "source": [
    "time_range = dg.sa.get_time_range()\n",
    "time_range"
   ]
  },
  {
   "cell_type": "code",
   "execution_count": 6,
   "metadata": {
    "scrolled": true
   },
   "outputs": [],
   "source": [
    "query = dg.sa.build_query(site_id=\"CT1EN2\",\n",
    "                          report_time=time_range)"
   ]
  },
  {
   "cell_type": "code",
   "execution_count": 7,
   "metadata": {},
   "outputs": [
    {
     "data": {
      "text/plain": [
       "'siteid=\"CT1EN2\" and worktype=\"COR\" and reportdate>=\"2021-04-01T00:00:00-00:00\" and reportdate<=\"2021-06-30T00:00:00-00:00\"'"
      ]
     },
     "execution_count": 7,
     "metadata": {},
     "output_type": "execute_result"
    }
   ],
   "source": [
    "query"
   ]
  },
  {
   "cell_type": "code",
   "execution_count": 8,
   "metadata": {},
   "outputs": [],
   "source": [
    "query = 'siteid=\"CT1EN2\" and worktype=\"COR\" and reportdate>=\"2018-01-01T00:00:00-00:00\" and reportdate<=\"2018-03-30T00:00:00-00:00\"'"
   ]
  },
  {
   "cell_type": "code",
   "execution_count": 9,
   "metadata": {},
   "outputs": [
    {
     "data": {
      "text/plain": [
       "'CT1EN2'"
      ]
     },
     "execution_count": 9,
     "metadata": {},
     "output_type": "execute_result"
    }
   ],
   "source": [
    "dg.sa._maximo.site_id"
   ]
  },
  {
   "cell_type": "code",
   "execution_count": 10,
   "metadata": {},
   "outputs": [
    {
     "name": "stdout",
     "output_type": "stream",
     "text": [
      "checking self.query and query (param)\n",
      "build api-url\n",
      "making request\n",
      "Success!\n"
     ]
    },
    {
     "data": {
      "text/plain": [
       "'Query finished successfully.'"
      ]
     },
     "execution_count": 10,
     "metadata": {},
     "output_type": "execute_result"
    }
   ],
   "source": [
    "dg.sa.query_maximo_database()"
   ]
  },
  {
   "cell_type": "code",
   "execution_count": null,
   "metadata": {
    "scrolled": true
   },
   "outputs": [
    {
     "name": "stdout",
     "output_type": "stream",
     "text": [
      "checking self.query and query (param)\n",
      "build api-url\n",
      "making request\n",
      "Success!\n"
     ]
    }
   ],
   "source": [
    "dg.sa._maximo.get_response_data(query=query)"
   ]
  }
 ],
 "metadata": {
  "kernelspec": {
   "display_name": "Python 3",
   "language": "python",
   "name": "python3"
  },
  "language_info": {
   "codemirror_mode": {
    "name": "ipython",
    "version": 3
   },
   "file_extension": ".py",
   "mimetype": "text/x-python",
   "name": "python",
   "nbconvert_exporter": "python",
   "pygments_lexer": "ipython3",
   "version": "3.8.3"
  },
  "toc": {
   "base_numbering": 1,
   "nav_menu": {},
   "number_sections": true,
   "sideBar": true,
   "skip_h1_title": false,
   "title_cell": "Table of Contents",
   "title_sidebar": "Contents",
   "toc_cell": false,
   "toc_position": {},
   "toc_section_display": true,
   "toc_window_display": false
  }
 },
 "nbformat": 4,
 "nbformat_minor": 4
}
